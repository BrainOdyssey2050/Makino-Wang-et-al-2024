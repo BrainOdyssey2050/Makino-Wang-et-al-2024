{
 "cells": [
  {
   "cell_type": "code",
   "execution_count": 2,
   "metadata": {},
   "outputs": [],
   "source": [
    "import sys\n",
    "sys.path.append(\"D:/Yuichi/MemoryAge_Transformer_xLARGE_using_FREEZING_ONLY\")\n",
    "# the code needs to search for the modules in the parent directory\n",
    "\n",
    "import logging\n",
    "import os\n",
    "import random\n",
    "import time\n",
    "import os\n",
    "import multiprocessing\n",
    "CPU_num = multiprocessing.cpu_count()\n",
    "\n",
    "import numpy as np\n",
    "import matplotlib.pyplot as plt\n",
    "import pandas as pd\n",
    "\n",
    "import torch\n",
    "from torch.utils.data.dataloader import DataLoader\n",
    "from torcheeg import transforms\n",
    "from torcheeg.datasets import MemoryAgeDataset\n",
    "from torcheeg.model_selection import KFoldCrossSubject\n",
    "from torcheeg.models import LFP_Transformer\n",
    "from torcheeg.trainers import ClassifierTrainer"
   ]
  },
  {
   "cell_type": "markdown",
   "metadata": {},
   "source": [
    "#### Set the random number seed in all modules to guarantee the same result when running again."
   ]
  },
  {
   "cell_type": "code",
   "execution_count": 3,
   "metadata": {},
   "outputs": [],
   "source": [
    "def seed_everything(seed):\n",
    "    \n",
    "    # Sets the random seed for Python's built-in random library. This will affect random operations like random.shuffle or random.randint.\n",
    "    random.seed(seed) \n",
    "\n",
    "    #Sets the random seed for NumPy. This will affect random operations in NumPy like np.random.randn or np.random.shuffle.\n",
    "    np.random.seed(seed)\n",
    "\n",
    "    # Sets the random seed for hash functions in Python. The hash functions are used in Python dictionaries and sets,\n",
    "    # and this ensures that they behave the same way each time you run the program.\n",
    "    os.environ[\"PYTHONHASHSEED\"] = str(seed)\n",
    "\n",
    "    # Sets the random seed for PyTorch's CPU random number generator. This will affect random operations in PyTorch like random tensor generation.\n",
    "    torch.manual_seed(seed)\n",
    "\n",
    "    # Sets the random seed for PyTorch's CUDA random number generator, which affects random number generation on the GPU.\n",
    "    torch.cuda.manual_seed(seed)\n",
    "\n",
    "    # Ensures that every time you run your code, the algorithms used by cuDNN produce deterministic results.\n",
    "    # NOTE: By default, cuDNN uses algorithms that are optimized for performance, but these algorithms might use approximations or other shortcuts \n",
    "    # that can result in small differences in output. This is known as being \"non-deterministic.\"\n",
    "    torch.backends.cudnn.deterministic = True  \n",
    "\n",
    "    # Disables the cudNN auto-tuner, which optimizes cuDNN to find the best algorithm to use for your hardware. \n",
    "    # By disabling this, you make sure that cuDNN uses a deterministic algorithm.\n",
    "    # NOTE: The cuDNN library provides several algorithms to perform operations commonly used in deep learning, like convolutions and pooling.\n",
    "    # These algorithms can vary in their internal implementations and may have different performance and memory characteristics. \n",
    "    # The cuDNN auto-tuner is designed to automatically select the most efficient algorithm for your specific hardware configuration. \n",
    "    torch.backends.cudnn.benchmark = False\n",
    "\n",
    "random_state = 19890516\n",
    "seed_everything(random_state)"
   ]
  },
  {
   "cell_type": "code",
   "execution_count": 4,
   "metadata": {},
   "outputs": [],
   "source": [
    "def load_val_batches(val_loader, num_batches=5):\n",
    "    '''\n",
    "    This function is designed to load a small number of batches from the validation set.\n",
    "    I will load validation set in different runs, and compare whether the samples are in the same order.\n",
    "    '''\n",
    "    batches = []\n",
    "    for i, batch in enumerate(val_loader):\n",
    "        if i >= num_batches:\n",
    "            break\n",
    "        batches.append(batch)\n",
    "    return batches"
   ]
  },
  {
   "cell_type": "markdown",
   "metadata": {},
   "source": [
    "# Building Deep Learning Pipelines Using TorchEEG"
   ]
  },
  {
   "cell_type": "markdown",
   "metadata": {},
   "source": [
    "#### Step 1: Initialize the Dataset"
   ]
  },
  {
   "cell_type": "code",
   "execution_count": 5,
   "metadata": {},
   "outputs": [
    {
     "name": "stdout",
     "output_type": "stream",
     "text": [
      "dataset does not exist at path ./processed_dataset/, generating files to path...\n"
     ]
    },
    {
     "name": "stderr",
     "output_type": "stream",
     "text": [
      "[PROCESS]: 100%|██████████| 24/24 [02:12<00:00,  5.53s/it]"
     ]
    },
    {
     "name": "stdout",
     "output_type": "stream",
     "text": [
      "dataset already exists at path ./processed_dataset/, reading from path...\n"
     ]
    },
    {
     "name": "stderr",
     "output_type": "stream",
     "text": [
      "\n"
     ]
    }
   ],
   "source": [
    "dataset = MemoryAgeDataset(io_path='./processed_dataset/',  \n",
    "                           root_path='./raw_dataset/data_memory_age',\n",
    "                           online_transform=transforms.ToTensor(),     # used in __getitem__()\n",
    "                           num_worker=1,\n",
    "                           io_mode='pickle')"
   ]
  },
  {
   "cell_type": "code",
   "execution_count": 6,
   "metadata": {},
   "outputs": [
    {
     "data": {
      "text/html": [
       "<div>\n",
       "<style scoped>\n",
       "    .dataframe tbody tr th:only-of-type {\n",
       "        vertical-align: middle;\n",
       "    }\n",
       "\n",
       "    .dataframe tbody tr th {\n",
       "        vertical-align: top;\n",
       "    }\n",
       "\n",
       "    .dataframe thead th {\n",
       "        text-align: right;\n",
       "    }\n",
       "</style>\n",
       "<table border=\"1\" class=\"dataframe\">\n",
       "  <thead>\n",
       "    <tr style=\"text-align: right;\">\n",
       "      <th></th>\n",
       "      <th>subject_id</th>\n",
       "      <th>clip_id</th>\n",
       "      <th>label</th>\n",
       "      <th>trial_id</th>\n",
       "    </tr>\n",
       "  </thead>\n",
       "  <tbody>\n",
       "    <tr>\n",
       "      <th>0</th>\n",
       "      <td>ym212</td>\n",
       "      <td>ym212_Recent_0</td>\n",
       "      <td>0</td>\n",
       "      <td>0</td>\n",
       "    </tr>\n",
       "    <tr>\n",
       "      <th>1</th>\n",
       "      <td>ym212</td>\n",
       "      <td>ym212_Recent_1</td>\n",
       "      <td>0</td>\n",
       "      <td>0</td>\n",
       "    </tr>\n",
       "    <tr>\n",
       "      <th>2</th>\n",
       "      <td>ym212</td>\n",
       "      <td>ym212_Recent_2</td>\n",
       "      <td>0</td>\n",
       "      <td>0</td>\n",
       "    </tr>\n",
       "    <tr>\n",
       "      <th>3</th>\n",
       "      <td>ym212</td>\n",
       "      <td>ym212_Recent_3</td>\n",
       "      <td>0</td>\n",
       "      <td>0</td>\n",
       "    </tr>\n",
       "    <tr>\n",
       "      <th>4</th>\n",
       "      <td>ym212</td>\n",
       "      <td>ym212_Recent_4</td>\n",
       "      <td>0</td>\n",
       "      <td>0</td>\n",
       "    </tr>\n",
       "    <tr>\n",
       "      <th>...</th>\n",
       "      <td>...</td>\n",
       "      <td>...</td>\n",
       "      <td>...</td>\n",
       "      <td>...</td>\n",
       "    </tr>\n",
       "    <tr>\n",
       "      <th>18611</th>\n",
       "      <td>ym227</td>\n",
       "      <td>ym227_Remote_500</td>\n",
       "      <td>1</td>\n",
       "      <td>1</td>\n",
       "    </tr>\n",
       "    <tr>\n",
       "      <th>18612</th>\n",
       "      <td>ym227</td>\n",
       "      <td>ym227_Remote_501</td>\n",
       "      <td>1</td>\n",
       "      <td>1</td>\n",
       "    </tr>\n",
       "    <tr>\n",
       "      <th>18613</th>\n",
       "      <td>ym227</td>\n",
       "      <td>ym227_Remote_502</td>\n",
       "      <td>1</td>\n",
       "      <td>1</td>\n",
       "    </tr>\n",
       "    <tr>\n",
       "      <th>18614</th>\n",
       "      <td>ym227</td>\n",
       "      <td>ym227_Remote_503</td>\n",
       "      <td>1</td>\n",
       "      <td>1</td>\n",
       "    </tr>\n",
       "    <tr>\n",
       "      <th>18615</th>\n",
       "      <td>ym227</td>\n",
       "      <td>ym227_Remote_504</td>\n",
       "      <td>1</td>\n",
       "      <td>1</td>\n",
       "    </tr>\n",
       "  </tbody>\n",
       "</table>\n",
       "<p>18616 rows × 4 columns</p>\n",
       "</div>"
      ],
      "text/plain": [
       "      subject_id           clip_id  label  trial_id\n",
       "0          ym212    ym212_Recent_0      0         0\n",
       "1          ym212    ym212_Recent_1      0         0\n",
       "2          ym212    ym212_Recent_2      0         0\n",
       "3          ym212    ym212_Recent_3      0         0\n",
       "4          ym212    ym212_Recent_4      0         0\n",
       "...          ...               ...    ...       ...\n",
       "18611      ym227  ym227_Remote_500      1         1\n",
       "18612      ym227  ym227_Remote_501      1         1\n",
       "18613      ym227  ym227_Remote_502      1         1\n",
       "18614      ym227  ym227_Remote_503      1         1\n",
       "18615      ym227  ym227_Remote_504      1         1\n",
       "\n",
       "[18616 rows x 4 columns]"
      ]
     },
     "execution_count": 6,
     "metadata": {},
     "output_type": "execute_result"
    }
   ],
   "source": [
    "dataset.info"
   ]
  },
  {
   "cell_type": "markdown",
   "metadata": {},
   "source": [
    "#### Step 2: Divide the Training and Test samples in the Dataset"
   ]
  },
  {
   "cell_type": "code",
   "execution_count": 7,
   "metadata": {},
   "outputs": [],
   "source": [
    "k_fold = KFoldCrossSubject(n_splits=12, shuffle=False, split_path='./processed_dataset/cross_subject_k_fold_spilt')\n",
    "# shulffle=False, so the order of the subjects in test is ym212, ym213, ..., ym227\n",
    "# n_spilts=the num of subjects, so leave-one-subject-out cross validation"
   ]
  },
  {
   "cell_type": "markdown",
   "metadata": {},
   "source": [
    "#### Step 3: Define the Model and Start Training"
   ]
  },
  {
   "cell_type": "code",
   "execution_count": 8,
   "metadata": {},
   "outputs": [
    {
     "name": "stderr",
     "output_type": "stream",
     "text": [
      "GPU available: True (cuda), used: True\n",
      "TPU available: False, using: 0 TPU cores\n",
      "IPU available: False, using: 0 IPUs\n",
      "HPU available: False, using: 0 HPUs\n"
     ]
    },
    {
     "name": "stdout",
     "output_type": "stream",
     "text": [
      "-------------------- FOLD 0 -------------------\n",
      "train_subjects: ['ym227', 'ym213', 'ym219', 'ym223', 'ym226', 'ym222', 'ym224', 'ym220', 'ym218', 'ym214', 'ym215']\n",
      "test_subjects: ['ym212']\n",
      "------------------------------------------------------\n"
     ]
    },
    {
     "name": "stderr",
     "output_type": "stream",
     "text": [
      "LOCAL_RANK: 0 - CUDA_VISIBLE_DEVICES: [0]\n",
      "\n",
      "  | Name          | Type             | Params\n",
      "---------------------------------------------------\n",
      "0 | model         | LFP_Transformer  | 546 K \n",
      "1 | _ce_fn        | CrossEntropyLoss | 0     \n",
      "2 | train_loss    | MeanMetric       | 0     \n",
      "3 | val_loss      | MeanMetric       | 0     \n",
      "4 | test_loss     | MeanMetric       | 0     \n",
      "5 | train_metrics | MetricCollection | 0     \n",
      "6 | val_metrics   | MetricCollection | 0     \n",
      "7 | test_metrics  | MetricCollection | 0     \n",
      "---------------------------------------------------\n",
      "546 K     Trainable params\n",
      "0         Non-trainable params\n",
      "546 K     Total params\n",
      "2.184     Total estimated model params size (MB)\n"
     ]
    },
    {
     "name": "stdout",
     "output_type": "stream",
     "text": [
      "\n",
      "Epoch 0: [Val] val_loss: 1.253  val_f1score: 0.000  val_accuracy: 0.000  "
     ]
    },
    {
     "name": "stderr",
     "output_type": "stream",
     "text": [
      "Metric val_loss improved. New best score: 0.629\n"
     ]
    },
    {
     "name": "stdout",
     "output_type": "stream",
     "text": [
      "\n",
      "Epoch 0: [Val] val_loss: 0.629  val_f1score: 0.546  val_accuracy: 0.696     [Train] train_loss: 0.678  train_f1score: 0.538  train_accuracy: 0.573  \n",
      "Epoch 1: [Val] val_loss: 0.746  val_f1score: 0.517  val_accuracy: 0.524     [Train] train_loss: 0.604  train_f1score: 0.665  train_accuracy: 0.671  \n",
      "Epoch 2: [Val] val_loss: 0.726  val_f1score: 0.548  val_accuracy: 0.556     [Train] train_loss: 0.539  train_f1score: 0.721  train_accuracy: 0.723  \n"
     ]
    },
    {
     "name": "stderr",
     "output_type": "stream",
     "text": [
      "Metric val_loss improved by 0.021 >= min_delta = 0.0. New best score: 0.609\n"
     ]
    },
    {
     "name": "stdout",
     "output_type": "stream",
     "text": [
      "Epoch 3: [Val] val_loss: 0.609  val_f1score: 0.641  val_accuracy: 0.676     [Train] train_loss: 0.484  train_f1score: 0.766  train_accuracy: 0.768  \n"
     ]
    },
    {
     "name": "stderr",
     "output_type": "stream",
     "text": [
      "Metric val_loss improved by 0.006 >= min_delta = 0.0. New best score: 0.603\n"
     ]
    },
    {
     "name": "stdout",
     "output_type": "stream",
     "text": [
      "Epoch 4: [Val] val_loss: 0.603  val_f1score: 0.653  val_accuracy: 0.691     [Train] train_loss: 0.440  train_f1score: 0.794  train_accuracy: 0.796  \n"
     ]
    },
    {
     "name": "stderr",
     "output_type": "stream",
     "text": [
      "Metric val_loss improved by 0.044 >= min_delta = 0.0. New best score: 0.558\n"
     ]
    },
    {
     "name": "stdout",
     "output_type": "stream",
     "text": [
      "Epoch 5: [Val] val_loss: 0.558  val_f1score: 0.685  val_accuracy: 0.724     [Train] train_loss: 0.395  train_f1score: 0.818  train_accuracy: 0.819  \n"
     ]
    },
    {
     "name": "stderr",
     "output_type": "stream",
     "text": [
      "Metric val_loss improved by 0.027 >= min_delta = 0.0. New best score: 0.531\n"
     ]
    },
    {
     "name": "stdout",
     "output_type": "stream",
     "text": [
      "Epoch 6: [Val] val_loss: 0.531  val_f1score: 0.705  val_accuracy: 0.764     [Train] train_loss: 0.358  train_f1score: 0.840  train_accuracy: 0.841  \n",
      "Epoch 7: [Val] val_loss: 0.587  val_f1score: 0.699  val_accuracy: 0.734     [Train] train_loss: 0.322  train_f1score: 0.859  train_accuracy: 0.860  \n",
      "Epoch 8: [Val] val_loss: 0.609  val_f1score: 0.694  val_accuracy: 0.721     [Train] train_loss: 0.294  train_f1score: 0.874  train_accuracy: 0.875  \n",
      "Epoch 9: [Val] val_loss: 0.566  val_f1score: 0.714  val_accuracy: 0.769     [Train] train_loss: 0.262  train_f1score: 0.890  train_accuracy: 0.891  \n",
      "Epoch 10: [Val] val_loss: 0.582  val_f1score: 0.731  val_accuracy: 0.777     [Train] train_loss: 0.234  train_f1score: 0.904  train_accuracy: 0.905  \n"
     ]
    },
    {
     "name": "stderr",
     "output_type": "stream",
     "text": [
      "Monitored metric val_loss did not improve in the last 5 records. Best score: 0.531. Signaling Trainer to stop.\n"
     ]
    },
    {
     "name": "stdout",
     "output_type": "stream",
     "text": [
      "Epoch 11: [Val] val_loss: 0.625  val_f1score: 0.725  val_accuracy: 0.779     [Train] train_loss: 0.208  train_f1score: 0.916  train_accuracy: 0.916  \n"
     ]
    },
    {
     "name": "stderr",
     "output_type": "stream",
     "text": [
      "GPU available: True (cuda), used: True\n",
      "TPU available: False, using: 0 TPU cores\n",
      "IPU available: False, using: 0 IPUs\n",
      "HPU available: False, using: 0 HPUs\n",
      "Restoring states from the checkpoint path at ./processed_dataset/Model_Checkpoints/Best_model_Fold0.ckpt\n",
      "LOCAL_RANK: 0 - CUDA_VISIBLE_DEVICES: [0]\n",
      "Loaded model weights from checkpoint at ./processed_dataset/Model_Checkpoints/Best_model_Fold0.ckpt\n"
     ]
    },
    {
     "name": "stdout",
     "output_type": "stream",
     "text": [
      "[Test] test_loss: 0.531 test_f1score: 0.705 test_accuracy: 0.764 \n",
      "────────────────────────────────────────────────────────────────────────────────────────────────────────────────────────\n",
      "       Test metric             DataLoader 0\n",
      "────────────────────────────────────────────────────────────────────────────────────────────────────────────────────────\n",
      "      test_accuracy         0.7637434601783752\n",
      "      test_f1score          0.7047532796859741\n",
      "        test_loss           0.5310408473014832\n",
      "────────────────────────────────────────────────────────────────────────────────────────────────────────────────────────\n"
     ]
    },
    {
     "name": "stderr",
     "output_type": "stream",
     "text": [
      "GPU available: True (cuda), used: True\n",
      "TPU available: False, using: 0 TPU cores\n",
      "IPU available: False, using: 0 IPUs\n",
      "HPU available: False, using: 0 HPUs\n",
      "LOCAL_RANK: 0 - CUDA_VISIBLE_DEVICES: [0]\n",
      "\n",
      "  | Name          | Type             | Params\n",
      "---------------------------------------------------\n",
      "0 | model         | LFP_Transformer  | 546 K \n",
      "1 | _ce_fn        | CrossEntropyLoss | 0     \n",
      "2 | train_loss    | MeanMetric       | 0     \n",
      "3 | val_loss      | MeanMetric       | 0     \n",
      "4 | test_loss     | MeanMetric       | 0     \n",
      "5 | train_metrics | MetricCollection | 0     \n",
      "6 | val_metrics   | MetricCollection | 0     \n",
      "7 | test_metrics  | MetricCollection | 0     \n",
      "---------------------------------------------------\n",
      "546 K     Trainable params\n",
      "0         Non-trainable params\n",
      "546 K     Total params\n",
      "2.184     Total estimated model params size (MB)\n"
     ]
    },
    {
     "name": "stdout",
     "output_type": "stream",
     "text": [
      "-------------------- FOLD 1 -------------------\n",
      "train_subjects: ['ym227', 'ym212', 'ym219', 'ym223', 'ym226', 'ym222', 'ym224', 'ym220', 'ym218', 'ym214', 'ym215']\n",
      "test_subjects: ['ym213']\n",
      "------------------------------------------------------\n",
      "\n",
      "Epoch 0: [Val] val_loss: 0.281  val_f1score: 0.500  val_accuracy: 1.000  "
     ]
    },
    {
     "name": "stderr",
     "output_type": "stream",
     "text": [
      "Metric val_loss improved. New best score: 0.643\n"
     ]
    },
    {
     "name": "stdout",
     "output_type": "stream",
     "text": [
      "\n",
      "Epoch 0: [Val] val_loss: 0.643  val_f1score: 0.664  val_accuracy: 0.664     [Train] train_loss: 0.673  train_f1score: 0.511  train_accuracy: 0.581  \n"
     ]
    },
    {
     "name": "stderr",
     "output_type": "stream",
     "text": [
      "Metric val_loss improved by 0.125 >= min_delta = 0.0. New best score: 0.517\n"
     ]
    },
    {
     "name": "stdout",
     "output_type": "stream",
     "text": [
      "Epoch 1: [Val] val_loss: 0.517  val_f1score: 0.783  val_accuracy: 0.791     [Train] train_loss: 0.605  train_f1score: 0.658  train_accuracy: 0.671  \n"
     ]
    },
    {
     "name": "stderr",
     "output_type": "stream",
     "text": [
      "Metric val_loss improved by 0.092 >= min_delta = 0.0. New best score: 0.425\n"
     ]
    },
    {
     "name": "stdout",
     "output_type": "stream",
     "text": [
      "Epoch 2: [Val] val_loss: 0.425  val_f1score: 0.786  val_accuracy: 0.813     [Train] train_loss: 0.536  train_f1score: 0.726  train_accuracy: 0.732  \n",
      "Epoch 3: [Val] val_loss: 0.436  val_f1score: 0.820  val_accuracy: 0.826     [Train] train_loss: 0.480  train_f1score: 0.765  train_accuracy: 0.770  \n"
     ]
    },
    {
     "name": "stderr",
     "output_type": "stream",
     "text": [
      "Metric val_loss improved by 0.008 >= min_delta = 0.0. New best score: 0.417\n"
     ]
    },
    {
     "name": "stdout",
     "output_type": "stream",
     "text": [
      "Epoch 4: [Val] val_loss: 0.417  val_f1score: 0.822  val_accuracy: 0.826     [Train] train_loss: 0.427  train_f1score: 0.802  train_accuracy: 0.806  \n"
     ]
    },
    {
     "name": "stderr",
     "output_type": "stream",
     "text": [
      "Metric val_loss improved by 0.075 >= min_delta = 0.0. New best score: 0.342\n"
     ]
    },
    {
     "name": "stdout",
     "output_type": "stream",
     "text": [
      "Epoch 5: [Val] val_loss: 0.342  val_f1score: 0.865  val_accuracy: 0.872     [Train] train_loss: 0.378  train_f1score: 0.827  train_accuracy: 0.830  \n",
      "Epoch 6: [Val] val_loss: 0.397  val_f1score: 0.844  val_accuracy: 0.848     [Train] train_loss: 0.359  train_f1score: 0.837  train_accuracy: 0.840  \n",
      "Epoch 7: [Val] val_loss: 0.453  val_f1score: 0.831  val_accuracy: 0.833     [Train] train_loss: 0.315  train_f1score: 0.862  train_accuracy: 0.864  \n",
      "Epoch 8: [Val] val_loss: 0.400  val_f1score: 0.856  val_accuracy: 0.859     [Train] train_loss: 0.288  train_f1score: 0.877  train_accuracy: 0.879  \n",
      "Epoch 9: [Val] val_loss: 0.395  val_f1score: 0.864  val_accuracy: 0.868     [Train] train_loss: 0.257  train_f1score: 0.889  train_accuracy: 0.891  \n"
     ]
    },
    {
     "name": "stderr",
     "output_type": "stream",
     "text": [
      "Metric val_loss improved by 0.001 >= min_delta = 0.0. New best score: 0.341\n"
     ]
    },
    {
     "name": "stdout",
     "output_type": "stream",
     "text": [
      "Epoch 10: [Val] val_loss: 0.341  val_f1score: 0.869  val_accuracy: 0.873     [Train] train_loss: 0.222  train_f1score: 0.909  train_accuracy: 0.910  \n",
      "Epoch 11: [Val] val_loss: 0.441  val_f1score: 0.858  val_accuracy: 0.861     [Train] train_loss: 0.197  train_f1score: 0.922  train_accuracy: 0.923  \n",
      "Epoch 12: [Val] val_loss: 0.368  val_f1score: 0.882  val_accuracy: 0.886     [Train] train_loss: 0.168  train_f1score: 0.933  train_accuracy: 0.935  \n"
     ]
    },
    {
     "name": "stderr",
     "output_type": "stream",
     "text": [
      "Metric val_loss improved by 0.010 >= min_delta = 0.0. New best score: 0.331\n"
     ]
    },
    {
     "name": "stdout",
     "output_type": "stream",
     "text": [
      "Epoch 13: [Val] val_loss: 0.331  val_f1score: 0.884  val_accuracy: 0.890     [Train] train_loss: 0.147  train_f1score: 0.944  train_accuracy: 0.945  \n",
      "Epoch 14: [Val] val_loss: 0.415  val_f1score: 0.873  val_accuracy: 0.877     [Train] train_loss: 0.131  train_f1score: 0.951  train_accuracy: 0.952  \n",
      "Epoch 15: [Val] val_loss: 0.458  val_f1score: 0.865  val_accuracy: 0.869     [Train] train_loss: 0.097  train_f1score: 0.965  train_accuracy: 0.965  \n",
      "Epoch 16: [Val] val_loss: 0.500  val_f1score: 0.869  val_accuracy: 0.873     [Train] train_loss: 0.079  train_f1score: 0.972  train_accuracy: 0.972  \n",
      "Epoch 17: [Val] val_loss: 0.578  val_f1score: 0.855  val_accuracy: 0.858     [Train] train_loss: 0.063  train_f1score: 0.979  train_accuracy: 0.979  \n"
     ]
    },
    {
     "name": "stderr",
     "output_type": "stream",
     "text": [
      "Monitored metric val_loss did not improve in the last 5 records. Best score: 0.331. Signaling Trainer to stop.\n"
     ]
    },
    {
     "name": "stdout",
     "output_type": "stream",
     "text": [
      "Epoch 18: [Val] val_loss: 0.581  val_f1score: 0.858  val_accuracy: 0.862     [Train] train_loss: 0.051  train_f1score: 0.983  train_accuracy: 0.983  \n"
     ]
    },
    {
     "name": "stderr",
     "output_type": "stream",
     "text": [
      "GPU available: True (cuda), used: True\n",
      "TPU available: False, using: 0 TPU cores\n",
      "IPU available: False, using: 0 IPUs\n",
      "HPU available: False, using: 0 HPUs\n",
      "Restoring states from the checkpoint path at ./processed_dataset/Model_Checkpoints/Best_model_Fold1.ckpt\n",
      "LOCAL_RANK: 0 - CUDA_VISIBLE_DEVICES: [0]\n",
      "Loaded model weights from checkpoint at ./processed_dataset/Model_Checkpoints/Best_model_Fold1.ckpt\n"
     ]
    },
    {
     "name": "stdout",
     "output_type": "stream",
     "text": [
      "[Test] test_loss: 0.331 test_f1score: 0.884 test_accuracy: 0.890 \n",
      "────────────────────────────────────────────────────────────────────────────────────────────────────────────────────────\n",
      "       Test metric             DataLoader 0\n",
      "────────────────────────────────────────────────────────────────────────────────────────────────────────────────────────\n",
      "      test_accuracy         0.8898186683654785\n",
      "      test_f1score          0.8837360143661499\n",
      "        test_loss           0.3309280276298523\n",
      "────────────────────────────────────────────────────────────────────────────────────────────────────────────────────────\n"
     ]
    },
    {
     "name": "stderr",
     "output_type": "stream",
     "text": [
      "GPU available: True (cuda), used: True\n",
      "TPU available: False, using: 0 TPU cores\n",
      "IPU available: False, using: 0 IPUs\n",
      "HPU available: False, using: 0 HPUs\n",
      "LOCAL_RANK: 0 - CUDA_VISIBLE_DEVICES: [0]\n",
      "\n",
      "  | Name          | Type             | Params\n",
      "---------------------------------------------------\n",
      "0 | model         | LFP_Transformer  | 546 K \n",
      "1 | _ce_fn        | CrossEntropyLoss | 0     \n",
      "2 | train_loss    | MeanMetric       | 0     \n",
      "3 | val_loss      | MeanMetric       | 0     \n",
      "4 | test_loss     | MeanMetric       | 0     \n",
      "5 | train_metrics | MetricCollection | 0     \n",
      "6 | val_metrics   | MetricCollection | 0     \n",
      "7 | test_metrics  | MetricCollection | 0     \n",
      "---------------------------------------------------\n",
      "546 K     Trainable params\n",
      "0         Non-trainable params\n",
      "546 K     Total params\n",
      "2.184     Total estimated model params size (MB)\n"
     ]
    },
    {
     "name": "stdout",
     "output_type": "stream",
     "text": [
      "-------------------- FOLD 2 -------------------\n",
      "train_subjects: ['ym227', 'ym213', 'ym212', 'ym219', 'ym223', 'ym226', 'ym222', 'ym220', 'ym218', 'ym224', 'ym215']\n",
      "test_subjects: ['ym214']\n",
      "------------------------------------------------------\n",
      "\n",
      "Epoch 0: [Val] val_loss: 0.728  val_f1score: 0.308  val_accuracy: 0.445  "
     ]
    },
    {
     "name": "stderr",
     "output_type": "stream",
     "text": [
      "Metric val_loss improved. New best score: 0.616\n"
     ]
    },
    {
     "name": "stdout",
     "output_type": "stream",
     "text": [
      "\n",
      "Epoch 0: [Val] val_loss: 0.616  val_f1score: 0.635  val_accuracy: 0.642     [Train] train_loss: 0.664  train_f1score: 0.539  train_accuracy: 0.597  \n",
      "Epoch 1: [Val] val_loss: 0.733  val_f1score: 0.528  val_accuracy: 0.529     [Train] train_loss: 0.590  train_f1score: 0.670  train_accuracy: 0.681  \n"
     ]
    },
    {
     "name": "stderr",
     "output_type": "stream",
     "text": [
      "Metric val_loss improved by 0.074 >= min_delta = 0.0. New best score: 0.542\n"
     ]
    },
    {
     "name": "stdout",
     "output_type": "stream",
     "text": [
      "Epoch 2: [Val] val_loss: 0.542  val_f1score: 0.699  val_accuracy: 0.718     [Train] train_loss: 0.531  train_f1score: 0.725  train_accuracy: 0.732  \n",
      "Epoch 3: [Val] val_loss: 0.661  val_f1score: 0.653  val_accuracy: 0.663     [Train] train_loss: 0.482  train_f1score: 0.763  train_accuracy: 0.768  \n"
     ]
    },
    {
     "name": "stderr",
     "output_type": "stream",
     "text": [
      "Metric val_loss improved by 0.006 >= min_delta = 0.0. New best score: 0.537\n"
     ]
    },
    {
     "name": "stdout",
     "output_type": "stream",
     "text": [
      "Epoch 4: [Val] val_loss: 0.537  val_f1score: 0.724  val_accuracy: 0.745     [Train] train_loss: 0.431  train_f1score: 0.793  train_accuracy: 0.797  \n",
      "Epoch 5: [Val] val_loss: 0.768  val_f1score: 0.631  val_accuracy: 0.638     [Train] train_loss: 0.384  train_f1score: 0.825  train_accuracy: 0.828  \n",
      "Epoch 6: [Val] val_loss: 0.806  val_f1score: 0.627  val_accuracy: 0.632     [Train] train_loss: 0.348  train_f1score: 0.844  train_accuracy: 0.846  \n",
      "Epoch 7: [Val] val_loss: 0.636  val_f1score: 0.701  val_accuracy: 0.716     [Train] train_loss: 0.312  train_f1score: 0.865  train_accuracy: 0.867  \n",
      "Epoch 8: [Val] val_loss: 0.887  val_f1score: 0.633  val_accuracy: 0.638     [Train] train_loss: 0.288  train_f1score: 0.877  train_accuracy: 0.879  \n"
     ]
    },
    {
     "name": "stderr",
     "output_type": "stream",
     "text": [
      "Monitored metric val_loss did not improve in the last 5 records. Best score: 0.537. Signaling Trainer to stop.\n"
     ]
    },
    {
     "name": "stdout",
     "output_type": "stream",
     "text": [
      "Epoch 9: [Val] val_loss: 0.820  val_f1score: 0.682  val_accuracy: 0.693     [Train] train_loss: 0.255  train_f1score: 0.893  train_accuracy: 0.895  \n"
     ]
    },
    {
     "name": "stderr",
     "output_type": "stream",
     "text": [
      "GPU available: True (cuda), used: True\n",
      "TPU available: False, using: 0 TPU cores\n",
      "IPU available: False, using: 0 IPUs\n",
      "HPU available: False, using: 0 HPUs\n",
      "Restoring states from the checkpoint path at ./processed_dataset/Model_Checkpoints/Best_model_Fold2.ckpt\n",
      "LOCAL_RANK: 0 - CUDA_VISIBLE_DEVICES: [0]\n",
      "Loaded model weights from checkpoint at ./processed_dataset/Model_Checkpoints/Best_model_Fold2.ckpt\n"
     ]
    },
    {
     "name": "stdout",
     "output_type": "stream",
     "text": [
      "[Test] test_loss: 0.537 test_f1score: 0.724 test_accuracy: 0.745 \n",
      "────────────────────────────────────────────────────────────────────────────────────────────────────────────────────────\n",
      "       Test metric             DataLoader 0\n",
      "────────────────────────────────────────────────────────────────────────────────────────────────────────────────────────\n",
      "      test_accuracy         0.7448559403419495\n",
      "      test_f1score          0.7238636016845703\n",
      "        test_loss           0.5366506576538086\n",
      "────────────────────────────────────────────────────────────────────────────────────────────────────────────────────────\n"
     ]
    },
    {
     "name": "stderr",
     "output_type": "stream",
     "text": [
      "GPU available: True (cuda), used: True\n",
      "TPU available: False, using: 0 TPU cores\n",
      "IPU available: False, using: 0 IPUs\n",
      "HPU available: False, using: 0 HPUs\n",
      "LOCAL_RANK: 0 - CUDA_VISIBLE_DEVICES: [0]\n",
      "\n",
      "  | Name          | Type             | Params\n",
      "---------------------------------------------------\n",
      "0 | model         | LFP_Transformer  | 546 K \n",
      "1 | _ce_fn        | CrossEntropyLoss | 0     \n",
      "2 | train_loss    | MeanMetric       | 0     \n",
      "3 | val_loss      | MeanMetric       | 0     \n",
      "4 | test_loss     | MeanMetric       | 0     \n",
      "5 | train_metrics | MetricCollection | 0     \n",
      "6 | val_metrics   | MetricCollection | 0     \n",
      "7 | test_metrics  | MetricCollection | 0     \n",
      "---------------------------------------------------\n",
      "546 K     Trainable params\n",
      "0         Non-trainable params\n",
      "546 K     Total params\n",
      "2.184     Total estimated model params size (MB)\n"
     ]
    },
    {
     "name": "stdout",
     "output_type": "stream",
     "text": [
      "-------------------- FOLD 3 -------------------\n",
      "train_subjects: ['ym227', 'ym213', 'ym212', 'ym219', 'ym223', 'ym226', 'ym222', 'ym224', 'ym220', 'ym218', 'ym214']\n",
      "test_subjects: ['ym215']\n",
      "------------------------------------------------------\n",
      "\n",
      "Epoch 0: [Val] val_loss: 0.315  val_f1score: 0.500  val_accuracy: 1.000  "
     ]
    },
    {
     "name": "stderr",
     "output_type": "stream",
     "text": [
      "Metric val_loss improved. New best score: 0.697\n"
     ]
    },
    {
     "name": "stdout",
     "output_type": "stream",
     "text": [
      "\n",
      "Epoch 0: [Val] val_loss: 0.697  val_f1score: 0.422  val_accuracy: 0.549     [Train] train_loss: 0.682  train_f1score: 0.546  train_accuracy: 0.558  \n",
      "Epoch 1: [Val] val_loss: 0.762  val_f1score: 0.493  val_accuracy: 0.542     [Train] train_loss: 0.596  train_f1score: 0.676  train_accuracy: 0.678  \n",
      "Epoch 2: [Val] val_loss: 0.809  val_f1score: 0.479  val_accuracy: 0.547     [Train] train_loss: 0.512  train_f1score: 0.749  train_accuracy: 0.750  \n",
      "Epoch 3: [Val] val_loss: 0.755  val_f1score: 0.508  val_accuracy: 0.635     [Train] train_loss: 0.447  train_f1score: 0.793  train_accuracy: 0.793  \n",
      "Epoch 4: [Val] val_loss: 0.953  val_f1score: 0.482  val_accuracy: 0.543     [Train] train_loss: 0.391  train_f1score: 0.825  train_accuracy: 0.826  \n"
     ]
    },
    {
     "name": "stderr",
     "output_type": "stream",
     "text": [
      "Monitored metric val_loss did not improve in the last 5 records. Best score: 0.697. Signaling Trainer to stop.\n"
     ]
    },
    {
     "name": "stdout",
     "output_type": "stream",
     "text": [
      "Epoch 5: [Val] val_loss: 0.838  val_f1score: 0.519  val_accuracy: 0.660     [Train] train_loss: 0.348  train_f1score: 0.851  train_accuracy: 0.851  \n"
     ]
    },
    {
     "name": "stderr",
     "output_type": "stream",
     "text": [
      "GPU available: True (cuda), used: True\n",
      "TPU available: False, using: 0 TPU cores\n",
      "IPU available: False, using: 0 IPUs\n",
      "HPU available: False, using: 0 HPUs\n",
      "Restoring states from the checkpoint path at ./processed_dataset/Model_Checkpoints/Best_model_Fold3.ckpt\n",
      "LOCAL_RANK: 0 - CUDA_VISIBLE_DEVICES: [0]\n",
      "Loaded model weights from checkpoint at ./processed_dataset/Model_Checkpoints/Best_model_Fold3.ckpt\n"
     ]
    },
    {
     "name": "stdout",
     "output_type": "stream",
     "text": [
      "[Test] test_loss: 0.697 test_f1score: 0.422 test_accuracy: 0.549 \n",
      "────────────────────────────────────────────────────────────────────────────────────────────────────────────────────────\n",
      "       Test metric             DataLoader 0\n",
      "────────────────────────────────────────────────────────────────────────────────────────────────────────────────────────\n",
      "      test_accuracy         0.5492683053016663\n",
      "      test_f1score          0.42198121547698975\n",
      "        test_loss           0.6971665620803833\n",
      "────────────────────────────────────────────────────────────────────────────────────────────────────────────────────────\n"
     ]
    },
    {
     "name": "stderr",
     "output_type": "stream",
     "text": [
      "GPU available: True (cuda), used: True\n",
      "TPU available: False, using: 0 TPU cores\n",
      "IPU available: False, using: 0 IPUs\n",
      "HPU available: False, using: 0 HPUs\n",
      "LOCAL_RANK: 0 - CUDA_VISIBLE_DEVICES: [0]\n",
      "\n",
      "  | Name          | Type             | Params\n",
      "---------------------------------------------------\n",
      "0 | model         | LFP_Transformer  | 546 K \n",
      "1 | _ce_fn        | CrossEntropyLoss | 0     \n",
      "2 | train_loss    | MeanMetric       | 0     \n",
      "3 | val_loss      | MeanMetric       | 0     \n",
      "4 | test_loss     | MeanMetric       | 0     \n",
      "5 | train_metrics | MetricCollection | 0     \n",
      "6 | val_metrics   | MetricCollection | 0     \n",
      "7 | test_metrics  | MetricCollection | 0     \n",
      "---------------------------------------------------\n",
      "546 K     Trainable params\n",
      "0         Non-trainable params\n",
      "546 K     Total params\n",
      "2.184     Total estimated model params size (MB)\n"
     ]
    },
    {
     "name": "stdout",
     "output_type": "stream",
     "text": [
      "-------------------- FOLD 4 -------------------\n",
      "train_subjects: ['ym227', 'ym213', 'ym212', 'ym223', 'ym226', 'ym222', 'ym224', 'ym220', 'ym219', 'ym214', 'ym215']\n",
      "test_subjects: ['ym218']\n",
      "------------------------------------------------------\n",
      "\n",
      "Epoch 0: [Val] val_loss: 0.413  val_f1score: 0.500  val_accuracy: 1.000  "
     ]
    },
    {
     "name": "stderr",
     "output_type": "stream",
     "text": [
      "Metric val_loss improved. New best score: 0.668\n"
     ]
    },
    {
     "name": "stdout",
     "output_type": "stream",
     "text": [
      "\n",
      "Epoch 0: [Val] val_loss: 0.668  val_f1score: 0.553  val_accuracy: 0.583     [Train] train_loss: 0.671  train_f1score: 0.542  train_accuracy: 0.583  \n",
      "Epoch 1: [Val] val_loss: 0.729  val_f1score: 0.599  val_accuracy: 0.599     [Train] train_loss: 0.585  train_f1score: 0.685  train_accuracy: 0.691  \n",
      "Epoch 2: [Val] val_loss: 0.914  val_f1score: 0.538  val_accuracy: 0.548     [Train] train_loss: 0.509  train_f1score: 0.748  train_accuracy: 0.752  \n",
      "Epoch 3: [Val] val_loss: 0.947  val_f1score: 0.558  val_accuracy: 0.568     [Train] train_loss: 0.460  train_f1score: 0.778  train_accuracy: 0.781  \n",
      "Epoch 4: [Val] val_loss: 0.968  val_f1score: 0.565  val_accuracy: 0.573     [Train] train_loss: 0.418  train_f1score: 0.806  train_accuracy: 0.808  \n"
     ]
    },
    {
     "name": "stderr",
     "output_type": "stream",
     "text": [
      "Monitored metric val_loss did not improve in the last 5 records. Best score: 0.668. Signaling Trainer to stop.\n"
     ]
    },
    {
     "name": "stdout",
     "output_type": "stream",
     "text": [
      "Epoch 5: [Val] val_loss: 0.943  val_f1score: 0.609  val_accuracy: 0.611     [Train] train_loss: 0.371  train_f1score: 0.835  train_accuracy: 0.837  \n"
     ]
    },
    {
     "name": "stderr",
     "output_type": "stream",
     "text": [
      "GPU available: True (cuda), used: True\n",
      "TPU available: False, using: 0 TPU cores\n",
      "IPU available: False, using: 0 IPUs\n",
      "HPU available: False, using: 0 HPUs\n",
      "Restoring states from the checkpoint path at ./processed_dataset/Model_Checkpoints/Best_model_Fold4.ckpt\n",
      "LOCAL_RANK: 0 - CUDA_VISIBLE_DEVICES: [0]\n",
      "Loaded model weights from checkpoint at ./processed_dataset/Model_Checkpoints/Best_model_Fold4.ckpt\n"
     ]
    },
    {
     "name": "stdout",
     "output_type": "stream",
     "text": [
      "[Test] test_loss: 0.668 test_f1score: 0.553 test_accuracy: 0.583 \n",
      "────────────────────────────────────────────────────────────────────────────────────────────────────────────────────────\n",
      "       Test metric             DataLoader 0\n",
      "────────────────────────────────────────────────────────────────────────────────────────────────────────────────────────\n",
      "      test_accuracy         0.5825859308242798\n",
      "      test_f1score          0.5525798201560974\n",
      "        test_loss           0.6682059168815613\n",
      "────────────────────────────────────────────────────────────────────────────────────────────────────────────────────────\n"
     ]
    },
    {
     "name": "stderr",
     "output_type": "stream",
     "text": [
      "GPU available: True (cuda), used: True\n",
      "TPU available: False, using: 0 TPU cores\n",
      "IPU available: False, using: 0 IPUs\n",
      "HPU available: False, using: 0 HPUs\n",
      "LOCAL_RANK: 0 - CUDA_VISIBLE_DEVICES: [0]\n",
      "\n",
      "  | Name          | Type             | Params\n",
      "---------------------------------------------------\n",
      "0 | model         | LFP_Transformer  | 546 K \n",
      "1 | _ce_fn        | CrossEntropyLoss | 0     \n",
      "2 | train_loss    | MeanMetric       | 0     \n",
      "3 | val_loss      | MeanMetric       | 0     \n",
      "4 | test_loss     | MeanMetric       | 0     \n",
      "5 | train_metrics | MetricCollection | 0     \n",
      "6 | val_metrics   | MetricCollection | 0     \n",
      "7 | test_metrics  | MetricCollection | 0     \n",
      "---------------------------------------------------\n",
      "546 K     Trainable params\n",
      "0         Non-trainable params\n",
      "546 K     Total params\n",
      "2.184     Total estimated model params size (MB)\n"
     ]
    },
    {
     "name": "stdout",
     "output_type": "stream",
     "text": [
      "-------------------- FOLD 5 -------------------\n",
      "train_subjects: ['ym227', 'ym213', 'ym212', 'ym223', 'ym226', 'ym222', 'ym224', 'ym220', 'ym218', 'ym214', 'ym215']\n",
      "test_subjects: ['ym219']\n",
      "------------------------------------------------------\n",
      "\n",
      "Epoch 0: [Val] val_loss: 1.365  val_f1score: 0.000  val_accuracy: 0.000  "
     ]
    },
    {
     "name": "stderr",
     "output_type": "stream",
     "text": [
      "Metric val_loss improved. New best score: 0.633\n"
     ]
    },
    {
     "name": "stdout",
     "output_type": "stream",
     "text": [
      "\n",
      "Epoch 0: [Val] val_loss: 0.633  val_f1score: 0.624  val_accuracy: 0.710     [Train] train_loss: 0.681  train_f1score: 0.506  train_accuracy: 0.568  \n",
      "Epoch 1: [Val] val_loss: 0.639  val_f1score: 0.601  val_accuracy: 0.714     [Train] train_loss: 0.609  train_f1score: 0.658  train_accuracy: 0.667  \n",
      "Epoch 2: [Val] val_loss: 0.670  val_f1score: 0.620  val_accuracy: 0.717     [Train] train_loss: 0.544  train_f1score: 0.719  train_accuracy: 0.724  \n",
      "Epoch 3: [Val] val_loss: 0.821  val_f1score: 0.576  val_accuracy: 0.717     [Train] train_loss: 0.487  train_f1score: 0.764  train_accuracy: 0.767  \n",
      "Epoch 4: [Val] val_loss: 0.878  val_f1score: 0.564  val_accuracy: 0.710     [Train] train_loss: 0.438  train_f1score: 0.796  train_accuracy: 0.799  \n"
     ]
    },
    {
     "name": "stderr",
     "output_type": "stream",
     "text": [
      "Monitored metric val_loss did not improve in the last 5 records. Best score: 0.633. Signaling Trainer to stop.\n"
     ]
    },
    {
     "name": "stdout",
     "output_type": "stream",
     "text": [
      "Epoch 5: [Val] val_loss: 0.813  val_f1score: 0.601  val_accuracy: 0.728     [Train] train_loss: 0.388  train_f1score: 0.827  train_accuracy: 0.829  \n"
     ]
    },
    {
     "name": "stderr",
     "output_type": "stream",
     "text": [
      "GPU available: True (cuda), used: True\n",
      "TPU available: False, using: 0 TPU cores\n",
      "IPU available: False, using: 0 IPUs\n",
      "HPU available: False, using: 0 HPUs\n",
      "Restoring states from the checkpoint path at ./processed_dataset/Model_Checkpoints/Best_model_Fold5.ckpt\n",
      "LOCAL_RANK: 0 - CUDA_VISIBLE_DEVICES: [0]\n",
      "Loaded model weights from checkpoint at ./processed_dataset/Model_Checkpoints/Best_model_Fold5.ckpt\n"
     ]
    },
    {
     "name": "stdout",
     "output_type": "stream",
     "text": [
      "[Test] test_loss: 0.633 test_f1score: 0.624 test_accuracy: 0.710 \n",
      "────────────────────────────────────────────────────────────────────────────────────────────────────────────────────────\n",
      "       Test metric             DataLoader 0\n",
      "────────────────────────────────────────────────────────────────────────────────────────────────────────────────────────\n",
      "      test_accuracy         0.7097505927085876\n",
      "      test_f1score          0.6235796213150024\n",
      "        test_loss           0.6326660513877869\n",
      "────────────────────────────────────────────────────────────────────────────────────────────────────────────────────────\n"
     ]
    },
    {
     "name": "stderr",
     "output_type": "stream",
     "text": [
      "GPU available: True (cuda), used: True\n",
      "TPU available: False, using: 0 TPU cores\n",
      "IPU available: False, using: 0 IPUs\n",
      "HPU available: False, using: 0 HPUs\n",
      "LOCAL_RANK: 0 - CUDA_VISIBLE_DEVICES: [0]\n",
      "\n",
      "  | Name          | Type             | Params\n",
      "---------------------------------------------------\n",
      "0 | model         | LFP_Transformer  | 546 K \n",
      "1 | _ce_fn        | CrossEntropyLoss | 0     \n",
      "2 | train_loss    | MeanMetric       | 0     \n",
      "3 | val_loss      | MeanMetric       | 0     \n",
      "4 | test_loss     | MeanMetric       | 0     \n",
      "5 | train_metrics | MetricCollection | 0     \n",
      "6 | val_metrics   | MetricCollection | 0     \n",
      "7 | test_metrics  | MetricCollection | 0     \n",
      "---------------------------------------------------\n",
      "546 K     Trainable params\n",
      "0         Non-trainable params\n",
      "546 K     Total params\n",
      "2.184     Total estimated model params size (MB)\n"
     ]
    },
    {
     "name": "stdout",
     "output_type": "stream",
     "text": [
      "-------------------- FOLD 6 -------------------\n",
      "train_subjects: ['ym227', 'ym213', 'ym212', 'ym219', 'ym223', 'ym226', 'ym222', 'ym224', 'ym218', 'ym214', 'ym215']\n",
      "test_subjects: ['ym220']\n",
      "------------------------------------------------------\n",
      "\n",
      "Epoch 0: [Val] val_loss: 0.457  val_f1score: 0.500  val_accuracy: 1.000  "
     ]
    },
    {
     "name": "stderr",
     "output_type": "stream",
     "text": [
      "Metric val_loss improved. New best score: 0.784\n"
     ]
    },
    {
     "name": "stdout",
     "output_type": "stream",
     "text": [
      "\n",
      "Epoch 0: [Val] val_loss: 0.784  val_f1score: 0.458  val_accuracy: 0.481     [Train] train_loss: 0.657  train_f1score: 0.577  train_accuracy: 0.598  \n",
      "Epoch 1: [Val] val_loss: 0.895  val_f1score: 0.490  val_accuracy: 0.492     [Train] train_loss: 0.583  train_f1score: 0.681  train_accuracy: 0.685  \n",
      "Epoch 2: [Val] val_loss: 0.999  val_f1score: 0.463  val_accuracy: 0.471     [Train] train_loss: 0.526  train_f1score: 0.727  train_accuracy: 0.730  \n",
      "Epoch 3: [Val] val_loss: 0.811  val_f1score: 0.564  val_accuracy: 0.564     [Train] train_loss: 0.475  train_f1score: 0.768  train_accuracy: 0.770  \n",
      "Epoch 4: [Val] val_loss: 1.346  val_f1score: 0.423  val_accuracy: 0.441     [Train] train_loss: 0.428  train_f1score: 0.802  train_accuracy: 0.804  \n"
     ]
    },
    {
     "name": "stderr",
     "output_type": "stream",
     "text": [
      "Monitored metric val_loss did not improve in the last 5 records. Best score: 0.784. Signaling Trainer to stop.\n"
     ]
    },
    {
     "name": "stdout",
     "output_type": "stream",
     "text": [
      "Epoch 5: [Val] val_loss: 0.921  val_f1score: 0.575  val_accuracy: 0.575     [Train] train_loss: 0.389  train_f1score: 0.824  train_accuracy: 0.825  \n"
     ]
    },
    {
     "name": "stderr",
     "output_type": "stream",
     "text": [
      "GPU available: True (cuda), used: True\n",
      "TPU available: False, using: 0 TPU cores\n",
      "IPU available: False, using: 0 IPUs\n",
      "HPU available: False, using: 0 HPUs\n",
      "Restoring states from the checkpoint path at ./processed_dataset/Model_Checkpoints/Best_model_Fold6.ckpt\n",
      "LOCAL_RANK: 0 - CUDA_VISIBLE_DEVICES: [0]\n",
      "Loaded model weights from checkpoint at ./processed_dataset/Model_Checkpoints/Best_model_Fold6.ckpt\n"
     ]
    },
    {
     "name": "stdout",
     "output_type": "stream",
     "text": [
      "[Test] test_loss: 0.784 test_f1score: 0.458 test_accuracy: 0.481 \n",
      "────────────────────────────────────────────────────────────────────────────────────────────────────────────────────────\n",
      "       Test metric             DataLoader 0\n",
      "────────────────────────────────────────────────────────────────────────────────────────────────────────────────────────\n",
      "      test_accuracy         0.48121264576911926\n",
      "      test_f1score          0.4579673409461975\n",
      "        test_loss           0.7841341495513916\n",
      "────────────────────────────────────────────────────────────────────────────────────────────────────────────────────────\n"
     ]
    },
    {
     "name": "stderr",
     "output_type": "stream",
     "text": [
      "GPU available: True (cuda), used: True\n",
      "TPU available: False, using: 0 TPU cores\n",
      "IPU available: False, using: 0 IPUs\n",
      "HPU available: False, using: 0 HPUs\n",
      "LOCAL_RANK: 0 - CUDA_VISIBLE_DEVICES: [0]\n",
      "\n",
      "  | Name          | Type             | Params\n",
      "---------------------------------------------------\n",
      "0 | model         | LFP_Transformer  | 546 K \n",
      "1 | _ce_fn        | CrossEntropyLoss | 0     \n",
      "2 | train_loss    | MeanMetric       | 0     \n",
      "3 | val_loss      | MeanMetric       | 0     \n",
      "4 | test_loss     | MeanMetric       | 0     \n",
      "5 | train_metrics | MetricCollection | 0     \n",
      "6 | val_metrics   | MetricCollection | 0     \n",
      "7 | test_metrics  | MetricCollection | 0     \n",
      "---------------------------------------------------\n",
      "546 K     Trainable params\n",
      "0         Non-trainable params\n",
      "546 K     Total params\n",
      "2.184     Total estimated model params size (MB)\n"
     ]
    },
    {
     "name": "stdout",
     "output_type": "stream",
     "text": [
      "-------------------- FOLD 7 -------------------\n",
      "train_subjects: ['ym227', 'ym213', 'ym212', 'ym219', 'ym223', 'ym226', 'ym224', 'ym220', 'ym218', 'ym214', 'ym215']\n",
      "test_subjects: ['ym222']\n",
      "------------------------------------------------------\n",
      "\n",
      "Epoch 0: [Val] val_loss: 2.319  val_f1score: 0.000  val_accuracy: 0.000  "
     ]
    },
    {
     "name": "stderr",
     "output_type": "stream",
     "text": [
      "Metric val_loss improved. New best score: 0.843\n"
     ]
    },
    {
     "name": "stdout",
     "output_type": "stream",
     "text": [
      "\n",
      "Epoch 0: [Val] val_loss: 0.843  val_f1score: 0.190  val_accuracy: 0.233     [Train] train_loss: 0.704  train_f1score: 0.439  train_accuracy: 0.582  \n",
      "Epoch 1: [Val] val_loss: 1.160  val_f1score: 0.255  val_accuracy: 0.278     [Train] train_loss: 0.621  train_f1score: 0.582  train_accuracy: 0.652  \n",
      "Epoch 2: [Val] val_loss: 1.010  val_f1score: 0.390  val_accuracy: 0.390     [Train] train_loss: 0.562  train_f1score: 0.687  train_accuracy: 0.713  \n",
      "Epoch 3: [Val] val_loss: 1.157  val_f1score: 0.365  val_accuracy: 0.367     [Train] train_loss: 0.520  train_f1score: 0.733  train_accuracy: 0.751  \n",
      "Epoch 4: [Val] val_loss: 0.995  val_f1score: 0.460  val_accuracy: 0.465     [Train] train_loss: 0.487  train_f1score: 0.756  train_accuracy: 0.771  \n"
     ]
    },
    {
     "name": "stderr",
     "output_type": "stream",
     "text": [
      "Monitored metric val_loss did not improve in the last 5 records. Best score: 0.843. Signaling Trainer to stop.\n"
     ]
    },
    {
     "name": "stdout",
     "output_type": "stream",
     "text": [
      "Epoch 5: [Val] val_loss: 1.201  val_f1score: 0.422  val_accuracy: 0.423     [Train] train_loss: 0.453  train_f1score: 0.781  train_accuracy: 0.794  \n"
     ]
    },
    {
     "name": "stderr",
     "output_type": "stream",
     "text": [
      "GPU available: True (cuda), used: True\n",
      "TPU available: False, using: 0 TPU cores\n",
      "IPU available: False, using: 0 IPUs\n",
      "HPU available: False, using: 0 HPUs\n",
      "Restoring states from the checkpoint path at ./processed_dataset/Model_Checkpoints/Best_model_Fold7.ckpt\n",
      "LOCAL_RANK: 0 - CUDA_VISIBLE_DEVICES: [0]\n",
      "Loaded model weights from checkpoint at ./processed_dataset/Model_Checkpoints/Best_model_Fold7.ckpt\n"
     ]
    },
    {
     "name": "stdout",
     "output_type": "stream",
     "text": [
      "[Test] test_loss: 0.843 test_f1score: 0.190 test_accuracy: 0.233 \n",
      "────────────────────────────────────────────────────────────────────────────────────────────────────────────────────────\n",
      "       Test metric             DataLoader 0\n",
      "────────────────────────────────────────────────────────────────────────────────────────────────────────────────────────\n",
      "      test_accuracy         0.23345224559307098\n",
      "      test_f1score          0.18989942967891693\n",
      "        test_loss           0.8434649705886841\n",
      "────────────────────────────────────────────────────────────────────────────────────────────────────────────────────────\n"
     ]
    },
    {
     "name": "stderr",
     "output_type": "stream",
     "text": [
      "GPU available: True (cuda), used: True\n",
      "TPU available: False, using: 0 TPU cores\n",
      "IPU available: False, using: 0 IPUs\n",
      "HPU available: False, using: 0 HPUs\n",
      "LOCAL_RANK: 0 - CUDA_VISIBLE_DEVICES: [0]\n",
      "\n",
      "  | Name          | Type             | Params\n",
      "---------------------------------------------------\n",
      "0 | model         | LFP_Transformer  | 546 K \n",
      "1 | _ce_fn        | CrossEntropyLoss | 0     \n",
      "2 | train_loss    | MeanMetric       | 0     \n",
      "3 | val_loss      | MeanMetric       | 0     \n",
      "4 | test_loss     | MeanMetric       | 0     \n",
      "5 | train_metrics | MetricCollection | 0     \n",
      "6 | val_metrics   | MetricCollection | 0     \n",
      "7 | test_metrics  | MetricCollection | 0     \n",
      "---------------------------------------------------\n",
      "546 K     Trainable params\n",
      "0         Non-trainable params\n",
      "546 K     Total params\n",
      "2.184     Total estimated model params size (MB)\n"
     ]
    },
    {
     "name": "stdout",
     "output_type": "stream",
     "text": [
      "-------------------- FOLD 8 -------------------\n",
      "train_subjects: ['ym227', 'ym213', 'ym212', 'ym219', 'ym226', 'ym222', 'ym224', 'ym220', 'ym218', 'ym214', 'ym215']\n",
      "test_subjects: ['ym223']\n",
      "------------------------------------------------------\n",
      "\n",
      "Epoch 0: [Val] val_loss: 0.508  val_f1score: 0.500  val_accuracy: 1.000  "
     ]
    },
    {
     "name": "stderr",
     "output_type": "stream",
     "text": [
      "Metric val_loss improved. New best score: 0.720\n"
     ]
    },
    {
     "name": "stdout",
     "output_type": "stream",
     "text": [
      "\n",
      "Epoch 0: [Val] val_loss: 0.720  val_f1score: 0.513  val_accuracy: 0.517     [Train] train_loss: 0.655  train_f1score: 0.502  train_accuracy: 0.611  \n",
      "Epoch 1: [Val] val_loss: 0.775  val_f1score: 0.523  val_accuracy: 0.526     [Train] train_loss: 0.578  train_f1score: 0.680  train_accuracy: 0.700  \n",
      "Epoch 2: [Val] val_loss: 0.886  val_f1score: 0.501  val_accuracy: 0.502     [Train] train_loss: 0.513  train_f1score: 0.735  train_accuracy: 0.747  \n",
      "Epoch 3: [Val] val_loss: 0.871  val_f1score: 0.533  val_accuracy: 0.534     [Train] train_loss: 0.455  train_f1score: 0.779  train_accuracy: 0.788  \n",
      "Epoch 4: [Val] val_loss: 1.094  val_f1score: 0.480  val_accuracy: 0.489     [Train] train_loss: 0.406  train_f1score: 0.809  train_accuracy: 0.816  \n"
     ]
    },
    {
     "name": "stderr",
     "output_type": "stream",
     "text": [
      "Monitored metric val_loss did not improve in the last 5 records. Best score: 0.720. Signaling Trainer to stop.\n"
     ]
    },
    {
     "name": "stdout",
     "output_type": "stream",
     "text": [
      "Epoch 5: [Val] val_loss: 1.009  val_f1score: 0.532  val_accuracy: 0.535     [Train] train_loss: 0.370  train_f1score: 0.829  train_accuracy: 0.835  \n"
     ]
    },
    {
     "name": "stderr",
     "output_type": "stream",
     "text": [
      "GPU available: True (cuda), used: True\n",
      "TPU available: False, using: 0 TPU cores\n",
      "IPU available: False, using: 0 IPUs\n",
      "HPU available: False, using: 0 HPUs\n",
      "Restoring states from the checkpoint path at ./processed_dataset/Model_Checkpoints/Best_model_Fold8.ckpt\n",
      "LOCAL_RANK: 0 - CUDA_VISIBLE_DEVICES: [0]\n",
      "Loaded model weights from checkpoint at ./processed_dataset/Model_Checkpoints/Best_model_Fold8.ckpt\n"
     ]
    },
    {
     "name": "stdout",
     "output_type": "stream",
     "text": [
      "[Test] test_loss: 0.720 test_f1score: 0.513 test_accuracy: 0.517 \n",
      "────────────────────────────────────────────────────────────────────────────────────────────────────────────────────────\n",
      "       Test metric             DataLoader 0\n",
      "────────────────────────────────────────────────────────────────────────────────────────────────────────────────────────\n",
      "      test_accuracy         0.5167737603187561\n",
      "      test_f1score          0.5132023692131042\n",
      "        test_loss           0.7203142642974854\n",
      "────────────────────────────────────────────────────────────────────────────────────────────────────────────────────────\n"
     ]
    },
    {
     "name": "stderr",
     "output_type": "stream",
     "text": [
      "GPU available: True (cuda), used: True\n",
      "TPU available: False, using: 0 TPU cores\n",
      "IPU available: False, using: 0 IPUs\n",
      "HPU available: False, using: 0 HPUs\n",
      "LOCAL_RANK: 0 - CUDA_VISIBLE_DEVICES: [0]\n",
      "\n",
      "  | Name          | Type             | Params\n",
      "---------------------------------------------------\n",
      "0 | model         | LFP_Transformer  | 546 K \n",
      "1 | _ce_fn        | CrossEntropyLoss | 0     \n",
      "2 | train_loss    | MeanMetric       | 0     \n",
      "3 | val_loss      | MeanMetric       | 0     \n",
      "4 | test_loss     | MeanMetric       | 0     \n",
      "5 | train_metrics | MetricCollection | 0     \n",
      "6 | val_metrics   | MetricCollection | 0     \n",
      "7 | test_metrics  | MetricCollection | 0     \n",
      "---------------------------------------------------\n",
      "546 K     Trainable params\n",
      "0         Non-trainable params\n",
      "546 K     Total params\n",
      "2.184     Total estimated model params size (MB)\n"
     ]
    },
    {
     "name": "stdout",
     "output_type": "stream",
     "text": [
      "-------------------- FOLD 9 -------------------\n",
      "train_subjects: ['ym227', 'ym213', 'ym212', 'ym219', 'ym223', 'ym226', 'ym222', 'ym220', 'ym218', 'ym214', 'ym215']\n",
      "test_subjects: ['ym224']\n",
      "------------------------------------------------------\n",
      "\n",
      "Epoch 0: [Val] val_loss: 1.000  val_f1score: 0.000  val_accuracy: 0.000  "
     ]
    },
    {
     "name": "stderr",
     "output_type": "stream",
     "text": [
      "Metric val_loss improved. New best score: 0.706\n"
     ]
    },
    {
     "name": "stdout",
     "output_type": "stream",
     "text": [
      "\n",
      "Epoch 0: [Val] val_loss: 0.706  val_f1score: 0.457  val_accuracy: 0.514     [Train] train_loss: 0.675  train_f1score: 0.540  train_accuracy: 0.577  \n",
      "Epoch 1: [Val] val_loss: 0.759  val_f1score: 0.492  val_accuracy: 0.496     [Train] train_loss: 0.595  train_f1score: 0.674  train_accuracy: 0.683  \n",
      "Epoch 2: [Val] val_loss: 0.845  val_f1score: 0.466  val_accuracy: 0.467     [Train] train_loss: 0.530  train_f1score: 0.731  train_accuracy: 0.735  \n",
      "Epoch 3: [Val] val_loss: 0.846  val_f1score: 0.509  val_accuracy: 0.511     [Train] train_loss: 0.480  train_f1score: 0.767  train_accuracy: 0.770  \n",
      "Epoch 4: [Val] val_loss: 0.921  val_f1score: 0.475  val_accuracy: 0.477     [Train] train_loss: 0.430  train_f1score: 0.798  train_accuracy: 0.800  \n"
     ]
    },
    {
     "name": "stderr",
     "output_type": "stream",
     "text": [
      "Monitored metric val_loss did not improve in the last 5 records. Best score: 0.706. Signaling Trainer to stop.\n"
     ]
    },
    {
     "name": "stdout",
     "output_type": "stream",
     "text": [
      "Epoch 5: [Val] val_loss: 0.912  val_f1score: 0.527  val_accuracy: 0.539     [Train] train_loss: 0.383  train_f1score: 0.831  train_accuracy: 0.833  \n"
     ]
    },
    {
     "name": "stderr",
     "output_type": "stream",
     "text": [
      "GPU available: True (cuda), used: True\n",
      "TPU available: False, using: 0 TPU cores\n",
      "IPU available: False, using: 0 IPUs\n",
      "HPU available: False, using: 0 HPUs\n",
      "Restoring states from the checkpoint path at ./processed_dataset/Model_Checkpoints/Best_model_Fold9.ckpt\n",
      "LOCAL_RANK: 0 - CUDA_VISIBLE_DEVICES: [0]\n",
      "Loaded model weights from checkpoint at ./processed_dataset/Model_Checkpoints/Best_model_Fold9.ckpt\n"
     ]
    },
    {
     "name": "stdout",
     "output_type": "stream",
     "text": [
      "[Test] test_loss: 0.706 test_f1score: 0.457 test_accuracy: 0.514 \n",
      "────────────────────────────────────────────────────────────────────────────────────────────────────────────────────────\n",
      "       Test metric             DataLoader 0\n",
      "────────────────────────────────────────────────────────────────────────────────────────────────────────────────────────\n",
      "      test_accuracy         0.5139500498771667\n",
      "      test_f1score          0.45731303095817566\n",
      "        test_loss           0.7064749598503113\n",
      "────────────────────────────────────────────────────────────────────────────────────────────────────────────────────────\n"
     ]
    },
    {
     "name": "stderr",
     "output_type": "stream",
     "text": [
      "GPU available: True (cuda), used: True\n",
      "TPU available: False, using: 0 TPU cores\n",
      "IPU available: False, using: 0 IPUs\n",
      "HPU available: False, using: 0 HPUs\n",
      "LOCAL_RANK: 0 - CUDA_VISIBLE_DEVICES: [0]\n",
      "\n",
      "  | Name          | Type             | Params\n",
      "---------------------------------------------------\n",
      "0 | model         | LFP_Transformer  | 546 K \n",
      "1 | _ce_fn        | CrossEntropyLoss | 0     \n",
      "2 | train_loss    | MeanMetric       | 0     \n",
      "3 | val_loss      | MeanMetric       | 0     \n",
      "4 | test_loss     | MeanMetric       | 0     \n",
      "5 | train_metrics | MetricCollection | 0     \n",
      "6 | val_metrics   | MetricCollection | 0     \n",
      "7 | test_metrics  | MetricCollection | 0     \n",
      "---------------------------------------------------\n",
      "546 K     Trainable params\n",
      "0         Non-trainable params\n",
      "546 K     Total params\n",
      "2.184     Total estimated model params size (MB)\n"
     ]
    },
    {
     "name": "stdout",
     "output_type": "stream",
     "text": [
      "-------------------- FOLD 10 -------------------\n",
      "train_subjects: ['ym227', 'ym213', 'ym212', 'ym219', 'ym223', 'ym222', 'ym224', 'ym220', 'ym218', 'ym214', 'ym215']\n",
      "test_subjects: ['ym226']\n",
      "------------------------------------------------------\n",
      "\n",
      "Epoch 0: [Val] val_loss: 0.431  val_f1score: 0.500  val_accuracy: 1.000  "
     ]
    },
    {
     "name": "stderr",
     "output_type": "stream",
     "text": [
      "Metric val_loss improved. New best score: 0.581\n"
     ]
    },
    {
     "name": "stdout",
     "output_type": "stream",
     "text": [
      "\n",
      "Epoch 0: [Val] val_loss: 0.581  val_f1score: 0.614  val_accuracy: 0.781     [Train] train_loss: 0.674  train_f1score: 0.546  train_accuracy: 0.574  \n"
     ]
    },
    {
     "name": "stderr",
     "output_type": "stream",
     "text": [
      "Metric val_loss improved by 0.010 >= min_delta = 0.0. New best score: 0.571\n"
     ]
    },
    {
     "name": "stdout",
     "output_type": "stream",
     "text": [
      "Epoch 1: [Val] val_loss: 0.571  val_f1score: 0.485  val_accuracy: 0.783     [Train] train_loss: 0.604  train_f1score: 0.666  train_accuracy: 0.673  \n"
     ]
    },
    {
     "name": "stderr",
     "output_type": "stream",
     "text": [
      "Metric val_loss improved by 0.054 >= min_delta = 0.0. New best score: 0.517\n"
     ]
    },
    {
     "name": "stdout",
     "output_type": "stream",
     "text": [
      "Epoch 2: [Val] val_loss: 0.517  val_f1score: 0.637  val_accuracy: 0.804     [Train] train_loss: 0.543  train_f1score: 0.721  train_accuracy: 0.725  \n",
      "Epoch 3: [Val] val_loss: 0.547  val_f1score: 0.603  val_accuracy: 0.805     [Train] train_loss: 0.494  train_f1score: 0.756  train_accuracy: 0.759  \n",
      "Epoch 4: [Val] val_loss: 0.638  val_f1score: 0.564  val_accuracy: 0.801     [Train] train_loss: 0.438  train_f1score: 0.791  train_accuracy: 0.793  \n",
      "Epoch 5: [Val] val_loss: 0.664  val_f1score: 0.594  val_accuracy: 0.805     [Train] train_loss: 0.386  train_f1score: 0.826  train_accuracy: 0.827  \n",
      "Epoch 6: [Val] val_loss: 0.671  val_f1score: 0.631  val_accuracy: 0.811     [Train] train_loss: 0.346  train_f1score: 0.849  train_accuracy: 0.850  \n"
     ]
    },
    {
     "name": "stderr",
     "output_type": "stream",
     "text": [
      "Monitored metric val_loss did not improve in the last 5 records. Best score: 0.517. Signaling Trainer to stop.\n"
     ]
    },
    {
     "name": "stdout",
     "output_type": "stream",
     "text": [
      "Epoch 7: [Val] val_loss: 0.706  val_f1score: 0.623  val_accuracy: 0.807     [Train] train_loss: 0.316  train_f1score: 0.865  train_accuracy: 0.866  \n"
     ]
    },
    {
     "name": "stderr",
     "output_type": "stream",
     "text": [
      "GPU available: True (cuda), used: True\n",
      "TPU available: False, using: 0 TPU cores\n",
      "IPU available: False, using: 0 IPUs\n",
      "HPU available: False, using: 0 HPUs\n",
      "Restoring states from the checkpoint path at ./processed_dataset/Model_Checkpoints/Best_model_Fold10.ckpt\n",
      "LOCAL_RANK: 0 - CUDA_VISIBLE_DEVICES: [0]\n",
      "Loaded model weights from checkpoint at ./processed_dataset/Model_Checkpoints/Best_model_Fold10.ckpt\n"
     ]
    },
    {
     "name": "stdout",
     "output_type": "stream",
     "text": [
      "[Test] test_loss: 0.517 test_f1score: 0.637 test_accuracy: 0.804 \n",
      "────────────────────────────────────────────────────────────────────────────────────────────────────────────────────────\n",
      "       Test metric             DataLoader 0\n",
      "────────────────────────────────────────────────────────────────────────────────────────────────────────────────────────\n",
      "      test_accuracy         0.8043071031570435\n",
      "      test_f1score          0.6370530724525452\n",
      "        test_loss           0.5172925591468811\n",
      "────────────────────────────────────────────────────────────────────────────────────────────────────────────────────────\n"
     ]
    },
    {
     "name": "stderr",
     "output_type": "stream",
     "text": [
      "GPU available: True (cuda), used: True\n",
      "TPU available: False, using: 0 TPU cores\n",
      "IPU available: False, using: 0 IPUs\n",
      "HPU available: False, using: 0 HPUs\n",
      "LOCAL_RANK: 0 - CUDA_VISIBLE_DEVICES: [0]\n",
      "\n",
      "  | Name          | Type             | Params\n",
      "---------------------------------------------------\n",
      "0 | model         | LFP_Transformer  | 546 K \n",
      "1 | _ce_fn        | CrossEntropyLoss | 0     \n",
      "2 | train_loss    | MeanMetric       | 0     \n",
      "3 | val_loss      | MeanMetric       | 0     \n",
      "4 | test_loss     | MeanMetric       | 0     \n",
      "5 | train_metrics | MetricCollection | 0     \n",
      "6 | val_metrics   | MetricCollection | 0     \n",
      "7 | test_metrics  | MetricCollection | 0     \n",
      "---------------------------------------------------\n",
      "546 K     Trainable params\n",
      "0         Non-trainable params\n",
      "546 K     Total params\n",
      "2.184     Total estimated model params size (MB)\n"
     ]
    },
    {
     "name": "stdout",
     "output_type": "stream",
     "text": [
      "-------------------- FOLD 11 -------------------\n",
      "train_subjects: ['ym213', 'ym212', 'ym219', 'ym223', 'ym226', 'ym222', 'ym224', 'ym220', 'ym218', 'ym214', 'ym215']\n",
      "test_subjects: ['ym227']\n",
      "------------------------------------------------------\n",
      "\n",
      "Epoch 0: [Val] val_loss: 1.226  val_f1score: 0.000  val_accuracy: 0.000  "
     ]
    },
    {
     "name": "stderr",
     "output_type": "stream",
     "text": [
      "Metric val_loss improved. New best score: 0.701\n"
     ]
    },
    {
     "name": "stdout",
     "output_type": "stream",
     "text": [
      "\n",
      "Epoch 0: [Val] val_loss: 0.701  val_f1score: 0.507  val_accuracy: 0.562     [Train] train_loss: 0.674  train_f1score: 0.532  train_accuracy: 0.579  \n",
      "Epoch 1: [Val] val_loss: 0.726  val_f1score: 0.543  val_accuracy: 0.549     [Train] train_loss: 0.601  train_f1score: 0.665  train_accuracy: 0.673  \n",
      "Epoch 2: [Val] val_loss: 0.752  val_f1score: 0.535  val_accuracy: 0.609     [Train] train_loss: 0.541  train_f1score: 0.722  train_accuracy: 0.726  \n",
      "Epoch 3: [Val] val_loss: 0.798  val_f1score: 0.550  val_accuracy: 0.627     [Train] train_loss: 0.491  train_f1score: 0.758  train_accuracy: 0.761  \n",
      "Epoch 4: [Val] val_loss: 0.735  val_f1score: 0.598  val_accuracy: 0.634     [Train] train_loss: 0.434  train_f1score: 0.794  train_accuracy: 0.797  \n"
     ]
    },
    {
     "name": "stderr",
     "output_type": "stream",
     "text": [
      "Monitored metric val_loss did not improve in the last 5 records. Best score: 0.701. Signaling Trainer to stop.\n"
     ]
    },
    {
     "name": "stdout",
     "output_type": "stream",
     "text": [
      "Epoch 5: [Val] val_loss: 0.766  val_f1score: 0.622  val_accuracy: 0.652     [Train] train_loss: 0.381  train_f1score: 0.829  train_accuracy: 0.830  \n"
     ]
    },
    {
     "name": "stderr",
     "output_type": "stream",
     "text": [
      "GPU available: True (cuda), used: True\n",
      "TPU available: False, using: 0 TPU cores\n",
      "IPU available: False, using: 0 IPUs\n",
      "HPU available: False, using: 0 HPUs\n",
      "Restoring states from the checkpoint path at ./processed_dataset/Model_Checkpoints/Best_model_Fold11.ckpt\n",
      "LOCAL_RANK: 0 - CUDA_VISIBLE_DEVICES: [0]\n",
      "Loaded model weights from checkpoint at ./processed_dataset/Model_Checkpoints/Best_model_Fold11.ckpt\n"
     ]
    },
    {
     "name": "stdout",
     "output_type": "stream",
     "text": [
      "[Test] test_loss: 0.701 test_f1score: 0.507 test_accuracy: 0.562 \n",
      "────────────────────────────────────────────────────────────────────────────────────────────────────────────────────────\n",
      "       Test metric             DataLoader 0\n",
      "────────────────────────────────────────────────────────────────────────────────────────────────────────────────────────\n",
      "      test_accuracy         0.5622119903564453\n",
      "      test_f1score           0.507488489151001\n",
      "        test_loss            0.701109766960144\n",
      "────────────────────────────────────────────────────────────────────────────────────────────────────────────────────────\n"
     ]
    }
   ],
   "source": [
    "for i, (train_dataset, val_dataset) in enumerate(k_fold.split(dataset)):\n",
    "    \n",
    "    # ------------------------------------------- \n",
    "    # Initialize the model\n",
    "    model = LFP_Transformer(depth=3)  # depth=3, so the model has 3 transformer blocks, xLARGE model\n",
    "    \n",
    "    # ------------------------------------------- \n",
    "    # Initialize the trainer and use the 0-th GPU for training, or set device_ids=[] to use CPU\n",
    "    # The major parameters of the trainer are defined in ClassifierTrainer\n",
    "    trainer = ClassifierTrainer(model=model,\n",
    "                                lr=1e-4,\n",
    "                                devices=1,\n",
    "                                accelerator='gpu',\n",
    "                                num_classes=2,\n",
    "                                weight_decay=1e-4)\n",
    "\n",
    "    # ------------------------------------------- \n",
    "    # Initialize several batches of training samples and test samples\n",
    "    # Data loader. Combines a dataset and a sampler, and provides an iterable over the given dataset.\n",
    "    train_loader = DataLoader(train_dataset,\n",
    "                              batch_size=128,\n",
    "                              shuffle=True,\n",
    "                              num_workers=CPU_num)\n",
    "    \n",
    "    val_loader = DataLoader(val_dataset,\n",
    "                            batch_size=128,\n",
    "                            shuffle=False,\n",
    "                            num_workers=CPU_num)\n",
    "    # shuffle=False, very important, do not shuffle the samples in the validation set\n",
    "    # in the validation and test phase, just feed all the samples in the default order,\n",
    "    # for example, in fold0, the order is ym212_Recent_0, ym212_Recent_1, ym212_Recent_2, ...\n",
    "\n",
    "    # ------------------------------------------- \n",
    "    # Do 50 rounds of training\n",
    "    trainer.fit(train_loader, val_loader, fold_idx=i, max_epochs=30)\n",
    "\n",
    "    # ------------------------------------------- \n",
    "    # Test the model on the test set\n",
    "    # during the test period, for each batch with batch_size samples, the desired attention scores, \n",
    "    # i.e., the attention scores between the cls token and the patch tokens in the first transformer block,\n",
    "    # are saved in the trainer.saved_attention, which is a list with several arrays (shape = (batch_size, num_heads, num_patches))\n",
    "    trainer.test(val_loader, fold_idx=i)\n",
    "\n",
    "    # ----- Process the predictions of the test samples\n",
    "    saved_predictions = trainer.saved_predictions_all\n",
    "    saved_predictions = np.concatenate(saved_predictions, axis=0)  # shape = (num_samples, num_classes) = (num_samples, 2)\n",
    "    # apply softmax to each row, namely, the predictions for each sample\n",
    "    saved_predictions = np.exp(saved_predictions) / np.sum(np.exp(saved_predictions), axis=1, keepdims=True)\n",
    "    # to pandas dataframe. the first column is 'class 0 probability', the second column is 'class 1 probability'\n",
    "    saved_predictions = pd.DataFrame(saved_predictions, columns=['class 0 probability', 'class 1 probability'])\n",
    "    # load the corresponding test samples\n",
    "    test_sample_info = pd.read_csv(f'./processed_dataset/cross_subject_k_fold_spilt/test_fold_{i}.csv')\n",
    "    # concatenate the test sample info and the predictions\n",
    "    test_sample_info = pd.concat([test_sample_info, saved_predictions], axis=1)\n",
    "    # save the test sample info and the predictions\n",
    "    test_sample_info.to_csv(f'./processed_dataset/cross_subject_k_fold_spilt/test_fold_{i}.csv', index=False)\n",
    "\n",
    "    # ----- Process the attention scores\n",
    "    # Access the saved attention matrices in the TEST phase\n",
    "    attention_matrices = trainer.saved_attention_all\n",
    "    # concat attention_matrices in the batch dimension\n",
    "    attention_matrices = np.concatenate(attention_matrices, axis=0)  # shape = (num_samples, num_heads, num_patches) = (num_samples, 4, 17)\n",
    "    # create a folder in ./processed_dataset/ to save the attention matrices if not exist\n",
    "    if not os.path.exists('./processed_dataset/attention_scores/'):\n",
    "        os.makedirs('./processed_dataset/attention_scores/')\n",
    "    np.save('./processed_dataset/attention_scores/attention_from_the_test_subject_in_Fold%d.npy' % i, attention_matrices)"
   ]
  }
 ],
 "metadata": {
  "kernelspec": {
   "display_name": "TorchEEG",
   "language": "python",
   "name": "python3"
  },
  "language_info": {
   "codemirror_mode": {
    "name": "ipython",
    "version": 3
   },
   "file_extension": ".py",
   "mimetype": "text/x-python",
   "name": "python",
   "nbconvert_exporter": "python",
   "pygments_lexer": "ipython3",
   "version": "3.7.16"
  },
  "orig_nbformat": 4
 },
 "nbformat": 4,
 "nbformat_minor": 2
}
