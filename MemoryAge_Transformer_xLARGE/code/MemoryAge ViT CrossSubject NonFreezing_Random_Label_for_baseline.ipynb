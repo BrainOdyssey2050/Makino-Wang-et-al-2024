{
 "cells": [
  {
   "cell_type": "code",
   "execution_count": 1,
   "metadata": {},
   "outputs": [],
   "source": [
    "import sys\n",
    "sys.path.append(\"D:/Yuichi/MemoryAge_Transformer_xLARGE\")\n",
    "# the code needs to search for the modules in the parent directory\n",
    "\n",
    "from torcheeg import transforms\n",
    "from torcheeg.datasets import MemoryAgeDataset\n",
    "from torcheeg.model_selection import KFoldCrossSubject\n",
    "from torcheeg.models import LFP_Transformer_LARGE\n",
    "from torcheeg.trainers import ClassifierTrainer\n",
    "\n",
    "import logging\n",
    "import os\n",
    "import random\n",
    "import time\n",
    "import os\n",
    "import multiprocessing\n",
    "CPU_num = multiprocessing.cpu_count()\n",
    "\n",
    "import numpy as np\n",
    "import matplotlib.pyplot as plt\n",
    "import pandas as pd\n",
    "\n",
    "import torch\n",
    "from torch.utils.data.dataloader import DataLoader"
   ]
  },
  {
   "cell_type": "markdown",
   "metadata": {},
   "source": [
    "#### Set the random number seed in all modules to guarantee the same result when running again."
   ]
  },
  {
   "cell_type": "code",
   "execution_count": 2,
   "metadata": {},
   "outputs": [],
   "source": [
    "def seed_everything(seed):\n",
    "    \n",
    "    # Sets the random seed for Python's built-in random library. This will affect random operations like random.shuffle or random.randint.\n",
    "    random.seed(seed) \n",
    "\n",
    "    #Sets the random seed for NumPy. This will affect random operations in NumPy like np.random.randn or np.random.shuffle.\n",
    "    np.random.seed(seed)\n",
    "\n",
    "    # Sets the random seed for hash functions in Python. The hash functions are used in Python dictionaries and sets,\n",
    "    # and this ensures that they behave the same way each time you run the program.\n",
    "    os.environ[\"PYTHONHASHSEED\"] = str(seed)\n",
    "\n",
    "    # Sets the random seed for PyTorch's CPU random number generator. This will affect random operations in PyTorch like random tensor generation.\n",
    "    torch.manual_seed(seed)\n",
    "\n",
    "    # Sets the random seed for PyTorch's CUDA random number generator, which affects random number generation on the GPU.\n",
    "    torch.cuda.manual_seed(seed)\n",
    "\n",
    "    # Ensures that every time you run your code, the algorithms used by cuDNN produce deterministic results.\n",
    "    # NOTE: By default, cuDNN uses algorithms that are optimized for performance, but these algorithms might use approximations or other shortcuts \n",
    "    # that can result in small differences in output. This is known as being \"non-deterministic.\"\n",
    "    torch.backends.cudnn.deterministic = True  \n",
    "\n",
    "    # Disables the cudNN auto-tuner, which optimizes cuDNN to find the best algorithm to use for your hardware. \n",
    "    # By disabling this, you make sure that cuDNN uses a deterministic algorithm.\n",
    "    # NOTE: The cuDNN library provides several algorithms to perform operations commonly used in deep learning, like convolutions and pooling.\n",
    "    # These algorithms can vary in their internal implementations and may have different performance and memory characteristics. \n",
    "    # The cuDNN auto-tuner is designed to automatically select the most efficient algorithm for your specific hardware configuration. \n",
    "    torch.backends.cudnn.benchmark = False\n",
    "\n",
    "random_state = 19890516\n",
    "seed_everything(random_state)"
   ]
  },
  {
   "cell_type": "code",
   "execution_count": 3,
   "metadata": {},
   "outputs": [],
   "source": [
    "def load_val_batches(val_loader, num_batches=5):\n",
    "    '''\n",
    "    This function is designed to load a small number of batches from the validation set.\n",
    "    I will load validation set in different runs, and compare whether the samples are in the same order.\n",
    "    '''\n",
    "    batches = []\n",
    "    for i, batch in enumerate(val_loader):\n",
    "        if i >= num_batches:\n",
    "            break\n",
    "        batches.append(batch)\n",
    "    return batches"
   ]
  },
  {
   "cell_type": "markdown",
   "metadata": {},
   "source": [
    "# Building Deep Learning Pipelines Using TorchEEG"
   ]
  },
  {
   "cell_type": "markdown",
   "metadata": {},
   "source": [
    "#### Step 1: Initialize the Dataset"
   ]
  },
  {
   "cell_type": "code",
   "execution_count": 4,
   "metadata": {},
   "outputs": [
    {
     "name": "stdout",
     "output_type": "stream",
     "text": [
      "dataset does not exist at path ./processed_dataset/, generating files to path...\n"
     ]
    },
    {
     "name": "stderr",
     "output_type": "stream",
     "text": [
      "[PROCESS]: 100%|██████████| 24/24 [04:39<00:00, 11.66s/it]"
     ]
    },
    {
     "name": "stdout",
     "output_type": "stream",
     "text": [
      "dataset already exists at path ./processed_dataset/, reading from path...\n"
     ]
    },
    {
     "name": "stderr",
     "output_type": "stream",
     "text": [
      "\n"
     ]
    }
   ],
   "source": [
    "dataset = MemoryAgeDataset(io_path='./processed_dataset/',  \n",
    "                           root_path='./raw_dataset/data_memory_age',\n",
    "                           online_transform=transforms.ToTensor(),     # used in __getitem__()\n",
    "                           num_worker=1,\n",
    "                           io_mode='pickle')"
   ]
  },
  {
   "cell_type": "code",
   "execution_count": 5,
   "metadata": {},
   "outputs": [
    {
     "data": {
      "text/html": [
       "<div>\n",
       "<style scoped>\n",
       "    .dataframe tbody tr th:only-of-type {\n",
       "        vertical-align: middle;\n",
       "    }\n",
       "\n",
       "    .dataframe tbody tr th {\n",
       "        vertical-align: top;\n",
       "    }\n",
       "\n",
       "    .dataframe thead th {\n",
       "        text-align: right;\n",
       "    }\n",
       "</style>\n",
       "<table border=\"1\" class=\"dataframe\">\n",
       "  <thead>\n",
       "    <tr style=\"text-align: right;\">\n",
       "      <th></th>\n",
       "      <th>subject_id</th>\n",
       "      <th>clip_id</th>\n",
       "      <th>label</th>\n",
       "      <th>trial_id</th>\n",
       "    </tr>\n",
       "  </thead>\n",
       "  <tbody>\n",
       "    <tr>\n",
       "      <th>0</th>\n",
       "      <td>ym212</td>\n",
       "      <td>ym212_Recent_0</td>\n",
       "      <td>0</td>\n",
       "      <td>0</td>\n",
       "    </tr>\n",
       "    <tr>\n",
       "      <th>1</th>\n",
       "      <td>ym212</td>\n",
       "      <td>ym212_Recent_1</td>\n",
       "      <td>0</td>\n",
       "      <td>0</td>\n",
       "    </tr>\n",
       "    <tr>\n",
       "      <th>2</th>\n",
       "      <td>ym212</td>\n",
       "      <td>ym212_Recent_2</td>\n",
       "      <td>0</td>\n",
       "      <td>0</td>\n",
       "    </tr>\n",
       "    <tr>\n",
       "      <th>3</th>\n",
       "      <td>ym212</td>\n",
       "      <td>ym212_Recent_3</td>\n",
       "      <td>0</td>\n",
       "      <td>0</td>\n",
       "    </tr>\n",
       "    <tr>\n",
       "      <th>4</th>\n",
       "      <td>ym212</td>\n",
       "      <td>ym212_Recent_4</td>\n",
       "      <td>0</td>\n",
       "      <td>0</td>\n",
       "    </tr>\n",
       "    <tr>\n",
       "      <th>...</th>\n",
       "      <td>...</td>\n",
       "      <td>...</td>\n",
       "      <td>...</td>\n",
       "      <td>...</td>\n",
       "    </tr>\n",
       "    <tr>\n",
       "      <th>43908</th>\n",
       "      <td>ym227</td>\n",
       "      <td>ym227_Remote_1363</td>\n",
       "      <td>1</td>\n",
       "      <td>1</td>\n",
       "    </tr>\n",
       "    <tr>\n",
       "      <th>43909</th>\n",
       "      <td>ym227</td>\n",
       "      <td>ym227_Remote_1364</td>\n",
       "      <td>1</td>\n",
       "      <td>1</td>\n",
       "    </tr>\n",
       "    <tr>\n",
       "      <th>43910</th>\n",
       "      <td>ym227</td>\n",
       "      <td>ym227_Remote_1365</td>\n",
       "      <td>1</td>\n",
       "      <td>1</td>\n",
       "    </tr>\n",
       "    <tr>\n",
       "      <th>43911</th>\n",
       "      <td>ym227</td>\n",
       "      <td>ym227_Remote_1366</td>\n",
       "      <td>1</td>\n",
       "      <td>1</td>\n",
       "    </tr>\n",
       "    <tr>\n",
       "      <th>43912</th>\n",
       "      <td>ym227</td>\n",
       "      <td>ym227_Remote_1367</td>\n",
       "      <td>1</td>\n",
       "      <td>1</td>\n",
       "    </tr>\n",
       "  </tbody>\n",
       "</table>\n",
       "<p>43913 rows × 4 columns</p>\n",
       "</div>"
      ],
      "text/plain": [
       "      subject_id            clip_id  label  trial_id\n",
       "0          ym212     ym212_Recent_0      0         0\n",
       "1          ym212     ym212_Recent_1      0         0\n",
       "2          ym212     ym212_Recent_2      0         0\n",
       "3          ym212     ym212_Recent_3      0         0\n",
       "4          ym212     ym212_Recent_4      0         0\n",
       "...          ...                ...    ...       ...\n",
       "43908      ym227  ym227_Remote_1363      1         1\n",
       "43909      ym227  ym227_Remote_1364      1         1\n",
       "43910      ym227  ym227_Remote_1365      1         1\n",
       "43911      ym227  ym227_Remote_1366      1         1\n",
       "43912      ym227  ym227_Remote_1367      1         1\n",
       "\n",
       "[43913 rows x 4 columns]"
      ]
     },
     "execution_count": 5,
     "metadata": {},
     "output_type": "execute_result"
    }
   ],
   "source": [
    "dataset.info"
   ]
  },
  {
   "cell_type": "markdown",
   "metadata": {},
   "source": [
    "#### update: 20240126, shuffle the label column"
   ]
  },
  {
   "cell_type": "code",
   "execution_count": null,
   "metadata": {},
   "outputs": [],
   "source": [
    "np.random.seed(42) \n",
    "\n",
    "# Shuffle only the 'label' column\n",
    "shuffled_labels = dataset['label'].sample(frac=1).reset_index(drop=True)\n",
    "# frac=1 means to return all rows, so none are dropped in the shuffle.\n",
    "\n",
    "# Assign the shuffled labels back to the DataFrame\n",
    "dataset['label'] = shuffled_labels\n"
   ]
  },
  {
   "cell_type": "markdown",
   "metadata": {},
   "source": [
    "#### Step 2: Divide the Training and Test samples in the Dataset"
   ]
  },
  {
   "cell_type": "code",
   "execution_count": 6,
   "metadata": {},
   "outputs": [],
   "source": [
    "k_fold = KFoldCrossSubject(n_splits=12, shuffle=False, split_path='./processed_dataset/cross_subject_k_fold_spilt')\n",
    "# shulffle=False, so the order of the subjects in test is ym212, ym213, ..., ym227\n",
    "# n_spilts=the num of subjects, so leave-one-subject-out cross validation"
   ]
  },
  {
   "cell_type": "markdown",
   "metadata": {},
   "source": [
    "#### Step 3: Define the Model and Start Training"
   ]
  },
  {
   "cell_type": "code",
   "execution_count": 7,
   "metadata": {},
   "outputs": [
    {
     "name": "stderr",
     "output_type": "stream",
     "text": [
      "GPU available: True (cuda), used: True\n",
      "TPU available: False, using: 0 TPU cores\n",
      "IPU available: False, using: 0 IPUs\n",
      "HPU available: False, using: 0 HPUs\n"
     ]
    },
    {
     "name": "stdout",
     "output_type": "stream",
     "text": [
      "-------------------- FOLD 0 -------------------\n",
      "train_subjects: ['ym223', 'ym215', 'ym214', 'ym227', 'ym213', 'ym226', 'ym220', 'ym224', 'ym218', 'ym219', 'ym222']\n",
      "test_subjects: ['ym212']\n",
      "------------------------------------------------------\n"
     ]
    },
    {
     "name": "stderr",
     "output_type": "stream",
     "text": [
      "LOCAL_RANK: 0 - CUDA_VISIBLE_DEVICES: [0]\n",
      "\n",
      "  | Name          | Type                  | Params\n",
      "--------------------------------------------------------\n",
      "0 | model         | LFP_Transformer_LARGE | 842 K \n",
      "1 | _ce_fn        | CrossEntropyLoss      | 0     \n",
      "2 | train_loss    | MeanMetric            | 0     \n",
      "3 | val_loss      | MeanMetric            | 0     \n",
      "4 | test_loss     | MeanMetric            | 0     \n",
      "5 | train_metrics | MetricCollection      | 0     \n",
      "6 | val_metrics   | MetricCollection      | 0     \n",
      "7 | test_metrics  | MetricCollection      | 0     \n",
      "--------------------------------------------------------\n",
      "842 K     Trainable params\n",
      "0         Non-trainable params\n",
      "842 K     Total params\n",
      "3.371     Total estimated model params size (MB)\n"
     ]
    },
    {
     "name": "stdout",
     "output_type": "stream",
     "text": [
      "\n",
      "Epoch 0: [Val] val_loss: 0.756  val_f1score: 0.008  val_accuracy: 0.008  "
     ]
    },
    {
     "name": "stderr",
     "output_type": "stream",
     "text": [
      "Metric val_loss improved. New best score: 0.445\n"
     ]
    },
    {
     "name": "stdout",
     "output_type": "stream",
     "text": [
      "\n",
      "Epoch 0: [Val] val_loss: 0.445  val_f1score: 0.795  val_accuracy: 0.800     [Train] train_loss: 0.495  train_f1score: 0.750  train_accuracy: 0.752  \n"
     ]
    },
    {
     "name": "stderr",
     "output_type": "stream",
     "text": [
      "Metric val_loss improved by 0.008 >= min_delta = 0.0. New best score: 0.437\n"
     ]
    },
    {
     "name": "stdout",
     "output_type": "stream",
     "text": [
      "Epoch 1: [Val] val_loss: 0.437  val_f1score: 0.815  val_accuracy: 0.819     [Train] train_loss: 0.377  train_f1score: 0.826  train_accuracy: 0.827  \n"
     ]
    },
    {
     "name": "stderr",
     "output_type": "stream",
     "text": [
      "Metric val_loss improved by 0.170 >= min_delta = 0.0. New best score: 0.266\n"
     ]
    },
    {
     "name": "stdout",
     "output_type": "stream",
     "text": [
      "Epoch 2: [Val] val_loss: 0.266  val_f1score: 0.871  val_accuracy: 0.883     [Train] train_loss: 0.338  train_f1score: 0.846  train_accuracy: 0.847  \n",
      "Epoch 3: [Val] val_loss: 0.311  val_f1score: 0.866  val_accuracy: 0.874     [Train] train_loss: 0.311  train_f1score: 0.861  train_accuracy: 0.861  \n",
      "Epoch 4: [Val] val_loss: 0.436  val_f1score: 0.824  val_accuracy: 0.829     [Train] train_loss: 0.281  train_f1score: 0.875  train_accuracy: 0.876  \n"
     ]
    },
    {
     "name": "stderr",
     "output_type": "stream",
     "text": [
      "Metric val_loss improved by 0.001 >= min_delta = 0.0. New best score: 0.265\n"
     ]
    },
    {
     "name": "stdout",
     "output_type": "stream",
     "text": [
      "Epoch 5: [Val] val_loss: 0.265  val_f1score: 0.880  val_accuracy: 0.891     [Train] train_loss: 0.256  train_f1score: 0.887  train_accuracy: 0.888  \n",
      "Epoch 6: [Val] val_loss: 0.315  val_f1score: 0.868  val_accuracy: 0.877     [Train] train_loss: 0.220  train_f1score: 0.905  train_accuracy: 0.905  \n",
      "Epoch 7: [Val] val_loss: 0.270  val_f1score: 0.878  val_accuracy: 0.890     [Train] train_loss: 0.182  train_f1score: 0.923  train_accuracy: 0.923  \n",
      "Epoch 8: [Val] val_loss: 0.333  val_f1score: 0.861  val_accuracy: 0.872     [Train] train_loss: 0.147  train_f1score: 0.940  train_accuracy: 0.940  \n",
      "Epoch 9: [Val] val_loss: 0.429  val_f1score: 0.851  val_accuracy: 0.860     [Train] train_loss: 0.117  train_f1score: 0.952  train_accuracy: 0.952  \n"
     ]
    },
    {
     "name": "stderr",
     "output_type": "stream",
     "text": [
      "Monitored metric val_loss did not improve in the last 5 records. Best score: 0.265. Signaling Trainer to stop.\n"
     ]
    },
    {
     "name": "stdout",
     "output_type": "stream",
     "text": [
      "Epoch 10: [Val] val_loss: 0.395  val_f1score: 0.859  val_accuracy: 0.869     [Train] train_loss: 0.086  train_f1score: 0.966  train_accuracy: 0.966  \n"
     ]
    },
    {
     "name": "stderr",
     "output_type": "stream",
     "text": [
      "GPU available: True (cuda), used: True\n",
      "TPU available: False, using: 0 TPU cores\n",
      "IPU available: False, using: 0 IPUs\n",
      "HPU available: False, using: 0 HPUs\n",
      "Restoring states from the checkpoint path at ./processed_dataset/Model_Checkpoints/Best_model_Fold0.ckpt\n",
      "LOCAL_RANK: 0 - CUDA_VISIBLE_DEVICES: [0]\n",
      "Loaded model weights from checkpoint at ./processed_dataset/Model_Checkpoints/Best_model_Fold0.ckpt\n"
     ]
    },
    {
     "name": "stdout",
     "output_type": "stream",
     "text": [
      "[Test] test_loss: 0.265 test_f1score: 0.880 test_accuracy: 0.891 \n",
      "────────────────────────────────────────────────────────────────────────────────────────────────────────────────────────\n",
      "       Test metric             DataLoader 0\n",
      "────────────────────────────────────────────────────────────────────────────────────────────────────────────────────────\n",
      "      test_accuracy          0.890536904335022\n",
      "      test_f1score          0.8795525431632996\n",
      "        test_loss           0.26471802592277527\n",
      "────────────────────────────────────────────────────────────────────────────────────────────────────────────────────────\n"
     ]
    },
    {
     "name": "stderr",
     "output_type": "stream",
     "text": [
      "GPU available: True (cuda), used: True\n",
      "TPU available: False, using: 0 TPU cores\n",
      "IPU available: False, using: 0 IPUs\n",
      "HPU available: False, using: 0 HPUs\n",
      "LOCAL_RANK: 0 - CUDA_VISIBLE_DEVICES: [0]\n",
      "\n",
      "  | Name          | Type                  | Params\n",
      "--------------------------------------------------------\n",
      "0 | model         | LFP_Transformer_LARGE | 842 K \n",
      "1 | _ce_fn        | CrossEntropyLoss      | 0     \n",
      "2 | train_loss    | MeanMetric            | 0     \n",
      "3 | val_loss      | MeanMetric            | 0     \n",
      "4 | test_loss     | MeanMetric            | 0     \n",
      "5 | train_metrics | MetricCollection      | 0     \n",
      "6 | val_metrics   | MetricCollection      | 0     \n",
      "7 | test_metrics  | MetricCollection      | 0     \n",
      "--------------------------------------------------------\n",
      "842 K     Trainable params\n",
      "0         Non-trainable params\n",
      "842 K     Total params\n",
      "3.371     Total estimated model params size (MB)\n"
     ]
    },
    {
     "name": "stdout",
     "output_type": "stream",
     "text": [
      "-------------------- FOLD 1 -------------------\n",
      "train_subjects: ['ym223', 'ym215', 'ym212', 'ym214', 'ym227', 'ym226', 'ym220', 'ym224', 'ym218', 'ym219', 'ym222']\n",
      "test_subjects: ['ym213']\n",
      "------------------------------------------------------\n",
      "\n",
      "Epoch 0: [Val] val_loss: 0.616  val_f1score: 0.500  val_accuracy: 1.000  "
     ]
    },
    {
     "name": "stderr",
     "output_type": "stream",
     "text": [
      "Metric val_loss improved. New best score: 0.491\n"
     ]
    },
    {
     "name": "stdout",
     "output_type": "stream",
     "text": [
      "\n",
      "Epoch 0: [Val] val_loss: 0.491  val_f1score: 0.742  val_accuracy: 0.751     [Train] train_loss: 0.501  train_f1score: 0.751  train_accuracy: 0.751  \n"
     ]
    },
    {
     "name": "stderr",
     "output_type": "stream",
     "text": [
      "Metric val_loss improved by 0.076 >= min_delta = 0.0. New best score: 0.415\n"
     ]
    },
    {
     "name": "stdout",
     "output_type": "stream",
     "text": [
      "Epoch 1: [Val] val_loss: 0.415  val_f1score: 0.799  val_accuracy: 0.808     [Train] train_loss: 0.394  train_f1score: 0.821  train_accuracy: 0.821  \n",
      "Epoch 2: [Val] val_loss: 0.423  val_f1score: 0.769  val_accuracy: 0.800     [Train] train_loss: 0.343  train_f1score: 0.846  train_accuracy: 0.846  \n",
      "Epoch 3: [Val] val_loss: 0.464  val_f1score: 0.756  val_accuracy: 0.790     [Train] train_loss: 0.313  train_f1score: 0.865  train_accuracy: 0.865  \n"
     ]
    },
    {
     "name": "stderr",
     "output_type": "stream",
     "text": [
      "Metric val_loss improved by 0.007 >= min_delta = 0.0. New best score: 0.407\n"
     ]
    },
    {
     "name": "stdout",
     "output_type": "stream",
     "text": [
      "Epoch 4: [Val] val_loss: 0.407  val_f1score: 0.802  val_accuracy: 0.817     [Train] train_loss: 0.290  train_f1score: 0.874  train_accuracy: 0.874  \n",
      "Epoch 5: [Val] val_loss: 0.413  val_f1score: 0.811  val_accuracy: 0.822     [Train] train_loss: 0.267  train_f1score: 0.884  train_accuracy: 0.884  \n",
      "Epoch 6: [Val] val_loss: 0.450  val_f1score: 0.796  val_accuracy: 0.813     [Train] train_loss: 0.235  train_f1score: 0.900  train_accuracy: 0.900  \n",
      "Epoch 7: [Val] val_loss: 0.534  val_f1score: 0.791  val_accuracy: 0.800     [Train] train_loss: 0.200  train_f1score: 0.916  train_accuracy: 0.916  \n",
      "Epoch 8: [Val] val_loss: 0.644  val_f1score: 0.763  val_accuracy: 0.780     [Train] train_loss: 0.164  train_f1score: 0.934  train_accuracy: 0.934  \n"
     ]
    },
    {
     "name": "stderr",
     "output_type": "stream",
     "text": [
      "Monitored metric val_loss did not improve in the last 5 records. Best score: 0.407. Signaling Trainer to stop.\n"
     ]
    },
    {
     "name": "stdout",
     "output_type": "stream",
     "text": [
      "Epoch 9: [Val] val_loss: 0.705  val_f1score: 0.775  val_accuracy: 0.787     [Train] train_loss: 0.129  train_f1score: 0.950  train_accuracy: 0.950  \n"
     ]
    },
    {
     "name": "stderr",
     "output_type": "stream",
     "text": [
      "GPU available: True (cuda), used: True\n",
      "TPU available: False, using: 0 TPU cores\n",
      "IPU available: False, using: 0 IPUs\n",
      "HPU available: False, using: 0 HPUs\n",
      "Restoring states from the checkpoint path at ./processed_dataset/Model_Checkpoints/Best_model_Fold1.ckpt\n",
      "LOCAL_RANK: 0 - CUDA_VISIBLE_DEVICES: [0]\n",
      "Loaded model weights from checkpoint at ./processed_dataset/Model_Checkpoints/Best_model_Fold1.ckpt\n"
     ]
    },
    {
     "name": "stdout",
     "output_type": "stream",
     "text": [
      "[Test] test_loss: 0.407 test_f1score: 0.802 test_accuracy: 0.817 \n",
      "────────────────────────────────────────────────────────────────────────────────────────────────────────────────────────\n",
      "       Test metric             DataLoader 0\n",
      "────────────────────────────────────────────────────────────────────────────────────────────────────────────────────────\n",
      "      test_accuracy          0.816871166229248\n",
      "      test_f1score          0.8024430871009827\n",
      "        test_loss           0.40730565786361694\n",
      "────────────────────────────────────────────────────────────────────────────────────────────────────────────────────────\n"
     ]
    },
    {
     "name": "stderr",
     "output_type": "stream",
     "text": [
      "GPU available: True (cuda), used: True\n",
      "TPU available: False, using: 0 TPU cores\n",
      "IPU available: False, using: 0 IPUs\n",
      "HPU available: False, using: 0 HPUs\n",
      "LOCAL_RANK: 0 - CUDA_VISIBLE_DEVICES: [0]\n",
      "\n",
      "  | Name          | Type                  | Params\n",
      "--------------------------------------------------------\n",
      "0 | model         | LFP_Transformer_LARGE | 842 K \n",
      "1 | _ce_fn        | CrossEntropyLoss      | 0     \n",
      "2 | train_loss    | MeanMetric            | 0     \n",
      "3 | val_loss      | MeanMetric            | 0     \n",
      "4 | test_loss     | MeanMetric            | 0     \n",
      "5 | train_metrics | MetricCollection      | 0     \n",
      "6 | val_metrics   | MetricCollection      | 0     \n",
      "7 | test_metrics  | MetricCollection      | 0     \n",
      "--------------------------------------------------------\n",
      "842 K     Trainable params\n",
      "0         Non-trainable params\n",
      "842 K     Total params\n",
      "3.371     Total estimated model params size (MB)\n"
     ]
    },
    {
     "name": "stdout",
     "output_type": "stream",
     "text": [
      "-------------------- FOLD 2 -------------------\n",
      "train_subjects: ['ym223', 'ym215', 'ym212', 'ym227', 'ym213', 'ym226', 'ym220', 'ym224', 'ym218', 'ym219', 'ym222']\n",
      "test_subjects: ['ym214']\n",
      "------------------------------------------------------\n",
      "\n",
      "Epoch 0: [Val] val_loss: 1.023  val_f1score: 0.000  val_accuracy: 0.000  "
     ]
    },
    {
     "name": "stderr",
     "output_type": "stream",
     "text": [
      "Metric val_loss improved. New best score: 0.332\n"
     ]
    },
    {
     "name": "stdout",
     "output_type": "stream",
     "text": [
      "\n",
      "Epoch 0: [Val] val_loss: 0.332  val_f1score: 0.882  val_accuracy: 0.889     [Train] train_loss: 0.517  train_f1score: 0.738  train_accuracy: 0.739  \n"
     ]
    },
    {
     "name": "stderr",
     "output_type": "stream",
     "text": [
      "Metric val_loss improved by 0.051 >= min_delta = 0.0. New best score: 0.282\n"
     ]
    },
    {
     "name": "stdout",
     "output_type": "stream",
     "text": [
      "Epoch 1: [Val] val_loss: 0.282  val_f1score: 0.886  val_accuracy: 0.896     [Train] train_loss: 0.400  train_f1score: 0.814  train_accuracy: 0.814  \n"
     ]
    },
    {
     "name": "stderr",
     "output_type": "stream",
     "text": [
      "Metric val_loss improved by 0.000 >= min_delta = 0.0. New best score: 0.281\n"
     ]
    },
    {
     "name": "stdout",
     "output_type": "stream",
     "text": [
      "Epoch 2: [Val] val_loss: 0.281  val_f1score: 0.889  val_accuracy: 0.899     [Train] train_loss: 0.349  train_f1score: 0.843  train_accuracy: 0.843  \n"
     ]
    },
    {
     "name": "stderr",
     "output_type": "stream",
     "text": [
      "Metric val_loss improved by 0.024 >= min_delta = 0.0. New best score: 0.257\n"
     ]
    },
    {
     "name": "stdout",
     "output_type": "stream",
     "text": [
      "Epoch 3: [Val] val_loss: 0.257  val_f1score: 0.904  val_accuracy: 0.913     [Train] train_loss: 0.321  train_f1score: 0.856  train_accuracy: 0.856  \n",
      "Epoch 4: [Val] val_loss: 0.303  val_f1score: 0.877  val_accuracy: 0.888     [Train] train_loss: 0.292  train_f1score: 0.870  train_accuracy: 0.870  \n",
      "Epoch 5: [Val] val_loss: 0.405  val_f1score: 0.815  val_accuracy: 0.844     [Train] train_loss: 0.265  train_f1score: 0.884  train_accuracy: 0.884  \n",
      "Epoch 6: [Val] val_loss: 0.393  val_f1score: 0.833  val_accuracy: 0.856     [Train] train_loss: 0.236  train_f1score: 0.899  train_accuracy: 0.899  \n",
      "Epoch 7: [Val] val_loss: 0.512  val_f1score: 0.790  val_accuracy: 0.825     [Train] train_loss: 0.200  train_f1score: 0.916  train_accuracy: 0.916  \n"
     ]
    },
    {
     "name": "stderr",
     "output_type": "stream",
     "text": [
      "Monitored metric val_loss did not improve in the last 5 records. Best score: 0.257. Signaling Trainer to stop.\n"
     ]
    },
    {
     "name": "stdout",
     "output_type": "stream",
     "text": [
      "Epoch 8: [Val] val_loss: 0.484  val_f1score: 0.807  val_accuracy: 0.838     [Train] train_loss: 0.161  train_f1score: 0.934  train_accuracy: 0.934  \n"
     ]
    },
    {
     "name": "stderr",
     "output_type": "stream",
     "text": [
      "GPU available: True (cuda), used: True\n",
      "TPU available: False, using: 0 TPU cores\n",
      "IPU available: False, using: 0 IPUs\n",
      "HPU available: False, using: 0 HPUs\n",
      "Restoring states from the checkpoint path at ./processed_dataset/Model_Checkpoints/Best_model_Fold2.ckpt\n",
      "LOCAL_RANK: 0 - CUDA_VISIBLE_DEVICES: [0]\n",
      "Loaded model weights from checkpoint at ./processed_dataset/Model_Checkpoints/Best_model_Fold2.ckpt\n"
     ]
    },
    {
     "name": "stdout",
     "output_type": "stream",
     "text": [
      "[Test] test_loss: 0.257 test_f1score: 0.904 test_accuracy: 0.913 \n",
      "────────────────────────────────────────────────────────────────────────────────────────────────────────────────────────\n",
      "       Test metric             DataLoader 0\n",
      "────────────────────────────────────────────────────────────────────────────────────────────────────────────────────────\n",
      "      test_accuracy          0.913023054599762\n",
      "      test_f1score          0.9042449593544006\n",
      "        test_loss           0.25700417160987854\n",
      "────────────────────────────────────────────────────────────────────────────────────────────────────────────────────────\n"
     ]
    },
    {
     "name": "stderr",
     "output_type": "stream",
     "text": [
      "GPU available: True (cuda), used: True\n",
      "TPU available: False, using: 0 TPU cores\n",
      "IPU available: False, using: 0 IPUs\n",
      "HPU available: False, using: 0 HPUs\n",
      "LOCAL_RANK: 0 - CUDA_VISIBLE_DEVICES: [0]\n",
      "\n",
      "  | Name          | Type                  | Params\n",
      "--------------------------------------------------------\n",
      "0 | model         | LFP_Transformer_LARGE | 842 K \n",
      "1 | _ce_fn        | CrossEntropyLoss      | 0     \n",
      "2 | train_loss    | MeanMetric            | 0     \n",
      "3 | val_loss      | MeanMetric            | 0     \n",
      "4 | test_loss     | MeanMetric            | 0     \n",
      "5 | train_metrics | MetricCollection      | 0     \n",
      "6 | val_metrics   | MetricCollection      | 0     \n",
      "7 | test_metrics  | MetricCollection      | 0     \n",
      "--------------------------------------------------------\n",
      "842 K     Trainable params\n",
      "0         Non-trainable params\n",
      "842 K     Total params\n",
      "3.371     Total estimated model params size (MB)\n"
     ]
    },
    {
     "name": "stdout",
     "output_type": "stream",
     "text": [
      "-------------------- FOLD 3 -------------------\n",
      "train_subjects: ['ym223', 'ym212', 'ym214', 'ym227', 'ym213', 'ym226', 'ym220', 'ym224', 'ym218', 'ym219', 'ym222']\n",
      "test_subjects: ['ym215']\n",
      "------------------------------------------------------\n",
      "\n",
      "Epoch 0: [Val] val_loss: 1.373  val_f1score: 0.000  val_accuracy: 0.000  "
     ]
    },
    {
     "name": "stderr",
     "output_type": "stream",
     "text": [
      "Metric val_loss improved. New best score: 0.475\n"
     ]
    },
    {
     "name": "stdout",
     "output_type": "stream",
     "text": [
      "\n",
      "Epoch 0: [Val] val_loss: 0.475  val_f1score: 0.763  val_accuracy: 0.765     [Train] train_loss: 0.520  train_f1score: 0.729  train_accuracy: 0.732  \n"
     ]
    },
    {
     "name": "stderr",
     "output_type": "stream",
     "text": [
      "Metric val_loss improved by 0.016 >= min_delta = 0.0. New best score: 0.459\n"
     ]
    },
    {
     "name": "stdout",
     "output_type": "stream",
     "text": [
      "Epoch 1: [Val] val_loss: 0.459  val_f1score: 0.787  val_accuracy: 0.794     [Train] train_loss: 0.373  train_f1score: 0.830  train_accuracy: 0.831  \n",
      "Epoch 2: [Val] val_loss: 0.505  val_f1score: 0.767  val_accuracy: 0.773     [Train] train_loss: 0.329  train_f1score: 0.854  train_accuracy: 0.854  \n",
      "Epoch 3: [Val] val_loss: 0.539  val_f1score: 0.764  val_accuracy: 0.769     [Train] train_loss: 0.299  train_f1score: 0.869  train_accuracy: 0.869  \n",
      "Epoch 4: [Val] val_loss: 0.540  val_f1score: 0.764  val_accuracy: 0.769     [Train] train_loss: 0.276  train_f1score: 0.881  train_accuracy: 0.881  \n",
      "Epoch 5: [Val] val_loss: 0.792  val_f1score: 0.680  val_accuracy: 0.680     [Train] train_loss: 0.253  train_f1score: 0.892  train_accuracy: 0.892  \n"
     ]
    },
    {
     "name": "stderr",
     "output_type": "stream",
     "text": [
      "Monitored metric val_loss did not improve in the last 5 records. Best score: 0.459. Signaling Trainer to stop.\n"
     ]
    },
    {
     "name": "stdout",
     "output_type": "stream",
     "text": [
      "Epoch 6: [Val] val_loss: 0.695  val_f1score: 0.737  val_accuracy: 0.740     [Train] train_loss: 0.228  train_f1score: 0.905  train_accuracy: 0.905  \n"
     ]
    },
    {
     "name": "stderr",
     "output_type": "stream",
     "text": [
      "GPU available: True (cuda), used: True\n",
      "TPU available: False, using: 0 TPU cores\n",
      "IPU available: False, using: 0 IPUs\n",
      "HPU available: False, using: 0 HPUs\n",
      "Restoring states from the checkpoint path at ./processed_dataset/Model_Checkpoints/Best_model_Fold3.ckpt\n",
      "LOCAL_RANK: 0 - CUDA_VISIBLE_DEVICES: [0]\n",
      "Loaded model weights from checkpoint at ./processed_dataset/Model_Checkpoints/Best_model_Fold3.ckpt\n"
     ]
    },
    {
     "name": "stdout",
     "output_type": "stream",
     "text": [
      "[Test] test_loss: 0.459 test_f1score: 0.787 test_accuracy: 0.794 \n",
      "────────────────────────────────────────────────────────────────────────────────────────────────────────────────────────\n",
      "       Test metric             DataLoader 0\n",
      "────────────────────────────────────────────────────────────────────────────────────────────────────────────────────────\n",
      "      test_accuracy         0.7935095429420471\n",
      "      test_f1score          0.7866321802139282\n",
      "        test_loss            0.459349125623703\n",
      "────────────────────────────────────────────────────────────────────────────────────────────────────────────────────────\n"
     ]
    },
    {
     "name": "stderr",
     "output_type": "stream",
     "text": [
      "GPU available: True (cuda), used: True\n",
      "TPU available: False, using: 0 TPU cores\n",
      "IPU available: False, using: 0 IPUs\n",
      "HPU available: False, using: 0 HPUs\n",
      "LOCAL_RANK: 0 - CUDA_VISIBLE_DEVICES: [0]\n",
      "\n",
      "  | Name          | Type                  | Params\n",
      "--------------------------------------------------------\n",
      "0 | model         | LFP_Transformer_LARGE | 842 K \n",
      "1 | _ce_fn        | CrossEntropyLoss      | 0     \n",
      "2 | train_loss    | MeanMetric            | 0     \n",
      "3 | val_loss      | MeanMetric            | 0     \n",
      "4 | test_loss     | MeanMetric            | 0     \n",
      "5 | train_metrics | MetricCollection      | 0     \n",
      "6 | val_metrics   | MetricCollection      | 0     \n",
      "7 | test_metrics  | MetricCollection      | 0     \n",
      "--------------------------------------------------------\n",
      "842 K     Trainable params\n",
      "0         Non-trainable params\n",
      "842 K     Total params\n",
      "3.371     Total estimated model params size (MB)\n"
     ]
    },
    {
     "name": "stdout",
     "output_type": "stream",
     "text": [
      "-------------------- FOLD 4 -------------------\n",
      "train_subjects: ['ym223', 'ym215', 'ym212', 'ym214', 'ym227', 'ym213', 'ym226', 'ym220', 'ym224', 'ym219', 'ym222']\n",
      "test_subjects: ['ym218']\n",
      "------------------------------------------------------\n",
      "\n",
      "Epoch 0: [Val] val_loss: 1.295  val_f1score: 0.000  val_accuracy: 0.000  "
     ]
    },
    {
     "name": "stderr",
     "output_type": "stream",
     "text": [
      "Metric val_loss improved. New best score: 0.465\n"
     ]
    },
    {
     "name": "stdout",
     "output_type": "stream",
     "text": [
      "\n",
      "Epoch 0: [Val] val_loss: 0.465  val_f1score: 0.791  val_accuracy: 0.801     [Train] train_loss: 0.510  train_f1score: 0.742  train_accuracy: 0.742  \n"
     ]
    },
    {
     "name": "stderr",
     "output_type": "stream",
     "text": [
      "Metric val_loss improved by 0.031 >= min_delta = 0.0. New best score: 0.434\n"
     ]
    },
    {
     "name": "stdout",
     "output_type": "stream",
     "text": [
      "Epoch 1: [Val] val_loss: 0.434  val_f1score: 0.803  val_accuracy: 0.810     [Train] train_loss: 0.388  train_f1score: 0.823  train_accuracy: 0.824  \n",
      "Epoch 2: [Val] val_loss: 0.441  val_f1score: 0.803  val_accuracy: 0.808     [Train] train_loss: 0.338  train_f1score: 0.849  train_accuracy: 0.849  \n"
     ]
    },
    {
     "name": "stderr",
     "output_type": "stream",
     "text": [
      "Metric val_loss improved by 0.064 >= min_delta = 0.0. New best score: 0.369\n"
     ]
    },
    {
     "name": "stdout",
     "output_type": "stream",
     "text": [
      "Epoch 3: [Val] val_loss: 0.369  val_f1score: 0.825  val_accuracy: 0.835     [Train] train_loss: 0.312  train_f1score: 0.863  train_accuracy: 0.863  \n",
      "Epoch 4: [Val] val_loss: 0.437  val_f1score: 0.810  val_accuracy: 0.817     [Train] train_loss: 0.287  train_f1score: 0.875  train_accuracy: 0.875  \n",
      "Epoch 5: [Val] val_loss: 0.429  val_f1score: 0.804  val_accuracy: 0.811     [Train] train_loss: 0.260  train_f1score: 0.888  train_accuracy: 0.888  \n",
      "Epoch 6: [Val] val_loss: 0.477  val_f1score: 0.804  val_accuracy: 0.811     [Train] train_loss: 0.235  train_f1score: 0.900  train_accuracy: 0.900  \n",
      "Epoch 7: [Val] val_loss: 0.467  val_f1score: 0.809  val_accuracy: 0.821     [Train] train_loss: 0.206  train_f1score: 0.914  train_accuracy: 0.914  \n"
     ]
    },
    {
     "name": "stderr",
     "output_type": "stream",
     "text": [
      "Monitored metric val_loss did not improve in the last 5 records. Best score: 0.369. Signaling Trainer to stop.\n"
     ]
    },
    {
     "name": "stdout",
     "output_type": "stream",
     "text": [
      "Epoch 8: [Val] val_loss: 0.659  val_f1score: 0.771  val_accuracy: 0.774     [Train] train_loss: 0.176  train_f1score: 0.927  train_accuracy: 0.927  \n"
     ]
    },
    {
     "name": "stderr",
     "output_type": "stream",
     "text": [
      "GPU available: True (cuda), used: True\n",
      "TPU available: False, using: 0 TPU cores\n",
      "IPU available: False, using: 0 IPUs\n",
      "HPU available: False, using: 0 HPUs\n",
      "Restoring states from the checkpoint path at ./processed_dataset/Model_Checkpoints/Best_model_Fold4.ckpt\n",
      "LOCAL_RANK: 0 - CUDA_VISIBLE_DEVICES: [0]\n",
      "Loaded model weights from checkpoint at ./processed_dataset/Model_Checkpoints/Best_model_Fold4.ckpt\n"
     ]
    },
    {
     "name": "stdout",
     "output_type": "stream",
     "text": [
      "[Test] test_loss: 0.369 test_f1score: 0.825 test_accuracy: 0.835 \n",
      "────────────────────────────────────────────────────────────────────────────────────────────────────────────────────────\n",
      "       Test metric             DataLoader 0\n",
      "────────────────────────────────────────────────────────────────────────────────────────────────────────────────────────\n",
      "      test_accuracy         0.8349193334579468\n",
      "      test_f1score           0.825484037399292\n",
      "        test_loss           0.36929988861083984\n",
      "────────────────────────────────────────────────────────────────────────────────────────────────────────────────────────\n"
     ]
    },
    {
     "name": "stderr",
     "output_type": "stream",
     "text": [
      "GPU available: True (cuda), used: True\n",
      "TPU available: False, using: 0 TPU cores\n",
      "IPU available: False, using: 0 IPUs\n",
      "HPU available: False, using: 0 HPUs\n",
      "LOCAL_RANK: 0 - CUDA_VISIBLE_DEVICES: [0]\n",
      "\n",
      "  | Name          | Type                  | Params\n",
      "--------------------------------------------------------\n",
      "0 | model         | LFP_Transformer_LARGE | 842 K \n",
      "1 | _ce_fn        | CrossEntropyLoss      | 0     \n",
      "2 | train_loss    | MeanMetric            | 0     \n",
      "3 | val_loss      | MeanMetric            | 0     \n",
      "4 | test_loss     | MeanMetric            | 0     \n",
      "5 | train_metrics | MetricCollection      | 0     \n",
      "6 | val_metrics   | MetricCollection      | 0     \n",
      "7 | test_metrics  | MetricCollection      | 0     \n",
      "--------------------------------------------------------\n",
      "842 K     Trainable params\n",
      "0         Non-trainable params\n",
      "842 K     Total params\n",
      "3.371     Total estimated model params size (MB)\n"
     ]
    },
    {
     "name": "stdout",
     "output_type": "stream",
     "text": [
      "-------------------- FOLD 5 -------------------\n",
      "train_subjects: ['ym223', 'ym215', 'ym212', 'ym214', 'ym227', 'ym213', 'ym226', 'ym220', 'ym224', 'ym218', 'ym222']\n",
      "test_subjects: ['ym219']\n",
      "------------------------------------------------------\n",
      "\n",
      "Epoch 0: [Val] val_loss: 1.308  val_f1score: 0.000  val_accuracy: 0.000  "
     ]
    },
    {
     "name": "stderr",
     "output_type": "stream",
     "text": [
      "Metric val_loss improved. New best score: 0.388\n"
     ]
    },
    {
     "name": "stdout",
     "output_type": "stream",
     "text": [
      "\n",
      "Epoch 0: [Val] val_loss: 0.388  val_f1score: 0.830  val_accuracy: 0.835     [Train] train_loss: 0.518  train_f1score: 0.736  train_accuracy: 0.736  \n"
     ]
    },
    {
     "name": "stderr",
     "output_type": "stream",
     "text": [
      "Metric val_loss improved by 0.030 >= min_delta = 0.0. New best score: 0.358\n"
     ]
    },
    {
     "name": "stdout",
     "output_type": "stream",
     "text": [
      "Epoch 1: [Val] val_loss: 0.358  val_f1score: 0.827  val_accuracy: 0.843     [Train] train_loss: 0.402  train_f1score: 0.812  train_accuracy: 0.812  \n",
      "Epoch 2: [Val] val_loss: 0.478  val_f1score: 0.774  val_accuracy: 0.804     [Train] train_loss: 0.338  train_f1score: 0.848  train_accuracy: 0.848  \n",
      "Epoch 3: [Val] val_loss: 0.693  val_f1score: 0.695  val_accuracy: 0.751     [Train] train_loss: 0.302  train_f1score: 0.869  train_accuracy: 0.869  \n",
      "Epoch 4: [Val] val_loss: 0.797  val_f1score: 0.692  val_accuracy: 0.749     [Train] train_loss: 0.264  train_f1score: 0.887  train_accuracy: 0.887  \n",
      "Epoch 5: [Val] val_loss: 0.772  val_f1score: 0.739  val_accuracy: 0.780     [Train] train_loss: 0.223  train_f1score: 0.907  train_accuracy: 0.907  \n"
     ]
    },
    {
     "name": "stderr",
     "output_type": "stream",
     "text": [
      "Monitored metric val_loss did not improve in the last 5 records. Best score: 0.358. Signaling Trainer to stop.\n"
     ]
    },
    {
     "name": "stdout",
     "output_type": "stream",
     "text": [
      "Epoch 6: [Val] val_loss: 1.050  val_f1score: 0.656  val_accuracy: 0.727     [Train] train_loss: 0.181  train_f1score: 0.927  train_accuracy: 0.927  \n"
     ]
    },
    {
     "name": "stderr",
     "output_type": "stream",
     "text": [
      "GPU available: True (cuda), used: True\n",
      "TPU available: False, using: 0 TPU cores\n",
      "IPU available: False, using: 0 IPUs\n",
      "HPU available: False, using: 0 HPUs\n",
      "Restoring states from the checkpoint path at ./processed_dataset/Model_Checkpoints/Best_model_Fold5.ckpt\n",
      "LOCAL_RANK: 0 - CUDA_VISIBLE_DEVICES: [0]\n",
      "Loaded model weights from checkpoint at ./processed_dataset/Model_Checkpoints/Best_model_Fold5.ckpt\n"
     ]
    },
    {
     "name": "stdout",
     "output_type": "stream",
     "text": [
      "[Test] test_loss: 0.358 test_f1score: 0.827 test_accuracy: 0.843 \n",
      "────────────────────────────────────────────────────────────────────────────────────────────────────────────────────────\n",
      "       Test metric             DataLoader 0\n",
      "────────────────────────────────────────────────────────────────────────────────────────────────────────────────────────\n",
      "      test_accuracy         0.8428544402122498\n",
      "      test_f1score          0.8269624710083008\n",
      "        test_loss           0.3584527373313904\n",
      "────────────────────────────────────────────────────────────────────────────────────────────────────────────────────────\n"
     ]
    },
    {
     "name": "stderr",
     "output_type": "stream",
     "text": [
      "GPU available: True (cuda), used: True\n",
      "TPU available: False, using: 0 TPU cores\n",
      "IPU available: False, using: 0 IPUs\n",
      "HPU available: False, using: 0 HPUs\n",
      "LOCAL_RANK: 0 - CUDA_VISIBLE_DEVICES: [0]\n",
      "\n",
      "  | Name          | Type                  | Params\n",
      "--------------------------------------------------------\n",
      "0 | model         | LFP_Transformer_LARGE | 842 K \n",
      "1 | _ce_fn        | CrossEntropyLoss      | 0     \n",
      "2 | train_loss    | MeanMetric            | 0     \n",
      "3 | val_loss      | MeanMetric            | 0     \n",
      "4 | test_loss     | MeanMetric            | 0     \n",
      "5 | train_metrics | MetricCollection      | 0     \n",
      "6 | val_metrics   | MetricCollection      | 0     \n",
      "7 | test_metrics  | MetricCollection      | 0     \n",
      "--------------------------------------------------------\n",
      "842 K     Trainable params\n",
      "0         Non-trainable params\n",
      "842 K     Total params\n",
      "3.371     Total estimated model params size (MB)\n"
     ]
    },
    {
     "name": "stdout",
     "output_type": "stream",
     "text": [
      "-------------------- FOLD 6 -------------------\n",
      "train_subjects: ['ym223', 'ym215', 'ym212', 'ym214', 'ym227', 'ym213', 'ym226', 'ym224', 'ym218', 'ym219', 'ym222']\n",
      "test_subjects: ['ym220']\n",
      "------------------------------------------------------\n",
      "\n",
      "Epoch 0: [Val] val_loss: 0.570  val_f1score: 0.500  val_accuracy: 1.000  "
     ]
    },
    {
     "name": "stderr",
     "output_type": "stream",
     "text": [
      "Metric val_loss improved. New best score: 0.351\n"
     ]
    },
    {
     "name": "stdout",
     "output_type": "stream",
     "text": [
      "\n",
      "Epoch 0: [Val] val_loss: 0.351  val_f1score: 0.831  val_accuracy: 0.851     [Train] train_loss: 0.498  train_f1score: 0.747  train_accuracy: 0.750  \n",
      "Epoch 1: [Val] val_loss: 0.356  val_f1score: 0.792  val_accuracy: 0.838     [Train] train_loss: 0.379  train_f1score: 0.826  train_accuracy: 0.826  \n"
     ]
    },
    {
     "name": "stderr",
     "output_type": "stream",
     "text": [
      "Metric val_loss improved by 0.025 >= min_delta = 0.0. New best score: 0.326\n"
     ]
    },
    {
     "name": "stdout",
     "output_type": "stream",
     "text": [
      "Epoch 2: [Val] val_loss: 0.326  val_f1score: 0.823  val_accuracy: 0.858     [Train] train_loss: 0.336  train_f1score: 0.852  train_accuracy: 0.852  \n"
     ]
    },
    {
     "name": "stderr",
     "output_type": "stream",
     "text": [
      "Metric val_loss improved by 0.037 >= min_delta = 0.0. New best score: 0.289\n"
     ]
    },
    {
     "name": "stdout",
     "output_type": "stream",
     "text": [
      "Epoch 3: [Val] val_loss: 0.289  val_f1score: 0.847  val_accuracy: 0.872     [Train] train_loss: 0.310  train_f1score: 0.864  train_accuracy: 0.864  \n"
     ]
    },
    {
     "name": "stderr",
     "output_type": "stream",
     "text": [
      "Metric val_loss improved by 0.029 >= min_delta = 0.0. New best score: 0.260\n"
     ]
    },
    {
     "name": "stdout",
     "output_type": "stream",
     "text": [
      "Epoch 4: [Val] val_loss: 0.260  val_f1score: 0.869  val_accuracy: 0.887     [Train] train_loss: 0.282  train_f1score: 0.877  train_accuracy: 0.877  \n",
      "Epoch 5: [Val] val_loss: 0.316  val_f1score: 0.830  val_accuracy: 0.862     [Train] train_loss: 0.255  train_f1score: 0.890  train_accuracy: 0.890  \n",
      "Epoch 6: [Val] val_loss: 0.282  val_f1score: 0.860  val_accuracy: 0.879     [Train] train_loss: 0.225  train_f1score: 0.903  train_accuracy: 0.903  \n",
      "Epoch 7: [Val] val_loss: 0.329  val_f1score: 0.850  val_accuracy: 0.873     [Train] train_loss: 0.196  train_f1score: 0.918  train_accuracy: 0.918  \n",
      "Epoch 8: [Val] val_loss: 0.442  val_f1score: 0.816  val_accuracy: 0.850     [Train] train_loss: 0.159  train_f1score: 0.934  train_accuracy: 0.935  \n"
     ]
    },
    {
     "name": "stderr",
     "output_type": "stream",
     "text": [
      "Monitored metric val_loss did not improve in the last 5 records. Best score: 0.260. Signaling Trainer to stop.\n"
     ]
    },
    {
     "name": "stdout",
     "output_type": "stream",
     "text": [
      "Epoch 9: [Val] val_loss: 0.375  val_f1score: 0.859  val_accuracy: 0.877     [Train] train_loss: 0.126  train_f1score: 0.949  train_accuracy: 0.949  \n"
     ]
    },
    {
     "name": "stderr",
     "output_type": "stream",
     "text": [
      "GPU available: True (cuda), used: True\n",
      "TPU available: False, using: 0 TPU cores\n",
      "IPU available: False, using: 0 IPUs\n",
      "HPU available: False, using: 0 HPUs\n",
      "Restoring states from the checkpoint path at ./processed_dataset/Model_Checkpoints/Best_model_Fold6.ckpt\n",
      "LOCAL_RANK: 0 - CUDA_VISIBLE_DEVICES: [0]\n",
      "Loaded model weights from checkpoint at ./processed_dataset/Model_Checkpoints/Best_model_Fold6.ckpt\n"
     ]
    },
    {
     "name": "stdout",
     "output_type": "stream",
     "text": [
      "[Test] test_loss: 0.260 test_f1score: 0.869 test_accuracy: 0.887 \n",
      "────────────────────────────────────────────────────────────────────────────────────────────────────────────────────────\n",
      "       Test metric             DataLoader 0\n",
      "────────────────────────────────────────────────────────────────────────────────────────────────────────────────────────\n",
      "      test_accuracy         0.8869873881340027\n",
      "      test_f1score          0.8691664934158325\n",
      "        test_loss           0.26031729578971863\n",
      "────────────────────────────────────────────────────────────────────────────────────────────────────────────────────────\n"
     ]
    },
    {
     "name": "stderr",
     "output_type": "stream",
     "text": [
      "GPU available: True (cuda), used: True\n",
      "TPU available: False, using: 0 TPU cores\n",
      "IPU available: False, using: 0 IPUs\n",
      "HPU available: False, using: 0 HPUs\n",
      "LOCAL_RANK: 0 - CUDA_VISIBLE_DEVICES: [0]\n",
      "\n",
      "  | Name          | Type                  | Params\n",
      "--------------------------------------------------------\n",
      "0 | model         | LFP_Transformer_LARGE | 842 K \n",
      "1 | _ce_fn        | CrossEntropyLoss      | 0     \n",
      "2 | train_loss    | MeanMetric            | 0     \n",
      "3 | val_loss      | MeanMetric            | 0     \n",
      "4 | test_loss     | MeanMetric            | 0     \n",
      "5 | train_metrics | MetricCollection      | 0     \n",
      "6 | val_metrics   | MetricCollection      | 0     \n",
      "7 | test_metrics  | MetricCollection      | 0     \n",
      "--------------------------------------------------------\n",
      "842 K     Trainable params\n",
      "0         Non-trainable params\n",
      "842 K     Total params\n",
      "3.371     Total estimated model params size (MB)\n"
     ]
    },
    {
     "name": "stdout",
     "output_type": "stream",
     "text": [
      "-------------------- FOLD 7 -------------------\n",
      "train_subjects: ['ym223', 'ym215', 'ym212', 'ym214', 'ym227', 'ym213', 'ym226', 'ym220', 'ym224', 'ym218', 'ym219']\n",
      "test_subjects: ['ym222']\n",
      "------------------------------------------------------\n",
      "\n",
      "Epoch 0: [Val] val_loss: 0.799  val_f1score: 0.000  val_accuracy: 0.000  "
     ]
    },
    {
     "name": "stderr",
     "output_type": "stream",
     "text": [
      "Metric val_loss improved. New best score: 0.472\n"
     ]
    },
    {
     "name": "stdout",
     "output_type": "stream",
     "text": [
      "\n",
      "Epoch 0: [Val] val_loss: 0.472  val_f1score: 0.770  val_accuracy: 0.774     [Train] train_loss: 0.504  train_f1score: 0.746  train_accuracy: 0.746  \n",
      "Epoch 1: [Val] val_loss: 0.489  val_f1score: 0.762  val_accuracy: 0.764     [Train] train_loss: 0.375  train_f1score: 0.828  train_accuracy: 0.828  \n"
     ]
    },
    {
     "name": "stderr",
     "output_type": "stream",
     "text": [
      "Metric val_loss improved by 0.069 >= min_delta = 0.0. New best score: 0.403\n"
     ]
    },
    {
     "name": "stdout",
     "output_type": "stream",
     "text": [
      "Epoch 2: [Val] val_loss: 0.403  val_f1score: 0.813  val_accuracy: 0.818     [Train] train_loss: 0.328  train_f1score: 0.854  train_accuracy: 0.854  \n",
      "Epoch 3: [Val] val_loss: 0.461  val_f1score: 0.778  val_accuracy: 0.781     [Train] train_loss: 0.299  train_f1score: 0.870  train_accuracy: 0.870  \n",
      "Epoch 4: [Val] val_loss: 0.435  val_f1score: 0.797  val_accuracy: 0.801     [Train] train_loss: 0.276  train_f1score: 0.880  train_accuracy: 0.880  \n",
      "Epoch 5: [Val] val_loss: 0.665  val_f1score: 0.723  val_accuracy: 0.723     [Train] train_loss: 0.251  train_f1score: 0.893  train_accuracy: 0.893  \n",
      "Epoch 6: [Val] val_loss: 0.563  val_f1score: 0.768  val_accuracy: 0.770     [Train] train_loss: 0.223  train_f1score: 0.905  train_accuracy: 0.905  \n"
     ]
    },
    {
     "name": "stderr",
     "output_type": "stream",
     "text": [
      "Monitored metric val_loss did not improve in the last 5 records. Best score: 0.403. Signaling Trainer to stop.\n"
     ]
    },
    {
     "name": "stdout",
     "output_type": "stream",
     "text": [
      "Epoch 7: [Val] val_loss: 0.731  val_f1score: 0.731  val_accuracy: 0.732     [Train] train_loss: 0.192  train_f1score: 0.920  train_accuracy: 0.920  \n"
     ]
    },
    {
     "name": "stderr",
     "output_type": "stream",
     "text": [
      "GPU available: True (cuda), used: True\n",
      "TPU available: False, using: 0 TPU cores\n",
      "IPU available: False, using: 0 IPUs\n",
      "HPU available: False, using: 0 HPUs\n",
      "Restoring states from the checkpoint path at ./processed_dataset/Model_Checkpoints/Best_model_Fold7.ckpt\n",
      "LOCAL_RANK: 0 - CUDA_VISIBLE_DEVICES: [0]\n",
      "Loaded model weights from checkpoint at ./processed_dataset/Model_Checkpoints/Best_model_Fold7.ckpt\n"
     ]
    },
    {
     "name": "stdout",
     "output_type": "stream",
     "text": [
      "[Test] test_loss: 0.403 test_f1score: 0.813 test_accuracy: 0.818 \n",
      "────────────────────────────────────────────────────────────────────────────────────────────────────────────────────────\n",
      "       Test metric             DataLoader 0\n",
      "────────────────────────────────────────────────────────────────────────────────────────────────────────────────────────\n",
      "      test_accuracy         0.8183873295783997\n",
      "      test_f1score          0.8132225275039673\n",
      "        test_loss           0.40293416380882263\n",
      "────────────────────────────────────────────────────────────────────────────────────────────────────────────────────────\n"
     ]
    },
    {
     "name": "stderr",
     "output_type": "stream",
     "text": [
      "GPU available: True (cuda), used: True\n",
      "TPU available: False, using: 0 TPU cores\n",
      "IPU available: False, using: 0 IPUs\n",
      "HPU available: False, using: 0 HPUs\n",
      "LOCAL_RANK: 0 - CUDA_VISIBLE_DEVICES: [0]\n",
      "\n",
      "  | Name          | Type                  | Params\n",
      "--------------------------------------------------------\n",
      "0 | model         | LFP_Transformer_LARGE | 842 K \n",
      "1 | _ce_fn        | CrossEntropyLoss      | 0     \n",
      "2 | train_loss    | MeanMetric            | 0     \n",
      "3 | val_loss      | MeanMetric            | 0     \n",
      "4 | test_loss     | MeanMetric            | 0     \n",
      "5 | train_metrics | MetricCollection      | 0     \n",
      "6 | val_metrics   | MetricCollection      | 0     \n",
      "7 | test_metrics  | MetricCollection      | 0     \n",
      "--------------------------------------------------------\n",
      "842 K     Trainable params\n",
      "0         Non-trainable params\n",
      "842 K     Total params\n",
      "3.371     Total estimated model params size (MB)\n"
     ]
    },
    {
     "name": "stdout",
     "output_type": "stream",
     "text": [
      "-------------------- FOLD 8 -------------------\n",
      "train_subjects: ['ym215', 'ym212', 'ym214', 'ym227', 'ym213', 'ym226', 'ym220', 'ym224', 'ym218', 'ym219', 'ym222']\n",
      "test_subjects: ['ym223']\n",
      "------------------------------------------------------\n",
      "\n",
      "Epoch 0: [Val] val_loss: 0.431  val_f1score: 0.500  val_accuracy: 1.000  "
     ]
    },
    {
     "name": "stderr",
     "output_type": "stream",
     "text": [
      "Metric val_loss improved. New best score: 1.010\n"
     ]
    },
    {
     "name": "stdout",
     "output_type": "stream",
     "text": [
      "\n",
      "Epoch 0: [Val] val_loss: 1.010  val_f1score: 0.523  val_accuracy: 0.523     [Train] train_loss: 0.474  train_f1score: 0.766  train_accuracy: 0.766  \n"
     ]
    },
    {
     "name": "stderr",
     "output_type": "stream",
     "text": [
      "Metric val_loss improved by 0.109 >= min_delta = 0.0. New best score: 0.902\n"
     ]
    },
    {
     "name": "stdout",
     "output_type": "stream",
     "text": [
      "Epoch 1: [Val] val_loss: 0.902  val_f1score: 0.566  val_accuracy: 0.567     [Train] train_loss: 0.353  train_f1score: 0.843  train_accuracy: 0.843  \n"
     ]
    },
    {
     "name": "stderr",
     "output_type": "stream",
     "text": [
      "Metric val_loss improved by 0.144 >= min_delta = 0.0. New best score: 0.758\n"
     ]
    },
    {
     "name": "stdout",
     "output_type": "stream",
     "text": [
      "Epoch 2: [Val] val_loss: 0.758  val_f1score: 0.610  val_accuracy: 0.614     [Train] train_loss: 0.312  train_f1score: 0.864  train_accuracy: 0.864  \n",
      "Epoch 3: [Val] val_loss: 1.101  val_f1score: 0.500  val_accuracy: 0.500     [Train] train_loss: 0.288  train_f1score: 0.876  train_accuracy: 0.876  \n",
      "Epoch 4: [Val] val_loss: 1.172  val_f1score: 0.488  val_accuracy: 0.488     [Train] train_loss: 0.266  train_f1score: 0.884  train_accuracy: 0.884  \n",
      "Epoch 5: [Val] val_loss: 1.339  val_f1score: 0.480  val_accuracy: 0.481     [Train] train_loss: 0.242  train_f1score: 0.896  train_accuracy: 0.896  \n",
      "Epoch 6: [Val] val_loss: 1.520  val_f1score: 0.458  val_accuracy: 0.461     [Train] train_loss: 0.213  train_f1score: 0.910  train_accuracy: 0.910  \n"
     ]
    },
    {
     "name": "stderr",
     "output_type": "stream",
     "text": [
      "Monitored metric val_loss did not improve in the last 5 records. Best score: 0.758. Signaling Trainer to stop.\n"
     ]
    },
    {
     "name": "stdout",
     "output_type": "stream",
     "text": [
      "Epoch 7: [Val] val_loss: 1.512  val_f1score: 0.505  val_accuracy: 0.506     [Train] train_loss: 0.181  train_f1score: 0.926  train_accuracy: 0.926  \n"
     ]
    },
    {
     "name": "stderr",
     "output_type": "stream",
     "text": [
      "GPU available: True (cuda), used: True\n",
      "TPU available: False, using: 0 TPU cores\n",
      "IPU available: False, using: 0 IPUs\n",
      "HPU available: False, using: 0 HPUs\n",
      "Restoring states from the checkpoint path at ./processed_dataset/Model_Checkpoints/Best_model_Fold8.ckpt\n",
      "LOCAL_RANK: 0 - CUDA_VISIBLE_DEVICES: [0]\n",
      "Loaded model weights from checkpoint at ./processed_dataset/Model_Checkpoints/Best_model_Fold8.ckpt\n"
     ]
    },
    {
     "name": "stdout",
     "output_type": "stream",
     "text": [
      "[Test] test_loss: 0.758 test_f1score: 0.610 test_accuracy: 0.614 \n",
      "────────────────────────────────────────────────────────────────────────────────────────────────────────────────────────\n",
      "       Test metric             DataLoader 0\n",
      "────────────────────────────────────────────────────────────────────────────────────────────────────────────────────────\n",
      "      test_accuracy         0.6141675710678101\n",
      "      test_f1score          0.6098664999008179\n",
      "        test_loss           0.7575339674949646\n",
      "────────────────────────────────────────────────────────────────────────────────────────────────────────────────────────\n"
     ]
    },
    {
     "name": "stderr",
     "output_type": "stream",
     "text": [
      "GPU available: True (cuda), used: True\n",
      "TPU available: False, using: 0 TPU cores\n",
      "IPU available: False, using: 0 IPUs\n",
      "HPU available: False, using: 0 HPUs\n",
      "LOCAL_RANK: 0 - CUDA_VISIBLE_DEVICES: [0]\n",
      "\n",
      "  | Name          | Type                  | Params\n",
      "--------------------------------------------------------\n",
      "0 | model         | LFP_Transformer_LARGE | 842 K \n",
      "1 | _ce_fn        | CrossEntropyLoss      | 0     \n",
      "2 | train_loss    | MeanMetric            | 0     \n",
      "3 | val_loss      | MeanMetric            | 0     \n",
      "4 | test_loss     | MeanMetric            | 0     \n",
      "5 | train_metrics | MetricCollection      | 0     \n",
      "6 | val_metrics   | MetricCollection      | 0     \n",
      "7 | test_metrics  | MetricCollection      | 0     \n",
      "--------------------------------------------------------\n",
      "842 K     Trainable params\n",
      "0         Non-trainable params\n",
      "842 K     Total params\n",
      "3.371     Total estimated model params size (MB)\n"
     ]
    },
    {
     "name": "stdout",
     "output_type": "stream",
     "text": [
      "-------------------- FOLD 9 -------------------\n",
      "train_subjects: ['ym223', 'ym215', 'ym212', 'ym214', 'ym227', 'ym213', 'ym226', 'ym220', 'ym218', 'ym219', 'ym222']\n",
      "test_subjects: ['ym224']\n",
      "------------------------------------------------------\n",
      "\n",
      "Epoch 0: [Val] val_loss: 0.686  val_f1score: 0.392  val_accuracy: 0.645  "
     ]
    },
    {
     "name": "stderr",
     "output_type": "stream",
     "text": [
      "Metric val_loss improved. New best score: 0.575\n"
     ]
    },
    {
     "name": "stdout",
     "output_type": "stream",
     "text": [
      "\n",
      "Epoch 0: [Val] val_loss: 0.575  val_f1score: 0.683  val_accuracy: 0.710     [Train] train_loss: 0.484  train_f1score: 0.758  train_accuracy: 0.761  \n",
      "Epoch 1: [Val] val_loss: 0.752  val_f1score: 0.582  val_accuracy: 0.673     [Train] train_loss: 0.355  train_f1score: 0.843  train_accuracy: 0.843  \n",
      "Epoch 2: [Val] val_loss: 0.867  val_f1score: 0.542  val_accuracy: 0.654     [Train] train_loss: 0.290  train_f1score: 0.873  train_accuracy: 0.874  \n",
      "Epoch 3: [Val] val_loss: 0.908  val_f1score: 0.575  val_accuracy: 0.670     [Train] train_loss: 0.255  train_f1score: 0.890  train_accuracy: 0.890  \n",
      "Epoch 4: [Val] val_loss: 1.309  val_f1score: 0.486  val_accuracy: 0.631     [Train] train_loss: 0.231  train_f1score: 0.901  train_accuracy: 0.902  \n"
     ]
    },
    {
     "name": "stderr",
     "output_type": "stream",
     "text": [
      "Monitored metric val_loss did not improve in the last 5 records. Best score: 0.575. Signaling Trainer to stop.\n"
     ]
    },
    {
     "name": "stdout",
     "output_type": "stream",
     "text": [
      "Epoch 5: [Val] val_loss: 1.284  val_f1score: 0.532  val_accuracy: 0.650     [Train] train_loss: 0.201  train_f1score: 0.913  train_accuracy: 0.914  \n"
     ]
    },
    {
     "name": "stderr",
     "output_type": "stream",
     "text": [
      "GPU available: True (cuda), used: True\n",
      "TPU available: False, using: 0 TPU cores\n",
      "IPU available: False, using: 0 IPUs\n",
      "HPU available: False, using: 0 HPUs\n",
      "Restoring states from the checkpoint path at ./processed_dataset/Model_Checkpoints/Best_model_Fold9.ckpt\n",
      "LOCAL_RANK: 0 - CUDA_VISIBLE_DEVICES: [0]\n",
      "Loaded model weights from checkpoint at ./processed_dataset/Model_Checkpoints/Best_model_Fold9.ckpt\n"
     ]
    },
    {
     "name": "stdout",
     "output_type": "stream",
     "text": [
      "[Test] test_loss: 0.575 test_f1score: 0.683 test_accuracy: 0.710 \n",
      "────────────────────────────────────────────────────────────────────────────────────────────────────────────────────────\n",
      "       Test metric             DataLoader 0\n",
      "────────────────────────────────────────────────────────────────────────────────────────────────────────────────────────\n",
      "      test_accuracy         0.7099190354347229\n",
      "      test_f1score          0.6833480596542358\n",
      "        test_loss           0.5746759176254272\n",
      "────────────────────────────────────────────────────────────────────────────────────────────────────────────────────────\n"
     ]
    },
    {
     "name": "stderr",
     "output_type": "stream",
     "text": [
      "GPU available: True (cuda), used: True\n",
      "TPU available: False, using: 0 TPU cores\n",
      "IPU available: False, using: 0 IPUs\n",
      "HPU available: False, using: 0 HPUs\n",
      "LOCAL_RANK: 0 - CUDA_VISIBLE_DEVICES: [0]\n",
      "\n",
      "  | Name          | Type                  | Params\n",
      "--------------------------------------------------------\n",
      "0 | model         | LFP_Transformer_LARGE | 842 K \n",
      "1 | _ce_fn        | CrossEntropyLoss      | 0     \n",
      "2 | train_loss    | MeanMetric            | 0     \n",
      "3 | val_loss      | MeanMetric            | 0     \n",
      "4 | test_loss     | MeanMetric            | 0     \n",
      "5 | train_metrics | MetricCollection      | 0     \n",
      "6 | val_metrics   | MetricCollection      | 0     \n",
      "7 | test_metrics  | MetricCollection      | 0     \n",
      "--------------------------------------------------------\n",
      "842 K     Trainable params\n",
      "0         Non-trainable params\n",
      "842 K     Total params\n",
      "3.371     Total estimated model params size (MB)\n"
     ]
    },
    {
     "name": "stdout",
     "output_type": "stream",
     "text": [
      "-------------------- FOLD 10 -------------------\n",
      "train_subjects: ['ym223', 'ym215', 'ym212', 'ym214', 'ym227', 'ym213', 'ym220', 'ym224', 'ym218', 'ym219', 'ym222']\n",
      "test_subjects: ['ym226']\n",
      "------------------------------------------------------\n",
      "\n",
      "Epoch 0: [Val] val_loss: 0.714  val_f1score: 0.155  val_accuracy: 0.184  "
     ]
    },
    {
     "name": "stderr",
     "output_type": "stream",
     "text": [
      "Metric val_loss improved. New best score: 1.376\n"
     ]
    },
    {
     "name": "stdout",
     "output_type": "stream",
     "text": [
      "\n",
      "Epoch 0: [Val] val_loss: 1.376  val_f1score: 0.371  val_accuracy: 0.497     [Train] train_loss: 0.459  train_f1score: 0.773  train_accuracy: 0.774  \n"
     ]
    },
    {
     "name": "stderr",
     "output_type": "stream",
     "text": [
      "Metric val_loss improved by 0.203 >= min_delta = 0.0. New best score: 1.173\n"
     ]
    },
    {
     "name": "stdout",
     "output_type": "stream",
     "text": [
      "Epoch 1: [Val] val_loss: 1.173  val_f1score: 0.407  val_accuracy: 0.517     [Train] train_loss: 0.359  train_f1score: 0.841  train_accuracy: 0.841  \n",
      "Epoch 2: [Val] val_loss: 1.342  val_f1score: 0.407  val_accuracy: 0.517     [Train] train_loss: 0.308  train_f1score: 0.867  train_accuracy: 0.867  \n",
      "Epoch 3: [Val] val_loss: 1.276  val_f1score: 0.452  val_accuracy: 0.542     [Train] train_loss: 0.276  train_f1score: 0.882  train_accuracy: 0.882  \n"
     ]
    },
    {
     "name": "stderr",
     "output_type": "stream",
     "text": [
      "Metric val_loss improved by 0.165 >= min_delta = 0.0. New best score: 1.007\n"
     ]
    },
    {
     "name": "stdout",
     "output_type": "stream",
     "text": [
      "Epoch 4: [Val] val_loss: 1.007  val_f1score: 0.572  val_accuracy: 0.617     [Train] train_loss: 0.254  train_f1score: 0.892  train_accuracy: 0.892  \n",
      "Epoch 5: [Val] val_loss: 1.309  val_f1score: 0.507  val_accuracy: 0.575     [Train] train_loss: 0.227  train_f1score: 0.904  train_accuracy: 0.904  \n",
      "Epoch 6: [Val] val_loss: 1.484  val_f1score: 0.466  val_accuracy: 0.551     [Train] train_loss: 0.201  train_f1score: 0.916  train_accuracy: 0.916  \n",
      "Epoch 7: [Val] val_loss: 1.425  val_f1score: 0.486  val_accuracy: 0.561     [Train] train_loss: 0.173  train_f1score: 0.930  train_accuracy: 0.930  \n",
      "Epoch 8: [Val] val_loss: 1.781  val_f1score: 0.458  val_accuracy: 0.545     [Train] train_loss: 0.142  train_f1score: 0.943  train_accuracy: 0.943  \n"
     ]
    },
    {
     "name": "stderr",
     "output_type": "stream",
     "text": [
      "Monitored metric val_loss did not improve in the last 5 records. Best score: 1.007. Signaling Trainer to stop.\n"
     ]
    },
    {
     "name": "stdout",
     "output_type": "stream",
     "text": [
      "Epoch 9: [Val] val_loss: 1.772  val_f1score: 0.534  val_accuracy: 0.588     [Train] train_loss: 0.115  train_f1score: 0.954  train_accuracy: 0.954  \n"
     ]
    },
    {
     "name": "stderr",
     "output_type": "stream",
     "text": [
      "GPU available: True (cuda), used: True\n",
      "TPU available: False, using: 0 TPU cores\n",
      "IPU available: False, using: 0 IPUs\n",
      "HPU available: False, using: 0 HPUs\n",
      "Restoring states from the checkpoint path at ./processed_dataset/Model_Checkpoints/Best_model_Fold10.ckpt\n",
      "LOCAL_RANK: 0 - CUDA_VISIBLE_DEVICES: [0]\n",
      "Loaded model weights from checkpoint at ./processed_dataset/Model_Checkpoints/Best_model_Fold10.ckpt\n"
     ]
    },
    {
     "name": "stdout",
     "output_type": "stream",
     "text": [
      "[Test] test_loss: 1.007 test_f1score: 0.572 test_accuracy: 0.617 \n",
      "────────────────────────────────────────────────────────────────────────────────────────────────────────────────────────\n",
      "       Test metric             DataLoader 0\n",
      "────────────────────────────────────────────────────────────────────────────────────────────────────────────────────────\n",
      "      test_accuracy         0.6174415946006775\n",
      "      test_f1score          0.5718165636062622\n",
      "        test_loss           1.0074787139892578\n",
      "────────────────────────────────────────────────────────────────────────────────────────────────────────────────────────\n"
     ]
    },
    {
     "name": "stderr",
     "output_type": "stream",
     "text": [
      "GPU available: True (cuda), used: True\n",
      "TPU available: False, using: 0 TPU cores\n",
      "IPU available: False, using: 0 IPUs\n",
      "HPU available: False, using: 0 HPUs\n",
      "LOCAL_RANK: 0 - CUDA_VISIBLE_DEVICES: [0]\n",
      "\n",
      "  | Name          | Type                  | Params\n",
      "--------------------------------------------------------\n",
      "0 | model         | LFP_Transformer_LARGE | 842 K \n",
      "1 | _ce_fn        | CrossEntropyLoss      | 0     \n",
      "2 | train_loss    | MeanMetric            | 0     \n",
      "3 | val_loss      | MeanMetric            | 0     \n",
      "4 | test_loss     | MeanMetric            | 0     \n",
      "5 | train_metrics | MetricCollection      | 0     \n",
      "6 | val_metrics   | MetricCollection      | 0     \n",
      "7 | test_metrics  | MetricCollection      | 0     \n",
      "--------------------------------------------------------\n",
      "842 K     Trainable params\n",
      "0         Non-trainable params\n",
      "842 K     Total params\n",
      "3.371     Total estimated model params size (MB)\n"
     ]
    },
    {
     "name": "stdout",
     "output_type": "stream",
     "text": [
      "-------------------- FOLD 11 -------------------\n",
      "train_subjects: ['ym223', 'ym215', 'ym212', 'ym214', 'ym213', 'ym226', 'ym220', 'ym224', 'ym218', 'ym219', 'ym222']\n",
      "test_subjects: ['ym227']\n",
      "------------------------------------------------------\n",
      "\n",
      "Epoch 0: [Val] val_loss: 0.771  val_f1score: 0.000  val_accuracy: 0.000  "
     ]
    },
    {
     "name": "stderr",
     "output_type": "stream",
     "text": [
      "Metric val_loss improved. New best score: 0.617\n"
     ]
    },
    {
     "name": "stdout",
     "output_type": "stream",
     "text": [
      "\n",
      "Epoch 0: [Val] val_loss: 0.617  val_f1score: 0.687  val_accuracy: 0.690     [Train] train_loss: 0.494  train_f1score: 0.756  train_accuracy: 0.757  \n"
     ]
    },
    {
     "name": "stderr",
     "output_type": "stream",
     "text": [
      "Metric val_loss improved by 0.118 >= min_delta = 0.0. New best score: 0.499\n"
     ]
    },
    {
     "name": "stdout",
     "output_type": "stream",
     "text": [
      "Epoch 1: [Val] val_loss: 0.499  val_f1score: 0.753  val_accuracy: 0.754     [Train] train_loss: 0.382  train_f1score: 0.825  train_accuracy: 0.825  \n",
      "Epoch 2: [Val] val_loss: 0.501  val_f1score: 0.758  val_accuracy: 0.758     [Train] train_loss: 0.335  train_f1score: 0.850  train_accuracy: 0.850  \n",
      "Epoch 3: [Val] val_loss: 0.515  val_f1score: 0.751  val_accuracy: 0.751     [Train] train_loss: 0.309  train_f1score: 0.863  train_accuracy: 0.863  \n"
     ]
    },
    {
     "name": "stderr",
     "output_type": "stream",
     "text": [
      "Metric val_loss improved by 0.032 >= min_delta = 0.0. New best score: 0.467\n"
     ]
    },
    {
     "name": "stdout",
     "output_type": "stream",
     "text": [
      "Epoch 4: [Val] val_loss: 0.467  val_f1score: 0.773  val_accuracy: 0.774     [Train] train_loss: 0.288  train_f1score: 0.873  train_accuracy: 0.873  \n",
      "Epoch 5: [Val] val_loss: 0.581  val_f1score: 0.756  val_accuracy: 0.756     [Train] train_loss: 0.262  train_f1score: 0.885  train_accuracy: 0.886  \n",
      "Epoch 6: [Val] val_loss: 0.849  val_f1score: 0.688  val_accuracy: 0.693     [Train] train_loss: 0.235  train_f1score: 0.898  train_accuracy: 0.899  \n",
      "Epoch 7: [Val] val_loss: 0.563  val_f1score: 0.783  val_accuracy: 0.784     [Train] train_loss: 0.205  train_f1score: 0.914  train_accuracy: 0.914  \n",
      "Epoch 8: [Val] val_loss: 0.877  val_f1score: 0.719  val_accuracy: 0.723     [Train] train_loss: 0.170  train_f1score: 0.929  train_accuracy: 0.929  \n"
     ]
    },
    {
     "name": "stderr",
     "output_type": "stream",
     "text": [
      "Monitored metric val_loss did not improve in the last 5 records. Best score: 0.467. Signaling Trainer to stop.\n"
     ]
    },
    {
     "name": "stdout",
     "output_type": "stream",
     "text": [
      "Epoch 9: [Val] val_loss: 0.954  val_f1score: 0.723  val_accuracy: 0.726     [Train] train_loss: 0.137  train_f1score: 0.945  train_accuracy: 0.945  \n"
     ]
    },
    {
     "name": "stderr",
     "output_type": "stream",
     "text": [
      "GPU available: True (cuda), used: True\n",
      "TPU available: False, using: 0 TPU cores\n",
      "IPU available: False, using: 0 IPUs\n",
      "HPU available: False, using: 0 HPUs\n",
      "Restoring states from the checkpoint path at ./processed_dataset/Model_Checkpoints/Best_model_Fold11.ckpt\n",
      "LOCAL_RANK: 0 - CUDA_VISIBLE_DEVICES: [0]\n",
      "Loaded model weights from checkpoint at ./processed_dataset/Model_Checkpoints/Best_model_Fold11.ckpt\n"
     ]
    },
    {
     "name": "stdout",
     "output_type": "stream",
     "text": [
      "[Test] test_loss: 0.467 test_f1score: 0.773 test_accuracy: 0.774 \n",
      "────────────────────────────────────────────────────────────────────────────────────────────────────────────────────────\n",
      "       Test metric             DataLoader 0\n",
      "────────────────────────────────────────────────────────────────────────────────────────────────────────────────────────\n",
      "      test_accuracy         0.7744901776313782\n",
      "      test_f1score           0.773139238357544\n",
      "        test_loss           0.46712708473205566\n",
      "────────────────────────────────────────────────────────────────────────────────────────────────────────────────────────\n"
     ]
    }
   ],
   "source": [
    "best_f1_scores_all = []\n",
    "\n",
    "for i, (train_dataset, val_dataset) in enumerate(k_fold.split(dataset)):\n",
    "    \n",
    "    # ------------------------------------------- \n",
    "    # Initialize the model\n",
    "    model = LFP_Transformer_LARGE(depth=5)  # 5 transformer blocks, namely, x LARGE MODEL\n",
    "    \n",
    "    # ------------------------------------------- \n",
    "    # Initialize the trainer and use the 0-th GPU for training, or set device_ids=[] to use CPU\n",
    "    # The major parameters of the trainer are defined in ClassifierTrainer\n",
    "    trainer = ClassifierTrainer(model=model,\n",
    "                                lr=1e-4,\n",
    "                                devices=1,\n",
    "                                accelerator='gpu',\n",
    "                                num_classes=2,\n",
    "                                weight_decay=1e-4,\n",
    "                                save_attention=True,\n",
    "                                save_test_f1=True)\n",
    "\n",
    "    # ------------------------------------------- \n",
    "    # Initialize several batches of training samples and test samples\n",
    "    # Data loader. Combines a dataset and a sampler, and provides an iterable over the given dataset.\n",
    "    train_loader = DataLoader(train_dataset,\n",
    "                              batch_size=128,\n",
    "                              shuffle=True,\n",
    "                              num_workers=CPU_num)\n",
    "    \n",
    "    val_loader = DataLoader(val_dataset,\n",
    "                            batch_size=128,\n",
    "                            shuffle=False,\n",
    "                            num_workers=CPU_num)\n",
    "    # shuffle=False, very important, do not shuffle the samples in the validation set\n",
    "    # in the validation and test phase, just feed all the samples in the default order,\n",
    "    # for example, in fold0, the order is ym212_Recent_0, ym212_Recent_1, ym212_Recent_2, ...\n",
    "\n",
    "    # ------------------------------------------- \n",
    "    # Do 50 rounds of training\n",
    "    trainer.fit(train_loader, val_loader, fold_idx=i, max_epochs=30)\n",
    "\n",
    "    # ------------------------------------------- \n",
    "    # Test the model on the test set\n",
    "    # during the test period, for each batch with batch_size samples, the desired attention scores, \n",
    "    # i.e., the attention scores between the cls token and the patch tokens in the first transformer block,\n",
    "    # are saved in the trainer.saved_attention, which is a list with several arrays (shape = (batch_size, num_heads, num_patches))\n",
    "    trainer.test(val_loader, fold_idx=i)\n",
    "\n",
    "    # ----- Process the predictions of the test samples, attach each prediction to the corresponding sample\n",
    "    saved_predictions = trainer.saved_predictions_all\n",
    "    saved_predictions = np.concatenate(saved_predictions, axis=0)  # shape = (num_samples, num_classes) = (num_samples, 2)\n",
    "    # apply softmax to each row, namely, the predictions for each sample\n",
    "    saved_predictions = np.exp(saved_predictions) / np.sum(np.exp(saved_predictions), axis=1, keepdims=True)\n",
    "    # to pandas dataframe. the first column is 'class 0 probability', the second column is 'class 1 probability'\n",
    "    saved_predictions = pd.DataFrame(saved_predictions, columns=['class 0 probability', 'class 1 probability'])\n",
    "    # load the corresponding test samples\n",
    "    test_sample_info = pd.read_csv(f'./processed_dataset/cross_subject_k_fold_spilt/test_fold_{i}.csv')\n",
    "    # concatenate the test sample info and the predictions\n",
    "    test_sample_info = pd.concat([test_sample_info, saved_predictions], axis=1)\n",
    "    # save the test sample info and the predictions\n",
    "    test_sample_info.to_csv(f'./processed_dataset/cross_subject_k_fold_spilt/test_fold_{i}.csv', index=False)\n",
    "\n",
    "    # ----- Process the attention scores\n",
    "    # Access the saved attention matrices in the TEST phase\n",
    "    attention_matrices = trainer.saved_attention_all\n",
    "    # concat attention_matrices in the batch dimension\n",
    "    attention_matrices = np.concatenate(attention_matrices, axis=0)  # shape = (num_samples, num_heads, num_patches) = (num_samples, 4, 17)\n",
    "    # create a folder in ./processed_dataset/ to save the attention matrices if not exist\n",
    "    if not os.path.exists('./processed_dataset/attention_scores/'):\n",
    "        os.makedirs('./processed_dataset/attention_scores/')\n",
    "    np.save('./processed_dataset/attention_scores/attention_from_the_test_subject_in_Fold%d.npy' % i, attention_matrices)\n",
    "\n",
    "    # ----- save the base test F1 scores for each fold (mouse) -----\n",
    "    best_f1_scores_all.append(trainer.test_f1.cpu().numpy())"
   ]
  },
  {
   "cell_type": "code",
   "execution_count": 8,
   "metadata": {},
   "outputs": [],
   "source": [
    "# save best_f1_scores_all to ./perturbation_samples/results/\n",
    "if not os.path.exists('./processed_dataset/perturbation_samples/results/'):\n",
    "    os.makedirs('./processed_dataset/perturbation_samples/results/')\n",
    "np.save('./processed_dataset/perturbation_samples/results/best_f1_scores_all.npy', np.array(best_f1_scores_all))"
   ]
  },
  {
   "cell_type": "markdown",
   "metadata": {},
   "source": [
    "## Feature perturbation analysis"
   ]
  },
  {
   "cell_type": "code",
   "execution_count": null,
   "metadata": {},
   "outputs": [],
   "source": [
    "from torcheeg.datasets import MemoryAgeDataset_perturbation"
   ]
  },
  {
   "cell_type": "code",
   "execution_count": null,
   "metadata": {},
   "outputs": [],
   "source": [
    "perturbation_features = ['ACC_theta', 'CA1_theta', 'BLA_theta', \n",
    "                         'ACC_beta', 'CA1_beta', 'BLA_beta', \n",
    "                         'ACC_sGamma', 'CA1_sGamma', 'BLA_sGamma', \n",
    "                         'ACC_fGamma', 'CA1_fGamma', 'BLA_fGamma']\n",
    "\n",
    "channel_map = {'ACC': 0, 'CA1': 1, 'BLA': 2}\n",
    "freq_map = {'theta': [6,12], 'beta': [20,30], 'sGamma': [30,50], 'fGamma': [60,90]}"
   ]
  },
  {
   "cell_type": "code",
   "execution_count": null,
   "metadata": {},
   "outputs": [
    {
     "name": "stdout",
     "output_type": "stream",
     "text": [
      "====================================================================================================\n",
      "                    erased_feature: ACC_theta\n",
      "====================================================================================================\n",
      "dataset does not exist at path ./processed_dataset/perturbation_samples/ACC_theta, generating files to path...\n"
     ]
    },
    {
     "name": "stderr",
     "output_type": "stream",
     "text": [
      "[PROCESS]: 100%|██████████| 24/24 [04:41<00:00, 11.72s/it]\n"
     ]
    },
    {
     "name": "stdout",
     "output_type": "stream",
     "text": [
      "dataset already exists at path ./processed_dataset/perturbation_samples/ACC_theta, reading from path...\n"
     ]
    },
    {
     "name": "stderr",
     "output_type": "stream",
     "text": [
      "GPU available: True (cuda), used: True\n",
      "TPU available: False, using: 0 TPU cores\n",
      "IPU available: False, using: 0 IPUs\n",
      "HPU available: False, using: 0 HPUs\n",
      "Restoring states from the checkpoint path at ./processed_dataset/Model_Checkpoints/Best_model_Fold0.ckpt\n",
      "LOCAL_RANK: 0 - CUDA_VISIBLE_DEVICES: [0]\n"
     ]
    },
    {
     "name": "stdout",
     "output_type": "stream",
     "text": [
      "-------------------- FOLD 0 -------------------\n",
      "train_subjects: ['ym226', 'ym214', 'ym224', 'ym220', 'ym213', 'ym227', 'ym215', 'ym222', 'ym218', 'ym223', 'ym219']\n",
      "test_subjects: ['ym212']\n",
      "------------------------------------------------------\n"
     ]
    },
    {
     "name": "stderr",
     "output_type": "stream",
     "text": [
      "Loaded model weights from checkpoint at ./processed_dataset/Model_Checkpoints/Best_model_Fold0.ckpt\n"
     ]
    },
    {
     "name": "stdout",
     "output_type": "stream",
     "text": [
      "[Test] test_loss: 0.317 test_f1score: 0.837 test_accuracy: 0.865 \n",
      "────────────────────────────────────────────────────────────────────────────────────────────────────────────────────────\n",
      "       Test metric             DataLoader 0\n",
      "────────────────────────────────────────────────────────────────────────────────────────────────────────────────────────\n",
      "      test_accuracy          0.864728569984436\n",
      "      test_f1score          0.8373522758483887\n",
      "        test_loss           0.3172647953033447\n",
      "────────────────────────────────────────────────────────────────────────────────────────────────────────────────────────\n"
     ]
    },
    {
     "name": "stderr",
     "output_type": "stream",
     "text": [
      "GPU available: True (cuda), used: True\n",
      "TPU available: False, using: 0 TPU cores\n",
      "IPU available: False, using: 0 IPUs\n",
      "HPU available: False, using: 0 HPUs\n",
      "Restoring states from the checkpoint path at ./processed_dataset/Model_Checkpoints/Best_model_Fold1.ckpt\n",
      "LOCAL_RANK: 0 - CUDA_VISIBLE_DEVICES: [0]\n"
     ]
    },
    {
     "name": "stdout",
     "output_type": "stream",
     "text": [
      "\n",
      "\n",
      "\n",
      "\n",
      "-------------------- FOLD 1 -------------------\n",
      "train_subjects: ['ym226', 'ym214', 'ym224', 'ym220', 'ym227', 'ym212', 'ym215', 'ym222', 'ym218', 'ym223', 'ym219']\n",
      "test_subjects: ['ym213']\n",
      "------------------------------------------------------\n"
     ]
    },
    {
     "name": "stderr",
     "output_type": "stream",
     "text": [
      "Loaded model weights from checkpoint at ./processed_dataset/Model_Checkpoints/Best_model_Fold1.ckpt\n"
     ]
    },
    {
     "name": "stdout",
     "output_type": "stream",
     "text": [
      "[Test] test_loss: 0.416 test_f1score: 0.802 test_accuracy: 0.811 \n",
      "────────────────────────────────────────────────────────────────────────────────────────────────────────────────────────\n",
      "       Test metric             DataLoader 0\n",
      "────────────────────────────────────────────────────────────────────────────────────────────────────────────────────────\n",
      "      test_accuracy         0.8113496899604797\n",
      "      test_f1score          0.8021491765975952\n",
      "        test_loss           0.41550037264823914\n",
      "────────────────────────────────────────────────────────────────────────────────────────────────────────────────────────\n"
     ]
    },
    {
     "name": "stderr",
     "output_type": "stream",
     "text": [
      "GPU available: True (cuda), used: True\n",
      "TPU available: False, using: 0 TPU cores\n",
      "IPU available: False, using: 0 IPUs\n",
      "HPU available: False, using: 0 HPUs\n",
      "Restoring states from the checkpoint path at ./processed_dataset/Model_Checkpoints/Best_model_Fold2.ckpt\n",
      "LOCAL_RANK: 0 - CUDA_VISIBLE_DEVICES: [0]\n"
     ]
    },
    {
     "name": "stdout",
     "output_type": "stream",
     "text": [
      "\n",
      "\n",
      "\n",
      "\n",
      "-------------------- FOLD 2 -------------------\n",
      "train_subjects: ['ym226', 'ym224', 'ym220', 'ym213', 'ym227', 'ym212', 'ym215', 'ym222', 'ym218', 'ym223', 'ym219']\n",
      "test_subjects: ['ym214']\n",
      "------------------------------------------------------\n"
     ]
    },
    {
     "name": "stderr",
     "output_type": "stream",
     "text": [
      "Loaded model weights from checkpoint at ./processed_dataset/Model_Checkpoints/Best_model_Fold2.ckpt\n"
     ]
    },
    {
     "name": "stdout",
     "output_type": "stream",
     "text": [
      "[Test] test_loss: 0.279 test_f1score: 0.897 test_accuracy: 0.906 \n",
      "────────────────────────────────────────────────────────────────────────────────────────────────────────────────────────\n",
      "       Test metric             DataLoader 0\n",
      "────────────────────────────────────────────────────────────────────────────────────────────────────────────────────────\n",
      "      test_accuracy          0.906205952167511\n",
      "      test_f1score          0.8972643613815308\n",
      "        test_loss           0.2787240445613861\n",
      "────────────────────────────────────────────────────────────────────────────────────────────────────────────────────────\n"
     ]
    },
    {
     "name": "stderr",
     "output_type": "stream",
     "text": [
      "GPU available: True (cuda), used: True\n",
      "TPU available: False, using: 0 TPU cores\n",
      "IPU available: False, using: 0 IPUs\n",
      "HPU available: False, using: 0 HPUs\n",
      "Restoring states from the checkpoint path at ./processed_dataset/Model_Checkpoints/Best_model_Fold3.ckpt\n",
      "LOCAL_RANK: 0 - CUDA_VISIBLE_DEVICES: [0]\n"
     ]
    },
    {
     "name": "stdout",
     "output_type": "stream",
     "text": [
      "\n",
      "\n",
      "\n",
      "\n",
      "-------------------- FOLD 3 -------------------\n",
      "train_subjects: ['ym226', 'ym214', 'ym224', 'ym220', 'ym213', 'ym227', 'ym212', 'ym222', 'ym218', 'ym223', 'ym219']\n",
      "test_subjects: ['ym215']\n",
      "------------------------------------------------------\n"
     ]
    },
    {
     "name": "stderr",
     "output_type": "stream",
     "text": [
      "Loaded model weights from checkpoint at ./processed_dataset/Model_Checkpoints/Best_model_Fold3.ckpt\n"
     ]
    },
    {
     "name": "stdout",
     "output_type": "stream",
     "text": [
      "[Test] test_loss: 0.402 test_f1score: 0.820 test_accuracy: 0.829 \n",
      "────────────────────────────────────────────────────────────────────────────────────────────────────────────────────────\n",
      "       Test metric             DataLoader 0\n",
      "────────────────────────────────────────────────────────────────────────────────────────────────────────────────────────\n",
      "      test_accuracy         0.8288406133651733\n",
      "      test_f1score          0.8196851015090942\n",
      "        test_loss           0.4015101194381714\n",
      "────────────────────────────────────────────────────────────────────────────────────────────────────────────────────────\n"
     ]
    },
    {
     "name": "stderr",
     "output_type": "stream",
     "text": [
      "GPU available: True (cuda), used: True\n",
      "TPU available: False, using: 0 TPU cores\n",
      "IPU available: False, using: 0 IPUs\n",
      "HPU available: False, using: 0 HPUs\n",
      "Restoring states from the checkpoint path at ./processed_dataset/Model_Checkpoints/Best_model_Fold4.ckpt\n",
      "LOCAL_RANK: 0 - CUDA_VISIBLE_DEVICES: [0]\n"
     ]
    },
    {
     "name": "stdout",
     "output_type": "stream",
     "text": [
      "\n",
      "\n",
      "\n",
      "\n",
      "-------------------- FOLD 4 -------------------\n",
      "train_subjects: ['ym226', 'ym214', 'ym224', 'ym220', 'ym213', 'ym227', 'ym212', 'ym215', 'ym222', 'ym223', 'ym219']\n",
      "test_subjects: ['ym218']\n",
      "------------------------------------------------------\n"
     ]
    },
    {
     "name": "stderr",
     "output_type": "stream",
     "text": [
      "Loaded model weights from checkpoint at ./processed_dataset/Model_Checkpoints/Best_model_Fold4.ckpt\n"
     ]
    },
    {
     "name": "stdout",
     "output_type": "stream",
     "text": [
      "[Test] test_loss: 0.423 test_f1score: 0.799 test_accuracy: 0.806 \n",
      "────────────────────────────────────────────────────────────────────────────────────────────────────────────────────────\n",
      "       Test metric             DataLoader 0\n",
      "────────────────────────────────────────────────────────────────────────────────────────────────────────────────────────\n",
      "      test_accuracy         0.8055440783500671\n",
      "      test_f1score          0.7993398904800415\n",
      "        test_loss           0.42251718044281006\n",
      "────────────────────────────────────────────────────────────────────────────────────────────────────────────────────────\n"
     ]
    },
    {
     "name": "stderr",
     "output_type": "stream",
     "text": [
      "GPU available: True (cuda), used: True\n",
      "TPU available: False, using: 0 TPU cores\n",
      "IPU available: False, using: 0 IPUs\n",
      "HPU available: False, using: 0 HPUs\n",
      "Restoring states from the checkpoint path at ./processed_dataset/Model_Checkpoints/Best_model_Fold5.ckpt\n",
      "LOCAL_RANK: 0 - CUDA_VISIBLE_DEVICES: [0]\n"
     ]
    },
    {
     "name": "stdout",
     "output_type": "stream",
     "text": [
      "\n",
      "\n",
      "\n",
      "\n",
      "-------------------- FOLD 5 -------------------\n",
      "train_subjects: ['ym226', 'ym214', 'ym224', 'ym220', 'ym213', 'ym227', 'ym212', 'ym215', 'ym222', 'ym218', 'ym223']\n",
      "test_subjects: ['ym219']\n",
      "------------------------------------------------------\n"
     ]
    },
    {
     "name": "stderr",
     "output_type": "stream",
     "text": [
      "Loaded model weights from checkpoint at ./processed_dataset/Model_Checkpoints/Best_model_Fold5.ckpt\n"
     ]
    },
    {
     "name": "stdout",
     "output_type": "stream",
     "text": [
      "[Test] test_loss: 0.348 test_f1score: 0.840 test_accuracy: 0.843 \n",
      "────────────────────────────────────────────────────────────────────────────────────────────────────────────────────────\n",
      "       Test metric             DataLoader 0\n",
      "────────────────────────────────────────────────────────────────────────────────────────────────────────────────────────\n",
      "      test_accuracy         0.8430417776107788\n",
      "      test_f1score          0.8402402997016907\n",
      "        test_loss           0.3482150435447693\n",
      "────────────────────────────────────────────────────────────────────────────────────────────────────────────────────────\n"
     ]
    },
    {
     "name": "stderr",
     "output_type": "stream",
     "text": [
      "GPU available: True (cuda), used: True\n",
      "TPU available: False, using: 0 TPU cores\n",
      "IPU available: False, using: 0 IPUs\n",
      "HPU available: False, using: 0 HPUs\n",
      "Restoring states from the checkpoint path at ./processed_dataset/Model_Checkpoints/Best_model_Fold6.ckpt\n",
      "LOCAL_RANK: 0 - CUDA_VISIBLE_DEVICES: [0]\n"
     ]
    },
    {
     "name": "stdout",
     "output_type": "stream",
     "text": [
      "\n",
      "\n",
      "\n",
      "\n",
      "-------------------- FOLD 6 -------------------\n",
      "train_subjects: ['ym226', 'ym214', 'ym224', 'ym213', 'ym227', 'ym212', 'ym215', 'ym222', 'ym218', 'ym223', 'ym219']\n",
      "test_subjects: ['ym220']\n",
      "------------------------------------------------------\n"
     ]
    },
    {
     "name": "stderr",
     "output_type": "stream",
     "text": [
      "Loaded model weights from checkpoint at ./processed_dataset/Model_Checkpoints/Best_model_Fold6.ckpt\n"
     ]
    },
    {
     "name": "stdout",
     "output_type": "stream",
     "text": [
      "[Test] test_loss: 0.515 test_f1score: 0.701 test_accuracy: 0.781 \n",
      "────────────────────────────────────────────────────────────────────────────────────────────────────────────────────────\n",
      "       Test metric             DataLoader 0\n",
      "────────────────────────────────────────────────────────────────────────────────────────────────────────────────────────\n",
      "      test_accuracy         0.7814013361930847\n",
      "      test_f1score          0.7009958028793335\n",
      "        test_loss            0.515247106552124\n",
      "────────────────────────────────────────────────────────────────────────────────────────────────────────────────────────\n"
     ]
    },
    {
     "name": "stderr",
     "output_type": "stream",
     "text": [
      "GPU available: True (cuda), used: True\n",
      "TPU available: False, using: 0 TPU cores\n",
      "IPU available: False, using: 0 IPUs\n",
      "HPU available: False, using: 0 HPUs\n",
      "Restoring states from the checkpoint path at ./processed_dataset/Model_Checkpoints/Best_model_Fold7.ckpt\n",
      "LOCAL_RANK: 0 - CUDA_VISIBLE_DEVICES: [0]\n"
     ]
    },
    {
     "name": "stdout",
     "output_type": "stream",
     "text": [
      "\n",
      "\n",
      "\n",
      "\n",
      "-------------------- FOLD 7 -------------------\n",
      "train_subjects: ['ym226', 'ym214', 'ym224', 'ym220', 'ym213', 'ym227', 'ym212', 'ym215', 'ym218', 'ym223', 'ym219']\n",
      "test_subjects: ['ym222']\n",
      "------------------------------------------------------\n"
     ]
    },
    {
     "name": "stderr",
     "output_type": "stream",
     "text": [
      "Loaded model weights from checkpoint at ./processed_dataset/Model_Checkpoints/Best_model_Fold7.ckpt\n"
     ]
    },
    {
     "name": "stdout",
     "output_type": "stream",
     "text": [
      "[Test] test_loss: 0.925 test_f1score: 0.538 test_accuracy: 0.548 \n",
      "────────────────────────────────────────────────────────────────────────────────────────────────────────────────────────\n",
      "       Test metric             DataLoader 0\n",
      "────────────────────────────────────────────────────────────────────────────────────────────────────────────────────────\n",
      "      test_accuracy         0.5478522777557373\n",
      "      test_f1score          0.5383551120758057\n",
      "        test_loss           0.9248782992362976\n",
      "────────────────────────────────────────────────────────────────────────────────────────────────────────────────────────\n"
     ]
    },
    {
     "name": "stderr",
     "output_type": "stream",
     "text": [
      "GPU available: True (cuda), used: True\n",
      "TPU available: False, using: 0 TPU cores\n",
      "IPU available: False, using: 0 IPUs\n",
      "HPU available: False, using: 0 HPUs\n",
      "Restoring states from the checkpoint path at ./processed_dataset/Model_Checkpoints/Best_model_Fold8.ckpt\n",
      "LOCAL_RANK: 0 - CUDA_VISIBLE_DEVICES: [0]\n"
     ]
    },
    {
     "name": "stdout",
     "output_type": "stream",
     "text": [
      "\n",
      "\n",
      "\n",
      "\n",
      "-------------------- FOLD 8 -------------------\n",
      "train_subjects: ['ym226', 'ym214', 'ym224', 'ym220', 'ym213', 'ym227', 'ym212', 'ym215', 'ym222', 'ym218', 'ym219']\n",
      "test_subjects: ['ym223']\n",
      "------------------------------------------------------\n"
     ]
    },
    {
     "name": "stderr",
     "output_type": "stream",
     "text": [
      "Loaded model weights from checkpoint at ./processed_dataset/Model_Checkpoints/Best_model_Fold8.ckpt\n"
     ]
    },
    {
     "name": "stdout",
     "output_type": "stream",
     "text": [
      "[Test] test_loss: 0.570 test_f1score: 0.696 test_accuracy: 0.709 \n",
      "────────────────────────────────────────────────────────────────────────────────────────────────────────────────────────\n",
      "       Test metric             DataLoader 0\n",
      "────────────────────────────────────────────────────────────────────────────────────────────────────────────────────────\n",
      "      test_accuracy         0.7094570398330688\n",
      "      test_f1score          0.6959089040756226\n",
      "        test_loss           0.5698571801185608\n",
      "────────────────────────────────────────────────────────────────────────────────────────────────────────────────────────\n"
     ]
    },
    {
     "name": "stderr",
     "output_type": "stream",
     "text": [
      "GPU available: True (cuda), used: True\n",
      "TPU available: False, using: 0 TPU cores\n",
      "IPU available: False, using: 0 IPUs\n",
      "HPU available: False, using: 0 HPUs\n",
      "Restoring states from the checkpoint path at ./processed_dataset/Model_Checkpoints/Best_model_Fold9.ckpt\n",
      "LOCAL_RANK: 0 - CUDA_VISIBLE_DEVICES: [0]\n"
     ]
    },
    {
     "name": "stdout",
     "output_type": "stream",
     "text": [
      "\n",
      "\n",
      "\n",
      "\n",
      "-------------------- FOLD 9 -------------------\n",
      "train_subjects: ['ym226', 'ym214', 'ym220', 'ym213', 'ym227', 'ym212', 'ym215', 'ym222', 'ym218', 'ym223', 'ym219']\n",
      "test_subjects: ['ym224']\n",
      "------------------------------------------------------\n"
     ]
    },
    {
     "name": "stderr",
     "output_type": "stream",
     "text": [
      "Loaded model weights from checkpoint at ./processed_dataset/Model_Checkpoints/Best_model_Fold9.ckpt\n"
     ]
    },
    {
     "name": "stdout",
     "output_type": "stream",
     "text": [
      "[Test] test_loss: 0.601 test_f1score: 0.638 test_accuracy: 0.697 \n",
      "────────────────────────────────────────────────────────────────────────────────────────────────────────────────────────\n",
      "       Test metric             DataLoader 0\n",
      "────────────────────────────────────────────────────────────────────────────────────────────────────────────────────────\n",
      "      test_accuracy         0.6969635486602783\n",
      "      test_f1score          0.6376261711120605\n",
      "        test_loss           0.6005756258964539\n",
      "────────────────────────────────────────────────────────────────────────────────────────────────────────────────────────\n"
     ]
    },
    {
     "name": "stderr",
     "output_type": "stream",
     "text": [
      "GPU available: True (cuda), used: True\n",
      "TPU available: False, using: 0 TPU cores\n",
      "IPU available: False, using: 0 IPUs\n",
      "HPU available: False, using: 0 HPUs\n",
      "Restoring states from the checkpoint path at ./processed_dataset/Model_Checkpoints/Best_model_Fold10.ckpt\n",
      "LOCAL_RANK: 0 - CUDA_VISIBLE_DEVICES: [0]\n"
     ]
    },
    {
     "name": "stdout",
     "output_type": "stream",
     "text": [
      "\n",
      "\n",
      "\n",
      "\n",
      "-------------------- FOLD 10 -------------------\n",
      "train_subjects: ['ym214', 'ym224', 'ym220', 'ym213', 'ym227', 'ym212', 'ym215', 'ym222', 'ym218', 'ym223', 'ym219']\n",
      "test_subjects: ['ym226']\n",
      "------------------------------------------------------\n"
     ]
    },
    {
     "name": "stderr",
     "output_type": "stream",
     "text": [
      "Loaded model weights from checkpoint at ./processed_dataset/Model_Checkpoints/Best_model_Fold10.ckpt\n"
     ]
    },
    {
     "name": "stdout",
     "output_type": "stream",
     "text": [
      "[Test] test_loss: 0.591 test_f1score: 0.727 test_accuracy: 0.734 \n",
      "────────────────────────────────────────────────────────────────────────────────────────────────────────────────────────\n",
      "       Test metric             DataLoader 0\n",
      "────────────────────────────────────────────────────────────────────────────────────────────────────────────────────────\n",
      "      test_accuracy          0.733558177947998\n",
      "      test_f1score          0.7270910143852234\n",
      "        test_loss            0.590973973274231\n",
      "────────────────────────────────────────────────────────────────────────────────────────────────────────────────────────\n"
     ]
    },
    {
     "name": "stderr",
     "output_type": "stream",
     "text": [
      "GPU available: True (cuda), used: True\n",
      "TPU available: False, using: 0 TPU cores\n",
      "IPU available: False, using: 0 IPUs\n",
      "HPU available: False, using: 0 HPUs\n",
      "Restoring states from the checkpoint path at ./processed_dataset/Model_Checkpoints/Best_model_Fold11.ckpt\n",
      "LOCAL_RANK: 0 - CUDA_VISIBLE_DEVICES: [0]\n"
     ]
    },
    {
     "name": "stdout",
     "output_type": "stream",
     "text": [
      "\n",
      "\n",
      "\n",
      "\n",
      "-------------------- FOLD 11 -------------------\n",
      "train_subjects: ['ym226', 'ym214', 'ym224', 'ym220', 'ym213', 'ym212', 'ym215', 'ym222', 'ym218', 'ym223', 'ym219']\n",
      "test_subjects: ['ym227']\n",
      "------------------------------------------------------\n"
     ]
    },
    {
     "name": "stderr",
     "output_type": "stream",
     "text": [
      "Loaded model weights from checkpoint at ./processed_dataset/Model_Checkpoints/Best_model_Fold11.ckpt\n"
     ]
    },
    {
     "name": "stdout",
     "output_type": "stream",
     "text": [
      "[Test] test_loss: 0.821 test_f1score: 0.585 test_accuracy: 0.661 \n",
      "────────────────────────────────────────────────────────────────────────────────────────────────────────────────────────\n",
      "       Test metric             DataLoader 0\n",
      "────────────────────────────────────────────────────────────────────────────────────────────────────────────────────────\n",
      "      test_accuracy          0.660935640335083\n",
      "      test_f1score          0.5854895114898682\n",
      "        test_loss           0.8208633661270142\n",
      "────────────────────────────────────────────────────────────────────────────────────────────────────────────────────────\n",
      "\n",
      "\n",
      "\n",
      "\n",
      "====================================================================================================\n",
      "                    erased_feature: CA1_theta\n",
      "====================================================================================================\n",
      "dataset does not exist at path ./processed_dataset/perturbation_samples/CA1_theta, generating files to path...\n"
     ]
    },
    {
     "name": "stderr",
     "output_type": "stream",
     "text": [
      "[PROCESS]: 100%|██████████| 24/24 [04:40<00:00, 11.70s/it]\n"
     ]
    },
    {
     "name": "stdout",
     "output_type": "stream",
     "text": [
      "dataset already exists at path ./processed_dataset/perturbation_samples/CA1_theta, reading from path...\n"
     ]
    },
    {
     "name": "stderr",
     "output_type": "stream",
     "text": [
      "GPU available: True (cuda), used: True\n",
      "TPU available: False, using: 0 TPU cores\n",
      "IPU available: False, using: 0 IPUs\n",
      "HPU available: False, using: 0 HPUs\n",
      "Restoring states from the checkpoint path at ./processed_dataset/Model_Checkpoints/Best_model_Fold0.ckpt\n",
      "LOCAL_RANK: 0 - CUDA_VISIBLE_DEVICES: [0]\n"
     ]
    },
    {
     "name": "stdout",
     "output_type": "stream",
     "text": [
      "-------------------- FOLD 0 -------------------\n",
      "train_subjects: ['ym226', 'ym214', 'ym224', 'ym220', 'ym213', 'ym227', 'ym215', 'ym222', 'ym218', 'ym223', 'ym219']\n",
      "test_subjects: ['ym212']\n",
      "------------------------------------------------------\n"
     ]
    },
    {
     "name": "stderr",
     "output_type": "stream",
     "text": [
      "Loaded model weights from checkpoint at ./processed_dataset/Model_Checkpoints/Best_model_Fold0.ckpt\n"
     ]
    },
    {
     "name": "stdout",
     "output_type": "stream",
     "text": [
      "[Test] test_loss: 3.390 test_f1score: 0.258 test_accuracy: 0.346 \n",
      "────────────────────────────────────────────────────────────────────────────────────────────────────────────────────────\n",
      "       Test metric             DataLoader 0\n",
      "────────────────────────────────────────────────────────────────────────────────────────────────────────────────────────\n",
      "      test_accuracy         0.3464847207069397\n",
      "      test_f1score          0.2583622932434082\n",
      "        test_loss           3.3904693126678467\n",
      "────────────────────────────────────────────────────────────────────────────────────────────────────────────────────────\n"
     ]
    },
    {
     "name": "stderr",
     "output_type": "stream",
     "text": [
      "GPU available: True (cuda), used: True\n",
      "TPU available: False, using: 0 TPU cores\n",
      "IPU available: False, using: 0 IPUs\n",
      "HPU available: False, using: 0 HPUs\n",
      "Restoring states from the checkpoint path at ./processed_dataset/Model_Checkpoints/Best_model_Fold1.ckpt\n",
      "LOCAL_RANK: 0 - CUDA_VISIBLE_DEVICES: [0]\n"
     ]
    },
    {
     "name": "stdout",
     "output_type": "stream",
     "text": [
      "\n",
      "\n",
      "\n",
      "\n",
      "-------------------- FOLD 1 -------------------\n",
      "train_subjects: ['ym226', 'ym214', 'ym224', 'ym220', 'ym227', 'ym212', 'ym215', 'ym222', 'ym218', 'ym223', 'ym219']\n",
      "test_subjects: ['ym213']\n",
      "------------------------------------------------------\n"
     ]
    },
    {
     "name": "stderr",
     "output_type": "stream",
     "text": [
      "Loaded model weights from checkpoint at ./processed_dataset/Model_Checkpoints/Best_model_Fold1.ckpt\n"
     ]
    },
    {
     "name": "stdout",
     "output_type": "stream",
     "text": [
      "[Test] test_loss: 1.766 test_f1score: 0.389 test_accuracy: 0.636 \n",
      "────────────────────────────────────────────────────────────────────────────────────────────────────────────────────────\n",
      "       Test metric             DataLoader 0\n",
      "────────────────────────────────────────────────────────────────────────────────────────────────────────────────────────\n",
      "      test_accuracy         0.6355828046798706\n",
      "      test_f1score          0.38939568400382996\n",
      "        test_loss           1.7661571502685547\n",
      "────────────────────────────────────────────────────────────────────────────────────────────────────────────────────────\n"
     ]
    },
    {
     "name": "stderr",
     "output_type": "stream",
     "text": [
      "GPU available: True (cuda), used: True\n",
      "TPU available: False, using: 0 TPU cores\n",
      "IPU available: False, using: 0 IPUs\n",
      "HPU available: False, using: 0 HPUs\n",
      "Restoring states from the checkpoint path at ./processed_dataset/Model_Checkpoints/Best_model_Fold2.ckpt\n",
      "LOCAL_RANK: 0 - CUDA_VISIBLE_DEVICES: [0]\n"
     ]
    },
    {
     "name": "stdout",
     "output_type": "stream",
     "text": [
      "\n",
      "\n",
      "\n",
      "\n",
      "-------------------- FOLD 2 -------------------\n",
      "train_subjects: ['ym226', 'ym224', 'ym220', 'ym213', 'ym227', 'ym212', 'ym215', 'ym222', 'ym218', 'ym223', 'ym219']\n",
      "test_subjects: ['ym214']\n",
      "------------------------------------------------------\n"
     ]
    },
    {
     "name": "stderr",
     "output_type": "stream",
     "text": [
      "Loaded model weights from checkpoint at ./processed_dataset/Model_Checkpoints/Best_model_Fold2.ckpt\n"
     ]
    },
    {
     "name": "stdout",
     "output_type": "stream",
     "text": [
      "[Test] test_loss: 1.372 test_f1score: 0.389 test_accuracy: 0.629 \n",
      "────────────────────────────────────────────────────────────────────────────────────────────────────────────────────────\n",
      "       Test metric             DataLoader 0\n",
      "────────────────────────────────────────────────────────────────────────────────────────────────────────────────────────\n",
      "      test_accuracy         0.6285848617553711\n",
      "      test_f1score          0.38894981145858765\n",
      "        test_loss           1.3721644878387451\n",
      "────────────────────────────────────────────────────────────────────────────────────────────────────────────────────────\n"
     ]
    },
    {
     "name": "stderr",
     "output_type": "stream",
     "text": [
      "GPU available: True (cuda), used: True\n",
      "TPU available: False, using: 0 TPU cores\n",
      "IPU available: False, using: 0 IPUs\n",
      "HPU available: False, using: 0 HPUs\n",
      "Restoring states from the checkpoint path at ./processed_dataset/Model_Checkpoints/Best_model_Fold3.ckpt\n",
      "LOCAL_RANK: 0 - CUDA_VISIBLE_DEVICES: [0]\n"
     ]
    },
    {
     "name": "stdout",
     "output_type": "stream",
     "text": [
      "\n",
      "\n",
      "\n",
      "\n",
      "-------------------- FOLD 3 -------------------\n",
      "train_subjects: ['ym226', 'ym214', 'ym224', 'ym220', 'ym213', 'ym227', 'ym212', 'ym222', 'ym218', 'ym223', 'ym219']\n",
      "test_subjects: ['ym215']\n",
      "------------------------------------------------------\n"
     ]
    },
    {
     "name": "stderr",
     "output_type": "stream",
     "text": [
      "Loaded model weights from checkpoint at ./processed_dataset/Model_Checkpoints/Best_model_Fold3.ckpt\n"
     ]
    },
    {
     "name": "stdout",
     "output_type": "stream",
     "text": [
      "[Test] test_loss: 2.835 test_f1score: 0.253 test_accuracy: 0.338 \n",
      "────────────────────────────────────────────────────────────────────────────────────────────────────────────────────────\n",
      "       Test metric             DataLoader 0\n",
      "────────────────────────────────────────────────────────────────────────────────────────────────────────────────────────\n",
      "      test_accuracy         0.33839309215545654\n",
      "      test_f1score          0.2534317672252655\n",
      "        test_loss           2.8351857662200928\n",
      "────────────────────────────────────────────────────────────────────────────────────────────────────────────────────────\n"
     ]
    },
    {
     "name": "stderr",
     "output_type": "stream",
     "text": [
      "GPU available: True (cuda), used: True\n",
      "TPU available: False, using: 0 TPU cores\n",
      "IPU available: False, using: 0 IPUs\n",
      "HPU available: False, using: 0 HPUs\n",
      "Restoring states from the checkpoint path at ./processed_dataset/Model_Checkpoints/Best_model_Fold4.ckpt\n",
      "LOCAL_RANK: 0 - CUDA_VISIBLE_DEVICES: [0]\n"
     ]
    },
    {
     "name": "stdout",
     "output_type": "stream",
     "text": [
      "\n",
      "\n",
      "\n",
      "\n",
      "-------------------- FOLD 4 -------------------\n",
      "train_subjects: ['ym226', 'ym214', 'ym224', 'ym220', 'ym213', 'ym227', 'ym212', 'ym215', 'ym222', 'ym223', 'ym219']\n",
      "test_subjects: ['ym218']\n",
      "------------------------------------------------------\n"
     ]
    },
    {
     "name": "stderr",
     "output_type": "stream",
     "text": [
      "Loaded model weights from checkpoint at ./processed_dataset/Model_Checkpoints/Best_model_Fold4.ckpt\n"
     ]
    },
    {
     "name": "stdout",
     "output_type": "stream",
     "text": [
      "[Test] test_loss: 1.712 test_f1score: 0.391 test_accuracy: 0.639 \n",
      "────────────────────────────────────────────────────────────────────────────────────────────────────────────────────────\n",
      "       Test metric             DataLoader 0\n",
      "────────────────────────────────────────────────────────────────────────────────────────────────────────────────────────\n",
      "      test_accuracy         0.6392222046852112\n",
      "      test_f1score          0.39104315638542175\n",
      "        test_loss           1.7117459774017334\n",
      "────────────────────────────────────────────────────────────────────────────────────────────────────────────────────────\n"
     ]
    },
    {
     "name": "stderr",
     "output_type": "stream",
     "text": [
      "GPU available: True (cuda), used: True\n",
      "TPU available: False, using: 0 TPU cores\n",
      "IPU available: False, using: 0 IPUs\n",
      "HPU available: False, using: 0 HPUs\n",
      "Restoring states from the checkpoint path at ./processed_dataset/Model_Checkpoints/Best_model_Fold5.ckpt\n",
      "LOCAL_RANK: 0 - CUDA_VISIBLE_DEVICES: [0]\n"
     ]
    },
    {
     "name": "stdout",
     "output_type": "stream",
     "text": [
      "\n",
      "\n",
      "\n",
      "\n",
      "-------------------- FOLD 5 -------------------\n",
      "train_subjects: ['ym226', 'ym214', 'ym224', 'ym220', 'ym213', 'ym227', 'ym212', 'ym215', 'ym222', 'ym218', 'ym223']\n",
      "test_subjects: ['ym219']\n",
      "------------------------------------------------------\n"
     ]
    },
    {
     "name": "stderr",
     "output_type": "stream",
     "text": [
      "Loaded model weights from checkpoint at ./processed_dataset/Model_Checkpoints/Best_model_Fold5.ckpt\n"
     ]
    },
    {
     "name": "stdout",
     "output_type": "stream",
     "text": [
      "[Test] test_loss: 1.799 test_f1score: 0.371 test_accuracy: 0.591 \n",
      "────────────────────────────────────────────────────────────────────────────────────────────────────────────────────────\n",
      "       Test metric             DataLoader 0\n",
      "────────────────────────────────────────────────────────────────────────────────────────────────────────────────────────\n",
      "      test_accuracy         0.5907473564147949\n",
      "      test_f1score          0.37136465311050415\n",
      "        test_loss           1.7986952066421509\n",
      "────────────────────────────────────────────────────────────────────────────────────────────────────────────────────────\n"
     ]
    },
    {
     "name": "stderr",
     "output_type": "stream",
     "text": [
      "GPU available: True (cuda), used: True\n",
      "TPU available: False, using: 0 TPU cores\n",
      "IPU available: False, using: 0 IPUs\n",
      "HPU available: False, using: 0 HPUs\n",
      "Restoring states from the checkpoint path at ./processed_dataset/Model_Checkpoints/Best_model_Fold6.ckpt\n",
      "LOCAL_RANK: 0 - CUDA_VISIBLE_DEVICES: [0]\n"
     ]
    },
    {
     "name": "stdout",
     "output_type": "stream",
     "text": [
      "\n",
      "\n",
      "\n",
      "\n",
      "-------------------- FOLD 6 -------------------\n",
      "train_subjects: ['ym226', 'ym214', 'ym224', 'ym213', 'ym227', 'ym212', 'ym215', 'ym222', 'ym218', 'ym223', 'ym219']\n",
      "test_subjects: ['ym220']\n",
      "------------------------------------------------------\n"
     ]
    },
    {
     "name": "stderr",
     "output_type": "stream",
     "text": [
      "Loaded model weights from checkpoint at ./processed_dataset/Model_Checkpoints/Best_model_Fold6.ckpt\n"
     ]
    },
    {
     "name": "stdout",
     "output_type": "stream",
     "text": [
      "[Test] test_loss: 3.539 test_f1score: 0.258 test_accuracy: 0.341 \n",
      "────────────────────────────────────────────────────────────────────────────────────────────────────────────────────────\n",
      "       Test metric             DataLoader 0\n",
      "────────────────────────────────────────────────────────────────────────────────────────────────────────────────────────\n",
      "      test_accuracy         0.34129804372787476\n",
      "      test_f1score          0.25775808095932007\n",
      "        test_loss            3.538897752761841\n",
      "────────────────────────────────────────────────────────────────────────────────────────────────────────────────────────\n"
     ]
    },
    {
     "name": "stderr",
     "output_type": "stream",
     "text": [
      "GPU available: True (cuda), used: True\n",
      "TPU available: False, using: 0 TPU cores\n",
      "IPU available: False, using: 0 IPUs\n",
      "HPU available: False, using: 0 HPUs\n",
      "Restoring states from the checkpoint path at ./processed_dataset/Model_Checkpoints/Best_model_Fold7.ckpt\n",
      "LOCAL_RANK: 0 - CUDA_VISIBLE_DEVICES: [0]\n"
     ]
    },
    {
     "name": "stdout",
     "output_type": "stream",
     "text": [
      "\n",
      "\n",
      "\n",
      "\n",
      "-------------------- FOLD 7 -------------------\n",
      "train_subjects: ['ym226', 'ym214', 'ym224', 'ym220', 'ym213', 'ym227', 'ym212', 'ym215', 'ym218', 'ym223', 'ym219']\n",
      "test_subjects: ['ym222']\n",
      "------------------------------------------------------\n"
     ]
    },
    {
     "name": "stderr",
     "output_type": "stream",
     "text": [
      "Loaded model weights from checkpoint at ./processed_dataset/Model_Checkpoints/Best_model_Fold7.ckpt\n"
     ]
    },
    {
     "name": "stdout",
     "output_type": "stream",
     "text": [
      "[Test] test_loss: 1.406 test_f1score: 0.407 test_accuracy: 0.654 \n",
      "────────────────────────────────────────────────────────────────────────────────────────────────────────────────────────\n",
      "       Test metric             DataLoader 0\n",
      "────────────────────────────────────────────────────────────────────────────────────────────────────────────────────────\n",
      "      test_accuracy         0.6543582081794739\n",
      "      test_f1score          0.40705063939094543\n",
      "        test_loss           1.4057425260543823\n",
      "────────────────────────────────────────────────────────────────────────────────────────────────────────────────────────\n"
     ]
    },
    {
     "name": "stderr",
     "output_type": "stream",
     "text": [
      "GPU available: True (cuda), used: True\n",
      "TPU available: False, using: 0 TPU cores\n",
      "IPU available: False, using: 0 IPUs\n",
      "HPU available: False, using: 0 HPUs\n",
      "Restoring states from the checkpoint path at ./processed_dataset/Model_Checkpoints/Best_model_Fold8.ckpt\n",
      "LOCAL_RANK: 0 - CUDA_VISIBLE_DEVICES: [0]\n"
     ]
    },
    {
     "name": "stdout",
     "output_type": "stream",
     "text": [
      "\n",
      "\n",
      "\n",
      "\n",
      "-------------------- FOLD 8 -------------------\n",
      "train_subjects: ['ym226', 'ym214', 'ym224', 'ym220', 'ym213', 'ym227', 'ym212', 'ym215', 'ym222', 'ym218', 'ym219']\n",
      "test_subjects: ['ym223']\n",
      "------------------------------------------------------\n"
     ]
    },
    {
     "name": "stderr",
     "output_type": "stream",
     "text": [
      "Loaded model weights from checkpoint at ./processed_dataset/Model_Checkpoints/Best_model_Fold8.ckpt\n"
     ]
    },
    {
     "name": "stdout",
     "output_type": "stream",
     "text": [
      "[Test] test_loss: 0.938 test_f1score: 0.426 test_accuracy: 0.732 \n",
      "────────────────────────────────────────────────────────────────────────────────────────────────────────────────────────\n",
      "       Test metric             DataLoader 0\n",
      "────────────────────────────────────────────────────────────────────────────────────────────────────────────────────────\n",
      "      test_accuracy         0.7317511439323425\n",
      "      test_f1score          0.42644259333610535\n",
      "        test_loss           0.9378673434257507\n",
      "────────────────────────────────────────────────────────────────────────────────────────────────────────────────────────\n"
     ]
    },
    {
     "name": "stderr",
     "output_type": "stream",
     "text": [
      "GPU available: True (cuda), used: True\n",
      "TPU available: False, using: 0 TPU cores\n",
      "IPU available: False, using: 0 IPUs\n",
      "HPU available: False, using: 0 HPUs\n",
      "Restoring states from the checkpoint path at ./processed_dataset/Model_Checkpoints/Best_model_Fold9.ckpt\n",
      "LOCAL_RANK: 0 - CUDA_VISIBLE_DEVICES: [0]\n"
     ]
    },
    {
     "name": "stdout",
     "output_type": "stream",
     "text": [
      "\n",
      "\n",
      "\n",
      "\n",
      "-------------------- FOLD 9 -------------------\n",
      "train_subjects: ['ym226', 'ym214', 'ym220', 'ym213', 'ym227', 'ym212', 'ym215', 'ym222', 'ym218', 'ym223', 'ym219']\n",
      "test_subjects: ['ym224']\n",
      "------------------------------------------------------\n"
     ]
    },
    {
     "name": "stderr",
     "output_type": "stream",
     "text": [
      "Loaded model weights from checkpoint at ./processed_dataset/Model_Checkpoints/Best_model_Fold9.ckpt\n"
     ]
    },
    {
     "name": "stdout",
     "output_type": "stream",
     "text": [
      "[Test] test_loss: 1.834 test_f1score: 0.295 test_accuracy: 0.417 \n",
      "────────────────────────────────────────────────────────────────────────────────────────────────────────────────────────\n",
      "       Test metric             DataLoader 0\n",
      "────────────────────────────────────────────────────────────────────────────────────────────────────────────────────────\n",
      "      test_accuracy         0.41720646619796753\n",
      "      test_f1score          0.2946748733520508\n",
      "        test_loss           1.8339840173721313\n",
      "────────────────────────────────────────────────────────────────────────────────────────────────────────────────────────\n"
     ]
    },
    {
     "name": "stderr",
     "output_type": "stream",
     "text": [
      "GPU available: True (cuda), used: True\n",
      "TPU available: False, using: 0 TPU cores\n",
      "IPU available: False, using: 0 IPUs\n",
      "HPU available: False, using: 0 HPUs\n",
      "Restoring states from the checkpoint path at ./processed_dataset/Model_Checkpoints/Best_model_Fold10.ckpt\n",
      "LOCAL_RANK: 0 - CUDA_VISIBLE_DEVICES: [0]\n"
     ]
    },
    {
     "name": "stdout",
     "output_type": "stream",
     "text": [
      "\n",
      "\n",
      "\n",
      "\n",
      "-------------------- FOLD 10 -------------------\n",
      "train_subjects: ['ym214', 'ym224', 'ym220', 'ym213', 'ym227', 'ym212', 'ym215', 'ym222', 'ym218', 'ym223', 'ym219']\n",
      "test_subjects: ['ym226']\n",
      "------------------------------------------------------\n"
     ]
    },
    {
     "name": "stderr",
     "output_type": "stream",
     "text": [
      "Loaded model weights from checkpoint at ./processed_dataset/Model_Checkpoints/Best_model_Fold10.ckpt\n"
     ]
    },
    {
     "name": "stdout",
     "output_type": "stream",
     "text": [
      "[Test] test_loss: 2.669 test_f1score: 0.322 test_accuracy: 0.475 \n",
      "────────────────────────────────────────────────────────────────────────────────────────────────────────────────────────\n",
      "       Test metric             DataLoader 0\n",
      "────────────────────────────────────────────────────────────────────────────────────────────────────────────────────────\n",
      "      test_accuracy         0.47482535243034363\n",
      "      test_f1score          0.3219536244869232\n",
      "        test_loss           2.6690189838409424\n",
      "────────────────────────────────────────────────────────────────────────────────────────────────────────────────────────\n"
     ]
    },
    {
     "name": "stderr",
     "output_type": "stream",
     "text": [
      "GPU available: True (cuda), used: True\n",
      "TPU available: False, using: 0 TPU cores\n",
      "IPU available: False, using: 0 IPUs\n",
      "HPU available: False, using: 0 HPUs\n",
      "Restoring states from the checkpoint path at ./processed_dataset/Model_Checkpoints/Best_model_Fold11.ckpt\n",
      "LOCAL_RANK: 0 - CUDA_VISIBLE_DEVICES: [0]\n"
     ]
    },
    {
     "name": "stdout",
     "output_type": "stream",
     "text": [
      "\n",
      "\n",
      "\n",
      "\n",
      "-------------------- FOLD 11 -------------------\n",
      "train_subjects: ['ym226', 'ym214', 'ym224', 'ym220', 'ym213', 'ym212', 'ym215', 'ym222', 'ym218', 'ym223', 'ym219']\n",
      "test_subjects: ['ym227']\n",
      "------------------------------------------------------\n"
     ]
    },
    {
     "name": "stderr",
     "output_type": "stream",
     "text": [
      "Loaded model weights from checkpoint at ./processed_dataset/Model_Checkpoints/Best_model_Fold11.ckpt\n"
     ]
    },
    {
     "name": "stdout",
     "output_type": "stream",
     "text": [
      "[Test] test_loss: 2.856 test_f1score: 0.313 test_accuracy: 0.453 \n",
      "────────────────────────────────────────────────────────────────────────────────────────────────────────────────────────\n",
      "       Test metric             DataLoader 0\n",
      "────────────────────────────────────────────────────────────────────────────────────────────────────────────────────────\n",
      "      test_accuracy         0.45341864228248596\n",
      "      test_f1score           0.312593936920166\n",
      "        test_loss           2.8557350635528564\n",
      "────────────────────────────────────────────────────────────────────────────────────────────────────────────────────────\n",
      "\n",
      "\n",
      "\n",
      "\n",
      "====================================================================================================\n",
      "                    erased_feature: BLA_theta\n",
      "====================================================================================================\n",
      "dataset does not exist at path ./processed_dataset/perturbation_samples/BLA_theta, generating files to path...\n"
     ]
    },
    {
     "name": "stderr",
     "output_type": "stream",
     "text": [
      "[PROCESS]: 100%|██████████| 24/24 [04:41<00:00, 11.71s/it]\n"
     ]
    },
    {
     "name": "stdout",
     "output_type": "stream",
     "text": [
      "dataset already exists at path ./processed_dataset/perturbation_samples/BLA_theta, reading from path...\n"
     ]
    },
    {
     "name": "stderr",
     "output_type": "stream",
     "text": [
      "GPU available: True (cuda), used: True\n",
      "TPU available: False, using: 0 TPU cores\n",
      "IPU available: False, using: 0 IPUs\n",
      "HPU available: False, using: 0 HPUs\n",
      "Restoring states from the checkpoint path at ./processed_dataset/Model_Checkpoints/Best_model_Fold0.ckpt\n",
      "LOCAL_RANK: 0 - CUDA_VISIBLE_DEVICES: [0]\n"
     ]
    },
    {
     "name": "stdout",
     "output_type": "stream",
     "text": [
      "-------------------- FOLD 0 -------------------\n",
      "train_subjects: ['ym226', 'ym214', 'ym224', 'ym220', 'ym213', 'ym227', 'ym215', 'ym222', 'ym218', 'ym223', 'ym219']\n",
      "test_subjects: ['ym212']\n",
      "------------------------------------------------------\n"
     ]
    },
    {
     "name": "stderr",
     "output_type": "stream",
     "text": [
      "Loaded model weights from checkpoint at ./processed_dataset/Model_Checkpoints/Best_model_Fold0.ckpt\n"
     ]
    },
    {
     "name": "stdout",
     "output_type": "stream",
     "text": [
      "[Test] test_loss: 0.298 test_f1score: 0.871 test_accuracy: 0.880 \n",
      "────────────────────────────────────────────────────────────────────────────────────────────────────────────────────────\n",
      "       Test metric             DataLoader 0\n",
      "────────────────────────────────────────────────────────────────────────────────────────────────────────────────────────\n",
      "      test_accuracy          0.87985759973526\n",
      "      test_f1score          0.8709423542022705\n",
      "        test_loss           0.2975100874900818\n",
      "────────────────────────────────────────────────────────────────────────────────────────────────────────────────────────\n"
     ]
    },
    {
     "name": "stderr",
     "output_type": "stream",
     "text": [
      "GPU available: True (cuda), used: True\n",
      "TPU available: False, using: 0 TPU cores\n",
      "IPU available: False, using: 0 IPUs\n",
      "HPU available: False, using: 0 HPUs\n",
      "Restoring states from the checkpoint path at ./processed_dataset/Model_Checkpoints/Best_model_Fold1.ckpt\n",
      "LOCAL_RANK: 0 - CUDA_VISIBLE_DEVICES: [0]\n"
     ]
    },
    {
     "name": "stdout",
     "output_type": "stream",
     "text": [
      "\n",
      "\n",
      "\n",
      "\n",
      "-------------------- FOLD 1 -------------------\n",
      "train_subjects: ['ym226', 'ym214', 'ym224', 'ym220', 'ym227', 'ym212', 'ym215', 'ym222', 'ym218', 'ym223', 'ym219']\n",
      "test_subjects: ['ym213']\n",
      "------------------------------------------------------\n"
     ]
    },
    {
     "name": "stderr",
     "output_type": "stream",
     "text": [
      "Loaded model weights from checkpoint at ./processed_dataset/Model_Checkpoints/Best_model_Fold1.ckpt\n"
     ]
    },
    {
     "name": "stdout",
     "output_type": "stream",
     "text": [
      "[Test] test_loss: 0.414 test_f1score: 0.804 test_accuracy: 0.824 \n",
      "────────────────────────────────────────────────────────────────────────────────────────────────────────────────────────\n",
      "       Test metric             DataLoader 0\n",
      "────────────────────────────────────────────────────────────────────────────────────────────────────────────────────────\n",
      "      test_accuracy         0.8236196041107178\n",
      "      test_f1score          0.8041020631790161\n",
      "        test_loss           0.4140108823776245\n",
      "────────────────────────────────────────────────────────────────────────────────────────────────────────────────────────\n"
     ]
    },
    {
     "name": "stderr",
     "output_type": "stream",
     "text": [
      "GPU available: True (cuda), used: True\n",
      "TPU available: False, using: 0 TPU cores\n",
      "IPU available: False, using: 0 IPUs\n",
      "HPU available: False, using: 0 HPUs\n",
      "Restoring states from the checkpoint path at ./processed_dataset/Model_Checkpoints/Best_model_Fold2.ckpt\n",
      "LOCAL_RANK: 0 - CUDA_VISIBLE_DEVICES: [0]\n"
     ]
    },
    {
     "name": "stdout",
     "output_type": "stream",
     "text": [
      "\n",
      "\n",
      "\n",
      "\n",
      "-------------------- FOLD 2 -------------------\n",
      "train_subjects: ['ym226', 'ym224', 'ym220', 'ym213', 'ym227', 'ym212', 'ym215', 'ym222', 'ym218', 'ym223', 'ym219']\n",
      "test_subjects: ['ym214']\n",
      "------------------------------------------------------\n"
     ]
    },
    {
     "name": "stderr",
     "output_type": "stream",
     "text": [
      "Loaded model weights from checkpoint at ./processed_dataset/Model_Checkpoints/Best_model_Fold2.ckpt\n"
     ]
    },
    {
     "name": "stdout",
     "output_type": "stream",
     "text": [
      "[Test] test_loss: 0.269 test_f1score: 0.895 test_accuracy: 0.906 \n",
      "────────────────────────────────────────────────────────────────────────────────────────────────────────────────────────\n",
      "       Test metric             DataLoader 0\n",
      "────────────────────────────────────────────────────────────────────────────────────────────────────────────────────────\n",
      "      test_accuracy         0.9064409732818604\n",
      "      test_f1score          0.8951133489608765\n",
      "        test_loss           0.26896998286247253\n",
      "────────────────────────────────────────────────────────────────────────────────────────────────────────────────────────\n"
     ]
    },
    {
     "name": "stderr",
     "output_type": "stream",
     "text": [
      "GPU available: True (cuda), used: True\n",
      "TPU available: False, using: 0 TPU cores\n",
      "IPU available: False, using: 0 IPUs\n",
      "HPU available: False, using: 0 HPUs\n",
      "Restoring states from the checkpoint path at ./processed_dataset/Model_Checkpoints/Best_model_Fold3.ckpt\n",
      "LOCAL_RANK: 0 - CUDA_VISIBLE_DEVICES: [0]\n"
     ]
    },
    {
     "name": "stdout",
     "output_type": "stream",
     "text": [
      "\n",
      "\n",
      "\n",
      "\n",
      "-------------------- FOLD 3 -------------------\n",
      "train_subjects: ['ym226', 'ym214', 'ym224', 'ym220', 'ym213', 'ym227', 'ym212', 'ym222', 'ym218', 'ym223', 'ym219']\n",
      "test_subjects: ['ym215']\n",
      "------------------------------------------------------\n"
     ]
    },
    {
     "name": "stderr",
     "output_type": "stream",
     "text": [
      "Loaded model weights from checkpoint at ./processed_dataset/Model_Checkpoints/Best_model_Fold3.ckpt\n"
     ]
    },
    {
     "name": "stdout",
     "output_type": "stream",
     "text": [
      "[Test] test_loss: 0.493 test_f1score: 0.770 test_accuracy: 0.776 \n",
      "────────────────────────────────────────────────────────────────────────────────────────────────────────────────────────\n",
      "       Test metric             DataLoader 0\n",
      "────────────────────────────────────────────────────────────────────────────────────────────────────────────────────────\n",
      "      test_accuracy         0.7757131457328796\n",
      "      test_f1score          0.7704979181289673\n",
      "        test_loss            0.493226557970047\n",
      "────────────────────────────────────────────────────────────────────────────────────────────────────────────────────────\n"
     ]
    },
    {
     "name": "stderr",
     "output_type": "stream",
     "text": [
      "GPU available: True (cuda), used: True\n",
      "TPU available: False, using: 0 TPU cores\n",
      "IPU available: False, using: 0 IPUs\n",
      "HPU available: False, using: 0 HPUs\n",
      "Restoring states from the checkpoint path at ./processed_dataset/Model_Checkpoints/Best_model_Fold4.ckpt\n"
     ]
    },
    {
     "name": "stdout",
     "output_type": "stream",
     "text": [
      "\n",
      "\n",
      "\n",
      "\n",
      "-------------------- FOLD 4 -------------------\n",
      "train_subjects: ['ym226', 'ym214', 'ym224', 'ym220', 'ym213', 'ym227', 'ym212', 'ym215', 'ym222', 'ym223', 'ym219']\n",
      "test_subjects: ['ym218']\n",
      "------------------------------------------------------\n"
     ]
    },
    {
     "name": "stderr",
     "output_type": "stream",
     "text": [
      "LOCAL_RANK: 0 - CUDA_VISIBLE_DEVICES: [0]\n",
      "Loaded model weights from checkpoint at ./processed_dataset/Model_Checkpoints/Best_model_Fold4.ckpt\n"
     ]
    },
    {
     "name": "stdout",
     "output_type": "stream",
     "text": [
      "[Test] test_loss: 0.363 test_f1score: 0.833 test_accuracy: 0.844 \n",
      "────────────────────────────────────────────────────────────────────────────────────────────────────────────────────────\n",
      "       Test metric             DataLoader 0\n",
      "────────────────────────────────────────────────────────────────────────────────────────────────────────────────────────\n",
      "      test_accuracy         0.8444352746009827\n",
      "      test_f1score          0.8332878351211548\n",
      "        test_loss           0.3628351390361786\n",
      "────────────────────────────────────────────────────────────────────────────────────────────────────────────────────────\n"
     ]
    },
    {
     "name": "stderr",
     "output_type": "stream",
     "text": [
      "GPU available: True (cuda), used: True\n",
      "TPU available: False, using: 0 TPU cores\n",
      "IPU available: False, using: 0 IPUs\n",
      "HPU available: False, using: 0 HPUs\n",
      "Restoring states from the checkpoint path at ./processed_dataset/Model_Checkpoints/Best_model_Fold5.ckpt\n",
      "LOCAL_RANK: 0 - CUDA_VISIBLE_DEVICES: [0]\n"
     ]
    },
    {
     "name": "stdout",
     "output_type": "stream",
     "text": [
      "\n",
      "\n",
      "\n",
      "\n",
      "-------------------- FOLD 5 -------------------\n",
      "train_subjects: ['ym226', 'ym214', 'ym224', 'ym220', 'ym213', 'ym227', 'ym212', 'ym215', 'ym222', 'ym218', 'ym223']\n",
      "test_subjects: ['ym219']\n",
      "------------------------------------------------------\n"
     ]
    },
    {
     "name": "stderr",
     "output_type": "stream",
     "text": [
      "Loaded model weights from checkpoint at ./processed_dataset/Model_Checkpoints/Best_model_Fold5.ckpt\n"
     ]
    },
    {
     "name": "stdout",
     "output_type": "stream",
     "text": [
      "[Test] test_loss: 0.369 test_f1score: 0.823 test_accuracy: 0.839 \n",
      "────────────────────────────────────────────────────────────────────────────────────────────────────────────────────────\n",
      "       Test metric             DataLoader 0\n",
      "────────────────────────────────────────────────────────────────────────────────────────────────────────────────────────\n",
      "      test_accuracy         0.8394830226898193\n",
      "      test_f1score          0.8233823776245117\n",
      "        test_loss           0.3685794174671173\n",
      "────────────────────────────────────────────────────────────────────────────────────────────────────────────────────────\n"
     ]
    },
    {
     "name": "stderr",
     "output_type": "stream",
     "text": [
      "GPU available: True (cuda), used: True\n",
      "TPU available: False, using: 0 TPU cores\n",
      "IPU available: False, using: 0 IPUs\n",
      "HPU available: False, using: 0 HPUs\n",
      "Restoring states from the checkpoint path at ./processed_dataset/Model_Checkpoints/Best_model_Fold6.ckpt\n",
      "LOCAL_RANK: 0 - CUDA_VISIBLE_DEVICES: [0]\n"
     ]
    },
    {
     "name": "stdout",
     "output_type": "stream",
     "text": [
      "\n",
      "\n",
      "\n",
      "\n",
      "-------------------- FOLD 6 -------------------\n",
      "train_subjects: ['ym226', 'ym214', 'ym224', 'ym213', 'ym227', 'ym212', 'ym215', 'ym222', 'ym218', 'ym223', 'ym219']\n",
      "test_subjects: ['ym220']\n",
      "------------------------------------------------------\n"
     ]
    },
    {
     "name": "stderr",
     "output_type": "stream",
     "text": [
      "Loaded model weights from checkpoint at ./processed_dataset/Model_Checkpoints/Best_model_Fold6.ckpt\n"
     ]
    },
    {
     "name": "stdout",
     "output_type": "stream",
     "text": [
      "[Test] test_loss: 0.287 test_f1score: 0.854 test_accuracy: 0.876 \n",
      "────────────────────────────────────────────────────────────────────────────────────────────────────────────────────────\n",
      "       Test metric             DataLoader 0\n",
      "────────────────────────────────────────────────────────────────────────────────────────────────────────────────────────\n",
      "      test_accuracy         0.8756861686706543\n",
      "      test_f1score          0.8539825677871704\n",
      "        test_loss           0.28728100657463074\n",
      "────────────────────────────────────────────────────────────────────────────────────────────────────────────────────────\n"
     ]
    },
    {
     "name": "stderr",
     "output_type": "stream",
     "text": [
      "GPU available: True (cuda), used: True\n",
      "TPU available: False, using: 0 TPU cores\n",
      "IPU available: False, using: 0 IPUs\n",
      "HPU available: False, using: 0 HPUs\n",
      "Restoring states from the checkpoint path at ./processed_dataset/Model_Checkpoints/Best_model_Fold7.ckpt\n",
      "LOCAL_RANK: 0 - CUDA_VISIBLE_DEVICES: [0]\n"
     ]
    },
    {
     "name": "stdout",
     "output_type": "stream",
     "text": [
      "\n",
      "\n",
      "\n",
      "\n",
      "-------------------- FOLD 7 -------------------\n",
      "train_subjects: ['ym226', 'ym214', 'ym224', 'ym220', 'ym213', 'ym227', 'ym212', 'ym215', 'ym218', 'ym223', 'ym219']\n",
      "test_subjects: ['ym222']\n",
      "------------------------------------------------------\n"
     ]
    },
    {
     "name": "stderr",
     "output_type": "stream",
     "text": [
      "Loaded model weights from checkpoint at ./processed_dataset/Model_Checkpoints/Best_model_Fold7.ckpt\n"
     ]
    },
    {
     "name": "stdout",
     "output_type": "stream",
     "text": [
      "[Test] test_loss: 0.356 test_f1score: 0.834 test_accuracy: 0.840 \n",
      "────────────────────────────────────────────────────────────────────────────────────────────────────────────────────────\n",
      "       Test metric             DataLoader 0\n",
      "────────────────────────────────────────────────────────────────────────────────────────────────────────────────────────\n",
      "      test_accuracy         0.8404923677444458\n",
      "      test_f1score          0.8343598246574402\n",
      "        test_loss           0.3558415472507477\n",
      "────────────────────────────────────────────────────────────────────────────────────────────────────────────────────────\n"
     ]
    },
    {
     "name": "stderr",
     "output_type": "stream",
     "text": [
      "GPU available: True (cuda), used: True\n",
      "TPU available: False, using: 0 TPU cores\n",
      "IPU available: False, using: 0 IPUs\n",
      "HPU available: False, using: 0 HPUs\n",
      "Restoring states from the checkpoint path at ./processed_dataset/Model_Checkpoints/Best_model_Fold8.ckpt\n",
      "LOCAL_RANK: 0 - CUDA_VISIBLE_DEVICES: [0]\n"
     ]
    },
    {
     "name": "stdout",
     "output_type": "stream",
     "text": [
      "\n",
      "\n",
      "\n",
      "\n",
      "-------------------- FOLD 8 -------------------\n",
      "train_subjects: ['ym226', 'ym214', 'ym224', 'ym220', 'ym213', 'ym227', 'ym212', 'ym215', 'ym222', 'ym218', 'ym219']\n",
      "test_subjects: ['ym223']\n",
      "------------------------------------------------------\n"
     ]
    },
    {
     "name": "stderr",
     "output_type": "stream",
     "text": [
      "Loaded model weights from checkpoint at ./processed_dataset/Model_Checkpoints/Best_model_Fold8.ckpt\n"
     ]
    },
    {
     "name": "stdout",
     "output_type": "stream",
     "text": [
      "[Test] test_loss: 0.755 test_f1score: 0.606 test_accuracy: 0.610 \n",
      "────────────────────────────────────────────────────────────────────────────────────────────────────────────────────────\n",
      "       Test metric             DataLoader 0\n",
      "────────────────────────────────────────────────────────────────────────────────────────────────────────────────────────\n",
      "      test_accuracy         0.6098525524139404\n",
      "      test_f1score          0.6056821346282959\n",
      "        test_loss           0.7546678781509399\n",
      "────────────────────────────────────────────────────────────────────────────────────────────────────────────────────────\n"
     ]
    },
    {
     "name": "stderr",
     "output_type": "stream",
     "text": [
      "GPU available: True (cuda), used: True\n",
      "TPU available: False, using: 0 TPU cores\n",
      "IPU available: False, using: 0 IPUs\n",
      "HPU available: False, using: 0 HPUs\n",
      "Restoring states from the checkpoint path at ./processed_dataset/Model_Checkpoints/Best_model_Fold9.ckpt\n",
      "LOCAL_RANK: 0 - CUDA_VISIBLE_DEVICES: [0]\n"
     ]
    },
    {
     "name": "stdout",
     "output_type": "stream",
     "text": [
      "\n",
      "\n",
      "\n",
      "\n",
      "-------------------- FOLD 9 -------------------\n",
      "train_subjects: ['ym226', 'ym214', 'ym220', 'ym213', 'ym227', 'ym212', 'ym215', 'ym222', 'ym218', 'ym223', 'ym219']\n",
      "test_subjects: ['ym224']\n",
      "------------------------------------------------------\n"
     ]
    },
    {
     "name": "stderr",
     "output_type": "stream",
     "text": [
      "Loaded model weights from checkpoint at ./processed_dataset/Model_Checkpoints/Best_model_Fold9.ckpt\n"
     ]
    },
    {
     "name": "stdout",
     "output_type": "stream",
     "text": [
      "[Test] test_loss: 0.579 test_f1score: 0.689 test_accuracy: 0.710 \n",
      "────────────────────────────────────────────────────────────────────────────────────────────────────────────────────────\n",
      "       Test metric             DataLoader 0\n",
      "────────────────────────────────────────────────────────────────────────────────────────────────────────────────────────\n",
      "      test_accuracy         0.7101214528083801\n",
      "      test_f1score           0.688624382019043\n",
      "        test_loss            0.578956127166748\n",
      "────────────────────────────────────────────────────────────────────────────────────────────────────────────────────────\n"
     ]
    },
    {
     "name": "stderr",
     "output_type": "stream",
     "text": [
      "GPU available: True (cuda), used: True\n",
      "TPU available: False, using: 0 TPU cores\n",
      "IPU available: False, using: 0 IPUs\n",
      "HPU available: False, using: 0 HPUs\n",
      "Restoring states from the checkpoint path at ./processed_dataset/Model_Checkpoints/Best_model_Fold10.ckpt\n"
     ]
    },
    {
     "name": "stdout",
     "output_type": "stream",
     "text": [
      "\n",
      "\n",
      "\n",
      "\n",
      "-------------------- FOLD 10 -------------------\n",
      "train_subjects: ['ym214', 'ym224', 'ym220', 'ym213', 'ym227', 'ym212', 'ym215', 'ym222', 'ym218', 'ym223', 'ym219']\n",
      "test_subjects: ['ym226']\n",
      "------------------------------------------------------\n"
     ]
    },
    {
     "name": "stderr",
     "output_type": "stream",
     "text": [
      "LOCAL_RANK: 0 - CUDA_VISIBLE_DEVICES: [0]\n",
      "Loaded model weights from checkpoint at ./processed_dataset/Model_Checkpoints/Best_model_Fold10.ckpt\n"
     ]
    },
    {
     "name": "stdout",
     "output_type": "stream",
     "text": [
      "[Test] test_loss: 0.948 test_f1score: 0.605 test_accuracy: 0.640 \n",
      "────────────────────────────────────────────────────────────────────────────────────────────────────────────────────────\n",
      "       Test metric             DataLoader 0\n",
      "────────────────────────────────────────────────────────────────────────────────────────────────────────────────────────\n",
      "      test_accuracy         0.6403276324272156\n",
      "      test_f1score           0.60483717918396\n",
      "        test_loss           0.9476726651191711\n",
      "────────────────────────────────────────────────────────────────────────────────────────────────────────────────────────\n"
     ]
    },
    {
     "name": "stderr",
     "output_type": "stream",
     "text": [
      "GPU available: True (cuda), used: True\n",
      "TPU available: False, using: 0 TPU cores\n",
      "IPU available: False, using: 0 IPUs\n",
      "HPU available: False, using: 0 HPUs\n",
      "Restoring states from the checkpoint path at ./processed_dataset/Model_Checkpoints/Best_model_Fold11.ckpt\n",
      "LOCAL_RANK: 0 - CUDA_VISIBLE_DEVICES: [0]\n"
     ]
    },
    {
     "name": "stdout",
     "output_type": "stream",
     "text": [
      "\n",
      "\n",
      "\n",
      "\n",
      "-------------------- FOLD 11 -------------------\n",
      "train_subjects: ['ym226', 'ym214', 'ym224', 'ym220', 'ym213', 'ym212', 'ym215', 'ym222', 'ym218', 'ym223', 'ym219']\n",
      "test_subjects: ['ym227']\n",
      "------------------------------------------------------\n"
     ]
    },
    {
     "name": "stderr",
     "output_type": "stream",
     "text": [
      "Loaded model weights from checkpoint at ./processed_dataset/Model_Checkpoints/Best_model_Fold11.ckpt\n"
     ]
    },
    {
     "name": "stdout",
     "output_type": "stream",
     "text": [
      "[Test] test_loss: 0.449 test_f1score: 0.780 test_accuracy: 0.784 \n",
      "────────────────────────────────────────────────────────────────────────────────────────────────────────────────────────\n",
      "       Test metric             DataLoader 0\n",
      "────────────────────────────────────────────────────────────────────────────────────────────────────────────────────────\n",
      "      test_accuracy         0.7840863466262817\n",
      "      test_f1score          0.7800936698913574\n",
      "        test_loss           0.44860926270484924\n",
      "────────────────────────────────────────────────────────────────────────────────────────────────────────────────────────\n",
      "\n",
      "\n",
      "\n",
      "\n",
      "====================================================================================================\n",
      "                    erased_feature: ACC_beta\n",
      "====================================================================================================\n",
      "dataset does not exist at path ./processed_dataset/perturbation_samples/ACC_beta, generating files to path...\n"
     ]
    },
    {
     "name": "stderr",
     "output_type": "stream",
     "text": [
      "[PROCESS]: 100%|██████████| 24/24 [04:42<00:00, 11.76s/it]\n"
     ]
    },
    {
     "name": "stdout",
     "output_type": "stream",
     "text": [
      "dataset already exists at path ./processed_dataset/perturbation_samples/ACC_beta, reading from path...\n"
     ]
    },
    {
     "name": "stderr",
     "output_type": "stream",
     "text": [
      "GPU available: True (cuda), used: True\n",
      "TPU available: False, using: 0 TPU cores\n",
      "IPU available: False, using: 0 IPUs\n",
      "HPU available: False, using: 0 HPUs\n",
      "Restoring states from the checkpoint path at ./processed_dataset/Model_Checkpoints/Best_model_Fold0.ckpt\n",
      "LOCAL_RANK: 0 - CUDA_VISIBLE_DEVICES: [0]\n"
     ]
    },
    {
     "name": "stdout",
     "output_type": "stream",
     "text": [
      "-------------------- FOLD 0 -------------------\n",
      "train_subjects: ['ym226', 'ym214', 'ym224', 'ym220', 'ym213', 'ym227', 'ym215', 'ym222', 'ym218', 'ym223', 'ym219']\n",
      "test_subjects: ['ym212']\n",
      "------------------------------------------------------\n"
     ]
    },
    {
     "name": "stderr",
     "output_type": "stream",
     "text": [
      "Loaded model weights from checkpoint at ./processed_dataset/Model_Checkpoints/Best_model_Fold0.ckpt\n"
     ]
    },
    {
     "name": "stdout",
     "output_type": "stream",
     "text": [
      "[Test] test_loss: 0.262 test_f1score: 0.875 test_accuracy: 0.888 \n",
      "────────────────────────────────────────────────────────────────────────────────────────────────────────────────────────\n",
      "       Test metric             DataLoader 0\n",
      "────────────────────────────────────────────────────────────────────────────────────────────────────────────────────────\n",
      "      test_accuracy         0.8878670930862427\n",
      "      test_f1score          0.8751201629638672\n",
      "        test_loss            0.262427419424057\n",
      "────────────────────────────────────────────────────────────────────────────────────────────────────────────────────────\n"
     ]
    },
    {
     "name": "stderr",
     "output_type": "stream",
     "text": [
      "GPU available: True (cuda), used: True\n",
      "TPU available: False, using: 0 TPU cores\n",
      "IPU available: False, using: 0 IPUs\n",
      "HPU available: False, using: 0 HPUs\n",
      "Restoring states from the checkpoint path at ./processed_dataset/Model_Checkpoints/Best_model_Fold1.ckpt\n",
      "LOCAL_RANK: 0 - CUDA_VISIBLE_DEVICES: [0]\n"
     ]
    },
    {
     "name": "stdout",
     "output_type": "stream",
     "text": [
      "\n",
      "\n",
      "\n",
      "\n",
      "-------------------- FOLD 1 -------------------\n",
      "train_subjects: ['ym226', 'ym214', 'ym224', 'ym220', 'ym227', 'ym212', 'ym215', 'ym222', 'ym218', 'ym223', 'ym219']\n",
      "test_subjects: ['ym213']\n",
      "------------------------------------------------------\n"
     ]
    },
    {
     "name": "stderr",
     "output_type": "stream",
     "text": [
      "Loaded model weights from checkpoint at ./processed_dataset/Model_Checkpoints/Best_model_Fold1.ckpt\n"
     ]
    },
    {
     "name": "stdout",
     "output_type": "stream",
     "text": [
      "[Test] test_loss: 0.400 test_f1score: 0.806 test_accuracy: 0.818 \n",
      "────────────────────────────────────────────────────────────────────────────────────────────────────────────────────────\n",
      "       Test metric             DataLoader 0\n",
      "────────────────────────────────────────────────────────────────────────────────────────────────────────────────────────\n",
      "      test_accuracy         0.8184049129486084\n",
      "      test_f1score          0.8059470057487488\n",
      "        test_loss           0.3998566269874573\n",
      "────────────────────────────────────────────────────────────────────────────────────────────────────────────────────────\n"
     ]
    },
    {
     "name": "stderr",
     "output_type": "stream",
     "text": [
      "GPU available: True (cuda), used: True\n",
      "TPU available: False, using: 0 TPU cores\n",
      "IPU available: False, using: 0 IPUs\n",
      "HPU available: False, using: 0 HPUs\n",
      "Restoring states from the checkpoint path at ./processed_dataset/Model_Checkpoints/Best_model_Fold2.ckpt\n",
      "LOCAL_RANK: 0 - CUDA_VISIBLE_DEVICES: [0]\n"
     ]
    },
    {
     "name": "stdout",
     "output_type": "stream",
     "text": [
      "\n",
      "\n",
      "\n",
      "\n",
      "-------------------- FOLD 2 -------------------\n",
      "train_subjects: ['ym226', 'ym224', 'ym220', 'ym213', 'ym227', 'ym212', 'ym215', 'ym222', 'ym218', 'ym223', 'ym219']\n",
      "test_subjects: ['ym214']\n",
      "------------------------------------------------------\n"
     ]
    },
    {
     "name": "stderr",
     "output_type": "stream",
     "text": [
      "Loaded model weights from checkpoint at ./processed_dataset/Model_Checkpoints/Best_model_Fold2.ckpt\n"
     ]
    },
    {
     "name": "stdout",
     "output_type": "stream",
     "text": [
      "[Test] test_loss: 0.259 test_f1score: 0.903 test_accuracy: 0.912 \n",
      "────────────────────────────────────────────────────────────────────────────────────────────────────────────────────────\n",
      "       Test metric             DataLoader 0\n",
      "────────────────────────────────────────────────────────────────────────────────────────────────────────────────────────\n",
      "      test_accuracy         0.9120827317237854\n",
      "      test_f1score          0.9033306241035461\n",
      "        test_loss           0.25893428921699524\n",
      "────────────────────────────────────────────────────────────────────────────────────────────────────────────────────────\n"
     ]
    },
    {
     "name": "stderr",
     "output_type": "stream",
     "text": [
      "GPU available: True (cuda), used: True\n",
      "TPU available: False, using: 0 TPU cores\n",
      "IPU available: False, using: 0 IPUs\n",
      "HPU available: False, using: 0 HPUs\n",
      "Restoring states from the checkpoint path at ./processed_dataset/Model_Checkpoints/Best_model_Fold3.ckpt\n",
      "LOCAL_RANK: 0 - CUDA_VISIBLE_DEVICES: [0]\n"
     ]
    },
    {
     "name": "stdout",
     "output_type": "stream",
     "text": [
      "\n",
      "\n",
      "\n",
      "\n",
      "-------------------- FOLD 3 -------------------\n",
      "train_subjects: ['ym226', 'ym214', 'ym224', 'ym220', 'ym213', 'ym227', 'ym212', 'ym222', 'ym218', 'ym223', 'ym219']\n",
      "test_subjects: ['ym215']\n",
      "------------------------------------------------------\n"
     ]
    },
    {
     "name": "stderr",
     "output_type": "stream",
     "text": [
      "Loaded model weights from checkpoint at ./processed_dataset/Model_Checkpoints/Best_model_Fold3.ckpt\n"
     ]
    },
    {
     "name": "stdout",
     "output_type": "stream",
     "text": [
      "[Test] test_loss: 0.448 test_f1score: 0.792 test_accuracy: 0.800 \n",
      "────────────────────────────────────────────────────────────────────────────────────────────────────────────────────────\n",
      "       Test metric             DataLoader 0\n",
      "────────────────────────────────────────────────────────────────────────────────────────────────────────────────────────\n",
      "      test_accuracy          0.799790620803833\n",
      "      test_f1score          0.7924625277519226\n",
      "        test_loss           0.4480017125606537\n",
      "────────────────────────────────────────────────────────────────────────────────────────────────────────────────────────\n"
     ]
    },
    {
     "name": "stderr",
     "output_type": "stream",
     "text": [
      "GPU available: True (cuda), used: True\n",
      "TPU available: False, using: 0 TPU cores\n",
      "IPU available: False, using: 0 IPUs\n",
      "HPU available: False, using: 0 HPUs\n",
      "Restoring states from the checkpoint path at ./processed_dataset/Model_Checkpoints/Best_model_Fold4.ckpt\n",
      "LOCAL_RANK: 0 - CUDA_VISIBLE_DEVICES: [0]\n"
     ]
    },
    {
     "name": "stdout",
     "output_type": "stream",
     "text": [
      "\n",
      "\n",
      "\n",
      "\n",
      "-------------------- FOLD 4 -------------------\n",
      "train_subjects: ['ym226', 'ym214', 'ym224', 'ym220', 'ym213', 'ym227', 'ym212', 'ym215', 'ym222', 'ym223', 'ym219']\n",
      "test_subjects: ['ym218']\n",
      "------------------------------------------------------\n"
     ]
    },
    {
     "name": "stderr",
     "output_type": "stream",
     "text": [
      "Loaded model weights from checkpoint at ./processed_dataset/Model_Checkpoints/Best_model_Fold4.ckpt\n"
     ]
    },
    {
     "name": "stdout",
     "output_type": "stream",
     "text": [
      "[Test] test_loss: 0.376 test_f1score: 0.826 test_accuracy: 0.835 \n",
      "────────────────────────────────────────────────────────────────────────────────────────────────────────────────────────\n",
      "       Test metric             DataLoader 0\n",
      "────────────────────────────────────────────────────────────────────────────────────────────────────────────────────────\n",
      "      test_accuracy         0.8349193334579468\n",
      "      test_f1score          0.8259044289588928\n",
      "        test_loss           0.3759475350379944\n",
      "────────────────────────────────────────────────────────────────────────────────────────────────────────────────────────\n"
     ]
    },
    {
     "name": "stderr",
     "output_type": "stream",
     "text": [
      "GPU available: True (cuda), used: True\n",
      "TPU available: False, using: 0 TPU cores\n",
      "IPU available: False, using: 0 IPUs\n",
      "HPU available: False, using: 0 HPUs\n",
      "Restoring states from the checkpoint path at ./processed_dataset/Model_Checkpoints/Best_model_Fold5.ckpt\n",
      "LOCAL_RANK: 0 - CUDA_VISIBLE_DEVICES: [0]\n"
     ]
    },
    {
     "name": "stdout",
     "output_type": "stream",
     "text": [
      "\n",
      "\n",
      "\n",
      "\n",
      "-------------------- FOLD 5 -------------------\n",
      "train_subjects: ['ym226', 'ym214', 'ym224', 'ym220', 'ym213', 'ym227', 'ym212', 'ym215', 'ym222', 'ym218', 'ym223']\n",
      "test_subjects: ['ym219']\n",
      "------------------------------------------------------\n"
     ]
    },
    {
     "name": "stderr",
     "output_type": "stream",
     "text": [
      "Loaded model weights from checkpoint at ./processed_dataset/Model_Checkpoints/Best_model_Fold5.ckpt\n"
     ]
    },
    {
     "name": "stdout",
     "output_type": "stream",
     "text": [
      "[Test] test_loss: 0.352 test_f1score: 0.830 test_accuracy: 0.845 \n",
      "────────────────────────────────────────────────────────────────────────────────────────────────────────────────────────\n",
      "       Test metric             DataLoader 0\n",
      "────────────────────────────────────────────────────────────────────────────────────────────────────────────────────────\n",
      "      test_accuracy          0.845102071762085\n",
      "      test_f1score          0.8301103115081787\n",
      "        test_loss           0.3522401750087738\n",
      "────────────────────────────────────────────────────────────────────────────────────────────────────────────────────────\n"
     ]
    },
    {
     "name": "stderr",
     "output_type": "stream",
     "text": [
      "GPU available: True (cuda), used: True\n",
      "TPU available: False, using: 0 TPU cores\n",
      "IPU available: False, using: 0 IPUs\n",
      "HPU available: False, using: 0 HPUs\n",
      "Restoring states from the checkpoint path at ./processed_dataset/Model_Checkpoints/Best_model_Fold6.ckpt\n",
      "LOCAL_RANK: 0 - CUDA_VISIBLE_DEVICES: [0]\n"
     ]
    },
    {
     "name": "stdout",
     "output_type": "stream",
     "text": [
      "\n",
      "\n",
      "\n",
      "\n",
      "-------------------- FOLD 6 -------------------\n",
      "train_subjects: ['ym226', 'ym214', 'ym224', 'ym213', 'ym227', 'ym212', 'ym215', 'ym222', 'ym218', 'ym223', 'ym219']\n",
      "test_subjects: ['ym220']\n",
      "------------------------------------------------------\n"
     ]
    },
    {
     "name": "stderr",
     "output_type": "stream",
     "text": [
      "Loaded model weights from checkpoint at ./processed_dataset/Model_Checkpoints/Best_model_Fold6.ckpt\n"
     ]
    },
    {
     "name": "stdout",
     "output_type": "stream",
     "text": [
      "[Test] test_loss: 0.269 test_f1score: 0.865 test_accuracy: 0.884 \n",
      "────────────────────────────────────────────────────────────────────────────────────────────────────────────────────────\n",
      "       Test metric             DataLoader 0\n",
      "────────────────────────────────────────────────────────────────────────────────────────────────────────────────────────\n",
      "      test_accuracy         0.8844042420387268\n",
      "      test_f1score          0.8652745485305786\n",
      "        test_loss           0.26865682005882263\n",
      "────────────────────────────────────────────────────────────────────────────────────────────────────────────────────────\n"
     ]
    },
    {
     "name": "stderr",
     "output_type": "stream",
     "text": [
      "GPU available: True (cuda), used: True\n",
      "TPU available: False, using: 0 TPU cores\n",
      "IPU available: False, using: 0 IPUs\n",
      "HPU available: False, using: 0 HPUs\n",
      "Restoring states from the checkpoint path at ./processed_dataset/Model_Checkpoints/Best_model_Fold7.ckpt\n",
      "LOCAL_RANK: 0 - CUDA_VISIBLE_DEVICES: [0]\n"
     ]
    },
    {
     "name": "stdout",
     "output_type": "stream",
     "text": [
      "\n",
      "\n",
      "\n",
      "\n",
      "-------------------- FOLD 7 -------------------\n",
      "train_subjects: ['ym226', 'ym214', 'ym224', 'ym220', 'ym213', 'ym227', 'ym212', 'ym215', 'ym218', 'ym223', 'ym219']\n",
      "test_subjects: ['ym222']\n",
      "------------------------------------------------------\n"
     ]
    },
    {
     "name": "stderr",
     "output_type": "stream",
     "text": [
      "Loaded model weights from checkpoint at ./processed_dataset/Model_Checkpoints/Best_model_Fold7.ckpt\n"
     ]
    },
    {
     "name": "stdout",
     "output_type": "stream",
     "text": [
      "[Test] test_loss: 0.427 test_f1score: 0.796 test_accuracy: 0.800 \n",
      "────────────────────────────────────────────────────────────────────────────────────────────────────────────────────────\n",
      "       Test metric             DataLoader 0\n",
      "────────────────────────────────────────────────────────────────────────────────────────────────────────────────────────\n",
      "      test_accuracy         0.8003014326095581\n",
      "      test_f1score          0.7961218357086182\n",
      "        test_loss           0.42668646574020386\n",
      "────────────────────────────────────────────────────────────────────────────────────────────────────────────────────────\n"
     ]
    },
    {
     "name": "stderr",
     "output_type": "stream",
     "text": [
      "GPU available: True (cuda), used: True\n",
      "TPU available: False, using: 0 TPU cores\n",
      "IPU available: False, using: 0 IPUs\n",
      "HPU available: False, using: 0 HPUs\n",
      "Restoring states from the checkpoint path at ./processed_dataset/Model_Checkpoints/Best_model_Fold8.ckpt\n",
      "LOCAL_RANK: 0 - CUDA_VISIBLE_DEVICES: [0]\n"
     ]
    },
    {
     "name": "stdout",
     "output_type": "stream",
     "text": [
      "\n",
      "\n",
      "\n",
      "\n",
      "-------------------- FOLD 8 -------------------\n",
      "train_subjects: ['ym226', 'ym214', 'ym224', 'ym220', 'ym213', 'ym227', 'ym212', 'ym215', 'ym222', 'ym218', 'ym219']\n",
      "test_subjects: ['ym223']\n",
      "------------------------------------------------------\n"
     ]
    },
    {
     "name": "stderr",
     "output_type": "stream",
     "text": [
      "Loaded model weights from checkpoint at ./processed_dataset/Model_Checkpoints/Best_model_Fold8.ckpt\n"
     ]
    },
    {
     "name": "stdout",
     "output_type": "stream",
     "text": [
      "[Test] test_loss: 0.764 test_f1score: 0.608 test_accuracy: 0.612 \n",
      "────────────────────────────────────────────────────────────────────────────────────────────────────────────────────────\n",
      "       Test metric             DataLoader 0\n",
      "────────────────────────────────────────────────────────────────────────────────────────────────────────────────────────\n",
      "      test_accuracy         0.6120100617408752\n",
      "      test_f1score          0.6079211235046387\n",
      "        test_loss           0.7638957500457764\n",
      "────────────────────────────────────────────────────────────────────────────────────────────────────────────────────────\n"
     ]
    },
    {
     "name": "stderr",
     "output_type": "stream",
     "text": [
      "GPU available: True (cuda), used: True\n",
      "TPU available: False, using: 0 TPU cores\n",
      "IPU available: False, using: 0 IPUs\n",
      "HPU available: False, using: 0 HPUs\n",
      "Restoring states from the checkpoint path at ./processed_dataset/Model_Checkpoints/Best_model_Fold9.ckpt\n",
      "LOCAL_RANK: 0 - CUDA_VISIBLE_DEVICES: [0]\n"
     ]
    },
    {
     "name": "stdout",
     "output_type": "stream",
     "text": [
      "\n",
      "\n",
      "\n",
      "\n",
      "-------------------- FOLD 9 -------------------\n",
      "train_subjects: ['ym226', 'ym214', 'ym220', 'ym213', 'ym227', 'ym212', 'ym215', 'ym222', 'ym218', 'ym223', 'ym219']\n",
      "test_subjects: ['ym224']\n",
      "------------------------------------------------------\n"
     ]
    },
    {
     "name": "stderr",
     "output_type": "stream",
     "text": [
      "Loaded model weights from checkpoint at ./processed_dataset/Model_Checkpoints/Best_model_Fold9.ckpt\n"
     ]
    },
    {
     "name": "stdout",
     "output_type": "stream",
     "text": [
      "[Test] test_loss: 0.575 test_f1score: 0.682 test_accuracy: 0.710 \n",
      "────────────────────────────────────────────────────────────────────────────────────────────────────────────────────────\n",
      "       Test metric             DataLoader 0\n",
      "────────────────────────────────────────────────────────────────────────────────────────────────────────────────────────\n",
      "      test_accuracy         0.7101214528083801\n",
      "      test_f1score          0.6820434331893921\n",
      "        test_loss           0.5754227638244629\n",
      "────────────────────────────────────────────────────────────────────────────────────────────────────────────────────────\n"
     ]
    },
    {
     "name": "stderr",
     "output_type": "stream",
     "text": [
      "GPU available: True (cuda), used: True\n",
      "TPU available: False, using: 0 TPU cores\n",
      "IPU available: False, using: 0 IPUs\n",
      "HPU available: False, using: 0 HPUs\n",
      "Restoring states from the checkpoint path at ./processed_dataset/Model_Checkpoints/Best_model_Fold10.ckpt\n",
      "LOCAL_RANK: 0 - CUDA_VISIBLE_DEVICES: [0]\n"
     ]
    },
    {
     "name": "stdout",
     "output_type": "stream",
     "text": [
      "\n",
      "\n",
      "\n",
      "\n",
      "-------------------- FOLD 10 -------------------\n",
      "train_subjects: ['ym214', 'ym224', 'ym220', 'ym213', 'ym227', 'ym212', 'ym215', 'ym222', 'ym218', 'ym223', 'ym219']\n",
      "test_subjects: ['ym226']\n",
      "------------------------------------------------------\n"
     ]
    },
    {
     "name": "stderr",
     "output_type": "stream",
     "text": [
      "Loaded model weights from checkpoint at ./processed_dataset/Model_Checkpoints/Best_model_Fold10.ckpt\n"
     ]
    },
    {
     "name": "stdout",
     "output_type": "stream",
     "text": [
      "[Test] test_loss: 0.954 test_f1score: 0.589 test_accuracy: 0.629 \n",
      "────────────────────────────────────────────────────────────────────────────────────────────────────────────────────────\n",
      "       Test metric             DataLoader 0\n",
      "────────────────────────────────────────────────────────────────────────────────────────────────────────────────────────\n",
      "      test_accuracy         0.6290050745010376\n",
      "      test_f1score          0.5891407132148743\n",
      "        test_loss           0.9540697336196899\n",
      "────────────────────────────────────────────────────────────────────────────────────────────────────────────────────────\n"
     ]
    },
    {
     "name": "stderr",
     "output_type": "stream",
     "text": [
      "GPU available: True (cuda), used: True\n",
      "TPU available: False, using: 0 TPU cores\n",
      "IPU available: False, using: 0 IPUs\n",
      "HPU available: False, using: 0 HPUs\n",
      "Restoring states from the checkpoint path at ./processed_dataset/Model_Checkpoints/Best_model_Fold11.ckpt\n",
      "LOCAL_RANK: 0 - CUDA_VISIBLE_DEVICES: [0]\n"
     ]
    },
    {
     "name": "stdout",
     "output_type": "stream",
     "text": [
      "\n",
      "\n",
      "\n",
      "\n",
      "-------------------- FOLD 11 -------------------\n",
      "train_subjects: ['ym226', 'ym214', 'ym224', 'ym220', 'ym213', 'ym212', 'ym215', 'ym222', 'ym218', 'ym223', 'ym219']\n",
      "test_subjects: ['ym227']\n",
      "------------------------------------------------------\n"
     ]
    },
    {
     "name": "stderr",
     "output_type": "stream",
     "text": [
      "Loaded model weights from checkpoint at ./processed_dataset/Model_Checkpoints/Best_model_Fold11.ckpt\n"
     ]
    },
    {
     "name": "stdout",
     "output_type": "stream",
     "text": [
      "[Test] test_loss: 0.467 test_f1score: 0.767 test_accuracy: 0.770 \n",
      "────────────────────────────────────────────────────────────────────────────────────────────────────────────────────────\n",
      "       Test metric             DataLoader 0\n",
      "────────────────────────────────────────────────────────────────────────────────────────────────────────────────────────\n",
      "      test_accuracy         0.7700919508934021\n",
      "      test_f1score          0.7672989368438721\n",
      "        test_loss           0.4674147665500641\n",
      "────────────────────────────────────────────────────────────────────────────────────────────────────────────────────────\n",
      "\n",
      "\n",
      "\n",
      "\n",
      "====================================================================================================\n",
      "                    erased_feature: CA1_beta\n",
      "====================================================================================================\n",
      "dataset does not exist at path ./processed_dataset/perturbation_samples/CA1_beta, generating files to path...\n"
     ]
    },
    {
     "name": "stderr",
     "output_type": "stream",
     "text": [
      "[PROCESS]: 100%|██████████| 24/24 [04:42<00:00, 11.75s/it]\n"
     ]
    },
    {
     "name": "stdout",
     "output_type": "stream",
     "text": [
      "dataset already exists at path ./processed_dataset/perturbation_samples/CA1_beta, reading from path...\n"
     ]
    },
    {
     "name": "stderr",
     "output_type": "stream",
     "text": [
      "GPU available: True (cuda), used: True\n",
      "TPU available: False, using: 0 TPU cores\n",
      "IPU available: False, using: 0 IPUs\n",
      "HPU available: False, using: 0 HPUs\n",
      "Restoring states from the checkpoint path at ./processed_dataset/Model_Checkpoints/Best_model_Fold0.ckpt\n",
      "LOCAL_RANK: 0 - CUDA_VISIBLE_DEVICES: [0]\n"
     ]
    },
    {
     "name": "stdout",
     "output_type": "stream",
     "text": [
      "-------------------- FOLD 0 -------------------\n",
      "train_subjects: ['ym226', 'ym214', 'ym224', 'ym220', 'ym213', 'ym227', 'ym215', 'ym222', 'ym218', 'ym223', 'ym219']\n",
      "test_subjects: ['ym212']\n",
      "------------------------------------------------------\n"
     ]
    },
    {
     "name": "stderr",
     "output_type": "stream",
     "text": [
      "Loaded model weights from checkpoint at ./processed_dataset/Model_Checkpoints/Best_model_Fold0.ckpt\n"
     ]
    },
    {
     "name": "stdout",
     "output_type": "stream",
     "text": [
      "[Test] test_loss: 0.308 test_f1score: 0.839 test_accuracy: 0.866 \n",
      "────────────────────────────────────────────────────────────────────────────────────────────────────────────────────────\n",
      "       Test metric             DataLoader 0\n",
      "────────────────────────────────────────────────────────────────────────────────────────────────────────────────────────\n",
      "      test_accuracy         0.8662118315696716\n",
      "      test_f1score          0.8386140465736389\n",
      "        test_loss           0.3076174557209015\n",
      "────────────────────────────────────────────────────────────────────────────────────────────────────────────────────────\n"
     ]
    },
    {
     "name": "stderr",
     "output_type": "stream",
     "text": [
      "GPU available: True (cuda), used: True\n",
      "TPU available: False, using: 0 TPU cores\n",
      "IPU available: False, using: 0 IPUs\n",
      "HPU available: False, using: 0 HPUs\n",
      "Restoring states from the checkpoint path at ./processed_dataset/Model_Checkpoints/Best_model_Fold1.ckpt\n",
      "LOCAL_RANK: 0 - CUDA_VISIBLE_DEVICES: [0]\n"
     ]
    },
    {
     "name": "stdout",
     "output_type": "stream",
     "text": [
      "\n",
      "\n",
      "\n",
      "\n",
      "-------------------- FOLD 1 -------------------\n",
      "train_subjects: ['ym226', 'ym214', 'ym224', 'ym220', 'ym227', 'ym212', 'ym215', 'ym222', 'ym218', 'ym223', 'ym219']\n",
      "test_subjects: ['ym213']\n",
      "------------------------------------------------------\n"
     ]
    },
    {
     "name": "stderr",
     "output_type": "stream",
     "text": [
      "Loaded model weights from checkpoint at ./processed_dataset/Model_Checkpoints/Best_model_Fold1.ckpt\n"
     ]
    },
    {
     "name": "stdout",
     "output_type": "stream",
     "text": [
      "[Test] test_loss: 0.429 test_f1score: 0.797 test_accuracy: 0.806 \n",
      "────────────────────────────────────────────────────────────────────────────────────────────────────────────────────────\n",
      "       Test metric             DataLoader 0\n",
      "────────────────────────────────────────────────────────────────────────────────────────────────────────────────────────\n",
      "      test_accuracy         0.8061349987983704\n",
      "      test_f1score          0.7969875335693359\n",
      "        test_loss           0.42901530861854553\n",
      "────────────────────────────────────────────────────────────────────────────────────────────────────────────────────────\n"
     ]
    },
    {
     "name": "stderr",
     "output_type": "stream",
     "text": [
      "GPU available: True (cuda), used: True\n",
      "TPU available: False, using: 0 TPU cores\n",
      "IPU available: False, using: 0 IPUs\n",
      "HPU available: False, using: 0 HPUs\n",
      "Restoring states from the checkpoint path at ./processed_dataset/Model_Checkpoints/Best_model_Fold2.ckpt\n",
      "LOCAL_RANK: 0 - CUDA_VISIBLE_DEVICES: [0]\n"
     ]
    },
    {
     "name": "stdout",
     "output_type": "stream",
     "text": [
      "\n",
      "\n",
      "\n",
      "\n",
      "-------------------- FOLD 2 -------------------\n",
      "train_subjects: ['ym226', 'ym224', 'ym220', 'ym213', 'ym227', 'ym212', 'ym215', 'ym222', 'ym218', 'ym223', 'ym219']\n",
      "test_subjects: ['ym214']\n",
      "------------------------------------------------------\n"
     ]
    },
    {
     "name": "stderr",
     "output_type": "stream",
     "text": [
      "Loaded model weights from checkpoint at ./processed_dataset/Model_Checkpoints/Best_model_Fold2.ckpt\n"
     ]
    },
    {
     "name": "stdout",
     "output_type": "stream",
     "text": [
      "[Test] test_loss: 0.241 test_f1score: 0.921 test_accuracy: 0.926 \n",
      "────────────────────────────────────────────────────────────────────────────────────────────────────────────────────────\n",
      "       Test metric             DataLoader 0\n",
      "────────────────────────────────────────────────────────────────────────────────────────────────────────────────────────\n",
      "      test_accuracy         0.9264221787452698\n",
      "      test_f1score          0.9205446243286133\n",
      "        test_loss           0.24122709035873413\n",
      "────────────────────────────────────────────────────────────────────────────────────────────────────────────────────────\n"
     ]
    },
    {
     "name": "stderr",
     "output_type": "stream",
     "text": [
      "GPU available: True (cuda), used: True\n",
      "TPU available: False, using: 0 TPU cores\n",
      "IPU available: False, using: 0 IPUs\n",
      "HPU available: False, using: 0 HPUs\n",
      "Restoring states from the checkpoint path at ./processed_dataset/Model_Checkpoints/Best_model_Fold3.ckpt\n",
      "LOCAL_RANK: 0 - CUDA_VISIBLE_DEVICES: [0]\n"
     ]
    },
    {
     "name": "stdout",
     "output_type": "stream",
     "text": [
      "\n",
      "\n",
      "\n",
      "\n",
      "-------------------- FOLD 3 -------------------\n",
      "train_subjects: ['ym226', 'ym214', 'ym224', 'ym220', 'ym213', 'ym227', 'ym212', 'ym222', 'ym218', 'ym223', 'ym219']\n",
      "test_subjects: ['ym215']\n",
      "------------------------------------------------------\n"
     ]
    },
    {
     "name": "stderr",
     "output_type": "stream",
     "text": [
      "Loaded model weights from checkpoint at ./processed_dataset/Model_Checkpoints/Best_model_Fold3.ckpt\n"
     ]
    },
    {
     "name": "stdout",
     "output_type": "stream",
     "text": [
      "[Test] test_loss: 0.355 test_f1score: 0.836 test_accuracy: 0.848 \n",
      "────────────────────────────────────────────────────────────────────────────────────────────────────────────────────────\n",
      "       Test metric             DataLoader 0\n",
      "────────────────────────────────────────────────────────────────────────────────────────────────────────────────────────\n",
      "      test_accuracy         0.8479455709457397\n",
      "      test_f1score          0.8362787961959839\n",
      "        test_loss            0.354861319065094\n",
      "────────────────────────────────────────────────────────────────────────────────────────────────────────────────────────\n"
     ]
    },
    {
     "name": "stderr",
     "output_type": "stream",
     "text": [
      "GPU available: True (cuda), used: True\n",
      "TPU available: False, using: 0 TPU cores\n",
      "IPU available: False, using: 0 IPUs\n",
      "HPU available: False, using: 0 HPUs\n",
      "Restoring states from the checkpoint path at ./processed_dataset/Model_Checkpoints/Best_model_Fold4.ckpt\n",
      "LOCAL_RANK: 0 - CUDA_VISIBLE_DEVICES: [0]\n"
     ]
    },
    {
     "name": "stdout",
     "output_type": "stream",
     "text": [
      "\n",
      "\n",
      "\n",
      "\n",
      "-------------------- FOLD 4 -------------------\n",
      "train_subjects: ['ym226', 'ym214', 'ym224', 'ym220', 'ym213', 'ym227', 'ym212', 'ym215', 'ym222', 'ym223', 'ym219']\n",
      "test_subjects: ['ym218']\n",
      "------------------------------------------------------\n"
     ]
    },
    {
     "name": "stderr",
     "output_type": "stream",
     "text": [
      "Loaded model weights from checkpoint at ./processed_dataset/Model_Checkpoints/Best_model_Fold4.ckpt\n"
     ]
    },
    {
     "name": "stdout",
     "output_type": "stream",
     "text": [
      "[Test] test_loss: 0.403 test_f1score: 0.814 test_accuracy: 0.820 \n",
      "────────────────────────────────────────────────────────────────────────────────────────────────────────────────────────\n",
      "       Test metric             DataLoader 0\n",
      "────────────────────────────────────────────────────────────────────────────────────────────────────────────────────────\n",
      "      test_accuracy         0.8196110725402832\n",
      "      test_f1score          0.8139114379882812\n",
      "        test_loss           0.4027869701385498\n",
      "────────────────────────────────────────────────────────────────────────────────────────────────────────────────────────\n"
     ]
    },
    {
     "name": "stderr",
     "output_type": "stream",
     "text": [
      "GPU available: True (cuda), used: True\n",
      "TPU available: False, using: 0 TPU cores\n",
      "IPU available: False, using: 0 IPUs\n",
      "HPU available: False, using: 0 HPUs\n",
      "Restoring states from the checkpoint path at ./processed_dataset/Model_Checkpoints/Best_model_Fold5.ckpt\n"
     ]
    },
    {
     "name": "stdout",
     "output_type": "stream",
     "text": [
      "\n",
      "\n",
      "\n",
      "\n",
      "-------------------- FOLD 5 -------------------\n",
      "train_subjects: ['ym226', 'ym214', 'ym224', 'ym220', 'ym213', 'ym227', 'ym212', 'ym215', 'ym222', 'ym218', 'ym223']\n",
      "test_subjects: ['ym219']\n",
      "------------------------------------------------------\n"
     ]
    },
    {
     "name": "stderr",
     "output_type": "stream",
     "text": [
      "LOCAL_RANK: 0 - CUDA_VISIBLE_DEVICES: [0]\n",
      "Loaded model weights from checkpoint at ./processed_dataset/Model_Checkpoints/Best_model_Fold5.ckpt\n"
     ]
    },
    {
     "name": "stdout",
     "output_type": "stream",
     "text": [
      "[Test] test_loss: 0.305 test_f1score: 0.867 test_accuracy: 0.873 \n",
      "────────────────────────────────────────────────────────────────────────────────────────────────────────────────────────\n",
      "       Test metric             DataLoader 0\n",
      "────────────────────────────────────────────────────────────────────────────────────────────────────────────────────────\n",
      "      test_accuracy         0.8726353049278259\n",
      "      test_f1score          0.8665846586227417\n",
      "        test_loss           0.3047731816768646\n",
      "────────────────────────────────────────────────────────────────────────────────────────────────────────────────────────\n"
     ]
    },
    {
     "name": "stderr",
     "output_type": "stream",
     "text": [
      "GPU available: True (cuda), used: True\n",
      "TPU available: False, using: 0 TPU cores\n",
      "IPU available: False, using: 0 IPUs\n",
      "HPU available: False, using: 0 HPUs\n",
      "Restoring states from the checkpoint path at ./processed_dataset/Model_Checkpoints/Best_model_Fold6.ckpt\n",
      "LOCAL_RANK: 0 - CUDA_VISIBLE_DEVICES: [0]\n"
     ]
    },
    {
     "name": "stdout",
     "output_type": "stream",
     "text": [
      "\n",
      "\n",
      "\n",
      "\n",
      "-------------------- FOLD 6 -------------------\n",
      "train_subjects: ['ym226', 'ym214', 'ym224', 'ym213', 'ym227', 'ym212', 'ym215', 'ym222', 'ym218', 'ym223', 'ym219']\n",
      "test_subjects: ['ym220']\n",
      "------------------------------------------------------\n"
     ]
    },
    {
     "name": "stderr",
     "output_type": "stream",
     "text": [
      "Loaded model weights from checkpoint at ./processed_dataset/Model_Checkpoints/Best_model_Fold6.ckpt\n"
     ]
    },
    {
     "name": "stdout",
     "output_type": "stream",
     "text": [
      "[Test] test_loss: 0.313 test_f1score: 0.829 test_accuracy: 0.861 \n",
      "────────────────────────────────────────────────────────────────────────────────────────────────────────────────────────\n",
      "       Test metric             DataLoader 0\n",
      "────────────────────────────────────────────────────────────────────────────────────────────────────────────────────────\n",
      "      test_accuracy         0.8605101704597473\n",
      "      test_f1score          0.8291414976119995\n",
      "        test_loss           0.3131367564201355\n",
      "────────────────────────────────────────────────────────────────────────────────────────────────────────────────────────\n"
     ]
    },
    {
     "name": "stderr",
     "output_type": "stream",
     "text": [
      "GPU available: True (cuda), used: True\n",
      "TPU available: False, using: 0 TPU cores\n",
      "IPU available: False, using: 0 IPUs\n",
      "HPU available: False, using: 0 HPUs\n",
      "Restoring states from the checkpoint path at ./processed_dataset/Model_Checkpoints/Best_model_Fold7.ckpt\n",
      "LOCAL_RANK: 0 - CUDA_VISIBLE_DEVICES: [0]\n"
     ]
    },
    {
     "name": "stdout",
     "output_type": "stream",
     "text": [
      "\n",
      "\n",
      "\n",
      "\n",
      "-------------------- FOLD 7 -------------------\n",
      "train_subjects: ['ym226', 'ym214', 'ym224', 'ym220', 'ym213', 'ym227', 'ym212', 'ym215', 'ym218', 'ym223', 'ym219']\n",
      "test_subjects: ['ym222']\n",
      "------------------------------------------------------\n"
     ]
    },
    {
     "name": "stderr",
     "output_type": "stream",
     "text": [
      "Loaded model weights from checkpoint at ./processed_dataset/Model_Checkpoints/Best_model_Fold7.ckpt\n"
     ]
    },
    {
     "name": "stdout",
     "output_type": "stream",
     "text": [
      "[Test] test_loss: 0.545 test_f1score: 0.739 test_accuracy: 0.740 \n",
      "────────────────────────────────────────────────────────────────────────────────────────────────────────────────────────\n",
      "       Test metric             DataLoader 0\n",
      "────────────────────────────────────────────────────────────────────────────────────────────────────────────────────────\n",
      "      test_accuracy         0.7395126819610596\n",
      "      test_f1score           0.738640308380127\n",
      "        test_loss           0.5454779267311096\n",
      "────────────────────────────────────────────────────────────────────────────────────────────────────────────────────────\n"
     ]
    },
    {
     "name": "stderr",
     "output_type": "stream",
     "text": [
      "GPU available: True (cuda), used: True\n",
      "TPU available: False, using: 0 TPU cores\n",
      "IPU available: False, using: 0 IPUs\n",
      "HPU available: False, using: 0 HPUs\n",
      "Restoring states from the checkpoint path at ./processed_dataset/Model_Checkpoints/Best_model_Fold8.ckpt\n"
     ]
    },
    {
     "name": "stdout",
     "output_type": "stream",
     "text": [
      "\n",
      "\n",
      "\n",
      "\n",
      "-------------------- FOLD 8 -------------------\n",
      "train_subjects: ['ym226', 'ym214', 'ym224', 'ym220', 'ym213', 'ym227', 'ym212', 'ym215', 'ym222', 'ym218', 'ym219']\n",
      "test_subjects: ['ym223']\n",
      "------------------------------------------------------\n"
     ]
    },
    {
     "name": "stderr",
     "output_type": "stream",
     "text": [
      "LOCAL_RANK: 0 - CUDA_VISIBLE_DEVICES: [0]\n",
      "Loaded model weights from checkpoint at ./processed_dataset/Model_Checkpoints/Best_model_Fold8.ckpt\n"
     ]
    },
    {
     "name": "stdout",
     "output_type": "stream",
     "text": [
      "[Test] test_loss: 0.987 test_f1score: 0.525 test_accuracy: 0.525 \n",
      "────────────────────────────────────────────────────────────────────────────────────────────────────────────────────────\n",
      "       Test metric             DataLoader 0\n",
      "────────────────────────────────────────────────────────────────────────────────────────────────────────────────────────\n",
      "      test_accuracy         0.5246314406394958\n",
      "      test_f1score          0.5246309041976929\n",
      "        test_loss           0.9865556359291077\n",
      "────────────────────────────────────────────────────────────────────────────────────────────────────────────────────────\n"
     ]
    },
    {
     "name": "stderr",
     "output_type": "stream",
     "text": [
      "GPU available: True (cuda), used: True\n",
      "TPU available: False, using: 0 TPU cores\n",
      "IPU available: False, using: 0 IPUs\n",
      "HPU available: False, using: 0 HPUs\n",
      "Restoring states from the checkpoint path at ./processed_dataset/Model_Checkpoints/Best_model_Fold9.ckpt\n",
      "LOCAL_RANK: 0 - CUDA_VISIBLE_DEVICES: [0]\n"
     ]
    },
    {
     "name": "stdout",
     "output_type": "stream",
     "text": [
      "\n",
      "\n",
      "\n",
      "\n",
      "-------------------- FOLD 9 -------------------\n",
      "train_subjects: ['ym226', 'ym214', 'ym220', 'ym213', 'ym227', 'ym212', 'ym215', 'ym222', 'ym218', 'ym223', 'ym219']\n",
      "test_subjects: ['ym224']\n",
      "------------------------------------------------------\n"
     ]
    },
    {
     "name": "stderr",
     "output_type": "stream",
     "text": [
      "Loaded model weights from checkpoint at ./processed_dataset/Model_Checkpoints/Best_model_Fold9.ckpt\n"
     ]
    },
    {
     "name": "stdout",
     "output_type": "stream",
     "text": [
      "[Test] test_loss: 0.614 test_f1score: 0.634 test_accuracy: 0.693 \n",
      "────────────────────────────────────────────────────────────────────────────────────────────────────────────────────────\n",
      "       Test metric             DataLoader 0\n",
      "────────────────────────────────────────────────────────────────────────────────────────────────────────────────────────\n",
      "      test_accuracy         0.6933198571205139\n",
      "      test_f1score          0.6342685222625732\n",
      "        test_loss           0.6135987043380737\n",
      "────────────────────────────────────────────────────────────────────────────────────────────────────────────────────────\n"
     ]
    },
    {
     "name": "stderr",
     "output_type": "stream",
     "text": [
      "GPU available: True (cuda), used: True\n",
      "TPU available: False, using: 0 TPU cores\n",
      "IPU available: False, using: 0 IPUs\n",
      "HPU available: False, using: 0 HPUs\n",
      "Restoring states from the checkpoint path at ./processed_dataset/Model_Checkpoints/Best_model_Fold10.ckpt\n",
      "LOCAL_RANK: 0 - CUDA_VISIBLE_DEVICES: [0]\n"
     ]
    },
    {
     "name": "stdout",
     "output_type": "stream",
     "text": [
      "\n",
      "\n",
      "\n",
      "\n",
      "-------------------- FOLD 10 -------------------\n",
      "train_subjects: ['ym214', 'ym224', 'ym220', 'ym213', 'ym227', 'ym212', 'ym215', 'ym222', 'ym218', 'ym223', 'ym219']\n",
      "test_subjects: ['ym226']\n",
      "------------------------------------------------------\n"
     ]
    },
    {
     "name": "stderr",
     "output_type": "stream",
     "text": [
      "Loaded model weights from checkpoint at ./processed_dataset/Model_Checkpoints/Best_model_Fold10.ckpt\n"
     ]
    },
    {
     "name": "stdout",
     "output_type": "stream",
     "text": [
      "[Test] test_loss: 0.892 test_f1score: 0.609 test_accuracy: 0.643 \n",
      "────────────────────────────────────────────────────────────────────────────────────────────────────────────────────────\n",
      "       Test metric             DataLoader 0\n",
      "────────────────────────────────────────────────────────────────────────────────────────────────────────────────────────\n",
      "      test_accuracy         0.6432185173034668\n",
      "      test_f1score          0.6094858050346375\n",
      "        test_loss            0.892251193523407\n",
      "────────────────────────────────────────────────────────────────────────────────────────────────────────────────────────\n"
     ]
    },
    {
     "name": "stderr",
     "output_type": "stream",
     "text": [
      "GPU available: True (cuda), used: True\n",
      "TPU available: False, using: 0 TPU cores\n",
      "IPU available: False, using: 0 IPUs\n",
      "HPU available: False, using: 0 HPUs\n",
      "Restoring states from the checkpoint path at ./processed_dataset/Model_Checkpoints/Best_model_Fold11.ckpt\n",
      "LOCAL_RANK: 0 - CUDA_VISIBLE_DEVICES: [0]\n"
     ]
    },
    {
     "name": "stdout",
     "output_type": "stream",
     "text": [
      "\n",
      "\n",
      "\n",
      "\n",
      "-------------------- FOLD 11 -------------------\n",
      "train_subjects: ['ym226', 'ym214', 'ym224', 'ym220', 'ym213', 'ym212', 'ym215', 'ym222', 'ym218', 'ym223', 'ym219']\n",
      "test_subjects: ['ym227']\n",
      "------------------------------------------------------\n"
     ]
    },
    {
     "name": "stderr",
     "output_type": "stream",
     "text": [
      "Loaded model weights from checkpoint at ./processed_dataset/Model_Checkpoints/Best_model_Fold11.ckpt\n"
     ]
    },
    {
     "name": "stdout",
     "output_type": "stream",
     "text": [
      "[Test] test_loss: 0.486 test_f1score: 0.749 test_accuracy: 0.755 \n",
      "────────────────────────────────────────────────────────────────────────────────────────────────────────────────────────\n",
      "       Test metric             DataLoader 0\n",
      "────────────────────────────────────────────────────────────────────────────────────────────────────────────────────────\n",
      "      test_accuracy         0.7548980116844177\n",
      "      test_f1score          0.7487250566482544\n",
      "        test_loss           0.4855000972747803\n",
      "────────────────────────────────────────────────────────────────────────────────────────────────────────────────────────\n",
      "\n",
      "\n",
      "\n",
      "\n",
      "====================================================================================================\n",
      "                    erased_feature: BLA_beta\n",
      "====================================================================================================\n",
      "dataset does not exist at path ./processed_dataset/perturbation_samples/BLA_beta, generating files to path...\n"
     ]
    },
    {
     "name": "stderr",
     "output_type": "stream",
     "text": [
      "[PROCESS]: 100%|██████████| 24/24 [04:40<00:00, 11.70s/it]\n"
     ]
    },
    {
     "name": "stdout",
     "output_type": "stream",
     "text": [
      "dataset already exists at path ./processed_dataset/perturbation_samples/BLA_beta, reading from path...\n"
     ]
    },
    {
     "name": "stderr",
     "output_type": "stream",
     "text": [
      "GPU available: True (cuda), used: True\n",
      "TPU available: False, using: 0 TPU cores\n",
      "IPU available: False, using: 0 IPUs\n",
      "HPU available: False, using: 0 HPUs\n",
      "Restoring states from the checkpoint path at ./processed_dataset/Model_Checkpoints/Best_model_Fold0.ckpt\n",
      "LOCAL_RANK: 0 - CUDA_VISIBLE_DEVICES: [0]\n"
     ]
    },
    {
     "name": "stdout",
     "output_type": "stream",
     "text": [
      "-------------------- FOLD 0 -------------------\n",
      "train_subjects: ['ym226', 'ym214', 'ym224', 'ym220', 'ym213', 'ym227', 'ym215', 'ym222', 'ym218', 'ym223', 'ym219']\n",
      "test_subjects: ['ym212']\n",
      "------------------------------------------------------\n"
     ]
    },
    {
     "name": "stderr",
     "output_type": "stream",
     "text": [
      "Loaded model weights from checkpoint at ./processed_dataset/Model_Checkpoints/Best_model_Fold0.ckpt\n"
     ]
    },
    {
     "name": "stdout",
     "output_type": "stream",
     "text": [
      "[Test] test_loss: 0.259 test_f1score: 0.875 test_accuracy: 0.889 \n",
      "────────────────────────────────────────────────────────────────────────────────────────────────────────────────────────\n",
      "       Test metric             DataLoader 0\n",
      "────────────────────────────────────────────────────────────────────────────────────────────────────────────────────────\n",
      "      test_accuracy          0.888757050037384\n",
      "      test_f1score          0.8746183514595032\n",
      "        test_loss           0.2586030662059784\n",
      "────────────────────────────────────────────────────────────────────────────────────────────────────────────────────────\n"
     ]
    },
    {
     "name": "stderr",
     "output_type": "stream",
     "text": [
      "GPU available: True (cuda), used: True\n",
      "TPU available: False, using: 0 TPU cores\n",
      "IPU available: False, using: 0 IPUs\n",
      "HPU available: False, using: 0 HPUs\n",
      "Restoring states from the checkpoint path at ./processed_dataset/Model_Checkpoints/Best_model_Fold1.ckpt\n",
      "LOCAL_RANK: 0 - CUDA_VISIBLE_DEVICES: [0]\n"
     ]
    },
    {
     "name": "stdout",
     "output_type": "stream",
     "text": [
      "\n",
      "\n",
      "\n",
      "\n",
      "-------------------- FOLD 1 -------------------\n",
      "train_subjects: ['ym226', 'ym214', 'ym224', 'ym220', 'ym227', 'ym212', 'ym215', 'ym222', 'ym218', 'ym223', 'ym219']\n",
      "test_subjects: ['ym213']\n",
      "------------------------------------------------------\n"
     ]
    },
    {
     "name": "stderr",
     "output_type": "stream",
     "text": [
      "Loaded model weights from checkpoint at ./processed_dataset/Model_Checkpoints/Best_model_Fold1.ckpt\n"
     ]
    },
    {
     "name": "stdout",
     "output_type": "stream",
     "text": [
      "[Test] test_loss: 0.417 test_f1score: 0.798 test_accuracy: 0.810 \n",
      "────────────────────────────────────────────────────────────────────────────────────────────────────────────────────────\n",
      "       Test metric             DataLoader 0\n",
      "────────────────────────────────────────────────────────────────────────────────────────────────────────────────────────\n",
      "      test_accuracy         0.8095092177391052\n",
      "      test_f1score          0.7984082698822021\n",
      "        test_loss           0.4165574908256531\n",
      "────────────────────────────────────────────────────────────────────────────────────────────────────────────────────────\n"
     ]
    },
    {
     "name": "stderr",
     "output_type": "stream",
     "text": [
      "GPU available: True (cuda), used: True\n",
      "TPU available: False, using: 0 TPU cores\n",
      "IPU available: False, using: 0 IPUs\n",
      "HPU available: False, using: 0 HPUs\n",
      "Restoring states from the checkpoint path at ./processed_dataset/Model_Checkpoints/Best_model_Fold2.ckpt\n",
      "LOCAL_RANK: 0 - CUDA_VISIBLE_DEVICES: [0]\n"
     ]
    },
    {
     "name": "stdout",
     "output_type": "stream",
     "text": [
      "\n",
      "\n",
      "\n",
      "\n",
      "-------------------- FOLD 2 -------------------\n",
      "train_subjects: ['ym226', 'ym224', 'ym220', 'ym213', 'ym227', 'ym212', 'ym215', 'ym222', 'ym218', 'ym223', 'ym219']\n",
      "test_subjects: ['ym214']\n",
      "------------------------------------------------------\n"
     ]
    },
    {
     "name": "stderr",
     "output_type": "stream",
     "text": [
      "Loaded model weights from checkpoint at ./processed_dataset/Model_Checkpoints/Best_model_Fold2.ckpt\n"
     ]
    },
    {
     "name": "stdout",
     "output_type": "stream",
     "text": [
      "[Test] test_loss: 0.258 test_f1score: 0.907 test_accuracy: 0.914 \n",
      "────────────────────────────────────────────────────────────────────────────────────────────────────────────────────────\n",
      "       Test metric             DataLoader 0\n",
      "────────────────────────────────────────────────────────────────────────────────────────────────────────────────────────\n",
      "      test_accuracy          0.914433479309082\n",
      "      test_f1score          0.9067651033401489\n",
      "        test_loss           0.25795942544937134\n",
      "────────────────────────────────────────────────────────────────────────────────────────────────────────────────────────\n"
     ]
    },
    {
     "name": "stderr",
     "output_type": "stream",
     "text": [
      "GPU available: True (cuda), used: True\n",
      "TPU available: False, using: 0 TPU cores\n",
      "IPU available: False, using: 0 IPUs\n",
      "HPU available: False, using: 0 HPUs\n",
      "Restoring states from the checkpoint path at ./processed_dataset/Model_Checkpoints/Best_model_Fold3.ckpt\n",
      "LOCAL_RANK: 0 - CUDA_VISIBLE_DEVICES: [0]\n"
     ]
    },
    {
     "name": "stdout",
     "output_type": "stream",
     "text": [
      "\n",
      "\n",
      "\n",
      "\n",
      "-------------------- FOLD 3 -------------------\n",
      "train_subjects: ['ym226', 'ym214', 'ym224', 'ym220', 'ym213', 'ym227', 'ym212', 'ym222', 'ym218', 'ym223', 'ym219']\n",
      "test_subjects: ['ym215']\n",
      "------------------------------------------------------\n"
     ]
    },
    {
     "name": "stderr",
     "output_type": "stream",
     "text": [
      "Loaded model weights from checkpoint at ./processed_dataset/Model_Checkpoints/Best_model_Fold3.ckpt\n"
     ]
    },
    {
     "name": "stdout",
     "output_type": "stream",
     "text": [
      "[Test] test_loss: 0.426 test_f1score: 0.800 test_accuracy: 0.809 \n",
      "────────────────────────────────────────────────────────────────────────────────────────────────────────────────────────\n",
      "       Test metric             DataLoader 0\n",
      "────────────────────────────────────────────────────────────────────────────────────────────────────────────────────────\n",
      "      test_accuracy         0.8092122673988342\n",
      "      test_f1score          0.8003737926483154\n",
      "        test_loss           0.42565011978149414\n",
      "────────────────────────────────────────────────────────────────────────────────────────────────────────────────────────\n"
     ]
    },
    {
     "name": "stderr",
     "output_type": "stream",
     "text": [
      "GPU available: True (cuda), used: True\n",
      "TPU available: False, using: 0 TPU cores\n",
      "IPU available: False, using: 0 IPUs\n",
      "HPU available: False, using: 0 HPUs\n",
      "Restoring states from the checkpoint path at ./processed_dataset/Model_Checkpoints/Best_model_Fold4.ckpt\n",
      "LOCAL_RANK: 0 - CUDA_VISIBLE_DEVICES: [0]\n"
     ]
    },
    {
     "name": "stdout",
     "output_type": "stream",
     "text": [
      "\n",
      "\n",
      "\n",
      "\n",
      "-------------------- FOLD 4 -------------------\n",
      "train_subjects: ['ym226', 'ym214', 'ym224', 'ym220', 'ym213', 'ym227', 'ym212', 'ym215', 'ym222', 'ym223', 'ym219']\n",
      "test_subjects: ['ym218']\n",
      "------------------------------------------------------\n"
     ]
    },
    {
     "name": "stderr",
     "output_type": "stream",
     "text": [
      "Loaded model weights from checkpoint at ./processed_dataset/Model_Checkpoints/Best_model_Fold4.ckpt\n"
     ]
    },
    {
     "name": "stdout",
     "output_type": "stream",
     "text": [
      "[Test] test_loss: 0.386 test_f1score: 0.815 test_accuracy: 0.823 \n",
      "────────────────────────────────────────────────────────────────────────────────────────────────────────────────────────\n",
      "       Test metric             DataLoader 0\n",
      "────────────────────────────────────────────────────────────────────────────────────────────────────────────────────────\n",
      "      test_accuracy         0.8229209780693054\n",
      "      test_f1score          0.8154277205467224\n",
      "        test_loss           0.3856143355369568\n",
      "────────────────────────────────────────────────────────────────────────────────────────────────────────────────────────\n"
     ]
    },
    {
     "name": "stderr",
     "output_type": "stream",
     "text": [
      "GPU available: True (cuda), used: True\n",
      "TPU available: False, using: 0 TPU cores\n",
      "IPU available: False, using: 0 IPUs\n",
      "HPU available: False, using: 0 HPUs\n",
      "Restoring states from the checkpoint path at ./processed_dataset/Model_Checkpoints/Best_model_Fold5.ckpt\n",
      "LOCAL_RANK: 0 - CUDA_VISIBLE_DEVICES: [0]\n"
     ]
    },
    {
     "name": "stdout",
     "output_type": "stream",
     "text": [
      "\n",
      "\n",
      "\n",
      "\n",
      "-------------------- FOLD 5 -------------------\n",
      "train_subjects: ['ym226', 'ym214', 'ym224', 'ym220', 'ym213', 'ym227', 'ym212', 'ym215', 'ym222', 'ym218', 'ym223']\n",
      "test_subjects: ['ym219']\n",
      "------------------------------------------------------\n"
     ]
    },
    {
     "name": "stderr",
     "output_type": "stream",
     "text": [
      "Loaded model weights from checkpoint at ./processed_dataset/Model_Checkpoints/Best_model_Fold5.ckpt\n"
     ]
    },
    {
     "name": "stdout",
     "output_type": "stream",
     "text": [
      "[Test] test_loss: 0.348 test_f1score: 0.835 test_accuracy: 0.849 \n",
      "────────────────────────────────────────────────────────────────────────────────────────────────────────────────────────\n",
      "       Test metric             DataLoader 0\n",
      "────────────────────────────────────────────────────────────────────────────────────────────────────────────────────────\n",
      "      test_accuracy         0.8488481044769287\n",
      "      test_f1score          0.8348966240882874\n",
      "        test_loss           0.3484047055244446\n",
      "────────────────────────────────────────────────────────────────────────────────────────────────────────────────────────\n"
     ]
    },
    {
     "name": "stderr",
     "output_type": "stream",
     "text": [
      "GPU available: True (cuda), used: True\n",
      "TPU available: False, using: 0 TPU cores\n",
      "IPU available: False, using: 0 IPUs\n",
      "HPU available: False, using: 0 HPUs\n",
      "Restoring states from the checkpoint path at ./processed_dataset/Model_Checkpoints/Best_model_Fold6.ckpt\n",
      "LOCAL_RANK: 0 - CUDA_VISIBLE_DEVICES: [0]\n"
     ]
    },
    {
     "name": "stdout",
     "output_type": "stream",
     "text": [
      "\n",
      "\n",
      "\n",
      "\n",
      "-------------------- FOLD 6 -------------------\n",
      "train_subjects: ['ym226', 'ym214', 'ym224', 'ym213', 'ym227', 'ym212', 'ym215', 'ym222', 'ym218', 'ym223', 'ym219']\n",
      "test_subjects: ['ym220']\n",
      "------------------------------------------------------\n"
     ]
    },
    {
     "name": "stderr",
     "output_type": "stream",
     "text": [
      "Loaded model weights from checkpoint at ./processed_dataset/Model_Checkpoints/Best_model_Fold6.ckpt\n"
     ]
    },
    {
     "name": "stdout",
     "output_type": "stream",
     "text": [
      "[Test] test_loss: 0.261 test_f1score: 0.863 test_accuracy: 0.883 \n",
      "────────────────────────────────────────────────────────────────────────────────────────────────────────────────────────\n",
      "       Test metric             DataLoader 0\n",
      "────────────────────────────────────────────────────────────────────────────────────────────────────────────────────────\n",
      "      test_accuracy         0.8834356069564819\n",
      "      test_f1score          0.8626817464828491\n",
      "        test_loss            0.260640025138855\n",
      "────────────────────────────────────────────────────────────────────────────────────────────────────────────────────────\n"
     ]
    },
    {
     "name": "stderr",
     "output_type": "stream",
     "text": [
      "GPU available: True (cuda), used: True\n",
      "TPU available: False, using: 0 TPU cores\n",
      "IPU available: False, using: 0 IPUs\n",
      "HPU available: False, using: 0 HPUs\n",
      "Restoring states from the checkpoint path at ./processed_dataset/Model_Checkpoints/Best_model_Fold7.ckpt\n",
      "LOCAL_RANK: 0 - CUDA_VISIBLE_DEVICES: [0]\n"
     ]
    },
    {
     "name": "stdout",
     "output_type": "stream",
     "text": [
      "\n",
      "\n",
      "\n",
      "\n",
      "-------------------- FOLD 7 -------------------\n",
      "train_subjects: ['ym226', 'ym214', 'ym224', 'ym220', 'ym213', 'ym227', 'ym212', 'ym215', 'ym218', 'ym223', 'ym219']\n",
      "test_subjects: ['ym222']\n",
      "------------------------------------------------------\n"
     ]
    },
    {
     "name": "stderr",
     "output_type": "stream",
     "text": [
      "Loaded model weights from checkpoint at ./processed_dataset/Model_Checkpoints/Best_model_Fold7.ckpt\n"
     ]
    },
    {
     "name": "stdout",
     "output_type": "stream",
     "text": [
      "[Test] test_loss: 0.429 test_f1score: 0.797 test_accuracy: 0.801 \n",
      "────────────────────────────────────────────────────────────────────────────────────────────────────────────────────────\n",
      "       Test metric             DataLoader 0\n",
      "────────────────────────────────────────────────────────────────────────────────────────────────────────────────────────\n",
      "      test_accuracy         0.8013061881065369\n",
      "      test_f1score          0.7972069978713989\n",
      "        test_loss           0.4287451207637787\n",
      "────────────────────────────────────────────────────────────────────────────────────────────────────────────────────────\n"
     ]
    },
    {
     "name": "stderr",
     "output_type": "stream",
     "text": [
      "GPU available: True (cuda), used: True\n",
      "TPU available: False, using: 0 TPU cores\n",
      "IPU available: False, using: 0 IPUs\n",
      "HPU available: False, using: 0 HPUs\n",
      "Restoring states from the checkpoint path at ./processed_dataset/Model_Checkpoints/Best_model_Fold8.ckpt\n",
      "LOCAL_RANK: 0 - CUDA_VISIBLE_DEVICES: [0]\n"
     ]
    },
    {
     "name": "stdout",
     "output_type": "stream",
     "text": [
      "\n",
      "\n",
      "\n",
      "\n",
      "-------------------- FOLD 8 -------------------\n",
      "train_subjects: ['ym226', 'ym214', 'ym224', 'ym220', 'ym213', 'ym227', 'ym212', 'ym215', 'ym222', 'ym218', 'ym219']\n",
      "test_subjects: ['ym223']\n",
      "------------------------------------------------------\n"
     ]
    },
    {
     "name": "stderr",
     "output_type": "stream",
     "text": [
      "Loaded model weights from checkpoint at ./processed_dataset/Model_Checkpoints/Best_model_Fold8.ckpt\n"
     ]
    },
    {
     "name": "stdout",
     "output_type": "stream",
     "text": [
      "[Test] test_loss: 0.811 test_f1score: 0.591 test_accuracy: 0.593 \n",
      "────────────────────────────────────────────────────────────────────────────────────────────────────────────────────────\n",
      "       Test metric             DataLoader 0\n",
      "────────────────────────────────────────────────────────────────────────────────────────────────────────────────────────\n",
      "      test_accuracy         0.5933117866516113\n",
      "      test_f1score          0.5909345746040344\n",
      "        test_loss           0.8105180859565735\n",
      "────────────────────────────────────────────────────────────────────────────────────────────────────────────────────────\n"
     ]
    },
    {
     "name": "stderr",
     "output_type": "stream",
     "text": [
      "GPU available: True (cuda), used: True\n",
      "TPU available: False, using: 0 TPU cores\n",
      "IPU available: False, using: 0 IPUs\n",
      "HPU available: False, using: 0 HPUs\n",
      "Restoring states from the checkpoint path at ./processed_dataset/Model_Checkpoints/Best_model_Fold9.ckpt\n"
     ]
    },
    {
     "name": "stdout",
     "output_type": "stream",
     "text": [
      "\n",
      "\n",
      "\n",
      "\n",
      "-------------------- FOLD 9 -------------------\n",
      "train_subjects: ['ym226', 'ym214', 'ym220', 'ym213', 'ym227', 'ym212', 'ym215', 'ym222', 'ym218', 'ym223', 'ym219']\n",
      "test_subjects: ['ym224']\n",
      "------------------------------------------------------\n"
     ]
    },
    {
     "name": "stderr",
     "output_type": "stream",
     "text": [
      "LOCAL_RANK: 0 - CUDA_VISIBLE_DEVICES: [0]\n",
      "Loaded model weights from checkpoint at ./processed_dataset/Model_Checkpoints/Best_model_Fold9.ckpt\n"
     ]
    },
    {
     "name": "stdout",
     "output_type": "stream",
     "text": [
      "[Test] test_loss: 0.579 test_f1score: 0.679 test_accuracy: 0.708 \n",
      "────────────────────────────────────────────────────────────────────────────────────────────────────────────────────────\n",
      "       Test metric             DataLoader 0\n",
      "────────────────────────────────────────────────────────────────────────────────────────────────────────────────────────\n",
      "      test_accuracy         0.7078947424888611\n",
      "      test_f1score          0.6786179542541504\n",
      "        test_loss            0.579204797744751\n",
      "────────────────────────────────────────────────────────────────────────────────────────────────────────────────────────\n"
     ]
    },
    {
     "name": "stderr",
     "output_type": "stream",
     "text": [
      "GPU available: True (cuda), used: True\n",
      "TPU available: False, using: 0 TPU cores\n",
      "IPU available: False, using: 0 IPUs\n",
      "HPU available: False, using: 0 HPUs\n",
      "Restoring states from the checkpoint path at ./processed_dataset/Model_Checkpoints/Best_model_Fold10.ckpt\n",
      "LOCAL_RANK: 0 - CUDA_VISIBLE_DEVICES: [0]\n"
     ]
    },
    {
     "name": "stdout",
     "output_type": "stream",
     "text": [
      "\n",
      "\n",
      "\n",
      "\n",
      "-------------------- FOLD 10 -------------------\n",
      "train_subjects: ['ym214', 'ym224', 'ym220', 'ym213', 'ym227', 'ym212', 'ym215', 'ym222', 'ym218', 'ym223', 'ym219']\n",
      "test_subjects: ['ym226']\n",
      "------------------------------------------------------\n"
     ]
    },
    {
     "name": "stderr",
     "output_type": "stream",
     "text": [
      "Loaded model weights from checkpoint at ./processed_dataset/Model_Checkpoints/Best_model_Fold10.ckpt\n"
     ]
    },
    {
     "name": "stdout",
     "output_type": "stream",
     "text": [
      "[Test] test_loss: 0.959 test_f1score: 0.587 test_accuracy: 0.628 \n",
      "────────────────────────────────────────────────────────────────────────────────────────────────────────────────────────\n",
      "       Test metric             DataLoader 0\n",
      "────────────────────────────────────────────────────────────────────────────────────────────────────────────────────────\n",
      "      test_accuracy         0.6280414462089539\n",
      "      test_f1score          0.5871075987815857\n",
      "        test_loss           0.9586101174354553\n",
      "────────────────────────────────────────────────────────────────────────────────────────────────────────────────────────\n"
     ]
    },
    {
     "name": "stderr",
     "output_type": "stream",
     "text": [
      "GPU available: True (cuda), used: True\n",
      "TPU available: False, using: 0 TPU cores\n",
      "IPU available: False, using: 0 IPUs\n",
      "HPU available: False, using: 0 HPUs\n",
      "Restoring states from the checkpoint path at ./processed_dataset/Model_Checkpoints/Best_model_Fold11.ckpt\n",
      "LOCAL_RANK: 0 - CUDA_VISIBLE_DEVICES: [0]\n"
     ]
    },
    {
     "name": "stdout",
     "output_type": "stream",
     "text": [
      "\n",
      "\n",
      "\n",
      "\n",
      "-------------------- FOLD 11 -------------------\n",
      "train_subjects: ['ym226', 'ym214', 'ym224', 'ym220', 'ym213', 'ym212', 'ym215', 'ym222', 'ym218', 'ym223', 'ym219']\n",
      "test_subjects: ['ym227']\n",
      "------------------------------------------------------\n"
     ]
    },
    {
     "name": "stderr",
     "output_type": "stream",
     "text": [
      "Loaded model weights from checkpoint at ./processed_dataset/Model_Checkpoints/Best_model_Fold11.ckpt\n"
     ]
    },
    {
     "name": "stdout",
     "output_type": "stream",
     "text": [
      "[Test] test_loss: 0.466 test_f1score: 0.774 test_accuracy: 0.777 \n",
      "────────────────────────────────────────────────────────────────────────────────────────────────────────────────────────\n",
      "       Test metric             DataLoader 0\n",
      "────────────────────────────────────────────────────────────────────────────────────────────────────────────────────────\n",
      "      test_accuracy         0.7768892645835876\n",
      "      test_f1score          0.7742779850959778\n",
      "        test_loss           0.4656605124473572\n",
      "────────────────────────────────────────────────────────────────────────────────────────────────────────────────────────\n",
      "\n",
      "\n",
      "\n",
      "\n",
      "====================================================================================================\n",
      "                    erased_feature: ACC_sGamma\n",
      "====================================================================================================\n",
      "dataset does not exist at path ./processed_dataset/perturbation_samples/ACC_sGamma, generating files to path...\n"
     ]
    },
    {
     "name": "stderr",
     "output_type": "stream",
     "text": [
      "[PROCESS]: 100%|██████████| 24/24 [04:40<00:00, 11.71s/it]\n"
     ]
    },
    {
     "name": "stdout",
     "output_type": "stream",
     "text": [
      "dataset already exists at path ./processed_dataset/perturbation_samples/ACC_sGamma, reading from path...\n"
     ]
    },
    {
     "name": "stderr",
     "output_type": "stream",
     "text": [
      "GPU available: True (cuda), used: True\n",
      "TPU available: False, using: 0 TPU cores\n",
      "IPU available: False, using: 0 IPUs\n",
      "HPU available: False, using: 0 HPUs\n",
      "Restoring states from the checkpoint path at ./processed_dataset/Model_Checkpoints/Best_model_Fold0.ckpt\n",
      "LOCAL_RANK: 0 - CUDA_VISIBLE_DEVICES: [0]\n"
     ]
    },
    {
     "name": "stdout",
     "output_type": "stream",
     "text": [
      "-------------------- FOLD 0 -------------------\n",
      "train_subjects: ['ym226', 'ym214', 'ym224', 'ym220', 'ym213', 'ym227', 'ym215', 'ym222', 'ym218', 'ym223', 'ym219']\n",
      "test_subjects: ['ym212']\n",
      "------------------------------------------------------\n"
     ]
    },
    {
     "name": "stderr",
     "output_type": "stream",
     "text": [
      "Loaded model weights from checkpoint at ./processed_dataset/Model_Checkpoints/Best_model_Fold0.ckpt\n"
     ]
    },
    {
     "name": "stdout",
     "output_type": "stream",
     "text": [
      "[Test] test_loss: 0.261 test_f1score: 0.879 test_accuracy: 0.890 \n",
      "────────────────────────────────────────────────────────────────────────────────────────────────────────────────────────\n",
      "       Test metric             DataLoader 0\n",
      "────────────────────────────────────────────────────────────────────────────────────────────────────────────────────────\n",
      "      test_accuracy         0.8902403116226196\n",
      "      test_f1score          0.8790586590766907\n",
      "        test_loss           0.26146987080574036\n",
      "────────────────────────────────────────────────────────────────────────────────────────────────────────────────────────\n"
     ]
    },
    {
     "name": "stderr",
     "output_type": "stream",
     "text": [
      "GPU available: True (cuda), used: True\n",
      "TPU available: False, using: 0 TPU cores\n",
      "IPU available: False, using: 0 IPUs\n",
      "HPU available: False, using: 0 HPUs\n",
      "Restoring states from the checkpoint path at ./processed_dataset/Model_Checkpoints/Best_model_Fold1.ckpt\n",
      "LOCAL_RANK: 0 - CUDA_VISIBLE_DEVICES: [0]\n"
     ]
    },
    {
     "name": "stdout",
     "output_type": "stream",
     "text": [
      "\n",
      "\n",
      "\n",
      "\n",
      "-------------------- FOLD 1 -------------------\n",
      "train_subjects: ['ym226', 'ym214', 'ym224', 'ym220', 'ym227', 'ym212', 'ym215', 'ym222', 'ym218', 'ym223', 'ym219']\n",
      "test_subjects: ['ym213']\n",
      "------------------------------------------------------\n"
     ]
    },
    {
     "name": "stderr",
     "output_type": "stream",
     "text": [
      "Loaded model weights from checkpoint at ./processed_dataset/Model_Checkpoints/Best_model_Fold1.ckpt\n"
     ]
    },
    {
     "name": "stdout",
     "output_type": "stream",
     "text": [
      "[Test] test_loss: 0.401 test_f1score: 0.806 test_accuracy: 0.819 \n",
      "────────────────────────────────────────────────────────────────────────────────────────────────────────────────────────\n",
      "       Test metric             DataLoader 0\n",
      "────────────────────────────────────────────────────────────────────────────────────────────────────────────────────────\n",
      "      test_accuracy         0.8193251490592957\n",
      "      test_f1score            0.8059121966362\n",
      "        test_loss           0.4011179208755493\n",
      "────────────────────────────────────────────────────────────────────────────────────────────────────────────────────────\n"
     ]
    },
    {
     "name": "stderr",
     "output_type": "stream",
     "text": [
      "GPU available: True (cuda), used: True\n",
      "TPU available: False, using: 0 TPU cores\n",
      "IPU available: False, using: 0 IPUs\n",
      "HPU available: False, using: 0 HPUs\n",
      "Restoring states from the checkpoint path at ./processed_dataset/Model_Checkpoints/Best_model_Fold2.ckpt\n",
      "LOCAL_RANK: 0 - CUDA_VISIBLE_DEVICES: [0]\n"
     ]
    },
    {
     "name": "stdout",
     "output_type": "stream",
     "text": [
      "\n",
      "\n",
      "\n",
      "\n",
      "-------------------- FOLD 2 -------------------\n",
      "train_subjects: ['ym226', 'ym224', 'ym220', 'ym213', 'ym227', 'ym212', 'ym215', 'ym222', 'ym218', 'ym223', 'ym219']\n",
      "test_subjects: ['ym214']\n",
      "------------------------------------------------------\n"
     ]
    },
    {
     "name": "stderr",
     "output_type": "stream",
     "text": [
      "Loaded model weights from checkpoint at ./processed_dataset/Model_Checkpoints/Best_model_Fold2.ckpt\n"
     ]
    },
    {
     "name": "stdout",
     "output_type": "stream",
     "text": [
      "[Test] test_loss: 0.256 test_f1score: 0.907 test_accuracy: 0.915 \n",
      "────────────────────────────────────────────────────────────────────────────────────────────────────────────────────────\n",
      "       Test metric             DataLoader 0\n",
      "────────────────────────────────────────────────────────────────────────────────────────────────────────────────────────\n",
      "      test_accuracy         0.9149036407470703\n",
      "      test_f1score           0.906634509563446\n",
      "        test_loss           0.25578761100769043\n",
      "────────────────────────────────────────────────────────────────────────────────────────────────────────────────────────\n"
     ]
    },
    {
     "name": "stderr",
     "output_type": "stream",
     "text": [
      "GPU available: True (cuda), used: True\n",
      "TPU available: False, using: 0 TPU cores\n",
      "IPU available: False, using: 0 IPUs\n",
      "HPU available: False, using: 0 HPUs\n",
      "Restoring states from the checkpoint path at ./processed_dataset/Model_Checkpoints/Best_model_Fold3.ckpt\n",
      "LOCAL_RANK: 0 - CUDA_VISIBLE_DEVICES: [0]\n"
     ]
    },
    {
     "name": "stdout",
     "output_type": "stream",
     "text": [
      "\n",
      "\n",
      "\n",
      "\n",
      "-------------------- FOLD 3 -------------------\n",
      "train_subjects: ['ym226', 'ym214', 'ym224', 'ym220', 'ym213', 'ym227', 'ym212', 'ym222', 'ym218', 'ym223', 'ym219']\n",
      "test_subjects: ['ym215']\n",
      "------------------------------------------------------\n"
     ]
    },
    {
     "name": "stderr",
     "output_type": "stream",
     "text": [
      "Loaded model weights from checkpoint at ./processed_dataset/Model_Checkpoints/Best_model_Fold3.ckpt\n"
     ]
    },
    {
     "name": "stdout",
     "output_type": "stream",
     "text": [
      "[Test] test_loss: 0.450 test_f1score: 0.789 test_accuracy: 0.796 \n",
      "────────────────────────────────────────────────────────────────────────────────────────────────────────────────────────\n",
      "       Test metric             DataLoader 0\n",
      "────────────────────────────────────────────────────────────────────────────────────────────────────────────────────────\n",
      "      test_accuracy         0.7963883876800537\n",
      "      test_f1score          0.7890855669975281\n",
      "        test_loss           0.45023855566978455\n",
      "────────────────────────────────────────────────────────────────────────────────────────────────────────────────────────\n"
     ]
    },
    {
     "name": "stderr",
     "output_type": "stream",
     "text": [
      "GPU available: True (cuda), used: True\n",
      "TPU available: False, using: 0 TPU cores\n",
      "IPU available: False, using: 0 IPUs\n",
      "HPU available: False, using: 0 HPUs\n",
      "Restoring states from the checkpoint path at ./processed_dataset/Model_Checkpoints/Best_model_Fold4.ckpt\n",
      "LOCAL_RANK: 0 - CUDA_VISIBLE_DEVICES: [0]\n"
     ]
    },
    {
     "name": "stdout",
     "output_type": "stream",
     "text": [
      "\n",
      "\n",
      "\n",
      "\n",
      "-------------------- FOLD 4 -------------------\n",
      "train_subjects: ['ym226', 'ym214', 'ym224', 'ym220', 'ym213', 'ym227', 'ym212', 'ym215', 'ym222', 'ym223', 'ym219']\n",
      "test_subjects: ['ym218']\n",
      "------------------------------------------------------\n"
     ]
    },
    {
     "name": "stderr",
     "output_type": "stream",
     "text": [
      "Loaded model weights from checkpoint at ./processed_dataset/Model_Checkpoints/Best_model_Fold4.ckpt\n"
     ]
    },
    {
     "name": "stdout",
     "output_type": "stream",
     "text": [
      "[Test] test_loss: 0.374 test_f1score: 0.823 test_accuracy: 0.832 \n",
      "────────────────────────────────────────────────────────────────────────────────────────────────────────────────────────\n",
      "       Test metric             DataLoader 0\n",
      "────────────────────────────────────────────────────────────────────────────────────────────────────────────────────────\n",
      "      test_accuracy         0.8320231437683105\n",
      "      test_f1score          0.8230944871902466\n",
      "        test_loss           0.37387600541114807\n",
      "────────────────────────────────────────────────────────────────────────────────────────────────────────────────────────\n"
     ]
    },
    {
     "name": "stderr",
     "output_type": "stream",
     "text": [
      "GPU available: True (cuda), used: True\n",
      "TPU available: False, using: 0 TPU cores\n",
      "IPU available: False, using: 0 IPUs\n",
      "HPU available: False, using: 0 HPUs\n",
      "Restoring states from the checkpoint path at ./processed_dataset/Model_Checkpoints/Best_model_Fold5.ckpt\n",
      "LOCAL_RANK: 0 - CUDA_VISIBLE_DEVICES: [0]\n"
     ]
    },
    {
     "name": "stdout",
     "output_type": "stream",
     "text": [
      "\n",
      "\n",
      "\n",
      "\n",
      "-------------------- FOLD 5 -------------------\n",
      "train_subjects: ['ym226', 'ym214', 'ym224', 'ym220', 'ym213', 'ym227', 'ym212', 'ym215', 'ym222', 'ym218', 'ym223']\n",
      "test_subjects: ['ym219']\n",
      "------------------------------------------------------\n"
     ]
    },
    {
     "name": "stderr",
     "output_type": "stream",
     "text": [
      "Loaded model weights from checkpoint at ./processed_dataset/Model_Checkpoints/Best_model_Fold5.ckpt\n"
     ]
    },
    {
     "name": "stdout",
     "output_type": "stream",
     "text": [
      "[Test] test_loss: 0.352 test_f1score: 0.830 test_accuracy: 0.845 \n",
      "────────────────────────────────────────────────────────────────────────────────────────────────────────────────────────\n",
      "       Test metric             DataLoader 0\n",
      "────────────────────────────────────────────────────────────────────────────────────────────────────────────────────────\n",
      "      test_accuracy         0.8449147939682007\n",
      "      test_f1score          0.8298425078392029\n",
      "        test_loss           0.3524201512336731\n",
      "────────────────────────────────────────────────────────────────────────────────────────────────────────────────────────\n"
     ]
    },
    {
     "name": "stderr",
     "output_type": "stream",
     "text": [
      "GPU available: True (cuda), used: True\n",
      "TPU available: False, using: 0 TPU cores\n",
      "IPU available: False, using: 0 IPUs\n",
      "HPU available: False, using: 0 HPUs\n",
      "Restoring states from the checkpoint path at ./processed_dataset/Model_Checkpoints/Best_model_Fold6.ckpt\n",
      "LOCAL_RANK: 0 - CUDA_VISIBLE_DEVICES: [0]\n"
     ]
    },
    {
     "name": "stdout",
     "output_type": "stream",
     "text": [
      "\n",
      "\n",
      "\n",
      "\n",
      "-------------------- FOLD 6 -------------------\n",
      "train_subjects: ['ym226', 'ym214', 'ym224', 'ym213', 'ym227', 'ym212', 'ym215', 'ym222', 'ym218', 'ym223', 'ym219']\n",
      "test_subjects: ['ym220']\n",
      "------------------------------------------------------\n"
     ]
    },
    {
     "name": "stderr",
     "output_type": "stream",
     "text": [
      "Loaded model weights from checkpoint at ./processed_dataset/Model_Checkpoints/Best_model_Fold6.ckpt\n"
     ]
    },
    {
     "name": "stdout",
     "output_type": "stream",
     "text": [
      "[Test] test_loss: 0.260 test_f1score: 0.869 test_accuracy: 0.887 \n",
      "────────────────────────────────────────────────────────────────────────────────────────────────────────────────────────\n",
      "       Test metric             DataLoader 0\n",
      "────────────────────────────────────────────────────────────────────────────────────────────────────────────────────────\n",
      "      test_accuracy         0.8869873881340027\n",
      "      test_f1score          0.8685083389282227\n",
      "        test_loss           0.26002922654151917\n",
      "────────────────────────────────────────────────────────────────────────────────────────────────────────────────────────\n"
     ]
    },
    {
     "name": "stderr",
     "output_type": "stream",
     "text": [
      "GPU available: True (cuda), used: True\n",
      "TPU available: False, using: 0 TPU cores\n",
      "IPU available: False, using: 0 IPUs\n",
      "HPU available: False, using: 0 HPUs\n",
      "Restoring states from the checkpoint path at ./processed_dataset/Model_Checkpoints/Best_model_Fold7.ckpt\n"
     ]
    },
    {
     "name": "stdout",
     "output_type": "stream",
     "text": [
      "\n",
      "\n",
      "\n",
      "\n",
      "-------------------- FOLD 7 -------------------\n",
      "train_subjects: ['ym226', 'ym214', 'ym224', 'ym220', 'ym213', 'ym227', 'ym212', 'ym215', 'ym218', 'ym223', 'ym219']\n",
      "test_subjects: ['ym222']\n",
      "------------------------------------------------------\n"
     ]
    },
    {
     "name": "stderr",
     "output_type": "stream",
     "text": [
      "LOCAL_RANK: 0 - CUDA_VISIBLE_DEVICES: [0]\n",
      "Loaded model weights from checkpoint at ./processed_dataset/Model_Checkpoints/Best_model_Fold7.ckpt\n"
     ]
    },
    {
     "name": "stdout",
     "output_type": "stream",
     "text": [
      "[Test] test_loss: 0.415 test_f1score: 0.804 test_accuracy: 0.809 \n",
      "────────────────────────────────────────────────────────────────────────────────────────────────────────────────────────\n",
      "       Test metric             DataLoader 0\n",
      "────────────────────────────────────────────────────────────────────────────────────────────────────────────────────────\n",
      "      test_accuracy         0.8088420033454895\n",
      "      test_f1score          0.8041216135025024\n",
      "        test_loss           0.4146919548511505\n",
      "────────────────────────────────────────────────────────────────────────────────────────────────────────────────────────\n"
     ]
    },
    {
     "name": "stderr",
     "output_type": "stream",
     "text": [
      "GPU available: True (cuda), used: True\n",
      "TPU available: False, using: 0 TPU cores\n",
      "IPU available: False, using: 0 IPUs\n",
      "HPU available: False, using: 0 HPUs\n",
      "Restoring states from the checkpoint path at ./processed_dataset/Model_Checkpoints/Best_model_Fold8.ckpt\n",
      "LOCAL_RANK: 0 - CUDA_VISIBLE_DEVICES: [0]\n"
     ]
    },
    {
     "name": "stdout",
     "output_type": "stream",
     "text": [
      "\n",
      "\n",
      "\n",
      "\n",
      "-------------------- FOLD 8 -------------------\n",
      "train_subjects: ['ym226', 'ym214', 'ym224', 'ym220', 'ym213', 'ym227', 'ym212', 'ym215', 'ym222', 'ym218', 'ym219']\n",
      "test_subjects: ['ym223']\n",
      "------------------------------------------------------\n"
     ]
    },
    {
     "name": "stderr",
     "output_type": "stream",
     "text": [
      "Loaded model weights from checkpoint at ./processed_dataset/Model_Checkpoints/Best_model_Fold8.ckpt\n"
     ]
    },
    {
     "name": "stdout",
     "output_type": "stream",
     "text": [
      "[Test] test_loss: 0.767 test_f1score: 0.606 test_accuracy: 0.610 \n",
      "────────────────────────────────────────────────────────────────────────────────────────────────────────────────────────\n",
      "       Test metric             DataLoader 0\n",
      "────────────────────────────────────────────────────────────────────────────────────────────────────────────────────────\n",
      "      test_accuracy         0.6098525524139404\n",
      "      test_f1score          0.6060281991958618\n",
      "        test_loss           0.7674863934516907\n",
      "────────────────────────────────────────────────────────────────────────────────────────────────────────────────────────\n"
     ]
    },
    {
     "name": "stderr",
     "output_type": "stream",
     "text": [
      "GPU available: True (cuda), used: True\n",
      "TPU available: False, using: 0 TPU cores\n",
      "IPU available: False, using: 0 IPUs\n",
      "HPU available: False, using: 0 HPUs\n",
      "Restoring states from the checkpoint path at ./processed_dataset/Model_Checkpoints/Best_model_Fold9.ckpt\n",
      "LOCAL_RANK: 0 - CUDA_VISIBLE_DEVICES: [0]\n"
     ]
    },
    {
     "name": "stdout",
     "output_type": "stream",
     "text": [
      "\n",
      "\n",
      "\n",
      "\n",
      "-------------------- FOLD 9 -------------------\n",
      "train_subjects: ['ym226', 'ym214', 'ym220', 'ym213', 'ym227', 'ym212', 'ym215', 'ym222', 'ym218', 'ym223', 'ym219']\n",
      "test_subjects: ['ym224']\n",
      "------------------------------------------------------\n"
     ]
    },
    {
     "name": "stderr",
     "output_type": "stream",
     "text": [
      "Loaded model weights from checkpoint at ./processed_dataset/Model_Checkpoints/Best_model_Fold9.ckpt\n"
     ]
    },
    {
     "name": "stdout",
     "output_type": "stream",
     "text": [
      "[Test] test_loss: 0.575 test_f1score: 0.681 test_accuracy: 0.710 \n",
      "────────────────────────────────────────────────────────────────────────────────────────────────────────────────────────\n",
      "       Test metric             DataLoader 0\n",
      "────────────────────────────────────────────────────────────────────────────────────────────────────────────────────────\n",
      "      test_accuracy         0.7099190354347229\n",
      "      test_f1score          0.6811018586158752\n",
      "        test_loss           0.5747804641723633\n",
      "────────────────────────────────────────────────────────────────────────────────────────────────────────────────────────\n"
     ]
    },
    {
     "name": "stderr",
     "output_type": "stream",
     "text": [
      "GPU available: True (cuda), used: True\n",
      "TPU available: False, using: 0 TPU cores\n",
      "IPU available: False, using: 0 IPUs\n",
      "HPU available: False, using: 0 HPUs\n",
      "Restoring states from the checkpoint path at ./processed_dataset/Model_Checkpoints/Best_model_Fold10.ckpt\n",
      "LOCAL_RANK: 0 - CUDA_VISIBLE_DEVICES: [0]\n"
     ]
    },
    {
     "name": "stdout",
     "output_type": "stream",
     "text": [
      "\n",
      "\n",
      "\n",
      "\n",
      "-------------------- FOLD 10 -------------------\n",
      "train_subjects: ['ym214', 'ym224', 'ym220', 'ym213', 'ym227', 'ym212', 'ym215', 'ym222', 'ym218', 'ym223', 'ym219']\n",
      "test_subjects: ['ym226']\n",
      "------------------------------------------------------\n"
     ]
    },
    {
     "name": "stderr",
     "output_type": "stream",
     "text": [
      "Loaded model weights from checkpoint at ./processed_dataset/Model_Checkpoints/Best_model_Fold10.ckpt\n"
     ]
    },
    {
     "name": "stdout",
     "output_type": "stream",
     "text": [
      "[Test] test_loss: 0.999 test_f1score: 0.576 test_accuracy: 0.620 \n",
      "────────────────────────────────────────────────────────────────────────────────────────────────────────────────────────\n",
      "       Test metric             DataLoader 0\n",
      "────────────────────────────────────────────────────────────────────────────────────────────────────────────────────────\n",
      "      test_accuracy         0.6200915575027466\n",
      "      test_f1score          0.5761901140213013\n",
      "        test_loss           0.9989097118377686\n",
      "────────────────────────────────────────────────────────────────────────────────────────────────────────────────────────\n"
     ]
    },
    {
     "name": "stderr",
     "output_type": "stream",
     "text": [
      "GPU available: True (cuda), used: True\n",
      "TPU available: False, using: 0 TPU cores\n",
      "IPU available: False, using: 0 IPUs\n",
      "HPU available: False, using: 0 HPUs\n",
      "Restoring states from the checkpoint path at ./processed_dataset/Model_Checkpoints/Best_model_Fold11.ckpt\n",
      "LOCAL_RANK: 0 - CUDA_VISIBLE_DEVICES: [0]\n"
     ]
    },
    {
     "name": "stdout",
     "output_type": "stream",
     "text": [
      "\n",
      "\n",
      "\n",
      "\n",
      "-------------------- FOLD 11 -------------------\n",
      "train_subjects: ['ym226', 'ym214', 'ym224', 'ym220', 'ym213', 'ym212', 'ym215', 'ym222', 'ym218', 'ym223', 'ym219']\n",
      "test_subjects: ['ym227']\n",
      "------------------------------------------------------\n"
     ]
    },
    {
     "name": "stderr",
     "output_type": "stream",
     "text": [
      "Loaded model weights from checkpoint at ./processed_dataset/Model_Checkpoints/Best_model_Fold11.ckpt\n"
     ]
    },
    {
     "name": "stdout",
     "output_type": "stream",
     "text": [
      "[Test] test_loss: 0.467 test_f1score: 0.772 test_accuracy: 0.774 \n",
      "────────────────────────────────────────────────────────────────────────────────────────────────────────────────────────\n",
      "       Test metric             DataLoader 0\n",
      "────────────────────────────────────────────────────────────────────────────────────────────────────────────────────────\n",
      "      test_accuracy         0.7736905217170715\n",
      "      test_f1score          0.7718439102172852\n",
      "        test_loss           0.4674340784549713\n",
      "────────────────────────────────────────────────────────────────────────────────────────────────────────────────────────\n",
      "\n",
      "\n",
      "\n",
      "\n",
      "====================================================================================================\n",
      "                    erased_feature: CA1_sGamma\n",
      "====================================================================================================\n",
      "dataset does not exist at path ./processed_dataset/perturbation_samples/CA1_sGamma, generating files to path...\n"
     ]
    },
    {
     "name": "stderr",
     "output_type": "stream",
     "text": [
      "[PROCESS]: 100%|██████████| 24/24 [04:42<00:00, 11.77s/it]\n"
     ]
    },
    {
     "name": "stdout",
     "output_type": "stream",
     "text": [
      "dataset already exists at path ./processed_dataset/perturbation_samples/CA1_sGamma, reading from path...\n"
     ]
    },
    {
     "name": "stderr",
     "output_type": "stream",
     "text": [
      "GPU available: True (cuda), used: True\n",
      "TPU available: False, using: 0 TPU cores\n",
      "IPU available: False, using: 0 IPUs\n",
      "HPU available: False, using: 0 HPUs\n",
      "Restoring states from the checkpoint path at ./processed_dataset/Model_Checkpoints/Best_model_Fold0.ckpt\n",
      "LOCAL_RANK: 0 - CUDA_VISIBLE_DEVICES: [0]\n"
     ]
    },
    {
     "name": "stdout",
     "output_type": "stream",
     "text": [
      "-------------------- FOLD 0 -------------------\n",
      "train_subjects: ['ym226', 'ym214', 'ym224', 'ym220', 'ym213', 'ym227', 'ym215', 'ym222', 'ym218', 'ym223', 'ym219']\n",
      "test_subjects: ['ym212']\n",
      "------------------------------------------------------\n"
     ]
    },
    {
     "name": "stderr",
     "output_type": "stream",
     "text": [
      "Loaded model weights from checkpoint at ./processed_dataset/Model_Checkpoints/Best_model_Fold0.ckpt\n"
     ]
    },
    {
     "name": "stdout",
     "output_type": "stream",
     "text": [
      "[Test] test_loss: 0.365 test_f1score: 0.793 test_accuracy: 0.834 \n",
      "────────────────────────────────────────────────────────────────────────────────────────────────────────────────────────\n",
      "       Test metric             DataLoader 0\n",
      "────────────────────────────────────────────────────────────────────────────────────────────────────────────────────────\n",
      "      test_accuracy         0.8338772058486938\n",
      "      test_f1score          0.7933394312858582\n",
      "        test_loss           0.36489883065223694\n",
      "────────────────────────────────────────────────────────────────────────────────────────────────────────────────────────\n"
     ]
    },
    {
     "name": "stderr",
     "output_type": "stream",
     "text": [
      "GPU available: True (cuda), used: True\n",
      "TPU available: False, using: 0 TPU cores\n",
      "IPU available: False, using: 0 IPUs\n",
      "HPU available: False, using: 0 HPUs\n",
      "Restoring states from the checkpoint path at ./processed_dataset/Model_Checkpoints/Best_model_Fold1.ckpt\n"
     ]
    },
    {
     "name": "stdout",
     "output_type": "stream",
     "text": [
      "\n",
      "\n",
      "\n",
      "\n",
      "-------------------- FOLD 1 -------------------\n",
      "train_subjects: ['ym226', 'ym214', 'ym224', 'ym220', 'ym227', 'ym212', 'ym215', 'ym222', 'ym218', 'ym223', 'ym219']\n",
      "test_subjects: ['ym213']\n",
      "------------------------------------------------------\n"
     ]
    },
    {
     "name": "stderr",
     "output_type": "stream",
     "text": [
      "LOCAL_RANK: 0 - CUDA_VISIBLE_DEVICES: [0]\n",
      "Loaded model weights from checkpoint at ./processed_dataset/Model_Checkpoints/Best_model_Fold1.ckpt\n"
     ]
    },
    {
     "name": "stdout",
     "output_type": "stream",
     "text": [
      "[Test] test_loss: 0.462 test_f1score: 0.775 test_accuracy: 0.779 \n",
      "────────────────────────────────────────────────────────────────────────────────────────────────────────────────────────\n",
      "       Test metric             DataLoader 0\n",
      "────────────────────────────────────────────────────────────────────────────────────────────────────────────────────────\n",
      "      test_accuracy         0.7794478535652161\n",
      "      test_f1score           0.774581253528595\n",
      "        test_loss           0.4623757600784302\n",
      "────────────────────────────────────────────────────────────────────────────────────────────────────────────────────────\n"
     ]
    },
    {
     "name": "stderr",
     "output_type": "stream",
     "text": [
      "GPU available: True (cuda), used: True\n",
      "TPU available: False, using: 0 TPU cores\n",
      "IPU available: False, using: 0 IPUs\n",
      "HPU available: False, using: 0 HPUs\n",
      "Restoring states from the checkpoint path at ./processed_dataset/Model_Checkpoints/Best_model_Fold2.ckpt\n",
      "LOCAL_RANK: 0 - CUDA_VISIBLE_DEVICES: [0]\n"
     ]
    },
    {
     "name": "stdout",
     "output_type": "stream",
     "text": [
      "\n",
      "\n",
      "\n",
      "\n",
      "-------------------- FOLD 2 -------------------\n",
      "train_subjects: ['ym226', 'ym224', 'ym220', 'ym213', 'ym227', 'ym212', 'ym215', 'ym222', 'ym218', 'ym223', 'ym219']\n",
      "test_subjects: ['ym214']\n",
      "------------------------------------------------------\n"
     ]
    },
    {
     "name": "stderr",
     "output_type": "stream",
     "text": [
      "Loaded model weights from checkpoint at ./processed_dataset/Model_Checkpoints/Best_model_Fold2.ckpt\n"
     ]
    },
    {
     "name": "stdout",
     "output_type": "stream",
     "text": [
      "[Test] test_loss: 0.243 test_f1score: 0.922 test_accuracy: 0.928 \n",
      "────────────────────────────────────────────────────────────────────────────────────────────────────────────────────────\n",
      "       Test metric             DataLoader 0\n",
      "────────────────────────────────────────────────────────────────────────────────────────────────────────────────────────\n",
      "      test_accuracy         0.9278326034545898\n",
      "      test_f1score          0.9219595193862915\n",
      "        test_loss           0.24304625391960144\n",
      "────────────────────────────────────────────────────────────────────────────────────────────────────────────────────────\n"
     ]
    },
    {
     "name": "stderr",
     "output_type": "stream",
     "text": [
      "GPU available: True (cuda), used: True\n",
      "TPU available: False, using: 0 TPU cores\n",
      "IPU available: False, using: 0 IPUs\n",
      "HPU available: False, using: 0 HPUs\n",
      "Restoring states from the checkpoint path at ./processed_dataset/Model_Checkpoints/Best_model_Fold3.ckpt\n",
      "LOCAL_RANK: 0 - CUDA_VISIBLE_DEVICES: [0]\n"
     ]
    },
    {
     "name": "stdout",
     "output_type": "stream",
     "text": [
      "\n",
      "\n",
      "\n",
      "\n",
      "-------------------- FOLD 3 -------------------\n",
      "train_subjects: ['ym226', 'ym214', 'ym224', 'ym220', 'ym213', 'ym227', 'ym212', 'ym222', 'ym218', 'ym223', 'ym219']\n",
      "test_subjects: ['ym215']\n",
      "------------------------------------------------------\n"
     ]
    },
    {
     "name": "stderr",
     "output_type": "stream",
     "text": [
      "Loaded model weights from checkpoint at ./processed_dataset/Model_Checkpoints/Best_model_Fold3.ckpt\n"
     ]
    },
    {
     "name": "stdout",
     "output_type": "stream",
     "text": [
      "[Test] test_loss: 0.353 test_f1score: 0.833 test_accuracy: 0.845 \n",
      "────────────────────────────────────────────────────────────────────────────────────────────────────────────────────────\n",
      "       Test metric             DataLoader 0\n",
      "────────────────────────────────────────────────────────────────────────────────────────────────────────────────────────\n",
      "      test_accuracy         0.8453284502029419\n",
      "      test_f1score          0.8331069350242615\n",
      "        test_loss           0.35346752405166626\n",
      "────────────────────────────────────────────────────────────────────────────────────────────────────────────────────────\n"
     ]
    },
    {
     "name": "stderr",
     "output_type": "stream",
     "text": [
      "GPU available: True (cuda), used: True\n",
      "TPU available: False, using: 0 TPU cores\n",
      "IPU available: False, using: 0 IPUs\n",
      "HPU available: False, using: 0 HPUs\n",
      "Restoring states from the checkpoint path at ./processed_dataset/Model_Checkpoints/Best_model_Fold4.ckpt\n",
      "LOCAL_RANK: 0 - CUDA_VISIBLE_DEVICES: [0]\n"
     ]
    },
    {
     "name": "stdout",
     "output_type": "stream",
     "text": [
      "\n",
      "\n",
      "\n",
      "\n",
      "-------------------- FOLD 4 -------------------\n",
      "train_subjects: ['ym226', 'ym214', 'ym224', 'ym220', 'ym213', 'ym227', 'ym212', 'ym215', 'ym222', 'ym223', 'ym219']\n",
      "test_subjects: ['ym218']\n",
      "------------------------------------------------------\n"
     ]
    },
    {
     "name": "stderr",
     "output_type": "stream",
     "text": [
      "Loaded model weights from checkpoint at ./processed_dataset/Model_Checkpoints/Best_model_Fold4.ckpt\n"
     ]
    },
    {
     "name": "stdout",
     "output_type": "stream",
     "text": [
      "[Test] test_loss: 0.400 test_f1score: 0.820 test_accuracy: 0.824 \n",
      "────────────────────────────────────────────────────────────────────────────────────────────────────────────────────────\n",
      "       Test metric             DataLoader 0\n",
      "────────────────────────────────────────────────────────────────────────────────────────────────────────────────────────\n",
      "      test_accuracy         0.8241621851921082\n",
      "      test_f1score          0.8196089267730713\n",
      "        test_loss           0.40031352639198303\n",
      "────────────────────────────────────────────────────────────────────────────────────────────────────────────────────────\n"
     ]
    },
    {
     "name": "stderr",
     "output_type": "stream",
     "text": [
      "GPU available: True (cuda), used: True\n",
      "TPU available: False, using: 0 TPU cores\n",
      "IPU available: False, using: 0 IPUs\n",
      "HPU available: False, using: 0 HPUs\n",
      "Restoring states from the checkpoint path at ./processed_dataset/Model_Checkpoints/Best_model_Fold5.ckpt\n",
      "LOCAL_RANK: 0 - CUDA_VISIBLE_DEVICES: [0]\n"
     ]
    },
    {
     "name": "stdout",
     "output_type": "stream",
     "text": [
      "\n",
      "\n",
      "\n",
      "\n",
      "-------------------- FOLD 5 -------------------\n",
      "train_subjects: ['ym226', 'ym214', 'ym224', 'ym220', 'ym213', 'ym227', 'ym212', 'ym215', 'ym222', 'ym218', 'ym223']\n",
      "test_subjects: ['ym219']\n",
      "------------------------------------------------------\n"
     ]
    },
    {
     "name": "stderr",
     "output_type": "stream",
     "text": [
      "Loaded model weights from checkpoint at ./processed_dataset/Model_Checkpoints/Best_model_Fold5.ckpt\n"
     ]
    },
    {
     "name": "stdout",
     "output_type": "stream",
     "text": [
      "[Test] test_loss: 0.307 test_f1score: 0.862 test_accuracy: 0.867 \n",
      "────────────────────────────────────────────────────────────────────────────────────────────────────────────────────────\n",
      "       Test metric             DataLoader 0\n",
      "────────────────────────────────────────────────────────────────────────────────────────────────────────────────────────\n",
      "      test_accuracy         0.8672035932540894\n",
      "      test_f1score          0.8623554706573486\n",
      "        test_loss           0.30680230259895325\n",
      "────────────────────────────────────────────────────────────────────────────────────────────────────────────────────────\n"
     ]
    },
    {
     "name": "stderr",
     "output_type": "stream",
     "text": [
      "GPU available: True (cuda), used: True\n",
      "TPU available: False, using: 0 TPU cores\n",
      "IPU available: False, using: 0 IPUs\n",
      "HPU available: False, using: 0 HPUs\n",
      "Restoring states from the checkpoint path at ./processed_dataset/Model_Checkpoints/Best_model_Fold6.ckpt\n",
      "LOCAL_RANK: 0 - CUDA_VISIBLE_DEVICES: [0]\n"
     ]
    },
    {
     "name": "stdout",
     "output_type": "stream",
     "text": [
      "\n",
      "\n",
      "\n",
      "\n",
      "-------------------- FOLD 6 -------------------\n",
      "train_subjects: ['ym226', 'ym214', 'ym224', 'ym213', 'ym227', 'ym212', 'ym215', 'ym222', 'ym218', 'ym223', 'ym219']\n",
      "test_subjects: ['ym220']\n",
      "------------------------------------------------------\n"
     ]
    },
    {
     "name": "stderr",
     "output_type": "stream",
     "text": [
      "Loaded model weights from checkpoint at ./processed_dataset/Model_Checkpoints/Best_model_Fold6.ckpt\n"
     ]
    },
    {
     "name": "stdout",
     "output_type": "stream",
     "text": [
      "[Test] test_loss: 0.356 test_f1score: 0.801 test_accuracy: 0.843 \n",
      "────────────────────────────────────────────────────────────────────────────────────────────────────────────────────────\n",
      "       Test metric             DataLoader 0\n",
      "────────────────────────────────────────────────────────────────────────────────────────────────────────────────────────\n",
      "      test_accuracy         0.8427510261535645\n",
      "      test_f1score          0.8007432222366333\n",
      "        test_loss           0.3557202219963074\n",
      "────────────────────────────────────────────────────────────────────────────────────────────────────────────────────────\n"
     ]
    },
    {
     "name": "stderr",
     "output_type": "stream",
     "text": [
      "GPU available: True (cuda), used: True\n",
      "TPU available: False, using: 0 TPU cores\n",
      "IPU available: False, using: 0 IPUs\n",
      "HPU available: False, using: 0 HPUs\n",
      "Restoring states from the checkpoint path at ./processed_dataset/Model_Checkpoints/Best_model_Fold7.ckpt\n",
      "LOCAL_RANK: 0 - CUDA_VISIBLE_DEVICES: [0]\n"
     ]
    },
    {
     "name": "stdout",
     "output_type": "stream",
     "text": [
      "\n",
      "\n",
      "\n",
      "\n",
      "-------------------- FOLD 7 -------------------\n",
      "train_subjects: ['ym226', 'ym214', 'ym224', 'ym220', 'ym213', 'ym227', 'ym212', 'ym215', 'ym218', 'ym223', 'ym219']\n",
      "test_subjects: ['ym222']\n",
      "------------------------------------------------------\n"
     ]
    },
    {
     "name": "stderr",
     "output_type": "stream",
     "text": [
      "Loaded model weights from checkpoint at ./processed_dataset/Model_Checkpoints/Best_model_Fold7.ckpt\n"
     ]
    },
    {
     "name": "stdout",
     "output_type": "stream",
     "text": [
      "[Test] test_loss: 0.613 test_f1score: 0.700 test_accuracy: 0.700 \n",
      "────────────────────────────────────────────────────────────────────────────────────────────────────────────────────────\n",
      "       Test metric             DataLoader 0\n",
      "────────────────────────────────────────────────────────────────────────────────────────────────────────────────────────\n",
      "      test_accuracy         0.6998241543769836\n",
      "      test_f1score          0.6997767686843872\n",
      "        test_loss           0.6132618188858032\n",
      "────────────────────────────────────────────────────────────────────────────────────────────────────────────────────────\n"
     ]
    },
    {
     "name": "stderr",
     "output_type": "stream",
     "text": [
      "GPU available: True (cuda), used: True\n",
      "TPU available: False, using: 0 TPU cores\n",
      "IPU available: False, using: 0 IPUs\n",
      "HPU available: False, using: 0 HPUs\n",
      "Restoring states from the checkpoint path at ./processed_dataset/Model_Checkpoints/Best_model_Fold8.ckpt\n",
      "LOCAL_RANK: 0 - CUDA_VISIBLE_DEVICES: [0]\n"
     ]
    },
    {
     "name": "stdout",
     "output_type": "stream",
     "text": [
      "\n",
      "\n",
      "\n",
      "\n",
      "-------------------- FOLD 8 -------------------\n",
      "train_subjects: ['ym226', 'ym214', 'ym224', 'ym220', 'ym213', 'ym227', 'ym212', 'ym215', 'ym222', 'ym218', 'ym219']\n",
      "test_subjects: ['ym223']\n",
      "------------------------------------------------------\n"
     ]
    },
    {
     "name": "stderr",
     "output_type": "stream",
     "text": [
      "Loaded model weights from checkpoint at ./processed_dataset/Model_Checkpoints/Best_model_Fold8.ckpt\n"
     ]
    },
    {
     "name": "stdout",
     "output_type": "stream",
     "text": [
      "[Test] test_loss: 1.006 test_f1score: 0.516 test_accuracy: 0.516 \n",
      "────────────────────────────────────────────────────────────────────────────────────────────────────────────────────────\n",
      "       Test metric             DataLoader 0\n",
      "────────────────────────────────────────────────────────────────────────────────────────────────────────────────────────\n",
      "      test_accuracy         0.5156418681144714\n",
      "      test_f1score          0.5155927538871765\n",
      "        test_loss           1.0064114332199097\n",
      "────────────────────────────────────────────────────────────────────────────────────────────────────────────────────────\n"
     ]
    },
    {
     "name": "stderr",
     "output_type": "stream",
     "text": [
      "GPU available: True (cuda), used: True\n",
      "TPU available: False, using: 0 TPU cores\n",
      "IPU available: False, using: 0 IPUs\n",
      "HPU available: False, using: 0 HPUs\n",
      "Restoring states from the checkpoint path at ./processed_dataset/Model_Checkpoints/Best_model_Fold9.ckpt\n",
      "LOCAL_RANK: 0 - CUDA_VISIBLE_DEVICES: [0]\n"
     ]
    },
    {
     "name": "stdout",
     "output_type": "stream",
     "text": [
      "\n",
      "\n",
      "\n",
      "\n",
      "-------------------- FOLD 9 -------------------\n",
      "train_subjects: ['ym226', 'ym214', 'ym220', 'ym213', 'ym227', 'ym212', 'ym215', 'ym222', 'ym218', 'ym223', 'ym219']\n",
      "test_subjects: ['ym224']\n",
      "------------------------------------------------------\n"
     ]
    },
    {
     "name": "stderr",
     "output_type": "stream",
     "text": [
      "Loaded model weights from checkpoint at ./processed_dataset/Model_Checkpoints/Best_model_Fold9.ckpt\n"
     ]
    },
    {
     "name": "stdout",
     "output_type": "stream",
     "text": [
      "[Test] test_loss: 0.605 test_f1score: 0.644 test_accuracy: 0.696 \n",
      "────────────────────────────────────────────────────────────────────────────────────────────────────────────────────────\n",
      "       Test metric             DataLoader 0\n",
      "────────────────────────────────────────────────────────────────────────────────────────────────────────────────────────\n",
      "      test_accuracy         0.6957489848136902\n",
      "      test_f1score          0.6440285444259644\n",
      "        test_loss           0.6046896576881409\n",
      "────────────────────────────────────────────────────────────────────────────────────────────────────────────────────────\n"
     ]
    },
    {
     "name": "stderr",
     "output_type": "stream",
     "text": [
      "GPU available: True (cuda), used: True\n",
      "TPU available: False, using: 0 TPU cores\n",
      "IPU available: False, using: 0 IPUs\n",
      "HPU available: False, using: 0 HPUs\n",
      "Restoring states from the checkpoint path at ./processed_dataset/Model_Checkpoints/Best_model_Fold10.ckpt\n",
      "LOCAL_RANK: 0 - CUDA_VISIBLE_DEVICES: [0]\n"
     ]
    },
    {
     "name": "stdout",
     "output_type": "stream",
     "text": [
      "\n",
      "\n",
      "\n",
      "\n",
      "-------------------- FOLD 10 -------------------\n",
      "train_subjects: ['ym214', 'ym224', 'ym220', 'ym213', 'ym227', 'ym212', 'ym215', 'ym222', 'ym218', 'ym223', 'ym219']\n",
      "test_subjects: ['ym226']\n",
      "------------------------------------------------------\n"
     ]
    },
    {
     "name": "stderr",
     "output_type": "stream",
     "text": [
      "Loaded model weights from checkpoint at ./processed_dataset/Model_Checkpoints/Best_model_Fold10.ckpt\n"
     ]
    },
    {
     "name": "stdout",
     "output_type": "stream",
     "text": [
      "[Test] test_loss: 0.923 test_f1score: 0.598 test_accuracy: 0.635 \n",
      "────────────────────────────────────────────────────────────────────────────────────────────────────────────────────────\n",
      "       Test metric             DataLoader 0\n",
      "────────────────────────────────────────────────────────────────────────────────────────────────────────────────────────\n",
      "      test_accuracy         0.6350277066230774\n",
      "      test_f1score          0.5977276563644409\n",
      "        test_loss           0.9232407808303833\n",
      "────────────────────────────────────────────────────────────────────────────────────────────────────────────────────────\n"
     ]
    },
    {
     "name": "stderr",
     "output_type": "stream",
     "text": [
      "GPU available: True (cuda), used: True\n",
      "TPU available: False, using: 0 TPU cores\n",
      "IPU available: False, using: 0 IPUs\n",
      "HPU available: False, using: 0 HPUs\n",
      "Restoring states from the checkpoint path at ./processed_dataset/Model_Checkpoints/Best_model_Fold11.ckpt\n",
      "LOCAL_RANK: 0 - CUDA_VISIBLE_DEVICES: [0]\n"
     ]
    },
    {
     "name": "stdout",
     "output_type": "stream",
     "text": [
      "\n",
      "\n",
      "\n",
      "\n",
      "-------------------- FOLD 11 -------------------\n",
      "train_subjects: ['ym226', 'ym214', 'ym224', 'ym220', 'ym213', 'ym212', 'ym215', 'ym222', 'ym218', 'ym223', 'ym219']\n",
      "test_subjects: ['ym227']\n",
      "------------------------------------------------------\n"
     ]
    },
    {
     "name": "stderr",
     "output_type": "stream",
     "text": [
      "Loaded model weights from checkpoint at ./processed_dataset/Model_Checkpoints/Best_model_Fold11.ckpt\n"
     ]
    },
    {
     "name": "stdout",
     "output_type": "stream",
     "text": [
      "[Test] test_loss: 0.511 test_f1score: 0.728 test_accuracy: 0.741 \n",
      "────────────────────────────────────────────────────────────────────────────────────────────────────────────────────────\n",
      "       Test metric             DataLoader 0\n",
      "────────────────────────────────────────────────────────────────────────────────────────────────────────────────────────\n",
      "      test_accuracy         0.7409036159515381\n",
      "      test_f1score          0.7280861139297485\n",
      "        test_loss           0.5105670690536499\n",
      "────────────────────────────────────────────────────────────────────────────────────────────────────────────────────────\n",
      "\n",
      "\n",
      "\n",
      "\n",
      "====================================================================================================\n",
      "                    erased_feature: BLA_sGamma\n",
      "====================================================================================================\n",
      "dataset does not exist at path ./processed_dataset/perturbation_samples/BLA_sGamma, generating files to path...\n"
     ]
    },
    {
     "name": "stderr",
     "output_type": "stream",
     "text": [
      "[PROCESS]: 100%|██████████| 24/24 [04:41<00:00, 11.74s/it]\n"
     ]
    },
    {
     "name": "stdout",
     "output_type": "stream",
     "text": [
      "dataset already exists at path ./processed_dataset/perturbation_samples/BLA_sGamma, reading from path...\n"
     ]
    },
    {
     "name": "stderr",
     "output_type": "stream",
     "text": [
      "GPU available: True (cuda), used: True\n",
      "TPU available: False, using: 0 TPU cores\n",
      "IPU available: False, using: 0 IPUs\n",
      "HPU available: False, using: 0 HPUs\n",
      "Restoring states from the checkpoint path at ./processed_dataset/Model_Checkpoints/Best_model_Fold0.ckpt\n",
      "LOCAL_RANK: 0 - CUDA_VISIBLE_DEVICES: [0]\n"
     ]
    },
    {
     "name": "stdout",
     "output_type": "stream",
     "text": [
      "-------------------- FOLD 0 -------------------\n",
      "train_subjects: ['ym226', 'ym214', 'ym224', 'ym220', 'ym213', 'ym227', 'ym215', 'ym222', 'ym218', 'ym223', 'ym219']\n",
      "test_subjects: ['ym212']\n",
      "------------------------------------------------------\n"
     ]
    },
    {
     "name": "stderr",
     "output_type": "stream",
     "text": [
      "Loaded model weights from checkpoint at ./processed_dataset/Model_Checkpoints/Best_model_Fold0.ckpt\n"
     ]
    },
    {
     "name": "stdout",
     "output_type": "stream",
     "text": [
      "[Test] test_loss: 0.398 test_f1score: 0.778 test_accuracy: 0.823 \n",
      "────────────────────────────────────────────────────────────────────────────────────────────────────────────────────────\n",
      "       Test metric             DataLoader 0\n",
      "────────────────────────────────────────────────────────────────────────────────────────────────────────────────────────\n",
      "      test_accuracy          0.82290118932724\n",
      "      test_f1score          0.7781513929367065\n",
      "        test_loss           0.3979763388633728\n",
      "────────────────────────────────────────────────────────────────────────────────────────────────────────────────────────\n"
     ]
    },
    {
     "name": "stderr",
     "output_type": "stream",
     "text": [
      "GPU available: True (cuda), used: True\n",
      "TPU available: False, using: 0 TPU cores\n",
      "IPU available: False, using: 0 IPUs\n",
      "HPU available: False, using: 0 HPUs\n",
      "Restoring states from the checkpoint path at ./processed_dataset/Model_Checkpoints/Best_model_Fold1.ckpt\n"
     ]
    },
    {
     "name": "stdout",
     "output_type": "stream",
     "text": [
      "\n",
      "\n",
      "\n",
      "\n",
      "-------------------- FOLD 1 -------------------\n",
      "train_subjects: ['ym226', 'ym214', 'ym224', 'ym220', 'ym227', 'ym212', 'ym215', 'ym222', 'ym218', 'ym223', 'ym219']\n",
      "test_subjects: ['ym213']\n",
      "------------------------------------------------------\n"
     ]
    },
    {
     "name": "stderr",
     "output_type": "stream",
     "text": [
      "LOCAL_RANK: 0 - CUDA_VISIBLE_DEVICES: [0]\n",
      "Loaded model weights from checkpoint at ./processed_dataset/Model_Checkpoints/Best_model_Fold1.ckpt\n"
     ]
    },
    {
     "name": "stdout",
     "output_type": "stream",
     "text": [
      "[Test] test_loss: 0.809 test_f1score: 0.613 test_accuracy: 0.615 \n",
      "────────────────────────────────────────────────────────────────────────────────────────────────────────────────────────\n",
      "       Test metric             DataLoader 0\n",
      "────────────────────────────────────────────────────────────────────────────────────────────────────────────────────────\n",
      "      test_accuracy         0.6150306463241577\n",
      "      test_f1score          0.6128439903259277\n",
      "        test_loss           0.8089497685432434\n",
      "────────────────────────────────────────────────────────────────────────────────────────────────────────────────────────\n"
     ]
    },
    {
     "name": "stderr",
     "output_type": "stream",
     "text": [
      "GPU available: True (cuda), used: True\n",
      "TPU available: False, using: 0 TPU cores\n",
      "IPU available: False, using: 0 IPUs\n",
      "HPU available: False, using: 0 HPUs\n",
      "Restoring states from the checkpoint path at ./processed_dataset/Model_Checkpoints/Best_model_Fold2.ckpt\n",
      "LOCAL_RANK: 0 - CUDA_VISIBLE_DEVICES: [0]\n"
     ]
    },
    {
     "name": "stdout",
     "output_type": "stream",
     "text": [
      "\n",
      "\n",
      "\n",
      "\n",
      "-------------------- FOLD 2 -------------------\n",
      "train_subjects: ['ym226', 'ym224', 'ym220', 'ym213', 'ym227', 'ym212', 'ym215', 'ym222', 'ym218', 'ym223', 'ym219']\n",
      "test_subjects: ['ym214']\n",
      "------------------------------------------------------\n"
     ]
    },
    {
     "name": "stderr",
     "output_type": "stream",
     "text": [
      "Loaded model weights from checkpoint at ./processed_dataset/Model_Checkpoints/Best_model_Fold2.ckpt\n"
     ]
    },
    {
     "name": "stdout",
     "output_type": "stream",
     "text": [
      "[Test] test_loss: 0.428 test_f1score: 0.794 test_accuracy: 0.796 \n",
      "────────────────────────────────────────────────────────────────────────────────────────────────────────────────────────\n",
      "       Test metric             DataLoader 0\n",
      "────────────────────────────────────────────────────────────────────────────────────────────────────────────────────────\n",
      "      test_accuracy         0.7957216501235962\n",
      "      test_f1score          0.7944773435592651\n",
      "        test_loss           0.42830097675323486\n",
      "────────────────────────────────────────────────────────────────────────────────────────────────────────────────────────\n"
     ]
    },
    {
     "name": "stderr",
     "output_type": "stream",
     "text": [
      "GPU available: True (cuda), used: True\n",
      "TPU available: False, using: 0 TPU cores\n",
      "IPU available: False, using: 0 IPUs\n",
      "HPU available: False, using: 0 HPUs\n",
      "Restoring states from the checkpoint path at ./processed_dataset/Model_Checkpoints/Best_model_Fold3.ckpt\n",
      "LOCAL_RANK: 0 - CUDA_VISIBLE_DEVICES: [0]\n"
     ]
    },
    {
     "name": "stdout",
     "output_type": "stream",
     "text": [
      "\n",
      "\n",
      "\n",
      "\n",
      "-------------------- FOLD 3 -------------------\n",
      "train_subjects: ['ym226', 'ym214', 'ym224', 'ym220', 'ym213', 'ym227', 'ym212', 'ym222', 'ym218', 'ym223', 'ym219']\n",
      "test_subjects: ['ym215']\n",
      "------------------------------------------------------\n"
     ]
    },
    {
     "name": "stderr",
     "output_type": "stream",
     "text": [
      "Loaded model weights from checkpoint at ./processed_dataset/Model_Checkpoints/Best_model_Fold3.ckpt\n"
     ]
    },
    {
     "name": "stdout",
     "output_type": "stream",
     "text": [
      "[Test] test_loss: 0.391 test_f1score: 0.796 test_accuracy: 0.823 \n",
      "────────────────────────────────────────────────────────────────────────────────────────────────────────────────────────\n",
      "       Test metric             DataLoader 0\n",
      "────────────────────────────────────────────────────────────────────────────────────────────────────────────────────────\n",
      "      test_accuracy         0.8228212594985962\n",
      "      test_f1score           0.795976996421814\n",
      "        test_loss           0.39056798815727234\n",
      "────────────────────────────────────────────────────────────────────────────────────────────────────────────────────────\n"
     ]
    },
    {
     "name": "stderr",
     "output_type": "stream",
     "text": [
      "GPU available: True (cuda), used: True\n",
      "TPU available: False, using: 0 TPU cores\n",
      "IPU available: False, using: 0 IPUs\n",
      "HPU available: False, using: 0 HPUs\n",
      "Restoring states from the checkpoint path at ./processed_dataset/Model_Checkpoints/Best_model_Fold4.ckpt\n",
      "LOCAL_RANK: 0 - CUDA_VISIBLE_DEVICES: [0]\n"
     ]
    },
    {
     "name": "stdout",
     "output_type": "stream",
     "text": [
      "\n",
      "\n",
      "\n",
      "\n",
      "-------------------- FOLD 4 -------------------\n",
      "train_subjects: ['ym226', 'ym214', 'ym224', 'ym220', 'ym213', 'ym227', 'ym212', 'ym215', 'ym222', 'ym223', 'ym219']\n",
      "test_subjects: ['ym218']\n",
      "------------------------------------------------------\n"
     ]
    },
    {
     "name": "stderr",
     "output_type": "stream",
     "text": [
      "Loaded model weights from checkpoint at ./processed_dataset/Model_Checkpoints/Best_model_Fold4.ckpt\n"
     ]
    },
    {
     "name": "stdout",
     "output_type": "stream",
     "text": [
      "[Test] test_loss: 0.759 test_f1score: 0.651 test_accuracy: 0.651 \n",
      "────────────────────────────────────────────────────────────────────────────────────────────────────────────────────────\n",
      "       Test metric             DataLoader 0\n",
      "────────────────────────────────────────────────────────────────────────────────────────────────────────────────────────\n",
      "      test_accuracy         0.6512205004692078\n",
      "      test_f1score          0.6507987976074219\n",
      "        test_loss           0.7592622637748718\n",
      "────────────────────────────────────────────────────────────────────────────────────────────────────────────────────────\n"
     ]
    },
    {
     "name": "stderr",
     "output_type": "stream",
     "text": [
      "GPU available: True (cuda), used: True\n",
      "TPU available: False, using: 0 TPU cores\n",
      "IPU available: False, using: 0 IPUs\n",
      "HPU available: False, using: 0 HPUs\n",
      "Restoring states from the checkpoint path at ./processed_dataset/Model_Checkpoints/Best_model_Fold5.ckpt\n",
      "LOCAL_RANK: 0 - CUDA_VISIBLE_DEVICES: [0]\n"
     ]
    },
    {
     "name": "stdout",
     "output_type": "stream",
     "text": [
      "\n",
      "\n",
      "\n",
      "\n",
      "-------------------- FOLD 5 -------------------\n",
      "train_subjects: ['ym226', 'ym214', 'ym224', 'ym220', 'ym213', 'ym227', 'ym212', 'ym215', 'ym222', 'ym218', 'ym223']\n",
      "test_subjects: ['ym219']\n",
      "------------------------------------------------------\n"
     ]
    },
    {
     "name": "stderr",
     "output_type": "stream",
     "text": [
      "Loaded model weights from checkpoint at ./processed_dataset/Model_Checkpoints/Best_model_Fold5.ckpt\n"
     ]
    },
    {
     "name": "stdout",
     "output_type": "stream",
     "text": [
      "[Test] test_loss: 0.345 test_f1score: 0.842 test_accuracy: 0.848 \n",
      "────────────────────────────────────────────────────────────────────────────────────────────────────────────────────────\n",
      "       Test metric             DataLoader 0\n",
      "────────────────────────────────────────────────────────────────────────────────────────────────────────────────────────\n",
      "      test_accuracy         0.8477243185043335\n",
      "      test_f1score          0.8422793745994568\n",
      "        test_loss           0.34491947293281555\n",
      "────────────────────────────────────────────────────────────────────────────────────────────────────────────────────────\n"
     ]
    },
    {
     "name": "stderr",
     "output_type": "stream",
     "text": [
      "GPU available: True (cuda), used: True\n",
      "TPU available: False, using: 0 TPU cores\n",
      "IPU available: False, using: 0 IPUs\n",
      "HPU available: False, using: 0 HPUs\n",
      "Restoring states from the checkpoint path at ./processed_dataset/Model_Checkpoints/Best_model_Fold6.ckpt\n",
      "LOCAL_RANK: 0 - CUDA_VISIBLE_DEVICES: [0]\n"
     ]
    },
    {
     "name": "stdout",
     "output_type": "stream",
     "text": [
      "\n",
      "\n",
      "\n",
      "\n",
      "-------------------- FOLD 6 -------------------\n",
      "train_subjects: ['ym226', 'ym214', 'ym224', 'ym213', 'ym227', 'ym212', 'ym215', 'ym222', 'ym218', 'ym223', 'ym219']\n",
      "test_subjects: ['ym220']\n",
      "------------------------------------------------------\n"
     ]
    },
    {
     "name": "stderr",
     "output_type": "stream",
     "text": [
      "Loaded model weights from checkpoint at ./processed_dataset/Model_Checkpoints/Best_model_Fold6.ckpt\n"
     ]
    },
    {
     "name": "stdout",
     "output_type": "stream",
     "text": [
      "[Test] test_loss: 0.312 test_f1score: 0.823 test_accuracy: 0.860 \n",
      "────────────────────────────────────────────────────────────────────────────────────────────────────────────────────────\n",
      "       Test metric             DataLoader 0\n",
      "────────────────────────────────────────────────────────────────────────────────────────────────────────────────────────\n",
      "      test_accuracy         0.8598644137382507\n",
      "      test_f1score          0.8226280212402344\n",
      "        test_loss           0.3121064603328705\n",
      "────────────────────────────────────────────────────────────────────────────────────────────────────────────────────────\n"
     ]
    },
    {
     "name": "stderr",
     "output_type": "stream",
     "text": [
      "GPU available: True (cuda), used: True\n",
      "TPU available: False, using: 0 TPU cores\n",
      "IPU available: False, using: 0 IPUs\n",
      "HPU available: False, using: 0 HPUs\n",
      "Restoring states from the checkpoint path at ./processed_dataset/Model_Checkpoints/Best_model_Fold7.ckpt\n",
      "LOCAL_RANK: 0 - CUDA_VISIBLE_DEVICES: [0]\n"
     ]
    },
    {
     "name": "stdout",
     "output_type": "stream",
     "text": [
      "\n",
      "\n",
      "\n",
      "\n",
      "-------------------- FOLD 7 -------------------\n",
      "train_subjects: ['ym226', 'ym214', 'ym224', 'ym220', 'ym213', 'ym227', 'ym212', 'ym215', 'ym218', 'ym223', 'ym219']\n",
      "test_subjects: ['ym222']\n",
      "------------------------------------------------------\n"
     ]
    },
    {
     "name": "stderr",
     "output_type": "stream",
     "text": [
      "Loaded model weights from checkpoint at ./processed_dataset/Model_Checkpoints/Best_model_Fold7.ckpt\n"
     ]
    },
    {
     "name": "stdout",
     "output_type": "stream",
     "text": [
      "[Test] test_loss: 0.591 test_f1score: 0.714 test_accuracy: 0.714 \n",
      "────────────────────────────────────────────────────────────────────────────────────────────────────────────────────────\n",
      "       Test metric             DataLoader 0\n",
      "────────────────────────────────────────────────────────────────────────────────────────────────────────────────────────\n",
      "      test_accuracy         0.7143933773040771\n",
      "      test_f1score          0.7141422033309937\n",
      "        test_loss           0.5905348658561707\n",
      "────────────────────────────────────────────────────────────────────────────────────────────────────────────────────────\n"
     ]
    },
    {
     "name": "stderr",
     "output_type": "stream",
     "text": [
      "GPU available: True (cuda), used: True\n",
      "TPU available: False, using: 0 TPU cores\n",
      "IPU available: False, using: 0 IPUs\n",
      "HPU available: False, using: 0 HPUs\n",
      "Restoring states from the checkpoint path at ./processed_dataset/Model_Checkpoints/Best_model_Fold8.ckpt\n",
      "LOCAL_RANK: 0 - CUDA_VISIBLE_DEVICES: [0]\n"
     ]
    },
    {
     "name": "stdout",
     "output_type": "stream",
     "text": [
      "\n",
      "\n",
      "\n",
      "\n",
      "-------------------- FOLD 8 -------------------\n",
      "train_subjects: ['ym226', 'ym214', 'ym224', 'ym220', 'ym213', 'ym227', 'ym212', 'ym215', 'ym222', 'ym218', 'ym219']\n",
      "test_subjects: ['ym223']\n",
      "------------------------------------------------------\n"
     ]
    },
    {
     "name": "stderr",
     "output_type": "stream",
     "text": [
      "Loaded model weights from checkpoint at ./processed_dataset/Model_Checkpoints/Best_model_Fold8.ckpt\n"
     ]
    },
    {
     "name": "stdout",
     "output_type": "stream",
     "text": [
      "[Test] test_loss: 1.163 test_f1score: 0.452 test_accuracy: 0.455 \n",
      "────────────────────────────────────────────────────────────────────────────────────────────────────────────────────────\n",
      "       Test metric             DataLoader 0\n",
      "────────────────────────────────────────────────────────────────────────────────────────────────────────────────────────\n",
      "      test_accuracy         0.4552319347858429\n",
      "      test_f1score          0.4521077871322632\n",
      "        test_loss           1.1633073091506958\n",
      "────────────────────────────────────────────────────────────────────────────────────────────────────────────────────────\n"
     ]
    },
    {
     "name": "stderr",
     "output_type": "stream",
     "text": [
      "GPU available: True (cuda), used: True\n",
      "TPU available: False, using: 0 TPU cores\n",
      "IPU available: False, using: 0 IPUs\n",
      "HPU available: False, using: 0 HPUs\n",
      "Restoring states from the checkpoint path at ./processed_dataset/Model_Checkpoints/Best_model_Fold9.ckpt\n",
      "LOCAL_RANK: 0 - CUDA_VISIBLE_DEVICES: [0]\n"
     ]
    },
    {
     "name": "stdout",
     "output_type": "stream",
     "text": [
      "\n",
      "\n",
      "\n",
      "\n",
      "-------------------- FOLD 9 -------------------\n",
      "train_subjects: ['ym226', 'ym214', 'ym220', 'ym213', 'ym227', 'ym212', 'ym215', 'ym222', 'ym218', 'ym223', 'ym219']\n",
      "test_subjects: ['ym224']\n",
      "------------------------------------------------------\n"
     ]
    },
    {
     "name": "stderr",
     "output_type": "stream",
     "text": [
      "Loaded model weights from checkpoint at ./processed_dataset/Model_Checkpoints/Best_model_Fold9.ckpt\n"
     ]
    },
    {
     "name": "stdout",
     "output_type": "stream",
     "text": [
      "[Test] test_loss: 0.579 test_f1score: 0.679 test_accuracy: 0.708 \n",
      "────────────────────────────────────────────────────────────────────────────────────────────────────────────────────────\n",
      "       Test metric             DataLoader 0\n",
      "────────────────────────────────────────────────────────────────────────────────────────────────────────────────────────\n",
      "      test_accuracy         0.7082995772361755\n",
      "      test_f1score          0.6788038015365601\n",
      "        test_loss           0.5793682336807251\n",
      "────────────────────────────────────────────────────────────────────────────────────────────────────────────────────────\n"
     ]
    },
    {
     "name": "stderr",
     "output_type": "stream",
     "text": [
      "GPU available: True (cuda), used: True\n",
      "TPU available: False, using: 0 TPU cores\n",
      "IPU available: False, using: 0 IPUs\n",
      "HPU available: False, using: 0 HPUs\n",
      "Restoring states from the checkpoint path at ./processed_dataset/Model_Checkpoints/Best_model_Fold10.ckpt\n",
      "LOCAL_RANK: 0 - CUDA_VISIBLE_DEVICES: [0]\n"
     ]
    },
    {
     "name": "stdout",
     "output_type": "stream",
     "text": [
      "\n",
      "\n",
      "\n",
      "\n",
      "-------------------- FOLD 10 -------------------\n",
      "train_subjects: ['ym214', 'ym224', 'ym220', 'ym213', 'ym227', 'ym212', 'ym215', 'ym222', 'ym218', 'ym223', 'ym219']\n",
      "test_subjects: ['ym226']\n",
      "------------------------------------------------------\n"
     ]
    },
    {
     "name": "stderr",
     "output_type": "stream",
     "text": [
      "Loaded model weights from checkpoint at ./processed_dataset/Model_Checkpoints/Best_model_Fold10.ckpt\n"
     ]
    },
    {
     "name": "stdout",
     "output_type": "stream",
     "text": [
      "[Test] test_loss: 0.894 test_f1score: 0.605 test_accuracy: 0.640 \n",
      "────────────────────────────────────────────────────────────────────────────────────────────────────────────────────────\n",
      "       Test metric             DataLoader 0\n",
      "────────────────────────────────────────────────────────────────────────────────────────────────────────────────────────\n",
      "      test_accuracy         0.6400867104530334\n",
      "      test_f1score          0.6051342487335205\n",
      "        test_loss           0.8941510915756226\n",
      "────────────────────────────────────────────────────────────────────────────────────────────────────────────────────────\n"
     ]
    },
    {
     "name": "stderr",
     "output_type": "stream",
     "text": [
      "GPU available: True (cuda), used: True\n",
      "TPU available: False, using: 0 TPU cores\n",
      "IPU available: False, using: 0 IPUs\n",
      "HPU available: False, using: 0 HPUs\n",
      "Restoring states from the checkpoint path at ./processed_dataset/Model_Checkpoints/Best_model_Fold11.ckpt\n",
      "LOCAL_RANK: 0 - CUDA_VISIBLE_DEVICES: [0]\n"
     ]
    },
    {
     "name": "stdout",
     "output_type": "stream",
     "text": [
      "\n",
      "\n",
      "\n",
      "\n",
      "-------------------- FOLD 11 -------------------\n",
      "train_subjects: ['ym226', 'ym214', 'ym224', 'ym220', 'ym213', 'ym212', 'ym215', 'ym222', 'ym218', 'ym223', 'ym219']\n",
      "test_subjects: ['ym227']\n",
      "------------------------------------------------------\n"
     ]
    },
    {
     "name": "stderr",
     "output_type": "stream",
     "text": [
      "Loaded model weights from checkpoint at ./processed_dataset/Model_Checkpoints/Best_model_Fold11.ckpt\n"
     ]
    },
    {
     "name": "stdout",
     "output_type": "stream",
     "text": [
      "[Test] test_loss: 0.579 test_f1score: 0.685 test_accuracy: 0.707 \n",
      "────────────────────────────────────────────────────────────────────────────────────────────────────────────────────────\n",
      "       Test metric             DataLoader 0\n",
      "────────────────────────────────────────────────────────────────────────────────────────────────────────────────────────\n",
      "      test_accuracy         0.7065173983573914\n",
      "      test_f1score           0.685187578201294\n",
      "        test_loss           0.5786234140396118\n",
      "────────────────────────────────────────────────────────────────────────────────────────────────────────────────────────\n",
      "\n",
      "\n",
      "\n",
      "\n",
      "====================================================================================================\n",
      "                    erased_feature: ACC_fGamma\n",
      "====================================================================================================\n",
      "dataset does not exist at path ./processed_dataset/perturbation_samples/ACC_fGamma, generating files to path...\n"
     ]
    },
    {
     "name": "stderr",
     "output_type": "stream",
     "text": [
      "[PROCESS]: 100%|██████████| 24/24 [04:43<00:00, 11.79s/it]\n"
     ]
    },
    {
     "name": "stdout",
     "output_type": "stream",
     "text": [
      "dataset already exists at path ./processed_dataset/perturbation_samples/ACC_fGamma, reading from path...\n"
     ]
    },
    {
     "name": "stderr",
     "output_type": "stream",
     "text": [
      "GPU available: True (cuda), used: True\n",
      "TPU available: False, using: 0 TPU cores\n",
      "IPU available: False, using: 0 IPUs\n",
      "HPU available: False, using: 0 HPUs\n",
      "Restoring states from the checkpoint path at ./processed_dataset/Model_Checkpoints/Best_model_Fold0.ckpt\n",
      "LOCAL_RANK: 0 - CUDA_VISIBLE_DEVICES: [0]\n"
     ]
    },
    {
     "name": "stdout",
     "output_type": "stream",
     "text": [
      "-------------------- FOLD 0 -------------------\n",
      "train_subjects: ['ym226', 'ym214', 'ym224', 'ym220', 'ym213', 'ym227', 'ym215', 'ym222', 'ym218', 'ym223', 'ym219']\n",
      "test_subjects: ['ym212']\n",
      "------------------------------------------------------\n"
     ]
    },
    {
     "name": "stderr",
     "output_type": "stream",
     "text": [
      "Loaded model weights from checkpoint at ./processed_dataset/Model_Checkpoints/Best_model_Fold0.ckpt\n"
     ]
    },
    {
     "name": "stdout",
     "output_type": "stream",
     "text": [
      "[Test] test_loss: 0.262 test_f1score: 0.880 test_accuracy: 0.891 \n",
      "────────────────────────────────────────────────────────────────────────────────────────────────────────────────────────\n",
      "       Test metric             DataLoader 0\n",
      "────────────────────────────────────────────────────────────────────────────────────────────────────────────────────────\n",
      "      test_accuracy         0.8908335566520691\n",
      "      test_f1score           0.879568338394165\n",
      "        test_loss           0.2617865204811096\n",
      "────────────────────────────────────────────────────────────────────────────────────────────────────────────────────────\n"
     ]
    },
    {
     "name": "stderr",
     "output_type": "stream",
     "text": [
      "GPU available: True (cuda), used: True\n",
      "TPU available: False, using: 0 TPU cores\n",
      "IPU available: False, using: 0 IPUs\n",
      "HPU available: False, using: 0 HPUs\n",
      "Restoring states from the checkpoint path at ./processed_dataset/Model_Checkpoints/Best_model_Fold1.ckpt\n",
      "LOCAL_RANK: 0 - CUDA_VISIBLE_DEVICES: [0]\n"
     ]
    },
    {
     "name": "stdout",
     "output_type": "stream",
     "text": [
      "\n",
      "\n",
      "\n",
      "\n",
      "-------------------- FOLD 1 -------------------\n",
      "train_subjects: ['ym226', 'ym214', 'ym224', 'ym220', 'ym227', 'ym212', 'ym215', 'ym222', 'ym218', 'ym223', 'ym219']\n",
      "test_subjects: ['ym213']\n",
      "------------------------------------------------------\n"
     ]
    },
    {
     "name": "stderr",
     "output_type": "stream",
     "text": [
      "Loaded model weights from checkpoint at ./processed_dataset/Model_Checkpoints/Best_model_Fold1.ckpt\n"
     ]
    },
    {
     "name": "stdout",
     "output_type": "stream",
     "text": [
      "[Test] test_loss: 0.405 test_f1score: 0.805 test_accuracy: 0.819 \n",
      "────────────────────────────────────────────────────────────────────────────────────────────────────────────────────────\n",
      "       Test metric             DataLoader 0\n",
      "────────────────────────────────────────────────────────────────────────────────────────────────────────────────────────\n",
      "      test_accuracy         0.8187116384506226\n",
      "      test_f1score          0.8048446178436279\n",
      "        test_loss           0.4054681956768036\n",
      "────────────────────────────────────────────────────────────────────────────────────────────────────────────────────────\n"
     ]
    },
    {
     "name": "stderr",
     "output_type": "stream",
     "text": [
      "GPU available: True (cuda), used: True\n",
      "TPU available: False, using: 0 TPU cores\n",
      "IPU available: False, using: 0 IPUs\n",
      "HPU available: False, using: 0 HPUs\n",
      "Restoring states from the checkpoint path at ./processed_dataset/Model_Checkpoints/Best_model_Fold2.ckpt\n",
      "LOCAL_RANK: 0 - CUDA_VISIBLE_DEVICES: [0]\n"
     ]
    },
    {
     "name": "stdout",
     "output_type": "stream",
     "text": [
      "\n",
      "\n",
      "\n",
      "\n",
      "-------------------- FOLD 2 -------------------\n",
      "train_subjects: ['ym226', 'ym224', 'ym220', 'ym213', 'ym227', 'ym212', 'ym215', 'ym222', 'ym218', 'ym223', 'ym219']\n",
      "test_subjects: ['ym214']\n",
      "------------------------------------------------------\n"
     ]
    },
    {
     "name": "stderr",
     "output_type": "stream",
     "text": [
      "Loaded model weights from checkpoint at ./processed_dataset/Model_Checkpoints/Best_model_Fold2.ckpt\n"
     ]
    },
    {
     "name": "stdout",
     "output_type": "stream",
     "text": [
      "[Test] test_loss: 0.256 test_f1score: 0.907 test_accuracy: 0.915 \n",
      "────────────────────────────────────────────────────────────────────────────────────────────────────────────────────────\n",
      "       Test metric             DataLoader 0\n",
      "────────────────────────────────────────────────────────────────────────────────────────────────────────────────────────\n",
      "      test_accuracy         0.9151387214660645\n",
      "      test_f1score          0.9067052602767944\n",
      "        test_loss             0.2562275826931\n",
      "────────────────────────────────────────────────────────────────────────────────────────────────────────────────────────\n"
     ]
    },
    {
     "name": "stderr",
     "output_type": "stream",
     "text": [
      "GPU available: True (cuda), used: True\n",
      "TPU available: False, using: 0 TPU cores\n",
      "IPU available: False, using: 0 IPUs\n",
      "HPU available: False, using: 0 HPUs\n",
      "Restoring states from the checkpoint path at ./processed_dataset/Model_Checkpoints/Best_model_Fold3.ckpt\n",
      "LOCAL_RANK: 0 - CUDA_VISIBLE_DEVICES: [0]\n"
     ]
    },
    {
     "name": "stdout",
     "output_type": "stream",
     "text": [
      "\n",
      "\n",
      "\n",
      "\n",
      "-------------------- FOLD 3 -------------------\n",
      "train_subjects: ['ym226', 'ym214', 'ym224', 'ym220', 'ym213', 'ym227', 'ym212', 'ym222', 'ym218', 'ym223', 'ym219']\n",
      "test_subjects: ['ym215']\n",
      "------------------------------------------------------\n"
     ]
    },
    {
     "name": "stderr",
     "output_type": "stream",
     "text": [
      "Loaded model weights from checkpoint at ./processed_dataset/Model_Checkpoints/Best_model_Fold3.ckpt\n"
     ]
    },
    {
     "name": "stdout",
     "output_type": "stream",
     "text": [
      "[Test] test_loss: 0.454 test_f1score: 0.790 test_accuracy: 0.797 \n",
      "────────────────────────────────────────────────────────────────────────────────────────────────────────────────────────\n",
      "       Test metric             DataLoader 0\n",
      "────────────────────────────────────────────────────────────────────────────────────────────────────────────────────────\n",
      "      test_accuracy         0.7966501116752625\n",
      "      test_f1score          0.7895883321762085\n",
      "        test_loss           0.45419609546661377\n",
      "────────────────────────────────────────────────────────────────────────────────────────────────────────────────────────\n"
     ]
    },
    {
     "name": "stderr",
     "output_type": "stream",
     "text": [
      "GPU available: True (cuda), used: True\n",
      "TPU available: False, using: 0 TPU cores\n",
      "IPU available: False, using: 0 IPUs\n",
      "HPU available: False, using: 0 HPUs\n",
      "Restoring states from the checkpoint path at ./processed_dataset/Model_Checkpoints/Best_model_Fold4.ckpt\n",
      "LOCAL_RANK: 0 - CUDA_VISIBLE_DEVICES: [0]\n"
     ]
    },
    {
     "name": "stdout",
     "output_type": "stream",
     "text": [
      "\n",
      "\n",
      "\n",
      "\n",
      "-------------------- FOLD 4 -------------------\n",
      "train_subjects: ['ym226', 'ym214', 'ym224', 'ym220', 'ym213', 'ym227', 'ym212', 'ym215', 'ym222', 'ym223', 'ym219']\n",
      "test_subjects: ['ym218']\n",
      "------------------------------------------------------\n"
     ]
    },
    {
     "name": "stderr",
     "output_type": "stream",
     "text": [
      "Loaded model weights from checkpoint at ./processed_dataset/Model_Checkpoints/Best_model_Fold4.ckpt\n"
     ]
    },
    {
     "name": "stdout",
     "output_type": "stream",
     "text": [
      "[Test] test_loss: 0.369 test_f1score: 0.823 test_accuracy: 0.832 \n",
      "────────────────────────────────────────────────────────────────────────────────────────────────────────────────────────\n",
      "       Test metric             DataLoader 0\n",
      "────────────────────────────────────────────────────────────────────────────────────────────────────────────────────────\n",
      "      test_accuracy         0.8324369192123413\n",
      "      test_f1score          0.8229316473007202\n",
      "        test_loss           0.3693973422050476\n",
      "────────────────────────────────────────────────────────────────────────────────────────────────────────────────────────\n"
     ]
    },
    {
     "name": "stderr",
     "output_type": "stream",
     "text": [
      "GPU available: True (cuda), used: True\n",
      "TPU available: False, using: 0 TPU cores\n",
      "IPU available: False, using: 0 IPUs\n",
      "HPU available: False, using: 0 HPUs\n",
      "Restoring states from the checkpoint path at ./processed_dataset/Model_Checkpoints/Best_model_Fold5.ckpt\n",
      "LOCAL_RANK: 0 - CUDA_VISIBLE_DEVICES: [0]\n"
     ]
    },
    {
     "name": "stdout",
     "output_type": "stream",
     "text": [
      "\n",
      "\n",
      "\n",
      "\n",
      "-------------------- FOLD 5 -------------------\n",
      "train_subjects: ['ym226', 'ym214', 'ym224', 'ym220', 'ym213', 'ym227', 'ym212', 'ym215', 'ym222', 'ym218', 'ym223']\n",
      "test_subjects: ['ym219']\n",
      "------------------------------------------------------\n"
     ]
    },
    {
     "name": "stderr",
     "output_type": "stream",
     "text": [
      "Loaded model weights from checkpoint at ./processed_dataset/Model_Checkpoints/Best_model_Fold5.ckpt\n"
     ]
    },
    {
     "name": "stdout",
     "output_type": "stream",
     "text": [
      "[Test] test_loss: 0.356 test_f1score: 0.827 test_accuracy: 0.843 \n",
      "────────────────────────────────────────────────────────────────────────────────────────────────────────────────────────\n",
      "       Test metric             DataLoader 0\n",
      "────────────────────────────────────────────────────────────────────────────────────────────────────────────────────────\n",
      "      test_accuracy         0.8426671624183655\n",
      "      test_f1score          0.8269073963165283\n",
      "        test_loss           0.3561669588088989\n",
      "────────────────────────────────────────────────────────────────────────────────────────────────────────────────────────\n"
     ]
    },
    {
     "name": "stderr",
     "output_type": "stream",
     "text": [
      "GPU available: True (cuda), used: True\n",
      "TPU available: False, using: 0 TPU cores\n",
      "IPU available: False, using: 0 IPUs\n",
      "HPU available: False, using: 0 HPUs\n",
      "Restoring states from the checkpoint path at ./processed_dataset/Model_Checkpoints/Best_model_Fold6.ckpt\n",
      "LOCAL_RANK: 0 - CUDA_VISIBLE_DEVICES: [0]\n"
     ]
    },
    {
     "name": "stdout",
     "output_type": "stream",
     "text": [
      "\n",
      "\n",
      "\n",
      "\n",
      "-------------------- FOLD 6 -------------------\n",
      "train_subjects: ['ym226', 'ym214', 'ym224', 'ym213', 'ym227', 'ym212', 'ym215', 'ym222', 'ym218', 'ym223', 'ym219']\n",
      "test_subjects: ['ym220']\n",
      "------------------------------------------------------\n"
     ]
    },
    {
     "name": "stderr",
     "output_type": "stream",
     "text": [
      "Loaded model weights from checkpoint at ./processed_dataset/Model_Checkpoints/Best_model_Fold6.ckpt\n"
     ]
    },
    {
     "name": "stdout",
     "output_type": "stream",
     "text": [
      "[Test] test_loss: 0.260 test_f1score: 0.870 test_accuracy: 0.888 \n",
      "────────────────────────────────────────────────────────────────────────────────────────────────────────────────────────\n",
      "       Test metric             DataLoader 0\n",
      "────────────────────────────────────────────────────────────────────────────────────────────────────────────────────────\n",
      "      test_accuracy          0.887633204460144\n",
      "      test_f1score          0.8696253299713135\n",
      "        test_loss           0.2604515850543976\n",
      "────────────────────────────────────────────────────────────────────────────────────────────────────────────────────────\n"
     ]
    },
    {
     "name": "stderr",
     "output_type": "stream",
     "text": [
      "GPU available: True (cuda), used: True\n",
      "TPU available: False, using: 0 TPU cores\n",
      "IPU available: False, using: 0 IPUs\n",
      "HPU available: False, using: 0 HPUs\n",
      "Restoring states from the checkpoint path at ./processed_dataset/Model_Checkpoints/Best_model_Fold7.ckpt\n",
      "LOCAL_RANK: 0 - CUDA_VISIBLE_DEVICES: [0]\n"
     ]
    },
    {
     "name": "stdout",
     "output_type": "stream",
     "text": [
      "\n",
      "\n",
      "\n",
      "\n",
      "-------------------- FOLD 7 -------------------\n",
      "train_subjects: ['ym226', 'ym214', 'ym224', 'ym220', 'ym213', 'ym227', 'ym212', 'ym215', 'ym218', 'ym223', 'ym219']\n",
      "test_subjects: ['ym222']\n",
      "------------------------------------------------------\n"
     ]
    },
    {
     "name": "stderr",
     "output_type": "stream",
     "text": [
      "Loaded model weights from checkpoint at ./processed_dataset/Model_Checkpoints/Best_model_Fold7.ckpt\n"
     ]
    },
    {
     "name": "stdout",
     "output_type": "stream",
     "text": [
      "[Test] test_loss: 0.406 test_f1score: 0.809 test_accuracy: 0.814 \n",
      "────────────────────────────────────────────────────────────────────────────────────────────────────────────────────────\n",
      "       Test metric             DataLoader 0\n",
      "────────────────────────────────────────────────────────────────────────────────────────────────────────────────────────\n",
      "      test_accuracy         0.8143682479858398\n",
      "      test_f1score          0.8094116449356079\n",
      "        test_loss           0.40554144978523254\n",
      "────────────────────────────────────────────────────────────────────────────────────────────────────────────────────────\n"
     ]
    },
    {
     "name": "stderr",
     "output_type": "stream",
     "text": [
      "GPU available: True (cuda), used: True\n",
      "TPU available: False, using: 0 TPU cores\n",
      "IPU available: False, using: 0 IPUs\n",
      "HPU available: False, using: 0 HPUs\n",
      "Restoring states from the checkpoint path at ./processed_dataset/Model_Checkpoints/Best_model_Fold8.ckpt\n",
      "LOCAL_RANK: 0 - CUDA_VISIBLE_DEVICES: [0]\n"
     ]
    },
    {
     "name": "stdout",
     "output_type": "stream",
     "text": [
      "\n",
      "\n",
      "\n",
      "\n",
      "-------------------- FOLD 8 -------------------\n",
      "train_subjects: ['ym226', 'ym214', 'ym224', 'ym220', 'ym213', 'ym227', 'ym212', 'ym215', 'ym222', 'ym218', 'ym219']\n",
      "test_subjects: ['ym223']\n",
      "------------------------------------------------------\n"
     ]
    },
    {
     "name": "stderr",
     "output_type": "stream",
     "text": [
      "Loaded model weights from checkpoint at ./processed_dataset/Model_Checkpoints/Best_model_Fold8.ckpt\n"
     ]
    },
    {
     "name": "stdout",
     "output_type": "stream",
     "text": [
      "[Test] test_loss: 0.762 test_f1score: 0.612 test_accuracy: 0.616 \n",
      "────────────────────────────────────────────────────────────────────────────────────────────────────────────────────────\n",
      "       Test metric             DataLoader 0\n",
      "────────────────────────────────────────────────────────────────────────────────────────────────────────────────────────\n",
      "      test_accuracy         0.6163250803947449\n",
      "      test_f1score          0.6119885444641113\n",
      "        test_loss           0.7623684406280518\n",
      "────────────────────────────────────────────────────────────────────────────────────────────────────────────────────────\n"
     ]
    },
    {
     "name": "stderr",
     "output_type": "stream",
     "text": [
      "GPU available: True (cuda), used: True\n",
      "TPU available: False, using: 0 TPU cores\n",
      "IPU available: False, using: 0 IPUs\n",
      "HPU available: False, using: 0 HPUs\n",
      "Restoring states from the checkpoint path at ./processed_dataset/Model_Checkpoints/Best_model_Fold9.ckpt\n",
      "LOCAL_RANK: 0 - CUDA_VISIBLE_DEVICES: [0]\n"
     ]
    },
    {
     "name": "stdout",
     "output_type": "stream",
     "text": [
      "\n",
      "\n",
      "\n",
      "\n",
      "-------------------- FOLD 9 -------------------\n",
      "train_subjects: ['ym226', 'ym214', 'ym220', 'ym213', 'ym227', 'ym212', 'ym215', 'ym222', 'ym218', 'ym223', 'ym219']\n",
      "test_subjects: ['ym224']\n",
      "------------------------------------------------------\n"
     ]
    },
    {
     "name": "stderr",
     "output_type": "stream",
     "text": [
      "Loaded model weights from checkpoint at ./processed_dataset/Model_Checkpoints/Best_model_Fold9.ckpt\n"
     ]
    },
    {
     "name": "stdout",
     "output_type": "stream",
     "text": [
      "[Test] test_loss: 0.575 test_f1score: 0.683 test_accuracy: 0.710 \n",
      "────────────────────────────────────────────────────────────────────────────────────────────────────────────────────────\n",
      "       Test metric             DataLoader 0\n",
      "────────────────────────────────────────────────────────────────────────────────────────────────────────────────────────\n",
      "      test_accuracy         0.7099190354347229\n",
      "      test_f1score          0.6829407215118408\n",
      "        test_loss            0.575420618057251\n",
      "────────────────────────────────────────────────────────────────────────────────────────────────────────────────────────\n"
     ]
    },
    {
     "name": "stderr",
     "output_type": "stream",
     "text": [
      "GPU available: True (cuda), used: True\n",
      "TPU available: False, using: 0 TPU cores\n",
      "IPU available: False, using: 0 IPUs\n",
      "HPU available: False, using: 0 HPUs\n",
      "Restoring states from the checkpoint path at ./processed_dataset/Model_Checkpoints/Best_model_Fold10.ckpt\n",
      "LOCAL_RANK: 0 - CUDA_VISIBLE_DEVICES: [0]\n"
     ]
    },
    {
     "name": "stdout",
     "output_type": "stream",
     "text": [
      "\n",
      "\n",
      "\n",
      "\n",
      "-------------------- FOLD 10 -------------------\n",
      "train_subjects: ['ym214', 'ym224', 'ym220', 'ym213', 'ym227', 'ym212', 'ym215', 'ym222', 'ym218', 'ym223', 'ym219']\n",
      "test_subjects: ['ym226']\n",
      "------------------------------------------------------\n"
     ]
    },
    {
     "name": "stderr",
     "output_type": "stream",
     "text": [
      "Loaded model weights from checkpoint at ./processed_dataset/Model_Checkpoints/Best_model_Fold10.ckpt\n"
     ]
    },
    {
     "name": "stdout",
     "output_type": "stream",
     "text": [
      "[Test] test_loss: 0.999 test_f1score: 0.575 test_accuracy: 0.620 \n",
      "────────────────────────────────────────────────────────────────────────────────────────────────────────────────────────\n",
      "       Test metric             DataLoader 0\n",
      "────────────────────────────────────────────────────────────────────────────────────────────────────────────────────────\n",
      "      test_accuracy         0.6196097135543823\n",
      "      test_f1score          0.5750628113746643\n",
      "        test_loss            0.998833954334259\n",
      "────────────────────────────────────────────────────────────────────────────────────────────────────────────────────────\n"
     ]
    },
    {
     "name": "stderr",
     "output_type": "stream",
     "text": [
      "GPU available: True (cuda), used: True\n",
      "TPU available: False, using: 0 TPU cores\n",
      "IPU available: False, using: 0 IPUs\n",
      "HPU available: False, using: 0 HPUs\n",
      "Restoring states from the checkpoint path at ./processed_dataset/Model_Checkpoints/Best_model_Fold11.ckpt\n",
      "LOCAL_RANK: 0 - CUDA_VISIBLE_DEVICES: [0]\n"
     ]
    },
    {
     "name": "stdout",
     "output_type": "stream",
     "text": [
      "\n",
      "\n",
      "\n",
      "\n",
      "-------------------- FOLD 11 -------------------\n",
      "train_subjects: ['ym226', 'ym214', 'ym224', 'ym220', 'ym213', 'ym212', 'ym215', 'ym222', 'ym218', 'ym223', 'ym219']\n",
      "test_subjects: ['ym227']\n",
      "------------------------------------------------------\n"
     ]
    },
    {
     "name": "stderr",
     "output_type": "stream",
     "text": [
      "Loaded model weights from checkpoint at ./processed_dataset/Model_Checkpoints/Best_model_Fold11.ckpt\n"
     ]
    },
    {
     "name": "stdout",
     "output_type": "stream",
     "text": [
      "[Test] test_loss: 0.464 test_f1score: 0.774 test_accuracy: 0.775 \n",
      "────────────────────────────────────────────────────────────────────────────────────────────────────────────────────────\n",
      "       Test metric             DataLoader 0\n",
      "────────────────────────────────────────────────────────────────────────────────────────────────────────────────────────\n",
      "      test_accuracy         0.7752898931503296\n",
      "      test_f1score          0.7736790180206299\n",
      "        test_loss           0.4640611708164215\n",
      "────────────────────────────────────────────────────────────────────────────────────────────────────────────────────────\n",
      "\n",
      "\n",
      "\n",
      "\n",
      "====================================================================================================\n",
      "                    erased_feature: CA1_fGamma\n",
      "====================================================================================================\n",
      "dataset does not exist at path ./processed_dataset/perturbation_samples/CA1_fGamma, generating files to path...\n"
     ]
    },
    {
     "name": "stderr",
     "output_type": "stream",
     "text": [
      "[PROCESS]: 100%|██████████| 24/24 [04:40<00:00, 11.67s/it]\n"
     ]
    },
    {
     "name": "stdout",
     "output_type": "stream",
     "text": [
      "dataset already exists at path ./processed_dataset/perturbation_samples/CA1_fGamma, reading from path...\n"
     ]
    },
    {
     "name": "stderr",
     "output_type": "stream",
     "text": [
      "GPU available: True (cuda), used: True\n",
      "TPU available: False, using: 0 TPU cores\n",
      "IPU available: False, using: 0 IPUs\n",
      "HPU available: False, using: 0 HPUs\n",
      "Restoring states from the checkpoint path at ./processed_dataset/Model_Checkpoints/Best_model_Fold0.ckpt\n",
      "LOCAL_RANK: 0 - CUDA_VISIBLE_DEVICES: [0]\n"
     ]
    },
    {
     "name": "stdout",
     "output_type": "stream",
     "text": [
      "-------------------- FOLD 0 -------------------\n",
      "train_subjects: ['ym226', 'ym214', 'ym224', 'ym220', 'ym213', 'ym227', 'ym215', 'ym222', 'ym218', 'ym223', 'ym219']\n",
      "test_subjects: ['ym212']\n",
      "------------------------------------------------------\n"
     ]
    },
    {
     "name": "stderr",
     "output_type": "stream",
     "text": [
      "Loaded model weights from checkpoint at ./processed_dataset/Model_Checkpoints/Best_model_Fold0.ckpt\n"
     ]
    },
    {
     "name": "stdout",
     "output_type": "stream",
     "text": [
      "[Test] test_loss: 0.247 test_f1score: 0.883 test_accuracy: 0.896 \n",
      "────────────────────────────────────────────────────────────────────────────────────────────────────────────────────────\n",
      "       Test metric             DataLoader 0\n",
      "────────────────────────────────────────────────────────────────────────────────────────────────────────────────────────\n",
      "      test_accuracy         0.8955799341201782\n",
      "      test_f1score          0.8827009201049805\n",
      "        test_loss           0.2469789832830429\n",
      "────────────────────────────────────────────────────────────────────────────────────────────────────────────────────────\n"
     ]
    },
    {
     "name": "stderr",
     "output_type": "stream",
     "text": [
      "GPU available: True (cuda), used: True\n",
      "TPU available: False, using: 0 TPU cores\n",
      "IPU available: False, using: 0 IPUs\n",
      "HPU available: False, using: 0 HPUs\n",
      "Restoring states from the checkpoint path at ./processed_dataset/Model_Checkpoints/Best_model_Fold1.ckpt\n",
      "LOCAL_RANK: 0 - CUDA_VISIBLE_DEVICES: [0]\n"
     ]
    },
    {
     "name": "stdout",
     "output_type": "stream",
     "text": [
      "\n",
      "\n",
      "\n",
      "\n",
      "-------------------- FOLD 1 -------------------\n",
      "train_subjects: ['ym226', 'ym214', 'ym224', 'ym220', 'ym227', 'ym212', 'ym215', 'ym222', 'ym218', 'ym223', 'ym219']\n",
      "test_subjects: ['ym213']\n",
      "------------------------------------------------------\n"
     ]
    },
    {
     "name": "stderr",
     "output_type": "stream",
     "text": [
      "Loaded model weights from checkpoint at ./processed_dataset/Model_Checkpoints/Best_model_Fold1.ckpt\n"
     ]
    },
    {
     "name": "stdout",
     "output_type": "stream",
     "text": [
      "[Test] test_loss: 0.402 test_f1score: 0.806 test_accuracy: 0.817 \n",
      "────────────────────────────────────────────────────────────────────────────────────────────────────────────────────────\n",
      "       Test metric             DataLoader 0\n",
      "────────────────────────────────────────────────────────────────────────────────────────────────────────────────────────\n",
      "      test_accuracy          0.816871166229248\n",
      "      test_f1score          0.8057206869125366\n",
      "        test_loss           0.4023516774177551\n",
      "────────────────────────────────────────────────────────────────────────────────────────────────────────────────────────\n"
     ]
    },
    {
     "name": "stderr",
     "output_type": "stream",
     "text": [
      "GPU available: True (cuda), used: True\n",
      "TPU available: False, using: 0 TPU cores\n",
      "IPU available: False, using: 0 IPUs\n",
      "HPU available: False, using: 0 HPUs\n",
      "Restoring states from the checkpoint path at ./processed_dataset/Model_Checkpoints/Best_model_Fold2.ckpt\n",
      "LOCAL_RANK: 0 - CUDA_VISIBLE_DEVICES: [0]\n"
     ]
    },
    {
     "name": "stdout",
     "output_type": "stream",
     "text": [
      "\n",
      "\n",
      "\n",
      "\n",
      "-------------------- FOLD 2 -------------------\n",
      "train_subjects: ['ym226', 'ym224', 'ym220', 'ym213', 'ym227', 'ym212', 'ym215', 'ym222', 'ym218', 'ym223', 'ym219']\n",
      "test_subjects: ['ym214']\n",
      "------------------------------------------------------\n"
     ]
    },
    {
     "name": "stderr",
     "output_type": "stream",
     "text": [
      "Loaded model weights from checkpoint at ./processed_dataset/Model_Checkpoints/Best_model_Fold2.ckpt\n"
     ]
    },
    {
     "name": "stdout",
     "output_type": "stream",
     "text": [
      "[Test] test_loss: 0.252 test_f1score: 0.911 test_accuracy: 0.918 \n",
      "────────────────────────────────────────────────────────────────────────────────────────────────────────────────────────\n",
      "       Test metric             DataLoader 0\n",
      "────────────────────────────────────────────────────────────────────────────────────────────────────────────────────────\n",
      "      test_accuracy         0.9181946516036987\n",
      "      test_f1score          0.9105985164642334\n",
      "        test_loss           0.2518170177936554\n",
      "────────────────────────────────────────────────────────────────────────────────────────────────────────────────────────\n"
     ]
    },
    {
     "name": "stderr",
     "output_type": "stream",
     "text": [
      "GPU available: True (cuda), used: True\n",
      "TPU available: False, using: 0 TPU cores\n",
      "IPU available: False, using: 0 IPUs\n",
      "HPU available: False, using: 0 HPUs\n",
      "Restoring states from the checkpoint path at ./processed_dataset/Model_Checkpoints/Best_model_Fold3.ckpt\n",
      "LOCAL_RANK: 0 - CUDA_VISIBLE_DEVICES: [0]\n"
     ]
    },
    {
     "name": "stdout",
     "output_type": "stream",
     "text": [
      "\n",
      "\n",
      "\n",
      "\n",
      "-------------------- FOLD 3 -------------------\n",
      "train_subjects: ['ym226', 'ym214', 'ym224', 'ym220', 'ym213', 'ym227', 'ym212', 'ym222', 'ym218', 'ym223', 'ym219']\n",
      "test_subjects: ['ym215']\n",
      "------------------------------------------------------\n"
     ]
    },
    {
     "name": "stderr",
     "output_type": "stream",
     "text": [
      "Loaded model weights from checkpoint at ./processed_dataset/Model_Checkpoints/Best_model_Fold3.ckpt\n"
     ]
    },
    {
     "name": "stdout",
     "output_type": "stream",
     "text": [
      "[Test] test_loss: 0.423 test_f1score: 0.803 test_accuracy: 0.812 \n",
      "────────────────────────────────────────────────────────────────────────────────────────────────────────────────────────\n",
      "       Test metric             DataLoader 0\n",
      "────────────────────────────────────────────────────────────────────────────────────────────────────────────────────────\n",
      "      test_accuracy         0.8115676641464233\n",
      "      test_f1score          0.8033521175384521\n",
      "        test_loss           0.42329639196395874\n",
      "────────────────────────────────────────────────────────────────────────────────────────────────────────────────────────\n"
     ]
    },
    {
     "name": "stderr",
     "output_type": "stream",
     "text": [
      "GPU available: True (cuda), used: True\n",
      "TPU available: False, using: 0 TPU cores\n",
      "IPU available: False, using: 0 IPUs\n",
      "HPU available: False, using: 0 HPUs\n",
      "Restoring states from the checkpoint path at ./processed_dataset/Model_Checkpoints/Best_model_Fold4.ckpt\n",
      "LOCAL_RANK: 0 - CUDA_VISIBLE_DEVICES: [0]\n"
     ]
    },
    {
     "name": "stdout",
     "output_type": "stream",
     "text": [
      "\n",
      "\n",
      "\n",
      "\n",
      "-------------------- FOLD 4 -------------------\n",
      "train_subjects: ['ym226', 'ym214', 'ym224', 'ym220', 'ym213', 'ym227', 'ym212', 'ym215', 'ym222', 'ym223', 'ym219']\n",
      "test_subjects: ['ym218']\n",
      "------------------------------------------------------\n"
     ]
    },
    {
     "name": "stderr",
     "output_type": "stream",
     "text": [
      "Loaded model weights from checkpoint at ./processed_dataset/Model_Checkpoints/Best_model_Fold4.ckpt\n"
     ]
    },
    {
     "name": "stdout",
     "output_type": "stream",
     "text": [
      "[Test] test_loss: 0.372 test_f1score: 0.821 test_accuracy: 0.829 \n",
      "────────────────────────────────────────────────────────────────────────────────────────────────────────────────────────\n",
      "       Test metric             DataLoader 0\n",
      "────────────────────────────────────────────────────────────────────────────────────────────────────────────────────────\n",
      "      test_accuracy         0.8291270136833191\n",
      "      test_f1score          0.8210991621017456\n",
      "        test_loss           0.37182214856147766\n",
      "────────────────────────────────────────────────────────────────────────────────────────────────────────────────────────\n"
     ]
    },
    {
     "name": "stderr",
     "output_type": "stream",
     "text": [
      "GPU available: True (cuda), used: True\n",
      "TPU available: False, using: 0 TPU cores\n",
      "IPU available: False, using: 0 IPUs\n",
      "HPU available: False, using: 0 HPUs\n",
      "Restoring states from the checkpoint path at ./processed_dataset/Model_Checkpoints/Best_model_Fold5.ckpt\n",
      "LOCAL_RANK: 0 - CUDA_VISIBLE_DEVICES: [0]\n"
     ]
    },
    {
     "name": "stdout",
     "output_type": "stream",
     "text": [
      "\n",
      "\n",
      "\n",
      "\n",
      "-------------------- FOLD 5 -------------------\n",
      "train_subjects: ['ym226', 'ym214', 'ym224', 'ym220', 'ym213', 'ym227', 'ym212', 'ym215', 'ym222', 'ym218', 'ym223']\n",
      "test_subjects: ['ym219']\n",
      "------------------------------------------------------\n"
     ]
    },
    {
     "name": "stderr",
     "output_type": "stream",
     "text": [
      "Loaded model weights from checkpoint at ./processed_dataset/Model_Checkpoints/Best_model_Fold5.ckpt\n"
     ]
    },
    {
     "name": "stdout",
     "output_type": "stream",
     "text": [
      "[Test] test_loss: 0.333 test_f1score: 0.842 test_accuracy: 0.855 \n",
      "────────────────────────────────────────────────────────────────────────────────────────────────────────────────────────\n",
      "       Test metric             DataLoader 0\n",
      "────────────────────────────────────────────────────────────────────────────────────────────────────────────────────────\n",
      "      test_accuracy         0.8550290465354919\n",
      "      test_f1score          0.8422605991363525\n",
      "        test_loss           0.33269748091697693\n",
      "────────────────────────────────────────────────────────────────────────────────────────────────────────────────────────\n"
     ]
    },
    {
     "name": "stderr",
     "output_type": "stream",
     "text": [
      "GPU available: True (cuda), used: True\n",
      "TPU available: False, using: 0 TPU cores\n",
      "IPU available: False, using: 0 IPUs\n",
      "HPU available: False, using: 0 HPUs\n",
      "Restoring states from the checkpoint path at ./processed_dataset/Model_Checkpoints/Best_model_Fold6.ckpt\n",
      "LOCAL_RANK: 0 - CUDA_VISIBLE_DEVICES: [0]\n"
     ]
    },
    {
     "name": "stdout",
     "output_type": "stream",
     "text": [
      "\n",
      "\n",
      "\n",
      "\n",
      "-------------------- FOLD 6 -------------------\n",
      "train_subjects: ['ym226', 'ym214', 'ym224', 'ym213', 'ym227', 'ym212', 'ym215', 'ym222', 'ym218', 'ym223', 'ym219']\n",
      "test_subjects: ['ym220']\n",
      "------------------------------------------------------\n"
     ]
    },
    {
     "name": "stderr",
     "output_type": "stream",
     "text": [
      "Loaded model weights from checkpoint at ./processed_dataset/Model_Checkpoints/Best_model_Fold6.ckpt\n"
     ]
    },
    {
     "name": "stdout",
     "output_type": "stream",
     "text": [
      "[Test] test_loss: 0.270 test_f1score: 0.860 test_accuracy: 0.882 \n",
      "────────────────────────────────────────────────────────────────────────────────────────────────────────────────────────\n",
      "       Test metric             DataLoader 0\n",
      "────────────────────────────────────────────────────────────────────────────────────────────────────────────────────────\n",
      "      test_accuracy          0.882144033908844\n",
      "      test_f1score          0.8599872589111328\n",
      "        test_loss           0.26951372623443604\n",
      "────────────────────────────────────────────────────────────────────────────────────────────────────────────────────────\n"
     ]
    },
    {
     "name": "stderr",
     "output_type": "stream",
     "text": [
      "GPU available: True (cuda), used: True\n",
      "TPU available: False, using: 0 TPU cores\n",
      "IPU available: False, using: 0 IPUs\n",
      "HPU available: False, using: 0 HPUs\n",
      "Restoring states from the checkpoint path at ./processed_dataset/Model_Checkpoints/Best_model_Fold7.ckpt\n",
      "LOCAL_RANK: 0 - CUDA_VISIBLE_DEVICES: [0]\n"
     ]
    },
    {
     "name": "stdout",
     "output_type": "stream",
     "text": [
      "\n",
      "\n",
      "\n",
      "\n",
      "-------------------- FOLD 7 -------------------\n",
      "train_subjects: ['ym226', 'ym214', 'ym224', 'ym220', 'ym213', 'ym227', 'ym212', 'ym215', 'ym218', 'ym223', 'ym219']\n",
      "test_subjects: ['ym222']\n",
      "------------------------------------------------------\n"
     ]
    },
    {
     "name": "stderr",
     "output_type": "stream",
     "text": [
      "Loaded model weights from checkpoint at ./processed_dataset/Model_Checkpoints/Best_model_Fold7.ckpt\n"
     ]
    },
    {
     "name": "stdout",
     "output_type": "stream",
     "text": [
      "[Test] test_loss: 0.444 test_f1score: 0.789 test_accuracy: 0.793 \n",
      "────────────────────────────────────────────────────────────────────────────────────────────────────────────────────────\n",
      "       Test metric             DataLoader 0\n",
      "────────────────────────────────────────────────────────────────────────────────────────────────────────────────────────\n",
      "      test_accuracy          0.792514443397522\n",
      "      test_f1score          0.7891210317611694\n",
      "        test_loss           0.4435622990131378\n",
      "────────────────────────────────────────────────────────────────────────────────────────────────────────────────────────\n"
     ]
    },
    {
     "name": "stderr",
     "output_type": "stream",
     "text": [
      "GPU available: True (cuda), used: True\n",
      "TPU available: False, using: 0 TPU cores\n",
      "IPU available: False, using: 0 IPUs\n",
      "HPU available: False, using: 0 HPUs\n",
      "Restoring states from the checkpoint path at ./processed_dataset/Model_Checkpoints/Best_model_Fold8.ckpt\n",
      "LOCAL_RANK: 0 - CUDA_VISIBLE_DEVICES: [0]\n"
     ]
    },
    {
     "name": "stdout",
     "output_type": "stream",
     "text": [
      "\n",
      "\n",
      "\n",
      "\n",
      "-------------------- FOLD 8 -------------------\n",
      "train_subjects: ['ym226', 'ym214', 'ym224', 'ym220', 'ym213', 'ym227', 'ym212', 'ym215', 'ym222', 'ym218', 'ym219']\n",
      "test_subjects: ['ym223']\n",
      "------------------------------------------------------\n"
     ]
    },
    {
     "name": "stderr",
     "output_type": "stream",
     "text": [
      "Loaded model weights from checkpoint at ./processed_dataset/Model_Checkpoints/Best_model_Fold8.ckpt\n"
     ]
    },
    {
     "name": "stdout",
     "output_type": "stream",
     "text": [
      "[Test] test_loss: 0.812 test_f1score: 0.590 test_accuracy: 0.593 \n",
      "────────────────────────────────────────────────────────────────────────────────────────────────────────────────────────\n",
      "       Test metric             DataLoader 0\n",
      "────────────────────────────────────────────────────────────────────────────────────────────────────────────────────────\n",
      "      test_accuracy         0.5929521918296814\n",
      "      test_f1score          0.5903652906417847\n",
      "        test_loss           0.8116441965103149\n",
      "────────────────────────────────────────────────────────────────────────────────────────────────────────────────────────\n"
     ]
    },
    {
     "name": "stderr",
     "output_type": "stream",
     "text": [
      "GPU available: True (cuda), used: True\n",
      "TPU available: False, using: 0 TPU cores\n",
      "IPU available: False, using: 0 IPUs\n",
      "HPU available: False, using: 0 HPUs\n",
      "Restoring states from the checkpoint path at ./processed_dataset/Model_Checkpoints/Best_model_Fold9.ckpt\n",
      "LOCAL_RANK: 0 - CUDA_VISIBLE_DEVICES: [0]\n"
     ]
    },
    {
     "name": "stdout",
     "output_type": "stream",
     "text": [
      "\n",
      "\n",
      "\n",
      "\n",
      "-------------------- FOLD 9 -------------------\n",
      "train_subjects: ['ym226', 'ym214', 'ym220', 'ym213', 'ym227', 'ym212', 'ym215', 'ym222', 'ym218', 'ym223', 'ym219']\n",
      "test_subjects: ['ym224']\n",
      "------------------------------------------------------\n"
     ]
    },
    {
     "name": "stderr",
     "output_type": "stream",
     "text": [
      "Loaded model weights from checkpoint at ./processed_dataset/Model_Checkpoints/Best_model_Fold9.ckpt\n"
     ]
    },
    {
     "name": "stdout",
     "output_type": "stream",
     "text": [
      "[Test] test_loss: 0.579 test_f1score: 0.676 test_accuracy: 0.708 \n",
      "────────────────────────────────────────────────────────────────────────────────────────────────────────────────────────\n",
      "       Test metric             DataLoader 0\n",
      "────────────────────────────────────────────────────────────────────────────────────────────────────────────────────────\n",
      "      test_accuracy         0.7082995772361755\n",
      "      test_f1score          0.6762176752090454\n",
      "        test_loss           0.5787602663040161\n",
      "────────────────────────────────────────────────────────────────────────────────────────────────────────────────────────\n"
     ]
    },
    {
     "name": "stderr",
     "output_type": "stream",
     "text": [
      "GPU available: True (cuda), used: True\n",
      "TPU available: False, using: 0 TPU cores\n",
      "IPU available: False, using: 0 IPUs\n",
      "HPU available: False, using: 0 HPUs\n",
      "Restoring states from the checkpoint path at ./processed_dataset/Model_Checkpoints/Best_model_Fold10.ckpt\n",
      "LOCAL_RANK: 0 - CUDA_VISIBLE_DEVICES: [0]\n"
     ]
    },
    {
     "name": "stdout",
     "output_type": "stream",
     "text": [
      "\n",
      "\n",
      "\n",
      "\n",
      "-------------------- FOLD 10 -------------------\n",
      "train_subjects: ['ym214', 'ym224', 'ym220', 'ym213', 'ym227', 'ym212', 'ym215', 'ym222', 'ym218', 'ym223', 'ym219']\n",
      "test_subjects: ['ym226']\n",
      "------------------------------------------------------\n"
     ]
    },
    {
     "name": "stderr",
     "output_type": "stream",
     "text": [
      "Loaded model weights from checkpoint at ./processed_dataset/Model_Checkpoints/Best_model_Fold10.ckpt\n"
     ]
    },
    {
     "name": "stdout",
     "output_type": "stream",
     "text": [
      "[Test] test_loss: 0.971 test_f1score: 0.586 test_accuracy: 0.627 \n",
      "────────────────────────────────────────────────────────────────────────────────────────────────────────────────────────\n",
      "       Test metric             DataLoader 0\n",
      "────────────────────────────────────────────────────────────────────────────────────────────────────────────────────────\n",
      "      test_accuracy         0.6270778179168701\n",
      "      test_f1score          0.5860379338264465\n",
      "        test_loss           0.9705991148948669\n",
      "────────────────────────────────────────────────────────────────────────────────────────────────────────────────────────\n"
     ]
    },
    {
     "name": "stderr",
     "output_type": "stream",
     "text": [
      "GPU available: True (cuda), used: True\n",
      "TPU available: False, using: 0 TPU cores\n",
      "IPU available: False, using: 0 IPUs\n",
      "HPU available: False, using: 0 HPUs\n",
      "Restoring states from the checkpoint path at ./processed_dataset/Model_Checkpoints/Best_model_Fold11.ckpt\n",
      "LOCAL_RANK: 0 - CUDA_VISIBLE_DEVICES: [0]\n"
     ]
    },
    {
     "name": "stdout",
     "output_type": "stream",
     "text": [
      "\n",
      "\n",
      "\n",
      "\n",
      "-------------------- FOLD 11 -------------------\n",
      "train_subjects: ['ym226', 'ym214', 'ym224', 'ym220', 'ym213', 'ym212', 'ym215', 'ym222', 'ym218', 'ym223', 'ym219']\n",
      "test_subjects: ['ym227']\n",
      "------------------------------------------------------\n"
     ]
    },
    {
     "name": "stderr",
     "output_type": "stream",
     "text": [
      "Loaded model weights from checkpoint at ./processed_dataset/Model_Checkpoints/Best_model_Fold11.ckpt\n"
     ]
    },
    {
     "name": "stdout",
     "output_type": "stream",
     "text": [
      "[Test] test_loss: 0.456 test_f1score: 0.777 test_accuracy: 0.779 \n",
      "────────────────────────────────────────────────────────────────────────────────────────────────────────────────────────\n",
      "       Test metric             DataLoader 0\n",
      "────────────────────────────────────────────────────────────────────────────────────────────────────────────────────────\n",
      "      test_accuracy         0.7792882919311523\n",
      "      test_f1score           0.776782214641571\n",
      "        test_loss           0.4562324583530426\n",
      "────────────────────────────────────────────────────────────────────────────────────────────────────────────────────────\n",
      "\n",
      "\n",
      "\n",
      "\n",
      "====================================================================================================\n",
      "                    erased_feature: BLA_fGamma\n",
      "====================================================================================================\n",
      "dataset does not exist at path ./processed_dataset/perturbation_samples/BLA_fGamma, generating files to path...\n"
     ]
    },
    {
     "name": "stderr",
     "output_type": "stream",
     "text": [
      "[PROCESS]: 100%|██████████| 24/24 [04:40<00:00, 11.71s/it]\n"
     ]
    },
    {
     "name": "stdout",
     "output_type": "stream",
     "text": [
      "dataset already exists at path ./processed_dataset/perturbation_samples/BLA_fGamma, reading from path...\n"
     ]
    },
    {
     "name": "stderr",
     "output_type": "stream",
     "text": [
      "GPU available: True (cuda), used: True\n",
      "TPU available: False, using: 0 TPU cores\n",
      "IPU available: False, using: 0 IPUs\n",
      "HPU available: False, using: 0 HPUs\n",
      "Restoring states from the checkpoint path at ./processed_dataset/Model_Checkpoints/Best_model_Fold0.ckpt\n",
      "LOCAL_RANK: 0 - CUDA_VISIBLE_DEVICES: [0]\n"
     ]
    },
    {
     "name": "stdout",
     "output_type": "stream",
     "text": [
      "-------------------- FOLD 0 -------------------\n",
      "train_subjects: ['ym226', 'ym214', 'ym224', 'ym220', 'ym213', 'ym227', 'ym215', 'ym222', 'ym218', 'ym223', 'ym219']\n",
      "test_subjects: ['ym212']\n",
      "------------------------------------------------------\n"
     ]
    },
    {
     "name": "stderr",
     "output_type": "stream",
     "text": [
      "Loaded model weights from checkpoint at ./processed_dataset/Model_Checkpoints/Best_model_Fold0.ckpt\n"
     ]
    },
    {
     "name": "stdout",
     "output_type": "stream",
     "text": [
      "[Test] test_loss: 0.262 test_f1score: 0.879 test_accuracy: 0.891 \n",
      "────────────────────────────────────────────────────────────────────────────────────────────────────────────────────────\n",
      "       Test metric             DataLoader 0\n",
      "────────────────────────────────────────────────────────────────────────────────────────────────────────────────────────\n",
      "      test_accuracy          0.890536904335022\n",
      "      test_f1score          0.8792169094085693\n",
      "        test_loss           0.2623235583305359\n",
      "────────────────────────────────────────────────────────────────────────────────────────────────────────────────────────\n"
     ]
    },
    {
     "name": "stderr",
     "output_type": "stream",
     "text": [
      "GPU available: True (cuda), used: True\n",
      "TPU available: False, using: 0 TPU cores\n",
      "IPU available: False, using: 0 IPUs\n",
      "HPU available: False, using: 0 HPUs\n",
      "Restoring states from the checkpoint path at ./processed_dataset/Model_Checkpoints/Best_model_Fold1.ckpt\n",
      "LOCAL_RANK: 0 - CUDA_VISIBLE_DEVICES: [0]\n"
     ]
    },
    {
     "name": "stdout",
     "output_type": "stream",
     "text": [
      "\n",
      "\n",
      "\n",
      "\n",
      "-------------------- FOLD 1 -------------------\n",
      "train_subjects: ['ym226', 'ym214', 'ym224', 'ym220', 'ym227', 'ym212', 'ym215', 'ym222', 'ym218', 'ym223', 'ym219']\n",
      "test_subjects: ['ym213']\n",
      "------------------------------------------------------\n"
     ]
    },
    {
     "name": "stderr",
     "output_type": "stream",
     "text": [
      "Loaded model weights from checkpoint at ./processed_dataset/Model_Checkpoints/Best_model_Fold1.ckpt\n"
     ]
    },
    {
     "name": "stdout",
     "output_type": "stream",
     "text": [
      "[Test] test_loss: 0.405 test_f1score: 0.806 test_accuracy: 0.819 \n",
      "────────────────────────────────────────────────────────────────────────────────────────────────────────────────────────\n",
      "       Test metric             DataLoader 0\n",
      "────────────────────────────────────────────────────────────────────────────────────────────────────────────────────────\n",
      "      test_accuracy         0.8190184235572815\n",
      "      test_f1score          0.8055489659309387\n",
      "        test_loss           0.40488293766975403\n",
      "────────────────────────────────────────────────────────────────────────────────────────────────────────────────────────\n"
     ]
    },
    {
     "name": "stderr",
     "output_type": "stream",
     "text": [
      "GPU available: True (cuda), used: True\n",
      "TPU available: False, using: 0 TPU cores\n",
      "IPU available: False, using: 0 IPUs\n",
      "HPU available: False, using: 0 HPUs\n",
      "Restoring states from the checkpoint path at ./processed_dataset/Model_Checkpoints/Best_model_Fold2.ckpt\n",
      "LOCAL_RANK: 0 - CUDA_VISIBLE_DEVICES: [0]\n"
     ]
    },
    {
     "name": "stdout",
     "output_type": "stream",
     "text": [
      "\n",
      "\n",
      "\n",
      "\n",
      "-------------------- FOLD 2 -------------------\n",
      "train_subjects: ['ym226', 'ym224', 'ym220', 'ym213', 'ym227', 'ym212', 'ym215', 'ym222', 'ym218', 'ym223', 'ym219']\n",
      "test_subjects: ['ym214']\n",
      "------------------------------------------------------\n"
     ]
    },
    {
     "name": "stderr",
     "output_type": "stream",
     "text": [
      "Loaded model weights from checkpoint at ./processed_dataset/Model_Checkpoints/Best_model_Fold2.ckpt\n"
     ]
    },
    {
     "name": "stdout",
     "output_type": "stream",
     "text": [
      "[Test] test_loss: 0.257 test_f1score: 0.907 test_accuracy: 0.915 \n",
      "────────────────────────────────────────────────────────────────────────────────────────────────────────────────────────\n",
      "       Test metric             DataLoader 0\n",
      "────────────────────────────────────────────────────────────────────────────────────────────────────────────────────────\n",
      "      test_accuracy         0.9149036407470703\n",
      "      test_f1score          0.9065770506858826\n",
      "        test_loss           0.2568984627723694\n",
      "────────────────────────────────────────────────────────────────────────────────────────────────────────────────────────\n"
     ]
    },
    {
     "name": "stderr",
     "output_type": "stream",
     "text": [
      "GPU available: True (cuda), used: True\n",
      "TPU available: False, using: 0 TPU cores\n",
      "IPU available: False, using: 0 IPUs\n",
      "HPU available: False, using: 0 HPUs\n",
      "Restoring states from the checkpoint path at ./processed_dataset/Model_Checkpoints/Best_model_Fold3.ckpt\n",
      "LOCAL_RANK: 0 - CUDA_VISIBLE_DEVICES: [0]\n"
     ]
    },
    {
     "name": "stdout",
     "output_type": "stream",
     "text": [
      "\n",
      "\n",
      "\n",
      "\n",
      "-------------------- FOLD 3 -------------------\n",
      "train_subjects: ['ym226', 'ym214', 'ym224', 'ym220', 'ym213', 'ym227', 'ym212', 'ym222', 'ym218', 'ym223', 'ym219']\n",
      "test_subjects: ['ym215']\n",
      "------------------------------------------------------\n"
     ]
    },
    {
     "name": "stderr",
     "output_type": "stream",
     "text": [
      "Loaded model weights from checkpoint at ./processed_dataset/Model_Checkpoints/Best_model_Fold3.ckpt\n"
     ]
    },
    {
     "name": "stdout",
     "output_type": "stream",
     "text": [
      "[Test] test_loss: 0.452 test_f1score: 0.790 test_accuracy: 0.797 \n",
      "────────────────────────────────────────────────────────────────────────────────────────────────────────────────────────\n",
      "       Test metric             DataLoader 0\n",
      "────────────────────────────────────────────────────────────────────────────────────────────────────────────────────────\n",
      "      test_accuracy         0.7969117760658264\n",
      "      test_f1score          0.7896701097488403\n",
      "        test_loss           0.45207446813583374\n",
      "────────────────────────────────────────────────────────────────────────────────────────────────────────────────────────\n"
     ]
    },
    {
     "name": "stderr",
     "output_type": "stream",
     "text": [
      "GPU available: True (cuda), used: True\n",
      "TPU available: False, using: 0 TPU cores\n",
      "IPU available: False, using: 0 IPUs\n",
      "HPU available: False, using: 0 HPUs\n",
      "Restoring states from the checkpoint path at ./processed_dataset/Model_Checkpoints/Best_model_Fold4.ckpt\n",
      "LOCAL_RANK: 0 - CUDA_VISIBLE_DEVICES: [0]\n"
     ]
    },
    {
     "name": "stdout",
     "output_type": "stream",
     "text": [
      "\n",
      "\n",
      "\n",
      "\n",
      "-------------------- FOLD 4 -------------------\n",
      "train_subjects: ['ym226', 'ym214', 'ym224', 'ym220', 'ym213', 'ym227', 'ym212', 'ym215', 'ym222', 'ym223', 'ym219']\n",
      "test_subjects: ['ym218']\n",
      "------------------------------------------------------\n"
     ]
    },
    {
     "name": "stderr",
     "output_type": "stream",
     "text": [
      "Loaded model weights from checkpoint at ./processed_dataset/Model_Checkpoints/Best_model_Fold4.ckpt\n"
     ]
    },
    {
     "name": "stdout",
     "output_type": "stream",
     "text": [
      "[Test] test_loss: 0.372 test_f1score: 0.822 test_accuracy: 0.832 \n",
      "────────────────────────────────────────────────────────────────────────────────────────────────────────────────────────\n",
      "       Test metric             DataLoader 0\n",
      "────────────────────────────────────────────────────────────────────────────────────────────────────────────────────────\n",
      "      test_accuracy         0.8316094279289246\n",
      "      test_f1score          0.8224841952323914\n",
      "        test_loss           0.37168562412261963\n",
      "────────────────────────────────────────────────────────────────────────────────────────────────────────────────────────\n"
     ]
    },
    {
     "name": "stderr",
     "output_type": "stream",
     "text": [
      "GPU available: True (cuda), used: True\n",
      "TPU available: False, using: 0 TPU cores\n",
      "IPU available: False, using: 0 IPUs\n",
      "HPU available: False, using: 0 HPUs\n",
      "Restoring states from the checkpoint path at ./processed_dataset/Model_Checkpoints/Best_model_Fold5.ckpt\n",
      "LOCAL_RANK: 0 - CUDA_VISIBLE_DEVICES: [0]\n"
     ]
    },
    {
     "name": "stdout",
     "output_type": "stream",
     "text": [
      "\n",
      "\n",
      "\n",
      "\n",
      "-------------------- FOLD 5 -------------------\n",
      "train_subjects: ['ym226', 'ym214', 'ym224', 'ym220', 'ym213', 'ym227', 'ym212', 'ym215', 'ym222', 'ym218', 'ym223']\n",
      "test_subjects: ['ym219']\n",
      "------------------------------------------------------\n"
     ]
    },
    {
     "name": "stderr",
     "output_type": "stream",
     "text": [
      "Loaded model weights from checkpoint at ./processed_dataset/Model_Checkpoints/Best_model_Fold5.ckpt\n"
     ]
    },
    {
     "name": "stdout",
     "output_type": "stream",
     "text": [
      "[Test] test_loss: 0.356 test_f1score: 0.828 test_accuracy: 0.844 \n",
      "────────────────────────────────────────────────────────────────────────────────────────────────────────────────────────\n",
      "       Test metric             DataLoader 0\n",
      "────────────────────────────────────────────────────────────────────────────────────────────────────────────────────────\n",
      "      test_accuracy         0.8437909483909607\n",
      "      test_f1score          0.8281437754631042\n",
      "        test_loss           0.3562917411327362\n",
      "────────────────────────────────────────────────────────────────────────────────────────────────────────────────────────\n"
     ]
    },
    {
     "name": "stderr",
     "output_type": "stream",
     "text": [
      "GPU available: True (cuda), used: True\n",
      "TPU available: False, using: 0 TPU cores\n",
      "IPU available: False, using: 0 IPUs\n",
      "HPU available: False, using: 0 HPUs\n",
      "Restoring states from the checkpoint path at ./processed_dataset/Model_Checkpoints/Best_model_Fold6.ckpt\n",
      "LOCAL_RANK: 0 - CUDA_VISIBLE_DEVICES: [0]\n"
     ]
    },
    {
     "name": "stdout",
     "output_type": "stream",
     "text": [
      "\n",
      "\n",
      "\n",
      "\n",
      "-------------------- FOLD 6 -------------------\n",
      "train_subjects: ['ym226', 'ym214', 'ym224', 'ym213', 'ym227', 'ym212', 'ym215', 'ym222', 'ym218', 'ym223', 'ym219']\n",
      "test_subjects: ['ym220']\n",
      "------------------------------------------------------\n"
     ]
    },
    {
     "name": "stderr",
     "output_type": "stream",
     "text": [
      "Loaded model weights from checkpoint at ./processed_dataset/Model_Checkpoints/Best_model_Fold6.ckpt\n"
     ]
    },
    {
     "name": "stdout",
     "output_type": "stream",
     "text": [
      "[Test] test_loss: 0.260 test_f1score: 0.869 test_accuracy: 0.887 \n",
      "────────────────────────────────────────────────────────────────────────────────────────────────────────────────────────\n",
      "       Test metric             DataLoader 0\n",
      "────────────────────────────────────────────────────────────────────────────────────────────────────────────────────────\n",
      "      test_accuracy         0.8873103260993958\n",
      "      test_f1score          0.8689209222793579\n",
      "        test_loss           0.2600462734699249\n",
      "────────────────────────────────────────────────────────────────────────────────────────────────────────────────────────\n"
     ]
    },
    {
     "name": "stderr",
     "output_type": "stream",
     "text": [
      "GPU available: True (cuda), used: True\n",
      "TPU available: False, using: 0 TPU cores\n",
      "IPU available: False, using: 0 IPUs\n",
      "HPU available: False, using: 0 HPUs\n"
     ]
    },
    {
     "name": "stdout",
     "output_type": "stream",
     "text": [
      "\n",
      "\n",
      "\n",
      "\n",
      "-------------------- FOLD 7 -------------------\n",
      "train_subjects: ['ym226', 'ym214', 'ym224', 'ym220', 'ym213', 'ym227', 'ym212', 'ym215', 'ym218', 'ym223', 'ym219']\n",
      "test_subjects: ['ym222']\n",
      "------------------------------------------------------\n"
     ]
    },
    {
     "name": "stderr",
     "output_type": "stream",
     "text": [
      "Restoring states from the checkpoint path at ./processed_dataset/Model_Checkpoints/Best_model_Fold7.ckpt\n",
      "LOCAL_RANK: 0 - CUDA_VISIBLE_DEVICES: [0]\n",
      "Loaded model weights from checkpoint at ./processed_dataset/Model_Checkpoints/Best_model_Fold7.ckpt\n"
     ]
    },
    {
     "name": "stdout",
     "output_type": "stream",
     "text": [
      "[Test] test_loss: 0.406 test_f1score: 0.811 test_accuracy: 0.816 \n",
      "────────────────────────────────────────────────────────────────────────────────────────────────────────────────────────\n",
      "       Test metric             DataLoader 0\n",
      "────────────────────────────────────────────────────────────────────────────────────────────────────────────────────────\n",
      "      test_accuracy         0.8161265850067139\n",
      "      test_f1score          0.8110744953155518\n",
      "        test_loss           0.4056142568588257\n",
      "────────────────────────────────────────────────────────────────────────────────────────────────────────────────────────\n"
     ]
    },
    {
     "name": "stderr",
     "output_type": "stream",
     "text": [
      "GPU available: True (cuda), used: True\n",
      "TPU available: False, using: 0 TPU cores\n",
      "IPU available: False, using: 0 IPUs\n",
      "HPU available: False, using: 0 HPUs\n",
      "Restoring states from the checkpoint path at ./processed_dataset/Model_Checkpoints/Best_model_Fold8.ckpt\n",
      "LOCAL_RANK: 0 - CUDA_VISIBLE_DEVICES: [0]\n"
     ]
    },
    {
     "name": "stdout",
     "output_type": "stream",
     "text": [
      "\n",
      "\n",
      "\n",
      "\n",
      "-------------------- FOLD 8 -------------------\n",
      "train_subjects: ['ym226', 'ym214', 'ym224', 'ym220', 'ym213', 'ym227', 'ym212', 'ym215', 'ym222', 'ym218', 'ym219']\n",
      "test_subjects: ['ym223']\n",
      "------------------------------------------------------\n"
     ]
    },
    {
     "name": "stderr",
     "output_type": "stream",
     "text": [
      "Loaded model weights from checkpoint at ./processed_dataset/Model_Checkpoints/Best_model_Fold8.ckpt\n"
     ]
    },
    {
     "name": "stdout",
     "output_type": "stream",
     "text": [
      "[Test] test_loss: 0.767 test_f1score: 0.607 test_accuracy: 0.611 \n",
      "────────────────────────────────────────────────────────────────────────────────────────────────────────────────────────\n",
      "       Test metric             DataLoader 0\n",
      "────────────────────────────────────────────────────────────────────────────────────────────────────────────────────────\n",
      "      test_accuracy         0.6112909317016602\n",
      "      test_f1score          0.6072524785995483\n",
      "        test_loss           0.7671478390693665\n",
      "────────────────────────────────────────────────────────────────────────────────────────────────────────────────────────\n"
     ]
    },
    {
     "name": "stderr",
     "output_type": "stream",
     "text": [
      "GPU available: True (cuda), used: True\n",
      "TPU available: False, using: 0 TPU cores\n",
      "IPU available: False, using: 0 IPUs\n",
      "HPU available: False, using: 0 HPUs\n",
      "Restoring states from the checkpoint path at ./processed_dataset/Model_Checkpoints/Best_model_Fold9.ckpt\n",
      "LOCAL_RANK: 0 - CUDA_VISIBLE_DEVICES: [0]\n"
     ]
    },
    {
     "name": "stdout",
     "output_type": "stream",
     "text": [
      "\n",
      "\n",
      "\n",
      "\n",
      "-------------------- FOLD 9 -------------------\n",
      "train_subjects: ['ym226', 'ym214', 'ym220', 'ym213', 'ym227', 'ym212', 'ym215', 'ym222', 'ym218', 'ym223', 'ym219']\n",
      "test_subjects: ['ym224']\n",
      "------------------------------------------------------\n"
     ]
    },
    {
     "name": "stderr",
     "output_type": "stream",
     "text": [
      "Loaded model weights from checkpoint at ./processed_dataset/Model_Checkpoints/Best_model_Fold9.ckpt\n"
     ]
    },
    {
     "name": "stdout",
     "output_type": "stream",
     "text": [
      "[Test] test_loss: 0.575 test_f1score: 0.682 test_accuracy: 0.710 \n",
      "────────────────────────────────────────────────────────────────────────────────────────────────────────────────────────\n",
      "       Test metric             DataLoader 0\n",
      "────────────────────────────────────────────────────────────────────────────────────────────────────────────────────────\n",
      "      test_accuracy         0.7095141410827637\n",
      "      test_f1score          0.6824982166290283\n",
      "        test_loss           0.5749732851982117\n",
      "────────────────────────────────────────────────────────────────────────────────────────────────────────────────────────\n"
     ]
    },
    {
     "name": "stderr",
     "output_type": "stream",
     "text": [
      "GPU available: True (cuda), used: True\n",
      "TPU available: False, using: 0 TPU cores\n",
      "IPU available: False, using: 0 IPUs\n",
      "HPU available: False, using: 0 HPUs\n",
      "Restoring states from the checkpoint path at ./processed_dataset/Model_Checkpoints/Best_model_Fold10.ckpt\n"
     ]
    },
    {
     "name": "stdout",
     "output_type": "stream",
     "text": [
      "\n",
      "\n",
      "\n",
      "\n",
      "-------------------- FOLD 10 -------------------\n",
      "train_subjects: ['ym214', 'ym224', 'ym220', 'ym213', 'ym227', 'ym212', 'ym215', 'ym222', 'ym218', 'ym223', 'ym219']\n",
      "test_subjects: ['ym226']\n",
      "------------------------------------------------------\n"
     ]
    },
    {
     "name": "stderr",
     "output_type": "stream",
     "text": [
      "LOCAL_RANK: 0 - CUDA_VISIBLE_DEVICES: [0]\n",
      "Loaded model weights from checkpoint at ./processed_dataset/Model_Checkpoints/Best_model_Fold10.ckpt\n"
     ]
    },
    {
     "name": "stdout",
     "output_type": "stream",
     "text": [
      "[Test] test_loss: 1.007 test_f1score: 0.573 test_accuracy: 0.618 \n",
      "────────────────────────────────────────────────────────────────────────────────────────────────────────────────────────\n",
      "       Test metric             DataLoader 0\n",
      "────────────────────────────────────────────────────────────────────────────────────────────────────────────────────────\n",
      "      test_accuracy         0.6184052228927612\n",
      "      test_f1score          0.5734939575195312\n",
      "        test_loss            1.007129192352295\n",
      "────────────────────────────────────────────────────────────────────────────────────────────────────────────────────────\n"
     ]
    },
    {
     "name": "stderr",
     "output_type": "stream",
     "text": [
      "GPU available: True (cuda), used: True\n",
      "TPU available: False, using: 0 TPU cores\n",
      "IPU available: False, using: 0 IPUs\n",
      "HPU available: False, using: 0 HPUs\n",
      "Restoring states from the checkpoint path at ./processed_dataset/Model_Checkpoints/Best_model_Fold11.ckpt\n",
      "LOCAL_RANK: 0 - CUDA_VISIBLE_DEVICES: [0]\n"
     ]
    },
    {
     "name": "stdout",
     "output_type": "stream",
     "text": [
      "\n",
      "\n",
      "\n",
      "\n",
      "-------------------- FOLD 11 -------------------\n",
      "train_subjects: ['ym226', 'ym214', 'ym224', 'ym220', 'ym213', 'ym212', 'ym215', 'ym222', 'ym218', 'ym223', 'ym219']\n",
      "test_subjects: ['ym227']\n",
      "------------------------------------------------------\n"
     ]
    },
    {
     "name": "stderr",
     "output_type": "stream",
     "text": [
      "Loaded model weights from checkpoint at ./processed_dataset/Model_Checkpoints/Best_model_Fold11.ckpt\n"
     ]
    },
    {
     "name": "stdout",
     "output_type": "stream",
     "text": [
      "[Test] test_loss: 0.468 test_f1score: 0.776 test_accuracy: 0.778 \n",
      "────────────────────────────────────────────────────────────────────────────────────────────────────────────────────────\n",
      "       Test metric             DataLoader 0\n",
      "────────────────────────────────────────────────────────────────────────────────────────────────────────────────────────\n",
      "      test_accuracy         0.7776889204978943\n",
      "      test_f1score          0.7762436866760254\n",
      "        test_loss           0.4683506488800049\n",
      "────────────────────────────────────────────────────────────────────────────────────────────────────────────────────────\n",
      "\n",
      "\n",
      "\n",
      "\n"
     ]
    }
   ],
   "source": [
    "test_pertur_f1_all = {}\n",
    "\n",
    "for erased_feature in perturbation_features:\n",
    "\n",
    "    test_pertur_f1_all[erased_feature] = []\n",
    "\n",
    "    print('='*100)\n",
    "    print(f'                    erased_feature: {erased_feature}')\n",
    "    print('='*100)\n",
    "\n",
    "    # seperate the erased_feature into channel and freq\n",
    "    perturbation_channel = channel_map[erased_feature.split('_')[0]]  # e.g., 'ACC' -> 0, 'CA1' -> 1, 'BLA' -> 2\n",
    "    perturbation_freq = freq_map[erased_feature.split('_')[1]]        # e.g., 'theta' -> [6,12]\n",
    "\n",
    "    # perturbate the dataset\n",
    "    dataset_perturbation = MemoryAgeDataset_perturbation(io_path=f'./processed_dataset/perturbation_samples/{erased_feature}',  \n",
    "                                                         root_path='./raw_dataset/data_memory_age',\n",
    "                                                         online_transform=transforms.ToTensor(),\n",
    "                                                         num_worker=1,\n",
    "                                                         io_mode='pickle',\n",
    "                                                         perturbation_channel=perturbation_channel,\n",
    "                                                         perturbation_freq=perturbation_freq)\n",
    "    \n",
    "    k_fold = KFoldCrossSubject(n_splits=12, shuffle=False, split_path=f'./processed_dataset/perturbation_samples/{erased_feature}/cross_subject_k_fold_spilt')\n",
    "    # shulffle=False, so the order of the subjects in test is ym212, ym213, ..., ym227\n",
    "    # n_spilts=the num of subjects, so leave-one-subject-out cross validation\n",
    "\n",
    "    for i, (_, test_dataset) in enumerate(k_fold.split(dataset_perturbation)):\n",
    "        \n",
    "        # Initialize the model\n",
    "        model = LFP_Transformer_LARGE(depth=5)  # 5 transformer blocks, namely, x LARGE MODEL\n",
    "        \n",
    "        # Initialize the trainer and use the 0-th GPU for training, or set device_ids=[] to use CPU\n",
    "        # The major parameters of the trainer are defined in ClassifierTrainer\n",
    "        trainer = ClassifierTrainer(model=model,\n",
    "                                    lr=1e-4,\n",
    "                                    devices=1,\n",
    "                                    accelerator='gpu',\n",
    "                                    num_classes=2,\n",
    "                                    weight_decay=1e-4,\n",
    "                                    save_attention=False,\n",
    "                                    save_test_f1=True)      \n",
    "        # we don't need to save the attention scores during the permutation test phase\n",
    "        # therefore save_attention=False\n",
    "\n",
    "        # DataLoader for the test dataset\n",
    "        test_loader = DataLoader(test_dataset,\n",
    "                                 batch_size=128,\n",
    "                                 shuffle=False,\n",
    "                                 num_workers=CPU_num)\n",
    "\n",
    "        trainer.test(test_loader, fold_idx=i)\n",
    "\n",
    "        test_pertur_f1_all[erased_feature].append(trainer.test_f1.cpu().numpy())\n",
    "\n",
    "        print('\\n\\n\\n')\n"
   ]
  },
  {
   "cell_type": "code",
   "execution_count": null,
   "metadata": {},
   "outputs": [],
   "source": [
    "# save test_pertur_f1_all to ./perturbation_samples/results/\n",
    "if not os.path.exists('./processed_dataset/perturbation_samples/results/'):\n",
    "    os.makedirs('./processed_dataset/perturbation_samples/results/')\n",
    "np.save('./processed_dataset/perturbation_samples/results/test_pertur_f1_all.npy', test_pertur_f1_all)"
   ]
  },
  {
   "cell_type": "code",
   "execution_count": null,
   "metadata": {},
   "outputs": [],
   "source": []
  }
 ],
 "metadata": {
  "kernelspec": {
   "display_name": "TorchEEG",
   "language": "python",
   "name": "python3"
  },
  "language_info": {
   "codemirror_mode": {
    "name": "ipython",
    "version": 3
   },
   "file_extension": ".py",
   "mimetype": "text/x-python",
   "name": "python",
   "nbconvert_exporter": "python",
   "pygments_lexer": "ipython3",
   "version": "3.7.16"
  },
  "orig_nbformat": 4
 },
 "nbformat": 4,
 "nbformat_minor": 2
}
